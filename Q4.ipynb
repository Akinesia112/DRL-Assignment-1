{
 "cells": [
  {
   "cell_type": "markdown",
   "metadata": {},
   "source": [
    "# Assignment1 Q4 Specification: Reinforcement Learning - Taxi Environment"
   ]
  },
  {
   "cell_type": "code",
   "execution_count": 28,
   "metadata": {},
   "outputs": [
    {
     "name": "stdout",
     "output_type": "stream",
     "text": [
      "Requirement already satisfied: gym in c:\\users\\user\\anaconda3\\lib\\site-packages (0.26.2)\n",
      "Requirement already satisfied: cloudpickle>=1.2.0 in c:\\users\\user\\anaconda3\\lib\\site-packages (from gym) (2.0.0)\n",
      "Requirement already satisfied: gym_notices>=0.0.4 in c:\\users\\user\\anaconda3\\lib\\site-packages (from gym) (0.0.8)\n",
      "Requirement already satisfied: importlib_metadata>=4.8.0 in c:\\users\\user\\anaconda3\\lib\\site-packages (from gym) (4.11.3)\n",
      "Requirement already satisfied: numpy>=1.18.0 in c:\\users\\user\\anaconda3\\lib\\site-packages (from gym) (1.24.0)\n",
      "Requirement already satisfied: zipp>=0.5 in c:\\users\\user\\anaconda3\\lib\\site-packages (from importlib_metadata>=4.8.0->gym) (3.8.0)\n",
      "Requirement already satisfied: numpy==1.24.0 in c:\\users\\user\\anaconda3\\lib\\site-packages (1.24.0)\n",
      "Requirement already satisfied: tqdm in c:\\users\\user\\anaconda3\\lib\\site-packages (4.64.1)\n",
      "Requirement already satisfied: colorama in c:\\users\\user\\anaconda3\\lib\\site-packages (from tqdm) (0.4.5)\n"
     ]
    }
   ],
   "source": [
    "!python -m pip install gym\n",
    "!python -m pip install numpy==1.24.0\n",
    "!python -m pip install tqdm"
   ]
  },
  {
   "cell_type": "code",
   "execution_count": 29,
   "metadata": {},
   "outputs": [],
   "source": [
    "import gym\n",
    "import numpy as np\n",
    "import importlib.util\n",
    "import time\n",
    "from IPython.display import clear_output\n",
    "import random"
   ]
  },
  {
   "cell_type": "code",
   "execution_count": 30,
   "metadata": {},
   "outputs": [],
   "source": [
    "np.random.seed(42)"
   ]
  },
  {
   "cell_type": "code",
   "execution_count": 31,
   "metadata": {},
   "outputs": [],
   "source": [
    "class SimpleTaxiEnv(gym.Env):\n",
    "    def __init__(self, grid_size=10, fuel_limit=5000):\n",
    "        \"\"\"\n",
    "        Custom Taxi environment supporting different grid sizes.\n",
    "        \"\"\"\n",
    "        self.grid_size = grid_size\n",
    "        self.fuel_limit = fuel_limit\n",
    "        self.current_fuel = fuel_limit\n",
    "        self.passenger_picked_up = False\n",
    "\n",
    "        self.stations = [(0, 0), (0, self.grid_size - 1), (self.grid_size - 1, 0), (self.grid_size - 1, self.grid_size - 1)]\n",
    "        self.passenger_loc = None\n",
    "\n",
    "        self.obstacles = set()  # No obstacles in simple version\n",
    "        self.destination = None\n",
    "    def legal(self):\n",
    "      available_positions = [\n",
    "            (x, y) for x in range(self.grid_size) for y in range(self.grid_size)\n",
    "            if (x, y) not in self.obstacles\n",
    "      ]\n",
    "      n=len(available_positions)\n",
    "      p = [0 for i in range(n)]\n",
    "      global group_size\n",
    "      group_size = n\n",
    "      def find_parent(x):\n",
    "        if x!=p[x]:\n",
    "          p[x]=find_parent(p[x])\n",
    "        return p[x]\n",
    "      def Union(a,b):\n",
    "        global group_size\n",
    "        a=find_parent(a)\n",
    "        b=find_parent(b)\n",
    "        if a!=b:\n",
    "          group_size -= 1\n",
    "          if np.random.randint(2)==0:\n",
    "            p[a]=b\n",
    "          else:\n",
    "            p[b]=a\n",
    "      for i in range(n):\n",
    "        p[i]=i\n",
    "      for i in range(n):\n",
    "        for j in range(i+1,n):\n",
    "          if abs(available_positions[i][0]-available_positions[j][0])+abs(available_positions[i][1]-available_positions[j][1])==1:\n",
    "            Union(i,j)\n",
    "      return group_size==1\n",
    "    def reset(self,grid_size=None,obstacle_len=None):\n",
    "        \"\"\"Reset the environment, ensuring Taxi, passenger, and destination are not overlapping obstacles\"\"\"\n",
    "        self.current_fuel = self.fuel_limit\n",
    "        self.passenger_picked_up = False\n",
    "        if grid_size == None:\n",
    "            grid_size = np.random.randint(5,11)\n",
    "        self.grid_size = grid_size\n",
    "        self.stations = []\n",
    "        if obstacle_len == None:\n",
    "            obstacle_len = np.random.randint(0,grid_size*grid_size)\n",
    "        while len(self.stations)<4:\n",
    "            posx,posy = np.random.randint(0,self.grid_size),np.random.randint(0,self.grid_size)\n",
    "            # check posx,posy is not adjacent to existed stations\n",
    "            if not any([abs(posx-station[0])+abs(posy-station[1])<=1 for station in self.stations]):\n",
    "                self.stations.append((posx,posy))\n",
    "        #self.stations = [(0, 0), (0, self.grid_size - 1), (self.grid_size - 1, 0), (self.grid_size - 1, self.grid_size - 1)]\n",
    "        self.obstacles = set()\n",
    "        cnt = 0\n",
    "        while len(self.obstacles)<obstacle_len and cnt < self.grid_size*self.grid_size*10:\n",
    "            posx,posy = np.random.randint(0,self.grid_size),np.random.randint(0,self.grid_size)\n",
    "            if (posx,posy) not in self.stations and (posx,posy) not in self.obstacles:\n",
    "                self.obstacles.add((posx,posy))\n",
    "            if not self.legal():\n",
    "                self.obstacles.remove((posx,posy))\n",
    "            cnt = cnt +1\n",
    "        available_positions = [\n",
    "            (x, y) for x in range(self.grid_size) for y in range(self.grid_size)\n",
    "            if (x, y) not in self.stations and (x, y) not in self.obstacles\n",
    "        ]\n",
    "\n",
    "        self.taxi_pos = random.choice(available_positions)\n",
    "\n",
    "        self.passenger_loc = random.choice([pos for pos in self.stations])\n",
    "\n",
    "\n",
    "        possible_destinations = [s for s in self.stations if s != self.passenger_loc]\n",
    "        self.destination = random.choice(possible_destinations)\n",
    "        #print(f'grid size : {self.grid_size}, obstacles : {len(self.obstacles)}, ')\n",
    "        #self.render_env(self.taxi_pos)\n",
    "        return self.get_state(), {}\n",
    "\n",
    "    def step(self, action):\n",
    "        \"\"\"Perform an action and update the environment state.\"\"\"\n",
    "        taxi_row, taxi_col = self.taxi_pos\n",
    "        next_row, next_col = taxi_row, taxi_col\n",
    "        reward = 0\n",
    "        if action == 0 :  # Move Down\n",
    "            next_row += 1\n",
    "        elif action == 1:  # Move Up\n",
    "            next_row -= 1\n",
    "        elif action == 2:  # Move Right\n",
    "            next_col += 1\n",
    "        elif action == 3:  # Move Left\n",
    "            next_col -= 1\n",
    "\n",
    "\n",
    "        if action in [0, 1, 2, 3]:  # Only movement actions should be checked\n",
    "            if (next_row, next_col) in self.obstacles or not (0 <= next_row < self.grid_size and 0 <= next_col < self.grid_size):\n",
    "                reward -=10\n",
    "                #print('block')\n",
    "            else:\n",
    "                self.taxi_pos = (next_row, next_col)\n",
    "                if self.passenger_picked_up:\n",
    "                    self.passenger_loc = self.taxi_pos\n",
    "        else:\n",
    "            if action == 4:  # PICKUP\n",
    "                if self.taxi_pos == self.passenger_loc:\n",
    "                    self.passenger_picked_up = True\n",
    "                    self.passenger_loc = self.taxi_pos\n",
    "                else:\n",
    "                    reward = -10\n",
    "            elif action == 5:  # DROPOFF\n",
    "                if self.passenger_picked_up:\n",
    "                    self.passenger_picked_up = False\n",
    "                    self.passenger_loc = self.taxi_pos\n",
    "                    if self.taxi_pos == self.destination:\n",
    "                        reward += 50\n",
    "                        return self.get_state(), reward -0.1, True, {}\n",
    "                    else:\n",
    "                        reward -=10\n",
    "                else:\n",
    "                    reward -=10\n",
    "\n",
    "        reward -= 0.1\n",
    "\n",
    "        self.current_fuel -= 1\n",
    "        if self.current_fuel <= 0:\n",
    "            return self.get_state(), reward -10, True, {}\n",
    "\n",
    "\n",
    "\n",
    "        return self.get_state(), reward, False, {}\n",
    "\n",
    "    def get_state(self):\n",
    "        \"\"\"Return the current environment state.\"\"\"\n",
    "        taxi_row, taxi_col = self.taxi_pos\n",
    "        passenger_row, passenger_col = self.passenger_loc\n",
    "        destination_row, destination_col = self.destination\n",
    "\n",
    "        obstacle_north = int(taxi_row == 0 or (taxi_row-1, taxi_col) in self.obstacles)\n",
    "        obstacle_south = int(taxi_row == self.grid_size - 1 or (taxi_row+1, taxi_col) in self.obstacles)\n",
    "        obstacle_east  = int(taxi_col == self.grid_size - 1 or (taxi_row, taxi_col+1) in self.obstacles)\n",
    "        obstacle_west  = int(taxi_col == 0 or (taxi_row , taxi_col-1) in self.obstacles)\n",
    "\n",
    "        passenger_loc_north = int((taxi_row - 1, taxi_col) == self.passenger_loc)\n",
    "        passenger_loc_south = int((taxi_row + 1, taxi_col) == self.passenger_loc)\n",
    "        passenger_loc_east  = int((taxi_row, taxi_col + 1) == self.passenger_loc)\n",
    "        passenger_loc_west  = int((taxi_row, taxi_col - 1) == self.passenger_loc)\n",
    "        passenger_loc_middle  = int( (taxi_row, taxi_col) == self.passenger_loc)\n",
    "        passenger_look = passenger_loc_north or passenger_loc_south or passenger_loc_east or passenger_loc_west or passenger_loc_middle\n",
    "\n",
    "        destination_loc_north = int( (taxi_row - 1, taxi_col) == self.destination)\n",
    "        destination_loc_south = int( (taxi_row + 1, taxi_col) == self.destination)\n",
    "        destination_loc_east  = int( (taxi_row, taxi_col + 1) == self.destination)\n",
    "        destination_loc_west  = int( (taxi_row, taxi_col - 1) == self.destination)\n",
    "        destination_loc_middle  = int( (taxi_row, taxi_col) == self.destination)\n",
    "        destination_look = destination_loc_north or destination_loc_south or destination_loc_east or destination_loc_west or destination_loc_middle\n",
    "\n",
    "\n",
    "        state = (taxi_row, taxi_col, self.stations[0][0],self.stations[0][1] ,self.stations[1][0],self.stations[1][1],self.stations[2][0],self.stations[2][1],self.stations[3][0],self.stations[3][1],obstacle_north, obstacle_south, obstacle_east, obstacle_west, passenger_look, destination_look)\n",
    "        return state,self.passenger_picked_up,self.passenger_loc\n",
    "    def render_env(self, taxi_pos,   action=None, step=None, fuel=None):\n",
    "        clear_output(wait=True)\n",
    "\n",
    "        grid = [['.'] * self.grid_size for _ in range(self.grid_size)]\n",
    "\n",
    "        '''\n",
    "        # Place passenger\n",
    "        py, px = passenger_pos\n",
    "        if 0 <= px < self.grid_size and 0 <= py < self.grid_size:\n",
    "            grid[py][px] = 'P'\n",
    "        '''\n",
    "        stations_char =['R','G','B','Y']\n",
    "        for i in range(len(self.stations)):\n",
    "            sx,sy = self.stations[i]\n",
    "            grid[sy][sx] = stations_char[i]\n",
    "        for ox,oy in self.obstacles:\n",
    "            grid[oy][ox] = '#'\n",
    "\n",
    "        '''\n",
    "        # Place destination\n",
    "        dy, dx = destination_pos\n",
    "        if 0 <= dx < self.grid_size and 0 <= dy < self.grid_size:\n",
    "            grid[dy][dx] = 'D'\n",
    "        '''\n",
    "        # Place taxi\n",
    "        ty, tx = taxi_pos\n",
    "        if 0 <= tx < self.grid_size and 0 <= ty < self.grid_size:\n",
    "            grid[ty][tx] = '🚖'\n",
    "\n",
    "        # Print step info\n",
    "        print(f\"\\nStep: {step}\")\n",
    "        print(f\"Taxi Position: ({tx}, {ty})\")\n",
    "        #print(f\"Passenger Position: ({px}, {py}) {'(In Taxi)' if (px, py) == (tx, ty) else ''}\")\n",
    "        #print(f\"Destination: ({dx}, {dy})\")\n",
    "        print(f\"Fuel Left: {fuel}\")\n",
    "        print(f\"Last Action: {self.get_action_name(action)}\\n\")\n",
    "\n",
    "        # Print grid\n",
    "        for row in grid:\n",
    "            print(\" \".join(row))\n",
    "        print(\"\\n\")\n",
    "\n",
    "    def get_action_name(self, action):\n",
    "        \"\"\"Returns a human-readable action name.\"\"\"\n",
    "        actions = [\"Move South\", \"Move North\", \"Move East\", \"Move West\", \"Pick Up\", \"Drop Off\"]\n",
    "        return actions[action] if action is not None else \"None\""
   ]
  },
  {
   "cell_type": "code",
   "execution_count": 32,
   "metadata": {},
   "outputs": [],
   "source": [
    "from re import M\n",
    "from collections import defaultdict\n",
    "from tqdm import tqdm\n",
    "def tabular_q_learning(env,episodes=120000, alpha=0.1, gamma=0.99,\n",
    "                       epsilon_start=1.0, epsilon_end=0.1, decay_rate=0.9995):\n",
    "\n",
    "    global stations, candidates_p,candidates_goal, pickup\n",
    "    stations = [[0,0] for _ in range(4)]\n",
    "    candidates_p = [i for i in stations]\n",
    "    candidates_goal = [i for i in stations]\n",
    "    pickup=False\n",
    "    action_size = 6\n",
    "    q_table = defaultdict(lambda :np.zeros(action_size))\n",
    "    pickup_id = 4\n",
    "    drop_id = 5\n",
    "    ifpickup=False\n",
    "    p_loc = (0,0)\n",
    "    def cmp(a,b):\n",
    "        if a==b:\n",
    "            return 0\n",
    "        return 1 if a<b else -1\n",
    "    def get_state_obs(obs,action,last_action=None):\n",
    "        global stations,pickup,candidates_p,candidates_goal\n",
    "        #print(candidates_p)\n",
    "        taxi_row, taxi_col, stations[0][0], stations[0][1] , stations[1][0], stations[1][1],stations[2][0],stations[2][1],stations[3][0],stations[3][1],obstacle_north, obstacle_south, obstacle_east, obstacle_west, passenger_look, destination_look = obs\n",
    "        agent_pos = (taxi_row,taxi_col)\n",
    "        if action==None:\n",
    "            # initialize\n",
    "            candidates_goal = [tuple(i) for i in stations]\n",
    "            candidates_p = [tuple(i) for i in stations]\n",
    "            pickup=False\n",
    "        if passenger_look:\n",
    "            #print('before p',candidates_p)\n",
    "            candidates_p = [ tuple(x) for x in candidates_p if abs(x[0]-agent_pos[0])+abs(x[1]-agent_pos[1]) <=1 ]\n",
    "            #print('after p',candidates_p)\n",
    "        else:\n",
    "            #print('before p',candidates_p)\n",
    "            candidates_p = [ tuple(x) for x in candidates_p if abs(x[0]-agent_pos[0])+abs(x[1]-agent_pos[1]) >1 ]\n",
    "            #print('after p',candidates_p)\n",
    "        if destination_look:\n",
    "            #print('before g',candidates_goal)\n",
    "            candidates_goal = [ tuple(x) for x in candidates_goal if abs(x[0]-agent_pos[0])+abs(x[1]-agent_pos[1]) <=1 ]\n",
    "            #print('after g',candidates_goal)\n",
    "        else:\n",
    "            #print('before g',candidates_goal)\n",
    "            candidates_goal = [ tuple(x) for x in candidates_goal if abs(x[0]-agent_pos[0])+abs(x[1]-agent_pos[1]) >1 ]\n",
    "            #print('after g',candidates_goal)\n",
    "        if action==pickup_id and not pickup and agent_pos in candidates_p:\n",
    "            pickup = True\n",
    "            candidates_p = []\n",
    "        elif action == drop_id and pickup:\n",
    "            pickup=False\n",
    "            candidates_p.append(agent_pos)\n",
    "        cmp_pos = (0,0)\n",
    "        if not pickup:\n",
    "            # choose the one that is closest to the agent\n",
    "            idx = 0 #np.argmin([abs(agent_pos[0]-i[0])+abs(agent_pos[1]-i[1]) for i in candidates_p])\n",
    "            cmp_pos = candidates_p[idx]\n",
    "        else:\n",
    "            # choose the one that is closest to the agent\n",
    "            idx = 0 #np.argmin([abs(agent_pos[0]-i[0])+abs(agent_pos[1]-i[1]) for i in candidates_goal])\n",
    "            cmp_pos = candidates_goal[idx]\n",
    "        passenger_look = passenger_look and agent_pos in candidates_p\n",
    "        destination_look = destination_look and agent_pos in candidates_goal\n",
    "        real_look = passenger_look if not pickup else destination_look\n",
    "        relative_pos = (cmp(agent_pos[0],cmp_pos[0]),cmp(agent_pos[1],cmp_pos[1]))\n",
    "        return (relative_pos,pickup, real_look, (obstacle_north,obstacle_south,obstacle_east,obstacle_west),last_action)\n",
    "    \"\"\"\n",
    "    if action == 0 :  # Move Down\n",
    "        next_row += 1\n",
    "    elif action == 1:  # Move Up\n",
    "        next_row -= 1\n",
    "    elif action == 2:  # Move Right\n",
    "        next_col += 1\n",
    "    elif action == 3:  # Move Left\n",
    "        next_col -= 1\n",
    "    \"\"\"\n",
    "    station_size = 4\n",
    "    total_reward = 0\n",
    "    total_reward_shaped = 0\n",
    "    cnt = [0,0,0,0]\n",
    "    epsilon = epsilon_start\n",
    "    averaged = [0,0]\n",
    "    batch_size = 100\n",
    "    for epoch in tqdm(range(episodes+batch_size)):\n",
    "        if epoch >=episodes:\n",
    "            epsilon = 0\n",
    "        grid_size = 5 #np.random.randint(5,11)\n",
    "        obstacle_size = np.random.randint(grid_size*grid_size)\n",
    "        obs,_ = env.reset(grid_size,obstacle_size)\n",
    "        averaged[0]+=env.grid_size\n",
    "        averaged[1]+=len(env.obstacles)\n",
    "        obs,ifpickup,p_loc = obs\n",
    "        done = False\n",
    "        state = get_state_obs(obs,action=None)\n",
    "        steps=0\n",
    "        action_l=[]\n",
    "        success = False\n",
    "        has_pickup=False\n",
    "\n",
    "        while not done:\n",
    "            \"\"\"if state[-1]!=(0,0,0,0):\n",
    "              print(state[-1])\"\"\"\n",
    "            if np.random.choice(2,p=[epsilon,1-epsilon])==0 or state not in q_table.keys():\n",
    "                action = np.random.randint(6)\n",
    "            else:\n",
    "                action = np.argmax(q_table[state])\n",
    "            lst_pickup = pickup\n",
    "            \n",
    "            relative_pos,pickup, _ , _,last_action = state\n",
    "            obs,reward,done,_ = env.step(action)\n",
    "            obs,ifpickup,p_loc = obs\n",
    "            if action in [0,1,2,3]:\n",
    "                next_state = get_state_obs(obs,action,action)\n",
    "            else:\n",
    "                next_state = get_state_obs(obs,action,last_action)\n",
    "            total_reward += reward\n",
    "\n",
    "            ### reward shaping\n",
    "            reward_shaping = 0\n",
    "            \"\"\"if relative_pos == (0,0):\n",
    "                # want it to go to possible goal\n",
    "                #reward_shaping += 0.5\"\"\"\n",
    "            if relative_pos != (0,0) and action in [pickup_id,drop_id]:\n",
    "                reward_shaping -= 10\n",
    "            if done and reward>0:\n",
    "                cnt[2]+=1\n",
    "            \n",
    "            relative_pos,pickup, _ , _,_ = next_state\n",
    "            if not done and reward <-10 and action in [0,1,2,3]:\n",
    "                #print('hit wall')\n",
    "                cnt[-1]+=1\n",
    "            \"\"\"if not pickup:\n",
    "                reward_shaping -= p_len\n",
    "            reward_shaping -= 0.1 * goal_len\"\"\"\n",
    "            reward += reward_shaping\n",
    "            total_reward_shaped += reward\n",
    "            if epsilon:\n",
    "                q_table[state][action] = q_table[state][action] + alpha*(reward+gamma*np.max(q_table[next_state])-q_table[state][action])\n",
    "            state = next_state\n",
    "            if lst_pickup==False and pickup:\n",
    "                cnt[0]+=1\n",
    "            elif lst_pickup==True and pickup==False:\n",
    "                cnt[1]+=1\n",
    "            if pickup!=ifpickup:\n",
    "                print(pickup,ifpickup)\n",
    "            assert(pickup==ifpickup)\n",
    "\n",
    "\n",
    "        if (epoch+1)%batch_size==0:\n",
    "            cnt = [i/batch_size for i in cnt]\n",
    "            print(f'Epsilon : {epsilon}, average reward : {total_reward/batch_size:.4f}, averaged shaped reward : {total_reward_shaped/batch_size:.4f} Pickup, Drop, Success, Hit wall rate : {cnt}')\n",
    "            print(f'averaged grid size : {averaged[0]/batch_size:.2f}, averaged obstacles : {averaged[1]/batch_size:.2f}')\n",
    "            averaged = [0,0]\n",
    "            cnt = [0,0,0,0]\n",
    "            total_reward = 0\n",
    "            total_reward_shaped = 0\n",
    "        epsilon *= decay_rate #max(epsilon*decay_rate ,epsilon_end)\n",
    "    return q_table"
   ]
  },
  {
   "cell_type": "code",
   "execution_count": 33,
   "metadata": {},
   "outputs": [
    {
     "name": "stderr",
     "output_type": "stream",
     "text": [
      "  0%|          | 110/120100 [00:03<37:41, 53.06it/s] "
     ]
    },
    {
     "name": "stdout",
     "output_type": "stream",
     "text": [
      "Epsilon : 0.9516933769307994, average reward : -10694.3680, averaged shaped reward : -15977.4680 Pickup, Drop, Success, Hit wall rate : [25.71, 25.69, 0.9, 530.79]\n",
      "averaged grid size : 5.00, averaged obstacles : 10.88\n"
     ]
    },
    {
     "name": "stderr",
     "output_type": "stream",
     "text": [
      "  0%|          | 210/120100 [00:05<24:13, 82.46it/s]"
     ]
    },
    {
     "name": "stdout",
     "output_type": "stream",
     "text": [
      "Epsilon : 0.9052674235521029, average reward : -3667.8690, averaged shaped reward : -5525.4690 Pickup, Drop, Success, Hit wall rate : [17.23, 17.23, 0.98, 183.62]\n",
      "averaged grid size : 5.00, averaged obstacles : 11.21\n"
     ]
    },
    {
     "name": "stderr",
     "output_type": "stream",
     "text": [
      "  0%|          | 316/120100 [00:06<19:05, 104.58it/s]"
     ]
    },
    {
     "name": "stdout",
     "output_type": "stream",
     "text": [
      "Epsilon : 0.8611062428400729, average reward : -2221.3260, averaged shaped reward : -3364.2260 Pickup, Drop, Success, Hit wall rate : [14.13, 14.13, 0.99, 113.48]\n",
      "averaged grid size : 5.00, averaged obstacles : 10.45\n"
     ]
    },
    {
     "name": "stderr",
     "output_type": "stream",
     "text": [
      "  0%|          | 418/120100 [00:07<18:57, 105.18it/s]"
     ]
    },
    {
     "name": "stdout",
     "output_type": "stream",
     "text": [
      "Epsilon : 0.8190993535905904, average reward : -1495.3630, averaged shaped reward : -2242.1630 Pickup, Drop, Success, Hit wall rate : [8.37, 8.37, 1.0, 79.74]\n",
      "averaged grid size : 5.00, averaged obstacles : 11.39\n"
     ]
    },
    {
     "name": "stderr",
     "output_type": "stream",
     "text": [
      "  0%|          | 527/120100 [00:08<13:41, 145.47it/s]"
     ]
    },
    {
     "name": "stdout",
     "output_type": "stream",
     "text": [
      "Epsilon : 0.7791416641455342, average reward : -1026.4430, averaged shaped reward : -1572.5430 Pickup, Drop, Success, Hit wall rate : [9.68, 9.68, 1.0, 54.38]\n",
      "averaged grid size : 5.00, averaged obstacles : 10.26\n"
     ]
    },
    {
     "name": "stderr",
     "output_type": "stream",
     "text": [
      "  1%|          | 616/120100 [00:08<15:16, 130.32it/s]"
     ]
    },
    {
     "name": "stdout",
     "output_type": "stream",
     "text": [
      "Epsilon : 0.7411332094774175, average reward : -1136.2950, averaged shaped reward : -1718.9950 Pickup, Drop, Success, Hit wall rate : [7.74, 7.74, 1.0, 62.06]\n",
      "averaged grid size : 5.00, averaged obstacles : 9.05\n"
     ]
    },
    {
     "name": "stderr",
     "output_type": "stream",
     "text": [
      "  1%|          | 719/120100 [00:09<13:53, 143.26it/s]"
     ]
    },
    {
     "name": "stdout",
     "output_type": "stream",
     "text": [
      "Epsilon : 0.7049789010996835, average reward : -991.2000, averaged shaped reward : -1502.3000 Pickup, Drop, Success, Hit wall rate : [12.73, 12.73, 1.0, 57.89]\n",
      "averaged grid size : 5.00, averaged obstacles : 10.19\n"
     ]
    },
    {
     "name": "stderr",
     "output_type": "stream",
     "text": [
      "  1%|          | 821/120100 [00:10<13:53, 143.15it/s]"
     ]
    },
    {
     "name": "stdout",
     "output_type": "stream",
     "text": [
      "Epsilon : 0.6705882891769959, average reward : -719.9340, averaged shaped reward : -1107.4340 Pickup, Drop, Success, Hit wall rate : [8.57, 8.57, 1.0, 42.01]\n",
      "averaged grid size : 5.00, averaged obstacles : 9.70\n"
     ]
    },
    {
     "name": "stderr",
     "output_type": "stream",
     "text": [
      "  1%|          | 922/120100 [00:11<13:44, 144.56it/s]"
     ]
    },
    {
     "name": "stdout",
     "output_type": "stream",
     "text": [
      "Epsilon : 0.6378753362403742, average reward : -641.4710, averaged shaped reward : -989.3710 Pickup, Drop, Success, Hit wall rate : [10.04, 10.04, 1.0, 39.04]\n",
      "averaged grid size : 5.00, averaged obstacles : 10.50\n"
     ]
    },
    {
     "name": "stderr",
     "output_type": "stream",
     "text": [
      "  1%|          | 1028/120100 [00:11<13:18, 149.04it/s]"
     ]
    },
    {
     "name": "stdout",
     "output_type": "stream",
     "text": [
      "Epsilon : 0.6067582019410674, average reward : -796.6150, averaged shaped reward : -1219.2150 Pickup, Drop, Success, Hit wall rate : [8.07, 8.07, 1.0, 44.81]\n",
      "averaged grid size : 5.00, averaged obstacles : 9.26\n"
     ]
    },
    {
     "name": "stderr",
     "output_type": "stream",
     "text": [
      "  1%|          | 1147/120100 [00:12<13:06, 151.18it/s]"
     ]
    },
    {
     "name": "stdout",
     "output_type": "stream",
     "text": [
      "Epsilon : 0.5771590383046616, average reward : -596.9070, averaged shaped reward : -926.9070 Pickup, Drop, Success, Hit wall rate : [8.08, 8.08, 1.0, 35.26]\n",
      "averaged grid size : 5.00, averaged obstacles : 10.69\n"
     ]
    },
    {
     "name": "stderr",
     "output_type": "stream",
     "text": [
      "  1%|          | 1219/120100 [00:13<12:56, 153.15it/s]"
     ]
    },
    {
     "name": "stdout",
     "output_type": "stream",
     "text": [
      "Epsilon : 0.5490037949732016, average reward : -343.2590, averaged shaped reward : -541.7590 Pickup, Drop, Success, Hit wall rate : [5.69, 5.69, 1.0, 21.86]\n",
      "averaged grid size : 5.00, averaged obstacles : 10.27\n"
     ]
    },
    {
     "name": "stderr",
     "output_type": "stream",
     "text": [
      "  1%|          | 1334/120100 [00:13<12:20, 160.28it/s]"
     ]
    },
    {
     "name": "stdout",
     "output_type": "stream",
     "text": [
      "Epsilon : 0.5222220339480774, average reward : -412.3870, averaged shaped reward : -650.2870 Pickup, Drop, Success, Hit wall rate : [8.61, 8.61, 1.0, 27.17]\n",
      "averaged grid size : 5.00, averaged obstacles : 10.04\n"
     ]
    },
    {
     "name": "stderr",
     "output_type": "stream",
     "text": [
      "  1%|          | 1458/120100 [00:14<10:32, 187.63it/s]"
     ]
    },
    {
     "name": "stdout",
     "output_type": "stream",
     "text": [
      "Epsilon : 0.49674675337021873, average reward : -301.0710, averaged shaped reward : -487.9710 Pickup, Drop, Success, Hit wall rate : [5.74, 5.74, 1.0, 19.47]\n",
      "averaged grid size : 5.00, averaged obstacles : 10.42\n"
     ]
    },
    {
     "name": "stderr",
     "output_type": "stream",
     "text": [
      "  1%|▏         | 1538/120100 [00:14<10:31, 187.85it/s]"
     ]
    },
    {
     "name": "stdout",
     "output_type": "stream",
     "text": [
      "Epsilon : 0.47251421989671744, average reward : -210.5380, averaged shaped reward : -343.2380 Pickup, Drop, Success, Hit wall rate : [5.15, 5.15, 1.0, 15.22]\n",
      "averaged grid size : 5.00, averaged obstacles : 9.92\n"
     ]
    },
    {
     "name": "stderr",
     "output_type": "stream",
     "text": [
      "  1%|▏         | 1614/120100 [00:15<12:02, 163.97it/s]"
     ]
    },
    {
     "name": "stdout",
     "output_type": "stream",
     "text": [
      "Epsilon : 0.44946380925453877, average reward : -185.1120, averaged shaped reward : -310.6120 Pickup, Drop, Success, Hit wall rate : [3.69, 3.69, 1.0, 12.36]\n",
      "averaged grid size : 5.00, averaged obstacles : 10.79\n"
     ]
    },
    {
     "name": "stderr",
     "output_type": "stream",
     "text": [
      "  1%|▏         | 1751/120100 [00:16<12:52, 153.23it/s]"
     ]
    },
    {
     "name": "stdout",
     "output_type": "stream",
     "text": [
      "Epsilon : 0.4275378545724137, average reward : -598.8080, averaged shaped reward : -942.7080 Pickup, Drop, Success, Hit wall rate : [10.67, 10.67, 0.99, 36.75]\n",
      "averaged grid size : 5.00, averaged obstacles : 9.89\n"
     ]
    },
    {
     "name": "stderr",
     "output_type": "stream",
     "text": [
      "  2%|▏         | 1827/120100 [00:16<11:10, 176.52it/s]"
     ]
    },
    {
     "name": "stdout",
     "output_type": "stream",
     "text": [
      "Epsilon : 0.4066815021114777, average reward : -182.7900, averaged shaped reward : -315.1900 Pickup, Drop, Success, Hit wall rate : [4.24, 4.24, 1.0, 12.06]\n",
      "averaged grid size : 5.00, averaged obstacles : 10.07\n"
     ]
    },
    {
     "name": "stderr",
     "output_type": "stream",
     "text": [
      "  2%|▏         | 1925/120100 [00:17<11:36, 169.71it/s]"
     ]
    },
    {
     "name": "stdout",
     "output_type": "stream",
     "text": [
      "Epsilon : 0.38684257403372235, average reward : -88.3240, averaged shaped reward : -161.1240 Pickup, Drop, Success, Hit wall rate : [3.25, 3.25, 1.0, 7.63]\n",
      "averaged grid size : 5.00, averaged obstacles : 10.87\n"
     ]
    },
    {
     "name": "stderr",
     "output_type": "stream",
     "text": [
      "  2%|▏         | 2025/120100 [00:18<11:10, 176.18it/s]"
     ]
    },
    {
     "name": "stdout",
     "output_type": "stream",
     "text": [
      "Epsilon : 0.3679714378649446, average reward : -218.1690, averaged shaped reward : -354.1690 Pickup, Drop, Success, Hit wall rate : [3.87, 3.87, 1.0, 14.88]\n",
      "averaged grid size : 5.00, averaged obstacles : 10.56\n"
     ]
    },
    {
     "name": "stderr",
     "output_type": "stream",
     "text": [
      "  2%|▏         | 2129/120100 [00:18<10:42, 183.54it/s]"
     ]
    },
    {
     "name": "stdout",
     "output_type": "stream",
     "text": [
      "Epsilon : 0.35002088232561296, average reward : -150.8050, averaged shaped reward : -267.4050 Pickup, Drop, Success, Hit wall rate : [5.1, 5.1, 1.0, 10.66]\n",
      "averaged grid size : 5.00, averaged obstacles : 9.41\n"
     ]
    },
    {
     "name": "stderr",
     "output_type": "stream",
     "text": [
      "  2%|▏         | 2218/120100 [00:19<11:11, 175.62it/s]"
     ]
    },
    {
     "name": "stdout",
     "output_type": "stream",
     "text": [
      "Epsilon : 0.33294599921901236, average reward : -63.6660, averaged shaped reward : -125.1660 Pickup, Drop, Success, Hit wall rate : [2.94, 2.94, 1.0, 6.14]\n",
      "averaged grid size : 5.00, averaged obstacles : 10.02\n"
     ]
    },
    {
     "name": "stderr",
     "output_type": "stream",
     "text": [
      "  2%|▏         | 2328/120100 [00:19<10:03, 195.20it/s]"
     ]
    },
    {
     "name": "stdout",
     "output_type": "stream",
     "text": [
      "Epsilon : 0.3167040710811749, average reward : -166.5790, averaged shaped reward : -275.0790 Pickup, Drop, Success, Hit wall rate : [3.26, 3.26, 1.0, 11.96]\n",
      "averaged grid size : 5.00, averaged obstacles : 10.54\n"
     ]
    },
    {
     "name": "stderr",
     "output_type": "stream",
     "text": [
      "  2%|▏         | 2435/120100 [00:20<10:00, 196.08it/s]"
     ]
    },
    {
     "name": "stdout",
     "output_type": "stream",
     "text": [
      "Epsilon : 0.3012544643115281, average reward : -53.2900, averaged shaped reward : -109.8900 Pickup, Drop, Success, Hit wall rate : [2.24, 2.24, 1.0, 5.34]\n",
      "averaged grid size : 5.00, averaged obstacles : 10.00\n"
     ]
    },
    {
     "name": "stderr",
     "output_type": "stream",
     "text": [
      "  2%|▏         | 2524/120100 [00:20<09:02, 216.65it/s]"
     ]
    },
    {
     "name": "stdout",
     "output_type": "stream",
     "text": [
      "Epsilon : 0.2865585275168893, average reward : -51.5830, averaged shaped reward : -103.3830 Pickup, Drop, Success, Hit wall rate : [2.68, 2.68, 1.0, 5.55]\n",
      "averaged grid size : 5.00, averaged obstacles : 10.54\n"
     ]
    },
    {
     "name": "stderr",
     "output_type": "stream",
     "text": [
      "  2%|▏         | 2624/120100 [00:21<10:58, 178.34it/s]"
     ]
    },
    {
     "name": "stdout",
     "output_type": "stream",
     "text": [
      "Epsilon : 0.2725794948144954, average reward : -77.5800, averaged shaped reward : -141.2800 Pickup, Drop, Success, Hit wall rate : [2.71, 2.71, 1.0, 7.19]\n",
      "averaged grid size : 5.00, averaged obstacles : 10.33\n"
     ]
    },
    {
     "name": "stderr",
     "output_type": "stream",
     "text": [
      "  2%|▏         | 2748/120100 [00:21<09:08, 213.82it/s]"
     ]
    },
    {
     "name": "stdout",
     "output_type": "stream",
     "text": [
      "Epsilon : 0.2592823938521472, average reward : -116.4240, averaged shaped reward : -201.0240 Pickup, Drop, Success, Hit wall rate : [1.9, 1.9, 1.0, 8.04]\n",
      "averaged grid size : 5.00, averaged obstacles : 8.90\n"
     ]
    },
    {
     "name": "stderr",
     "output_type": "stream",
     "text": [
      "  2%|▏         | 2840/120100 [00:22<09:09, 213.58it/s]"
     ]
    },
    {
     "name": "stdout",
     "output_type": "stream",
     "text": [
      "Epsilon : 0.2466339583153596, average reward : -66.4370, averaged shaped reward : -132.3370 Pickup, Drop, Success, Hit wall rate : [3.58, 3.58, 1.0, 6.3]\n",
      "averaged grid size : 5.00, averaged obstacles : 10.22\n"
     ]
    },
    {
     "name": "stderr",
     "output_type": "stream",
     "text": [
      "  2%|▏         | 2932/120100 [00:22<09:54, 197.10it/s]"
     ]
    },
    {
     "name": "stdout",
     "output_type": "stream",
     "text": [
      "Epsilon : 0.23460254470262715, average reward : -92.2600, averaged shaped reward : -171.0600 Pickup, Drop, Success, Hit wall rate : [3.96, 3.96, 1.0, 8.3]\n",
      "averaged grid size : 5.00, averaged obstacles : 9.45\n"
     ]
    },
    {
     "name": "stderr",
     "output_type": "stream",
     "text": [
      "  3%|▎         | 3029/120100 [00:23<11:13, 173.75it/s]"
     ]
    },
    {
     "name": "stdout",
     "output_type": "stream",
     "text": [
      "Epsilon : 0.22315805316059978, average reward : -113.0280, averaged shaped reward : -200.1280 Pickup, Drop, Success, Hit wall rate : [2.82, 2.82, 1.0, 8.34]\n",
      "averaged grid size : 5.00, averaged obstacles : 10.88\n"
     ]
    },
    {
     "name": "stderr",
     "output_type": "stream",
     "text": [
      "  3%|▎         | 3138/120100 [00:23<10:16, 189.86it/s]"
     ]
    },
    {
     "name": "stdout",
     "output_type": "stream",
     "text": [
      "Epsilon : 0.21227185218111316, average reward : -121.7220, averaged shaped reward : -208.7220 Pickup, Drop, Success, Hit wall rate : [2.77, 2.77, 1.0, 8.91]\n",
      "averaged grid size : 5.00, averaged obstacles : 9.24\n"
     ]
    },
    {
     "name": "stderr",
     "output_type": "stream",
     "text": [
      "  3%|▎         | 3236/120100 [00:24<10:53, 178.81it/s]"
     ]
    },
    {
     "name": "stdout",
     "output_type": "stream",
     "text": [
      "Epsilon : 0.20191670697168435, average reward : -88.3510, averaged shaped reward : -170.7510 Pickup, Drop, Success, Hit wall rate : [3.56, 3.56, 1.0, 7.06]\n",
      "averaged grid size : 5.00, averaged obstacles : 10.63\n"
     ]
    },
    {
     "name": "stderr",
     "output_type": "stream",
     "text": [
      "  3%|▎         | 3332/120100 [00:24<08:58, 216.74it/s]"
     ]
    },
    {
     "name": "stdout",
     "output_type": "stream",
     "text": [
      "Epsilon : 0.19206671132027073, average reward : -3.0070, averaged shaped reward : -33.3070 Pickup, Drop, Success, Hit wall rate : [1.77, 1.77, 1.0, 2.5]\n",
      "averaged grid size : 5.00, averaged obstacles : 10.05\n"
     ]
    },
    {
     "name": "stderr",
     "output_type": "stream",
     "text": [
      "  3%|▎         | 3439/120100 [00:25<10:03, 193.23it/s]"
     ]
    },
    {
     "name": "stdout",
     "output_type": "stream",
     "text": [
      "Epsilon : 0.1826972227838353, average reward : -12.9880, averaged shaped reward : -50.3880 Pickup, Drop, Success, Hit wall rate : [1.87, 1.87, 1.0, 2.92]\n",
      "averaged grid size : 5.00, averaged obstacles : 9.55\n"
     ]
    },
    {
     "name": "stderr",
     "output_type": "stream",
     "text": [
      "  3%|▎         | 3525/120100 [00:25<09:43, 199.84it/s]"
     ]
    },
    {
     "name": "stdout",
     "output_type": "stream",
     "text": [
      "Epsilon : 0.1737848010385734, average reward : -65.2800, averaged shaped reward : -125.0800 Pickup, Drop, Success, Hit wall rate : [2.25, 2.25, 1.0, 5.47]\n",
      "averaged grid size : 5.00, averaged obstacles : 10.00\n"
     ]
    },
    {
     "name": "stderr",
     "output_type": "stream",
     "text": [
      "  3%|▎         | 3624/120100 [00:26<10:57, 177.12it/s]"
     ]
    },
    {
     "name": "stdout",
     "output_type": "stream",
     "text": [
      "Epsilon : 0.1653071492375671, average reward : -33.3590, averaged shaped reward : -79.6590 Pickup, Drop, Success, Hit wall rate : [2.32, 2.32, 1.0, 4.36]\n",
      "averaged grid size : 5.00, averaged obstacles : 10.78\n"
     ]
    },
    {
     "name": "stderr",
     "output_type": "stream",
     "text": [
      "  3%|▎         | 3733/120100 [00:27<10:42, 181.03it/s]"
     ]
    },
    {
     "name": "stdout",
     "output_type": "stream",
     "text": [
      "Epsilon : 0.15724305822915946, average reward : -92.7170, averaged shaped reward : -174.2170 Pickup, Drop, Success, Hit wall rate : [3.79, 3.79, 1.0, 7.37]\n",
      "averaged grid size : 5.00, averaged obstacles : 10.33\n"
     ]
    },
    {
     "name": "stderr",
     "output_type": "stream",
     "text": [
      "  3%|▎         | 3818/120100 [00:27<11:00, 176.18it/s]"
     ]
    },
    {
     "name": "stdout",
     "output_type": "stream",
     "text": [
      "Epsilon : 0.14957235349649245, average reward : 14.1690, averaged shaped reward : -5.4310 Pickup, Drop, Success, Hit wall rate : [1.45, 1.45, 1.0, 1.58]\n",
      "averaged grid size : 5.00, averaged obstacles : 10.92\n"
     ]
    },
    {
     "name": "stderr",
     "output_type": "stream",
     "text": [
      "  3%|▎         | 3926/120100 [00:28<11:06, 174.33it/s]"
     ]
    },
    {
     "name": "stdout",
     "output_type": "stream",
     "text": [
      "Epsilon : 0.14227584468546683, average reward : -34.4480, averaged shaped reward : -81.4480 Pickup, Drop, Success, Hit wall rate : [1.86, 1.86, 1.0, 3.43]\n",
      "averaged grid size : 5.00, averaged obstacles : 10.30\n"
     ]
    },
    {
     "name": "stderr",
     "output_type": "stream",
     "text": [
      "  3%|▎         | 4025/120100 [00:28<11:58, 161.63it/s]"
     ]
    },
    {
     "name": "stdout",
     "output_type": "stream",
     "text": [
      "Epsilon : 0.13533527759485164, average reward : -56.9470, averaged shaped reward : -111.4470 Pickup, Drop, Success, Hit wall rate : [1.82, 1.82, 1.0, 4.99]\n",
      "averaged grid size : 5.00, averaged obstacles : 9.96\n"
     ]
    },
    {
     "name": "stderr",
     "output_type": "stream",
     "text": [
      "  3%|▎         | 4136/120100 [00:29<11:42, 165.04it/s]"
     ]
    },
    {
     "name": "stdout",
     "output_type": "stream",
     "text": [
      "Epsilon : 0.12873328850843568, average reward : -51.5080, averaged shaped reward : -106.4080 Pickup, Drop, Success, Hit wall rate : [2.77, 2.77, 1.0, 5.31]\n",
      "averaged grid size : 5.00, averaged obstacles : 11.20\n"
     ]
    },
    {
     "name": "stderr",
     "output_type": "stream",
     "text": [
      "  4%|▎         | 4222/120100 [00:30<11:13, 172.04it/s]"
     ]
    },
    {
     "name": "stdout",
     "output_type": "stream",
     "text": [
      "Epsilon : 0.12245336075496815, average reward : 12.1690, averaged shaped reward : -9.6310 Pickup, Drop, Success, Hit wall rate : [1.76, 1.76, 1.0, 1.97]\n",
      "averaged grid size : 5.00, averaged obstacles : 10.62\n"
     ]
    },
    {
     "name": "stderr",
     "output_type": "stream",
     "text": [
      "  4%|▎         | 4342/120100 [00:30<08:19, 231.76it/s]"
     ]
    },
    {
     "name": "stdout",
     "output_type": "stream",
     "text": [
      "Epsilon : 0.11647978338721439, average reward : -1.7940, averaged shaped reward : -27.2940 Pickup, Drop, Success, Hit wall rate : [1.52, 1.52, 1.0, 2.49]\n",
      "averaged grid size : 5.00, averaged obstacles : 10.21\n"
     ]
    },
    {
     "name": "stderr",
     "output_type": "stream",
     "text": [
      "  4%|▎         | 4457/120100 [00:30<07:10, 268.65it/s]"
     ]
    },
    {
     "name": "stdout",
     "output_type": "stream",
     "text": [
      "Epsilon : 0.11079761187674808, average reward : 16.3870, averaged shaped reward : -0.1130 Pickup, Drop, Success, Hit wall rate : [1.18, 1.18, 1.0, 1.68]\n",
      "averaged grid size : 5.00, averaged obstacles : 9.42\n"
     ]
    },
    {
     "name": "stderr",
     "output_type": "stream",
     "text": [
      "  4%|▍         | 4536/120100 [00:31<08:16, 232.83it/s]"
     ]
    },
    {
     "name": "stdout",
     "output_type": "stream",
     "text": [
      "Epsilon : 0.10539263072614893, average reward : 20.5420, averaged shaped reward : 6.3420 Pickup, Drop, Success, Hit wall rate : [1.41, 1.41, 1.0, 1.39]\n",
      "averaged grid size : 5.00, averaged obstacles : 9.89\n"
     ]
    },
    {
     "name": "stderr",
     "output_type": "stream",
     "text": [
      "  4%|▍         | 4626/120100 [00:31<09:19, 206.52it/s]"
     ]
    },
    {
     "name": "stdout",
     "output_type": "stream",
     "text": [
      "Epsilon : 0.10025131790506973, average reward : 2.6710, averaged shaped reward : -22.3290 Pickup, Drop, Success, Hit wall rate : [1.39, 1.39, 1.0, 1.95]\n",
      "averaged grid size : 5.00, averaged obstacles : 10.39\n"
     ]
    },
    {
     "name": "stderr",
     "output_type": "stream",
     "text": [
      "  4%|▍         | 4734/120100 [00:32<09:52, 194.73it/s]"
     ]
    },
    {
     "name": "stdout",
     "output_type": "stream",
     "text": [
      "Epsilon : 0.09536081102119956, average reward : -5.4670, averaged shaped reward : -31.5670 Pickup, Drop, Success, Hit wall rate : [1.47, 1.47, 1.0, 2.6]\n",
      "averaged grid size : 5.00, averaged obstacles : 10.38\n"
     ]
    },
    {
     "name": "stderr",
     "output_type": "stream",
     "text": [
      "  4%|▍         | 4831/120100 [00:32<08:40, 221.59it/s]"
     ]
    },
    {
     "name": "stdout",
     "output_type": "stream",
     "text": [
      "Epsilon : 0.09070887514149145, average reward : -5.7940, averaged shaped reward : -30.5940 Pickup, Drop, Success, Hit wall rate : [1.43, 1.43, 1.0, 2.67]\n",
      "averaged grid size : 5.00, averaged obstacles : 10.30\n"
     ]
    },
    {
     "name": "stderr",
     "output_type": "stream",
     "text": [
      "  4%|▍         | 4957/120100 [00:33<08:48, 217.75it/s]"
     ]
    },
    {
     "name": "stdout",
     "output_type": "stream",
     "text": [
      "Epsilon : 0.08628387218314981, average reward : -10.4140, averaged shaped reward : -38.1140 Pickup, Drop, Success, Hit wall rate : [1.44, 1.44, 1.0, 3.01]\n",
      "averaged grid size : 5.00, averaged obstacles : 10.12\n"
     ]
    },
    {
     "name": "stderr",
     "output_type": "stream",
     "text": [
      "  4%|▍         | 5023/120100 [00:33<10:44, 178.56it/s]"
     ]
    },
    {
     "name": "stdout",
     "output_type": "stream",
     "text": [
      "Epsilon : 0.082074731797801, average reward : -0.2110, averaged shaped reward : -23.2110 Pickup, Drop, Success, Hit wall rate : [1.35, 1.35, 1.0, 2.23]\n",
      "averaged grid size : 5.00, averaged obstacles : 9.98\n"
     ]
    },
    {
     "name": "stderr",
     "output_type": "stream",
     "text": [
      "  4%|▍         | 5130/120100 [00:34<11:26, 167.59it/s]"
     ]
    },
    {
     "name": "stdout",
     "output_type": "stream",
     "text": [
      "Epsilon : 0.07807092367600618, average reward : -1.6440, averaged shaped reward : -26.0440 Pickup, Drop, Success, Hit wall rate : [1.31, 1.31, 1.0, 2.14]\n",
      "averaged grid size : 5.00, averaged obstacles : 10.54\n"
     ]
    },
    {
     "name": "stderr",
     "output_type": "stream",
     "text": [
      "  4%|▍         | 5229/120100 [00:35<11:39, 164.21it/s]"
     ]
    },
    {
     "name": "stdout",
     "output_type": "stream",
     "text": [
      "Epsilon : 0.07426243120282834, average reward : -35.4870, averaged shaped reward : -72.9870 Pickup, Drop, Success, Hit wall rate : [2.02, 2.02, 1.0, 4.22]\n",
      "averaged grid size : 5.00, averaged obstacles : 10.20\n"
     ]
    },
    {
     "name": "stderr",
     "output_type": "stream",
     "text": [
      "  4%|▍         | 5338/120100 [00:35<09:40, 197.67it/s]"
     ]
    },
    {
     "name": "stdout",
     "output_type": "stream",
     "text": [
      "Epsilon : 0.07063972639854567, average reward : 3.3560, averaged shaped reward : -19.4440 Pickup, Drop, Success, Hit wall rate : [1.42, 1.42, 1.0, 1.96]\n",
      "averaged grid size : 5.00, averaged obstacles : 10.36\n"
     ]
    },
    {
     "name": "stderr",
     "output_type": "stream",
     "text": [
      "  5%|▍         | 5442/120100 [00:36<07:44, 246.91it/s]"
     ]
    },
    {
     "name": "stdout",
     "output_type": "stream",
     "text": [
      "Epsilon : 0.06719374608181877, average reward : 37.0460, averaged shaped reward : 31.0460 Pickup, Drop, Success, Hit wall rate : [1.16, 1.16, 1.0, 0.51]\n",
      "averaged grid size : 5.00, averaged obstacles : 10.21\n"
     ]
    },
    {
     "name": "stderr",
     "output_type": "stream",
     "text": [
      "  5%|▍         | 5537/120100 [00:36<08:40, 219.96it/s]"
     ]
    },
    {
     "name": "stdout",
     "output_type": "stream",
     "text": [
      "Epsilon : 0.06391586919567814, average reward : 30.5190, averaged shaped reward : 23.0190 Pickup, Drop, Success, Hit wall rate : [1.11, 1.11, 1.0, 0.91]\n",
      "averaged grid size : 5.00, averaged obstacles : 9.93\n"
     ]
    },
    {
     "name": "stderr",
     "output_type": "stream",
     "text": [
      "  5%|▍         | 5634/120100 [00:37<09:10, 208.09it/s]"
     ]
    },
    {
     "name": "stdout",
     "output_type": "stream",
     "text": [
      "Epsilon : 0.060797895239605056, average reward : 17.4120, averaged shaped reward : 2.7120 Pickup, Drop, Success, Hit wall rate : [1.4, 1.4, 1.0, 1.53]\n",
      "averaged grid size : 5.00, averaged obstacles : 9.77\n"
     ]
    },
    {
     "name": "stderr",
     "output_type": "stream",
     "text": [
      "  5%|▍         | 5723/120100 [00:37<09:54, 192.54it/s]"
     ]
    },
    {
     "name": "stdout",
     "output_type": "stream",
     "text": [
      "Epsilon : 0.0578320237537493, average reward : 21.7160, averaged shaped reward : 8.2160 Pickup, Drop, Success, Hit wall rate : [1.29, 1.29, 1.0, 1.29]\n",
      "averaged grid size : 5.00, averaged obstacles : 10.30\n"
     ]
    },
    {
     "name": "stderr",
     "output_type": "stream",
     "text": [
      "  5%|▍         | 5826/120100 [00:38<10:19, 184.45it/s]"
     ]
    },
    {
     "name": "stdout",
     "output_type": "stream",
     "text": [
      "Epsilon : 0.05501083480395743, average reward : 13.5730, averaged shaped reward : -3.5270 Pickup, Drop, Success, Hit wall rate : [1.58, 1.58, 1.0, 1.63]\n",
      "averaged grid size : 5.00, averaged obstacles : 10.57\n"
     ]
    },
    {
     "name": "stderr",
     "output_type": "stream",
     "text": [
      "  5%|▍         | 5918/120100 [00:38<12:18, 154.63it/s]"
     ]
    },
    {
     "name": "stdout",
     "output_type": "stream",
     "text": [
      "Epsilon : 0.05232727041878946, average reward : -35.0660, averaged shaped reward : -67.8660 Pickup, Drop, Success, Hit wall rate : [1.28, 1.28, 1.0, 3.6]\n",
      "averaged grid size : 5.00, averaged obstacles : 9.71\n"
     ]
    },
    {
     "name": "stderr",
     "output_type": "stream",
     "text": [
      "  5%|▌         | 6011/120100 [00:39<12:20, 154.12it/s]"
     ]
    },
    {
     "name": "stdout",
     "output_type": "stream",
     "text": [
      "Epsilon : 0.049774616932083626, average reward : -21.3150, averaged shaped reward : -52.6150 Pickup, Drop, Success, Hit wall rate : [1.63, 1.62, 0.99, 2.89]\n",
      "averaged grid size : 5.00, averaged obstacles : 10.94\n"
     ]
    },
    {
     "name": "stderr",
     "output_type": "stream",
     "text": [
      "  5%|▌         | 6115/120100 [00:40<14:34, 130.29it/s]"
     ]
    },
    {
     "name": "stdout",
     "output_type": "stream",
     "text": [
      "Epsilon : 0.04734648818689483, average reward : -6.3500, averaged shaped reward : -28.7500 Pickup, Drop, Success, Hit wall rate : [1.74, 1.74, 1.0, 2.58]\n",
      "averaged grid size : 5.00, averaged obstacles : 9.57\n"
     ]
    },
    {
     "name": "stderr",
     "output_type": "stream",
     "text": [
      "  5%|▌         | 6234/120100 [00:40<12:13, 155.20it/s]"
     ]
    },
    {
     "name": "stdout",
     "output_type": "stream",
     "text": [
      "Epsilon : 0.04503680955878596, average reward : -23.5620, averaged shaped reward : -53.5620 Pickup, Drop, Success, Hit wall rate : [2.11, 2.09, 0.98, 3.31]\n",
      "averaged grid size : 5.00, averaged obstacles : 10.39\n"
     ]
    },
    {
     "name": "stderr",
     "output_type": "stream",
     "text": [
      "  5%|▌         | 6322/120100 [00:41<09:46, 194.08it/s]"
     ]
    },
    {
     "name": "stdout",
     "output_type": "stream",
     "text": [
      "Epsilon : 0.04283980275850272, average reward : 1.1370, averaged shaped reward : -16.0630 Pickup, Drop, Success, Hit wall rate : [1.15, 1.15, 0.99, 2.03]\n",
      "averaged grid size : 5.00, averaged obstacles : 10.07\n"
     ]
    },
    {
     "name": "stderr",
     "output_type": "stream",
     "text": [
      "  5%|▌         | 6431/120100 [00:42<10:20, 183.16it/s]"
     ]
    },
    {
     "name": "stdout",
     "output_type": "stream",
     "text": [
      "Epsilon : 0.040749971376011676, average reward : 1.5000, averaged shaped reward : -18.7000 Pickup, Drop, Success, Hit wall rate : [1.53, 1.53, 1.0, 2.01]\n",
      "averaged grid size : 5.00, averaged obstacles : 10.20\n"
     ]
    },
    {
     "name": "stderr",
     "output_type": "stream",
     "text": [
      "  5%|▌         | 6539/120100 [00:42<10:36, 178.47it/s]"
     ]
    },
    {
     "name": "stdout",
     "output_type": "stream",
     "text": [
      "Epsilon : 0.03876208712973563, average reward : 23.1380, averaged shaped reward : 12.9380 Pickup, Drop, Success, Hit wall rate : [1.18, 1.18, 1.0, 0.97]\n",
      "averaged grid size : 5.00, averaged obstacles : 9.60\n"
     ]
    },
    {
     "name": "stderr",
     "output_type": "stream",
     "text": [
      "  6%|▌         | 6638/120100 [00:43<10:10, 185.73it/s]"
     ]
    },
    {
     "name": "stdout",
     "output_type": "stream",
     "text": [
      "Epsilon : 0.03687117678658528, average reward : 24.6450, averaged shaped reward : 13.8450 Pickup, Drop, Success, Hit wall rate : [1.15, 1.15, 1.0, 0.87]\n",
      "averaged grid size : 5.00, averaged obstacles : 10.29\n"
     ]
    },
    {
     "name": "stderr",
     "output_type": "stream",
     "text": [
      "  6%|▌         | 6717/120100 [00:43<09:07, 207.16it/s]"
     ]
    },
    {
     "name": "stdout",
     "output_type": "stream",
     "text": [
      "Epsilon : 0.03507250972006415, average reward : 31.4700, averaged shaped reward : 25.1700 Pickup, Drop, Success, Hit wall rate : [1.19, 1.19, 1.0, 0.89]\n",
      "averaged grid size : 5.00, averaged obstacles : 9.37\n"
     ]
    },
    {
     "name": "stderr",
     "output_type": "stream",
     "text": [
      "  6%|▌         | 6837/120100 [00:44<10:40, 176.93it/s]"
     ]
    },
    {
     "name": "stdout",
     "output_type": "stream",
     "text": [
      "Epsilon : 0.03336158607531967, average reward : 10.5540, averaged shaped reward : -1.3460 Pickup, Drop, Success, Hit wall rate : [1.28, 1.28, 1.0, 2.09]\n",
      "averaged grid size : 5.00, averaged obstacles : 10.47\n"
     ]
    },
    {
     "name": "stderr",
     "output_type": "stream",
     "text": [
      "  6%|▌         | 6941/120100 [00:44<09:27, 199.26it/s]"
     ]
    },
    {
     "name": "stdout",
     "output_type": "stream",
     "text": [
      "Epsilon : 0.031734125511532624, average reward : 10.9470, averaged shaped reward : -4.2530 Pickup, Drop, Success, Hit wall rate : [1.36, 1.36, 1.0, 1.31]\n",
      "averaged grid size : 5.00, averaged obstacles : 10.17\n"
     ]
    },
    {
     "name": "stderr",
     "output_type": "stream",
     "text": [
      "  6%|▌         | 7015/120100 [00:45<10:11, 184.93it/s]"
     ]
    },
    {
     "name": "stdout",
     "output_type": "stream",
     "text": [
      "Epsilon : 0.030186056493480308, average reward : 36.0560, averaged shaped reward : 30.9560 Pickup, Drop, Success, Hit wall rate : [1.09, 1.09, 1.0, 0.52]\n",
      "averaged grid size : 5.00, averaged obstacles : 9.44\n"
     ]
    },
    {
     "name": "stderr",
     "output_type": "stream",
     "text": [
      "  6%|▌         | 7128/120100 [00:45<10:32, 178.70it/s]"
     ]
    },
    {
     "name": "stdout",
     "output_type": "stream",
     "text": [
      "Epsilon : 0.028713506105483913, average reward : 23.7350, averaged shaped reward : 13.6350 Pickup, Drop, Success, Hit wall rate : [1.34, 1.34, 1.0, 0.78]\n",
      "averaged grid size : 5.00, averaged obstacles : 11.15\n"
     ]
    },
    {
     "name": "stderr",
     "output_type": "stream",
     "text": [
      "  6%|▌         | 7225/120100 [00:46<12:31, 150.11it/s]"
     ]
    },
    {
     "name": "stdout",
     "output_type": "stream",
     "text": [
      "Epsilon : 0.02731279036225661, average reward : -0.7000, averaged shaped reward : -18.5000 Pickup, Drop, Success, Hit wall rate : [1.38, 1.38, 0.99, 1.74]\n",
      "averaged grid size : 5.00, averaged obstacles : 9.64\n"
     ]
    },
    {
     "name": "stderr",
     "output_type": "stream",
     "text": [
      "  6%|▌         | 7352/120100 [00:47<12:10, 154.30it/s]"
     ]
    },
    {
     "name": "stdout",
     "output_type": "stream",
     "text": [
      "Epsilon : 0.025980404992412328, average reward : 4.2760, averaged shaped reward : -10.8240 Pickup, Drop, Success, Hit wall rate : [1.22, 1.21, 0.99, 1.73]\n",
      "averaged grid size : 5.00, averaged obstacles : 10.14\n"
     ]
    },
    {
     "name": "stderr",
     "output_type": "stream",
     "text": [
      "  6%|▌         | 7421/120100 [00:47<15:01, 124.96it/s]"
     ]
    },
    {
     "name": "stdout",
     "output_type": "stream",
     "text": [
      "Epsilon : 0.024713016671578058, average reward : 11.9540, averaged shaped reward : 0.9540 Pickup, Drop, Success, Hit wall rate : [1.14, 1.14, 1.0, 1.25]\n",
      "averaged grid size : 5.00, averaged obstacles : 8.97\n"
     ]
    },
    {
     "name": "stderr",
     "output_type": "stream",
     "text": [
      "  6%|▋         | 7512/120100 [00:48<12:20, 151.97it/s]"
     ]
    },
    {
     "name": "stdout",
     "output_type": "stream",
     "text": [
      "Epsilon : 0.023507454683176096, average reward : 2.9920, averaged shaped reward : -12.3080 Pickup, Drop, Success, Hit wall rate : [1.31, 1.31, 0.99, 1.58]\n",
      "averaged grid size : 5.00, averaged obstacles : 9.12\n"
     ]
    },
    {
     "name": "stderr",
     "output_type": "stream",
     "text": [
      "  6%|▋         | 7619/120100 [00:49<11:19, 165.58it/s]"
     ]
    },
    {
     "name": "stdout",
     "output_type": "stream",
     "text": [
      "Epsilon : 0.022360702986014367, average reward : 20.1960, averaged shaped reward : 10.7960 Pickup, Drop, Success, Hit wall rate : [1.33, 1.33, 1.0, 0.98]\n",
      "averaged grid size : 5.00, averaged obstacles : 10.11\n"
     ]
    },
    {
     "name": "stderr",
     "output_type": "stream",
     "text": [
      "  6%|▋         | 7710/120100 [00:49<11:34, 161.84it/s]"
     ]
    },
    {
     "name": "stdout",
     "output_type": "stream",
     "text": [
      "Epsilon : 0.021269892668838962, average reward : 21.7840, averaged shaped reward : 13.6840 Pickup, Drop, Success, Hit wall rate : [1.06, 1.06, 1.0, 0.82]\n",
      "averaged grid size : 5.00, averaged obstacles : 11.38\n"
     ]
    },
    {
     "name": "stderr",
     "output_type": "stream",
     "text": [
      "  7%|▋         | 7835/120100 [00:50<11:21, 164.69it/s]"
     ]
    },
    {
     "name": "stdout",
     "output_type": "stream",
     "text": [
      "Epsilon : 0.020232294772972517, average reward : -3.6530, averaged shaped reward : -20.1530 Pickup, Drop, Success, Hit wall rate : [1.16, 1.16, 1.0, 2.09]\n",
      "averaged grid size : 5.00, averaged obstacles : 9.96\n"
     ]
    },
    {
     "name": "stderr",
     "output_type": "stream",
     "text": [
      "  7%|▋         | 7925/120100 [00:51<11:27, 163.11it/s]"
     ]
    },
    {
     "name": "stdout",
     "output_type": "stream",
     "text": [
      "Epsilon : 0.01924531346508181, average reward : 20.1190, averaged shaped reward : 14.0190 Pickup, Drop, Success, Hit wall rate : [1.14, 1.14, 1.0, 1.59]\n",
      "averaged grid size : 5.00, averaged obstacles : 9.51\n"
     ]
    },
    {
     "name": "stderr",
     "output_type": "stream",
     "text": [
      "  7%|▋         | 8034/120100 [00:51<13:26, 138.96it/s]"
     ]
    },
    {
     "name": "stdout",
     "output_type": "stream",
     "text": [
      "Epsilon : 0.01830647954299465, average reward : 15.8620, averaged shaped reward : 4.6620 Pickup, Drop, Success, Hit wall rate : [1.49, 1.49, 1.0, 1.04]\n",
      "averaged grid size : 5.00, averaged obstacles : 9.86\n"
     ]
    },
    {
     "name": "stderr",
     "output_type": "stream",
     "text": [
      "  7%|▋         | 8127/120100 [00:52<09:12, 202.52it/s]"
     ]
    },
    {
     "name": "stdout",
     "output_type": "stream",
     "text": [
      "Epsilon : 0.017413444258319186, average reward : 23.8320, averaged shaped reward : 17.8320 Pickup, Drop, Success, Hit wall rate : [1.2, 1.2, 1.0, 1.11]\n",
      "averaged grid size : 5.00, averaged obstacles : 9.80\n"
     ]
    },
    {
     "name": "stderr",
     "output_type": "stream",
     "text": [
      "  7%|▋         | 8226/120100 [00:53<11:40, 159.67it/s]"
     ]
    },
    {
     "name": "stdout",
     "output_type": "stream",
     "text": [
      "Epsilon : 0.016563973440410922, average reward : 12.3370, averaged shaped reward : 0.6370 Pickup, Drop, Success, Hit wall rate : [1.31, 1.31, 1.0, 1.98]\n",
      "averaged grid size : 5.00, averaged obstacles : 10.24\n"
     ]
    },
    {
     "name": "stderr",
     "output_type": "stream",
     "text": [
      "  7%|▋         | 8324/120100 [00:53<11:11, 166.36it/s]"
     ]
    },
    {
     "name": "stdout",
     "output_type": "stream",
     "text": [
      "Epsilon : 0.015755941906987297, average reward : 11.6100, averaged shaped reward : 3.3100 Pickup, Drop, Success, Hit wall rate : [1.31, 1.31, 1.0, 2.02]\n",
      "averaged grid size : 5.00, averaged obstacles : 10.66\n"
     ]
    },
    {
     "name": "stderr",
     "output_type": "stream",
     "text": [
      "  7%|▋         | 8447/120100 [00:54<10:13, 181.94it/s]"
     ]
    },
    {
     "name": "stdout",
     "output_type": "stream",
     "text": [
      "Epsilon : 0.014987328147406147, average reward : 10.6330, averaged shaped reward : 1.3330 Pickup, Drop, Success, Hit wall rate : [1.17, 1.17, 1.0, 1.03]\n",
      "averaged grid size : 5.00, averaged obstacles : 8.96\n"
     ]
    },
    {
     "name": "stderr",
     "output_type": "stream",
     "text": [
      "  7%|▋         | 8541/120100 [00:55<10:56, 170.05it/s]"
     ]
    },
    {
     "name": "stdout",
     "output_type": "stream",
     "text": [
      "Epsilon : 0.014256209265307086, average reward : 24.3850, averaged shaped reward : 18.6850 Pickup, Drop, Success, Hit wall rate : [1.11, 1.11, 1.0, 0.89]\n",
      "averaged grid size : 5.00, averaged obstacles : 10.88\n"
     ]
    },
    {
     "name": "stderr",
     "output_type": "stream",
     "text": [
      "  7%|▋         | 8622/120100 [00:55<11:03, 168.11it/s]"
     ]
    },
    {
     "name": "stdout",
     "output_type": "stream",
     "text": [
      "Epsilon : 0.013560756167963291, average reward : 31.0410, averaged shaped reward : 26.4410 Pickup, Drop, Success, Hit wall rate : [1.14, 1.14, 1.0, 0.68]\n",
      "averaged grid size : 5.00, averaged obstacles : 10.10\n"
     ]
    },
    {
     "name": "stderr",
     "output_type": "stream",
     "text": [
      "  7%|▋         | 8725/120100 [00:56<12:58, 143.11it/s]"
     ]
    },
    {
     "name": "stdout",
     "output_type": "stream",
     "text": [
      "Epsilon : 0.012899228990308544, average reward : 11.9910, averaged shaped reward : 2.3910 Pickup, Drop, Success, Hit wall rate : [1.06, 1.06, 1.0, 0.89]\n",
      "averaged grid size : 5.00, averaged obstacles : 10.55\n"
     ]
    },
    {
     "name": "stderr",
     "output_type": "stream",
     "text": [
      "  7%|▋         | 8845/120100 [00:56<10:58, 168.95it/s]"
     ]
    },
    {
     "name": "stdout",
     "output_type": "stream",
     "text": [
      "Epsilon : 0.012269972742191609, average reward : 28.2340, averaged shaped reward : 23.3340 Pickup, Drop, Success, Hit wall rate : [1.07, 1.07, 1.0, 0.55]\n",
      "averaged grid size : 5.00, averaged obstacles : 11.00\n"
     ]
    },
    {
     "name": "stderr",
     "output_type": "stream",
     "text": [
      "  7%|▋         | 8934/120100 [00:57<09:20, 198.46it/s]"
     ]
    },
    {
     "name": "stdout",
     "output_type": "stream",
     "text": [
      "Epsilon : 0.011671413167968261, average reward : 37.3290, averaged shaped reward : 34.2290 Pickup, Drop, Success, Hit wall rate : [1.14, 1.14, 1.0, 0.33]\n",
      "averaged grid size : 5.00, averaged obstacles : 9.82\n"
     ]
    },
    {
     "name": "stderr",
     "output_type": "stream",
     "text": [
      "  8%|▊         | 9021/120100 [00:57<09:45, 189.81it/s]"
     ]
    },
    {
     "name": "stdout",
     "output_type": "stream",
     "text": [
      "Epsilon : 0.011102052808072622, average reward : 36.6510, averaged shaped reward : 34.5510 Pickup, Drop, Success, Hit wall rate : [1.02, 1.02, 1.0, 0.48]\n",
      "averaged grid size : 5.00, averaged obstacles : 9.89\n"
     ]
    },
    {
     "name": "stderr",
     "output_type": "stream",
     "text": [
      "  8%|▊         | 9124/120100 [00:58<11:01, 167.82it/s]"
     ]
    },
    {
     "name": "stdout",
     "output_type": "stream",
     "text": [
      "Epsilon : 0.010560467252714813, average reward : 27.9900, averaged shaped reward : 23.0900 Pickup, Drop, Success, Hit wall rate : [1.11, 1.11, 1.0, 0.48]\n",
      "averaged grid size : 5.00, averaged obstacles : 8.97\n"
     ]
    },
    {
     "name": "stderr",
     "output_type": "stream",
     "text": [
      "  8%|▊         | 9221/120100 [00:59<15:15, 121.14it/s]"
     ]
    },
    {
     "name": "stdout",
     "output_type": "stream",
     "text": [
      "Epsilon : 0.01004530157833244, average reward : 13.6390, averaged shaped reward : 6.7390 Pickup, Drop, Success, Hit wall rate : [1.08, 1.08, 0.99, 1.03]\n",
      "averaged grid size : 5.00, averaged obstacles : 10.19\n"
     ]
    },
    {
     "name": "stderr",
     "output_type": "stream",
     "text": [
      "  8%|▊         | 9324/120100 [00:59<11:35, 159.36it/s]"
     ]
    },
    {
     "name": "stdout",
     "output_type": "stream",
     "text": [
      "Epsilon : 0.009555266957880806, average reward : 22.8930, averaged shaped reward : 16.4930 Pickup, Drop, Success, Hit wall rate : [1.22, 1.22, 1.0, 0.48]\n",
      "averaged grid size : 5.00, averaged obstacles : 10.31\n"
     ]
    },
    {
     "name": "stderr",
     "output_type": "stream",
     "text": [
      "  8%|▊         | 9417/120100 [01:00<10:51, 169.80it/s]"
     ]
    },
    {
     "name": "stdout",
     "output_type": "stream",
     "text": [
      "Epsilon : 0.009089137436481563, average reward : 33.7560, averaged shaped reward : 29.5560 Pickup, Drop, Success, Hit wall rate : [1.16, 1.15, 0.99, 0.27]\n",
      "averaged grid size : 5.00, averaged obstacles : 9.84\n"
     ]
    },
    {
     "name": "stderr",
     "output_type": "stream",
     "text": [
      "  8%|▊         | 9514/120100 [01:01<09:29, 194.01it/s]"
     ]
    },
    {
     "name": "stdout",
     "output_type": "stream",
     "text": [
      "Epsilon : 0.008645746864363136, average reward : 27.1280, averaged shaped reward : 22.0280 Pickup, Drop, Success, Hit wall rate : [1.13, 1.13, 1.0, 0.39]\n",
      "averaged grid size : 5.00, averaged obstacles : 10.64\n"
     ]
    },
    {
     "name": "stderr",
     "output_type": "stream",
     "text": [
      "  8%|▊         | 9630/120100 [01:01<11:58, 153.84it/s]"
     ]
    },
    {
     "name": "stdout",
     "output_type": "stream",
     "text": [
      "Epsilon : 0.008223985979419902, average reward : 11.7500, averaged shaped reward : 3.7500 Pickup, Drop, Success, Hit wall rate : [1.25, 1.24, 0.98, 1.44]\n",
      "averaged grid size : 5.00, averaged obstacles : 10.08\n"
     ]
    },
    {
     "name": "stderr",
     "output_type": "stream",
     "text": [
      "  8%|▊         | 9706/120100 [01:02<16:19, 112.70it/s]"
     ]
    },
    {
     "name": "stdout",
     "output_type": "stream",
     "text": [
      "Epsilon : 0.007822799632091385, average reward : 8.3120, averaged shaped reward : 2.2120 Pickup, Drop, Success, Hit wall rate : [1.11, 1.11, 0.99, 1.4]\n",
      "averaged grid size : 5.00, averaged obstacles : 10.35\n"
     ]
    },
    {
     "name": "stderr",
     "output_type": "stream",
     "text": [
      "  8%|▊         | 9814/120100 [01:03<16:10, 113.62it/s]"
     ]
    },
    {
     "name": "stdout",
     "output_type": "stream",
     "text": [
      "Epsilon : 0.007441184145618604, average reward : 9.2110, averaged shaped reward : 2.0110 Pickup, Drop, Success, Hit wall rate : [1.13, 1.12, 0.99, 0.93]\n",
      "averaged grid size : 5.00, averaged obstacles : 9.83\n"
     ]
    },
    {
     "name": "stderr",
     "output_type": "stream",
     "text": [
      "  8%|▊         | 9910/120100 [01:04<13:01, 140.97it/s]"
     ]
    },
    {
     "name": "stdout",
     "output_type": "stream",
     "text": [
      "Epsilon : 0.0070781848050737416, average reward : 6.1480, averaged shaped reward : -1.6520 Pickup, Drop, Success, Hit wall rate : [1.08, 1.08, 1.0, 0.79]\n",
      "averaged grid size : 5.00, averaged obstacles : 10.50\n"
     ]
    },
    {
     "name": "stderr",
     "output_type": "stream",
     "text": [
      "  8%|▊         | 10028/120100 [01:05<18:35, 98.67it/s]"
     ]
    },
    {
     "name": "stdout",
     "output_type": "stream",
     "text": [
      "Epsilon : 0.006732893468881064, average reward : -14.9060, averaged shaped reward : -25.0060 Pickup, Drop, Success, Hit wall rate : [1.22, 1.22, 0.99, 1.27]\n",
      "averaged grid size : 5.00, averaged obstacles : 10.11\n"
     ]
    },
    {
     "name": "stderr",
     "output_type": "stream",
     "text": [
      "  8%|▊         | 10125/120100 [01:06<20:03, 91.39it/s] "
     ]
    },
    {
     "name": "stdout",
     "output_type": "stream",
     "text": [
      "Epsilon : 0.0064044462968537875, average reward : -21.4150, averaged shaped reward : -32.4150 Pickup, Drop, Success, Hit wall rate : [1.26, 1.25, 0.99, 1.96]\n",
      "averaged grid size : 5.00, averaged obstacles : 10.55\n"
     ]
    },
    {
     "name": "stderr",
     "output_type": "stream",
     "text": [
      "  8%|▊         | 10207/120100 [01:07<14:07, 129.66it/s]"
     ]
    },
    {
     "name": "stdout",
     "output_type": "stream",
     "text": [
      "Epsilon : 0.006092021589062922, average reward : 7.9640, averaged shaped reward : 1.4640 Pickup, Drop, Success, Hit wall rate : [1.15, 1.15, 0.99, 1.12]\n",
      "averaged grid size : 5.00, averaged obstacles : 9.75\n"
     ]
    },
    {
     "name": "stderr",
     "output_type": "stream",
     "text": [
      "  9%|▊         | 10311/120100 [01:08<18:03, 101.30it/s]"
     ]
    },
    {
     "name": "stdout",
     "output_type": "stream",
     "text": [
      "Epsilon : 0.005794837730131408, average reward : -12.5040, averaged shaped reward : -20.8040 Pickup, Drop, Success, Hit wall rate : [1.22, 1.21, 0.99, 1.85]\n",
      "averaged grid size : 5.00, averaged obstacles : 10.93\n"
     ]
    },
    {
     "name": "stderr",
     "output_type": "stream",
     "text": [
      "  9%|▊         | 10420/120100 [01:08<13:42, 133.32it/s]"
     ]
    },
    {
     "name": "stdout",
     "output_type": "stream",
     "text": [
      "Epsilon : 0.005512151233810694, average reward : 13.7630, averaged shaped reward : 8.0630 Pickup, Drop, Success, Hit wall rate : [1.08, 1.08, 1.0, 0.91]\n",
      "averaged grid size : 5.00, averaged obstacles : 10.91\n"
     ]
    },
    {
     "name": "stderr",
     "output_type": "stream",
     "text": [
      "  9%|▉         | 10530/120100 [01:10<14:52, 122.76it/s]"
     ]
    },
    {
     "name": "stdout",
     "output_type": "stream",
     "text": [
      "Epsilon : 0.005243254882947642, average reward : -13.9170, averaged shaped reward : -20.2170 Pickup, Drop, Success, Hit wall rate : [1.03, 1.03, 0.99, 1.87]\n",
      "averaged grid size : 5.00, averaged obstacles : 10.23\n"
     ]
    },
    {
     "name": "stderr",
     "output_type": "stream",
     "text": [
      "  9%|▉         | 10620/120100 [01:10<13:30, 135.15it/s]"
     ]
    },
    {
     "name": "stdout",
     "output_type": "stream",
     "text": [
      "Epsilon : 0.004987475960188511, average reward : 19.7390, averaged shaped reward : 16.7390 Pickup, Drop, Success, Hit wall rate : [1.01, 1.01, 0.99, 0.45]\n",
      "averaged grid size : 5.00, averaged obstacles : 10.80\n"
     ]
    },
    {
     "name": "stderr",
     "output_type": "stream",
     "text": [
      "  9%|▉         | 10725/120100 [01:11<17:31, 104.04it/s]"
     ]
    },
    {
     "name": "stdout",
     "output_type": "stream",
     "text": [
      "Epsilon : 0.004744174564993532, average reward : -32.9010, averaged shaped reward : -38.7010 Pickup, Drop, Success, Hit wall rate : [0.98, 0.98, 0.98, 3.87]\n",
      "averaged grid size : 5.00, averaged obstacles : 10.52\n"
     ]
    },
    {
     "name": "stderr",
     "output_type": "stream",
     "text": [
      "  9%|▉         | 10826/120100 [01:12<13:25, 135.68it/s]"
     ]
    },
    {
     "name": "stdout",
     "output_type": "stream",
     "text": [
      "Epsilon : 0.00451274201275165, average reward : 7.9150, averaged shaped reward : 5.5150 Pickup, Drop, Success, Hit wall rate : [1.01, 1.01, 1.0, 1.95]\n",
      "averaged grid size : 5.00, averaged obstacles : 9.14\n"
     ]
    },
    {
     "name": "stderr",
     "output_type": "stream",
     "text": [
      "  9%|▉         | 10908/120100 [01:13<19:51, 91.63it/s] "
     ]
    },
    {
     "name": "stdout",
     "output_type": "stream",
     "text": [
      "Epsilon : 0.004292599311990447, average reward : 2.8260, averaged shaped reward : -0.7740 Pickup, Drop, Success, Hit wall rate : [1.01, 1.01, 0.99, 1.47]\n",
      "averaged grid size : 5.00, averaged obstacles : 9.81\n"
     ]
    },
    {
     "name": "stderr",
     "output_type": "stream",
     "text": [
      "  9%|▉         | 11017/120100 [01:14<19:19, 94.10it/s] "
     ]
    },
    {
     "name": "stdout",
     "output_type": "stream",
     "text": [
      "Epsilon : 0.0040831957158714936, average reward : -28.3760, averaged shaped reward : -37.3760 Pickup, Drop, Success, Hit wall rate : [1.14, 1.14, 0.97, 3.41]\n",
      "averaged grid size : 5.00, averaged obstacles : 9.98\n"
     ]
    },
    {
     "name": "stderr",
     "output_type": "stream",
     "text": [
      "  9%|▉         | 11111/120100 [01:15<26:08, 69.49it/s]"
     ]
    },
    {
     "name": "stdout",
     "output_type": "stream",
     "text": [
      "Epsilon : 0.0038840073443473623, average reward : -88.8010, averaged shaped reward : -99.3010 Pickup, Drop, Success, Hit wall rate : [0.95, 0.94, 0.93, 5.79]\n",
      "averaged grid size : 5.00, averaged obstacles : 11.23\n"
     ]
    },
    {
     "name": "stderr",
     "output_type": "stream",
     "text": [
      "  9%|▉         | 11206/120100 [01:17<25:12, 72.00it/s]"
     ]
    },
    {
     "name": "stdout",
     "output_type": "stream",
     "text": [
      "Epsilon : 0.0036945358735331864, average reward : -142.0250, averaged shaped reward : -162.0250 Pickup, Drop, Success, Hit wall rate : [1.17, 1.15, 0.91, 8.34]\n",
      "averaged grid size : 5.00, averaged obstacles : 10.77\n"
     ]
    },
    {
     "name": "stderr",
     "output_type": "stream",
     "text": [
      "  9%|▉         | 11342/120100 [01:18<12:53, 140.60it/s]"
     ]
    },
    {
     "name": "stdout",
     "output_type": "stream",
     "text": [
      "Epsilon : 0.0035143072890139416, average reward : -21.2350, averaged shaped reward : -27.3350 Pickup, Drop, Success, Hit wall rate : [1.05, 1.04, 0.97, 1.82]\n",
      "averaged grid size : 5.00, averaged obstacles : 10.91\n"
     ]
    },
    {
     "name": "stderr",
     "output_type": "stream",
     "text": [
      " 10%|▉         | 11434/120100 [01:19<11:10, 162.15it/s]"
     ]
    },
    {
     "name": "stdout",
     "output_type": "stream",
     "text": [
      "Epsilon : 0.003342870699968475, average reward : 7.6650, averaged shaped reward : 1.0650 Pickup, Drop, Success, Hit wall rate : [1.1, 1.1, 0.99, 1.4]\n",
      "averaged grid size : 5.00, averaged obstacles : 9.52\n"
     ]
    },
    {
     "name": "stderr",
     "output_type": "stream",
     "text": [
      " 10%|▉         | 11501/120100 [01:20<13:33, 133.45it/s]"
     ]
    },
    {
     "name": "stdout",
     "output_type": "stream",
     "text": [
      "Epsilon : 0.003179797211143476, average reward : 10.6430, averaged shaped reward : 8.6430 Pickup, Drop, Success, Hit wall rate : [1.0, 1.0, 0.98, 1.21]\n",
      "averaged grid size : 5.00, averaged obstacles : 9.53\n"
     ]
    },
    {
     "name": "stderr",
     "output_type": "stream",
     "text": [
      " 10%|▉         | 11606/120100 [01:21<15:02, 120.23it/s]"
     ]
    },
    {
     "name": "stdout",
     "output_type": "stream",
     "text": [
      "Epsilon : 0.0030246788498553595, average reward : -13.5410, averaged shaped reward : -19.3410 Pickup, Drop, Success, Hit wall rate : [1.1, 1.09, 0.97, 2.1]\n",
      "averaged grid size : 5.00, averaged obstacles : 9.01\n"
     ]
    },
    {
     "name": "stderr",
     "output_type": "stream",
     "text": [
      " 10%|▉         | 11716/120100 [01:22<17:38, 102.41it/s]"
     ]
    },
    {
     "name": "stdout",
     "output_type": "stream",
     "text": [
      "Epsilon : 0.0028771275453356405, average reward : -35.8240, averaged shaped reward : -47.5240 Pickup, Drop, Success, Hit wall rate : [1.23, 1.22, 0.97, 2.54]\n",
      "averaged grid size : 5.00, averaged obstacles : 10.49\n"
     ]
    },
    {
     "name": "stderr",
     "output_type": "stream",
     "text": [
      " 10%|▉         | 11810/120100 [01:23<20:06, 89.74it/s] "
     ]
    },
    {
     "name": "stdout",
     "output_type": "stream",
     "text": [
      "Epsilon : 0.0027367741578663562, average reward : -38.5790, averaged shaped reward : -49.4790 Pickup, Drop, Success, Hit wall rate : [1.19, 1.19, 0.98, 3.54]\n",
      "averaged grid size : 5.00, averaged obstacles : 9.82\n"
     ]
    },
    {
     "name": "stderr",
     "output_type": "stream",
     "text": [
      " 10%|▉         | 11912/120100 [01:25<18:26, 97.77it/s]"
     ]
    },
    {
     "name": "stdout",
     "output_type": "stream",
     "text": [
      "Epsilon : 0.002603267555276678, average reward : -78.7150, averaged shaped reward : -103.1150 Pickup, Drop, Success, Hit wall rate : [1.8, 1.77, 0.96, 5.01]\n",
      "averaged grid size : 5.00, averaged obstacles : 10.00\n"
     ]
    },
    {
     "name": "stderr",
     "output_type": "stream",
     "text": [
      " 10%|█         | 12012/120100 [01:26<18:11, 99.05it/s]"
     ]
    },
    {
     "name": "stdout",
     "output_type": "stream",
     "text": [
      "Epsilon : 0.002476273734490283, average reward : -79.9410, averaged shaped reward : -106.9410 Pickup, Drop, Success, Hit wall rate : [2.09, 2.08, 0.97, 6.07]\n",
      "averaged grid size : 5.00, averaged obstacles : 10.54\n"
     ]
    },
    {
     "name": "stderr",
     "output_type": "stream",
     "text": [
      " 10%|█         | 12122/120100 [01:27<18:21, 98.02it/s] "
     ]
    },
    {
     "name": "stdout",
     "output_type": "stream",
     "text": [
      "Epsilon : 0.002355474985925808, average reward : -127.8220, averaged shaped reward : -181.0220 Pickup, Drop, Success, Hit wall rate : [3.17, 3.11, 0.93, 9.38]\n",
      "averaged grid size : 5.00, averaged obstacles : 9.55\n"
     ]
    },
    {
     "name": "stderr",
     "output_type": "stream",
     "text": [
      " 10%|█         | 12218/120100 [01:28<16:35, 108.32it/s]"
     ]
    },
    {
     "name": "stdout",
     "output_type": "stream",
     "text": [
      "Epsilon : 0.0022405690986599443, average reward : -8.2400, averaged shaped reward : -17.7400 Pickup, Drop, Success, Hit wall rate : [1.25, 1.25, 0.99, 2.5]\n",
      "averaged grid size : 5.00, averaged obstacles : 10.63\n"
     ]
    },
    {
     "name": "stderr",
     "output_type": "stream",
     "text": [
      " 10%|█         | 12305/120100 [01:29<15:33, 115.44it/s]"
     ]
    },
    {
     "name": "stdout",
     "output_type": "stream",
     "text": [
      "Epsilon : 0.0021312686043646056, average reward : -14.2450, averaged shaped reward : -31.6450 Pickup, Drop, Success, Hit wall rate : [1.56, 1.55, 0.99, 3.11]\n",
      "averaged grid size : 5.00, averaged obstacles : 9.65\n"
     ]
    },
    {
     "name": "stderr",
     "output_type": "stream",
     "text": [
      " 10%|█         | 12422/120100 [01:30<16:14, 110.48it/s]"
     ]
    },
    {
     "name": "stdout",
     "output_type": "stream",
     "text": [
      "Epsilon : 0.002027300058126727, average reward : -90.1520, averaged shaped reward : -133.7520 Pickup, Drop, Success, Hit wall rate : [2.48, 2.43, 0.95, 6.61]\n",
      "averaged grid size : 5.00, averaged obstacles : 8.98\n"
     ]
    },
    {
     "name": "stderr",
     "output_type": "stream",
     "text": [
      " 10%|█         | 12516/120100 [01:31<16:53, 106.18it/s]"
     ]
    },
    {
     "name": "stdout",
     "output_type": "stream",
     "text": [
      "Epsilon : 0.0019284033543514464, average reward : -55.4020, averaged shaped reward : -83.5020 Pickup, Drop, Success, Hit wall rate : [1.51, 1.49, 0.98, 5.06]\n",
      "averaged grid size : 5.00, averaged obstacles : 9.56\n"
     ]
    },
    {
     "name": "stderr",
     "output_type": "stream",
     "text": [
      " 11%|█         | 12611/120100 [01:32<15:20, 116.83it/s]"
     ]
    },
    {
     "name": "stdout",
     "output_type": "stream",
     "text": [
      "Epsilon : 0.0018343310760372167, average reward : -61.6510, averaged shaped reward : -94.0510 Pickup, Drop, Success, Hit wall rate : [2.17, 2.15, 0.98, 6.16]\n",
      "averaged grid size : 5.00, averaged obstacles : 10.29\n"
     ]
    },
    {
     "name": "stderr",
     "output_type": "stream",
     "text": [
      " 11%|█         | 12723/120100 [01:33<14:16, 125.37it/s]"
     ]
    },
    {
     "name": "stdout",
     "output_type": "stream",
     "text": [
      "Epsilon : 0.001744847875794886, average reward : 8.7820, averaged shaped reward : 0.9820 Pickup, Drop, Success, Hit wall rate : [1.16, 1.16, 0.99, 1.38]\n",
      "averaged grid size : 5.00, averaged obstacles : 10.12\n"
     ]
    },
    {
     "name": "stderr",
     "output_type": "stream",
     "text": [
      " 11%|█         | 12809/120100 [01:33<16:30, 108.32it/s]"
     ]
    },
    {
     "name": "stdout",
     "output_type": "stream",
     "text": [
      "Epsilon : 0.0016597298870621952, average reward : 3.4770, averaged shaped reward : -4.4230 Pickup, Drop, Success, Hit wall rate : [1.25, 1.25, 0.99, 2.06]\n",
      "averaged grid size : 5.00, averaged obstacles : 10.59\n"
     ]
    },
    {
     "name": "stderr",
     "output_type": "stream",
     "text": [
      " 11%|█         | 12923/120100 [01:34<13:04, 136.64it/s]"
     ]
    },
    {
     "name": "stdout",
     "output_type": "stream",
     "text": [
      "Epsilon : 0.0015787641640406897, average reward : -20.3160, averaged shaped reward : -30.5160 Pickup, Drop, Success, Hit wall rate : [1.12, 1.12, 0.98, 2.93]\n",
      "averaged grid size : 5.00, averaged obstacles : 9.86\n"
     ]
    },
    {
     "name": "stderr",
     "output_type": "stream",
     "text": [
      " 11%|█         | 12998/120100 [01:35<17:57, 99.36it/s] "
     ]
    },
    {
     "name": "stdout",
     "output_type": "stream",
     "text": [
      "Epsilon : 0.0015017481489538883, average reward : -14.6990, averaged shaped reward : -27.7990 Pickup, Drop, Success, Hit wall rate : [1.26, 1.26, 0.99, 2.69]\n",
      "averaged grid size : 5.00, averaged obstacles : 9.99\n"
     ]
    },
    {
     "name": "stderr",
     "output_type": "stream",
     "text": [
      " 11%|█         | 13135/120100 [01:36<14:37, 121.90it/s]"
     ]
    },
    {
     "name": "stdout",
     "output_type": "stream",
     "text": [
      "Epsilon : 0.0014284891652939136, average reward : -21.7130, averaged shaped reward : -30.8130 Pickup, Drop, Success, Hit wall rate : [1.1, 1.1, 0.97, 2.47]\n",
      "averaged grid size : 5.00, averaged obstacles : 9.45\n"
     ]
    },
    {
     "name": "stderr",
     "output_type": "stream",
     "text": [
      " 11%|█         | 13211/120100 [01:37<09:36, 185.35it/s]"
     ]
    },
    {
     "name": "stdout",
     "output_type": "stream",
     "text": [
      "Epsilon : 0.001358803935788809, average reward : 38.0800, averaged shaped reward : 37.0800 Pickup, Drop, Success, Hit wall rate : [1.02, 1.02, 1.0, 0.18]\n",
      "averaged grid size : 5.00, averaged obstacles : 9.98\n"
     ]
    },
    {
     "name": "stderr",
     "output_type": "stream",
     "text": [
      " 11%|█         | 13317/120100 [01:38<19:21, 91.93it/s] "
     ]
    },
    {
     "name": "stdout",
     "output_type": "stream",
     "text": [
      "Epsilon : 0.0012925181238845945, average reward : -79.8830, averaged shaped reward : -118.8830 Pickup, Drop, Success, Hit wall rate : [2.31, 2.29, 0.98, 6.95]\n",
      "averaged grid size : 5.00, averaged obstacles : 10.79\n"
     ]
    },
    {
     "name": "stderr",
     "output_type": "stream",
     "text": [
      " 11%|█         | 13409/120100 [01:39<24:58, 71.18it/s]"
     ]
    },
    {
     "name": "stdout",
     "output_type": "stream",
     "text": [
      "Epsilon : 0.0012294658975949594, average reward : -147.7440, averaged shaped reward : -205.6440 Pickup, Drop, Success, Hit wall rate : [3.33, 3.3, 0.97, 10.97]\n",
      "averaged grid size : 5.00, averaged obstacles : 9.98\n"
     ]
    },
    {
     "name": "stderr",
     "output_type": "stream",
     "text": [
      " 11%|█▏        | 13512/120100 [01:40<19:08, 92.78it/s] "
     ]
    },
    {
     "name": "stdout",
     "output_type": "stream",
     "text": [
      "Epsilon : 0.0011694895146274532, average reward : -53.1720, averaged shaped reward : -75.6720 Pickup, Drop, Success, Hit wall rate : [1.6, 1.55, 0.94, 4.31]\n",
      "averaged grid size : 5.00, averaged obstacles : 9.65\n"
     ]
    },
    {
     "name": "stderr",
     "output_type": "stream",
     "text": [
      " 11%|█▏        | 13623/120100 [01:42<18:07, 97.88it/s]"
     ]
    },
    {
     "name": "stdout",
     "output_type": "stream",
     "text": [
      "Epsilon : 0.0011124389277482325, average reward : -56.8850, averaged shaped reward : -72.6850 Pickup, Drop, Success, Hit wall rate : [1.49, 1.47, 0.96, 3.14]\n",
      "averaged grid size : 5.00, averaged obstacles : 10.52\n"
     ]
    },
    {
     "name": "stderr",
     "output_type": "stream",
     "text": [
      " 11%|█▏        | 13701/120100 [01:43<23:26, 75.65it/s]"
     ]
    },
    {
     "name": "stdout",
     "output_type": "stream",
     "text": [
      "Epsilon : 0.0010581714093981039, average reward : -28.0270, averaged shaped reward : -34.5270 Pickup, Drop, Success, Hit wall rate : [1.11, 1.11, 0.99, 2.61]\n",
      "averaged grid size : 5.00, averaged obstacles : 9.68\n"
     ]
    },
    {
     "name": "stderr",
     "output_type": "stream",
     "text": [
      " 12%|█▏        | 13817/120100 [01:44<15:56, 111.11it/s]"
     ]
    },
    {
     "name": "stdout",
     "output_type": "stream",
     "text": [
      "Epsilon : 0.0010065511946207128, average reward : -51.6320, averaged shaped reward : -66.3320 Pickup, Drop, Success, Hit wall rate : [1.39, 1.39, 0.99, 4.33]\n",
      "averaged grid size : 5.00, averaged obstacles : 9.88\n"
     ]
    },
    {
     "name": "stderr",
     "output_type": "stream",
     "text": [
      " 12%|█▏        | 13914/120100 [01:46<25:30, 69.38it/s] "
     ]
    },
    {
     "name": "stdout",
     "output_type": "stream",
     "text": [
      "Epsilon : 0.0009574491414095846, average reward : -60.5090, averaged shaped reward : -68.0090 Pickup, Drop, Success, Hit wall rate : [1.04, 1.04, 0.96, 4.24]\n",
      "averaged grid size : 5.00, averaged obstacles : 10.08\n"
     ]
    },
    {
     "name": "stderr",
     "output_type": "stream",
     "text": [
      " 12%|█▏        | 14014/120100 [01:47<27:49, 63.56it/s]"
     ]
    },
    {
     "name": "stdout",
     "output_type": "stream",
     "text": [
      "Epsilon : 0.0009107424076242682, average reward : -77.0340, averaged shaped reward : -88.5340 Pickup, Drop, Success, Hit wall rate : [1.05, 1.05, 0.95, 4.1]\n",
      "averaged grid size : 5.00, averaged obstacles : 10.42\n"
     ]
    },
    {
     "name": "stderr",
     "output_type": "stream",
     "text": [
      " 12%|█▏        | 14112/120100 [01:48<19:03, 92.70it/s] "
     ]
    },
    {
     "name": "stdout",
     "output_type": "stream",
     "text": [
      "Epsilon : 0.0008663141436673135, average reward : -20.1500, averaged shaped reward : -29.6500 Pickup, Drop, Success, Hit wall rate : [1.27, 1.27, 1.0, 2.87]\n",
      "averaged grid size : 5.00, averaged obstacles : 10.14\n"
     ]
    },
    {
     "name": "stderr",
     "output_type": "stream",
     "text": [
      " 12%|█▏        | 14209/120100 [01:49<24:21, 72.44it/s]"
     ]
    },
    {
     "name": "stdout",
     "output_type": "stream",
     "text": [
      "Epsilon : 0.0008240532001532246, average reward : -70.4150, averaged shaped reward : -89.1150 Pickup, Drop, Success, Hit wall rate : [1.31, 1.3, 0.98, 4.51]\n",
      "averaged grid size : 5.00, averaged obstacles : 9.70\n"
     ]
    },
    {
     "name": "stderr",
     "output_type": "stream",
     "text": [
      " 12%|█▏        | 14305/120100 [01:51<22:14, 79.27it/s]"
     ]
    },
    {
     "name": "stdout",
     "output_type": "stream",
     "text": [
      "Epsilon : 0.0007838538498380426, average reward : -67.2760, averaged shaped reward : -79.8760 Pickup, Drop, Success, Hit wall rate : [1.2, 1.19, 0.94, 4.45]\n",
      "averaged grid size : 5.00, averaged obstacles : 9.92\n"
     ]
    },
    {
     "name": "stderr",
     "output_type": "stream",
     "text": [
      " 12%|█▏        | 14414/120100 [01:52<18:32, 95.01it/s]"
     ]
    },
    {
     "name": "stdout",
     "output_type": "stream",
     "text": [
      "Epsilon : 0.0007456155231138884, average reward : -76.4110, averaged shaped reward : -89.4110 Pickup, Drop, Success, Hit wall rate : [1.17, 1.17, 0.96, 5.34]\n",
      "averaged grid size : 5.00, averaged obstacles : 10.06\n"
     ]
    },
    {
     "name": "stderr",
     "output_type": "stream",
     "text": [
      " 12%|█▏        | 14530/120100 [01:53<12:14, 143.71it/s]"
     ]
    },
    {
     "name": "stdout",
     "output_type": "stream",
     "text": [
      "Epsilon : 0.0007092425564067389, average reward : -12.4260, averaged shaped reward : -22.5260 Pickup, Drop, Success, Hit wall rate : [1.28, 1.28, 1.0, 2.75]\n",
      "averaged grid size : 5.00, averaged obstacles : 10.98\n"
     ]
    },
    {
     "name": "stderr",
     "output_type": "stream",
     "text": [
      " 12%|█▏        | 14609/120100 [01:54<14:32, 120.88it/s]"
     ]
    },
    {
     "name": "stdout",
     "output_type": "stream",
     "text": [
      "Epsilon : 0.0006746439528479779, average reward : 27.3980, averaged shaped reward : 25.3980 Pickup, Drop, Success, Hit wall rate : [1.09, 1.09, 1.0, 0.43]\n",
      "averaged grid size : 5.00, averaged obstacles : 9.97\n"
     ]
    },
    {
     "name": "stderr",
     "output_type": "stream",
     "text": [
      " 12%|█▏        | 14731/120100 [01:55<14:02, 125.12it/s]"
     ]
    },
    {
     "name": "stdout",
     "output_type": "stream",
     "text": [
      "Epsilon : 0.0006417331546209791, average reward : -39.5470, averaged shaped reward : -46.0470 Pickup, Drop, Success, Hit wall rate : [0.97, 0.97, 0.97, 2.81]\n",
      "averaged grid size : 5.00, averaged obstacles : 9.70\n"
     ]
    },
    {
     "name": "stderr",
     "output_type": "stream",
     "text": [
      " 12%|█▏        | 14810/120100 [01:56<19:44, 88.88it/s] "
     ]
    },
    {
     "name": "stdout",
     "output_type": "stream",
     "text": [
      "Epsilon : 0.0006104278264131895, average reward : -17.7120, averaged shaped reward : -28.4120 Pickup, Drop, Success, Hit wall rate : [1.24, 1.23, 0.98, 2.34]\n",
      "averaged grid size : 5.00, averaged obstacles : 10.14\n"
     ]
    },
    {
     "name": "stderr",
     "output_type": "stream",
     "text": [
      " 12%|█▏        | 14920/120100 [01:57<17:30, 100.08it/s]"
     ]
    },
    {
     "name": "stdout",
     "output_type": "stream",
     "text": [
      "Epsilon : 0.0005806496494319504, average reward : -22.5270, averaged shaped reward : -29.4270 Pickup, Drop, Success, Hit wall rate : [1.05, 1.05, 0.97, 1.82]\n",
      "averaged grid size : 5.00, averaged obstacles : 10.62\n"
     ]
    },
    {
     "name": "stderr",
     "output_type": "stream",
     "text": [
      " 12%|█▏        | 15008/120100 [01:59<36:07, 48.48it/s] "
     ]
    },
    {
     "name": "stdout",
     "output_type": "stream",
     "text": [
      "Epsilon : 0.0005523241254687372, average reward : -82.7080, averaged shaped reward : -99.0080 Pickup, Drop, Success, Hit wall rate : [1.29, 1.28, 0.92, 3.69]\n",
      "averaged grid size : 5.00, averaged obstacles : 10.78\n"
     ]
    },
    {
     "name": "stderr",
     "output_type": "stream",
     "text": [
      " 13%|█▎        | 15103/120100 [02:01<40:32, 43.17it/s]"
     ]
    },
    {
     "name": "stdout",
     "output_type": "stream",
     "text": [
      "Epsilon : 0.0005253803905216292, average reward : -130.1260, averaged shaped reward : -148.6260 Pickup, Drop, Success, Hit wall rate : [1.04, 1.04, 0.91, 5.82]\n",
      "averaged grid size : 5.00, averaged obstacles : 10.23\n"
     ]
    },
    {
     "name": "stderr",
     "output_type": "stream",
     "text": [
      " 13%|█▎        | 15212/120100 [02:03<25:52, 67.58it/s]"
     ]
    },
    {
     "name": "stdout",
     "output_type": "stream",
     "text": [
      "Epsilon : 0.0004997510375097366, average reward : -106.6070, averaged shaped reward : -125.5070 Pickup, Drop, Success, Hit wall rate : [1.2, 1.18, 0.93, 4.07]\n",
      "averaged grid size : 5.00, averaged obstacles : 10.02\n"
     ]
    },
    {
     "name": "stderr",
     "output_type": "stream",
     "text": [
      " 13%|█▎        | 15336/120100 [02:04<17:53, 97.59it/s]"
     ]
    },
    {
     "name": "stdout",
     "output_type": "stream",
     "text": [
      "Epsilon : 0.000475371947636056, average reward : -49.5830, averaged shaped reward : -57.3830 Pickup, Drop, Success, Hit wall rate : [0.94, 0.94, 0.92, 2.57]\n",
      "averaged grid size : 5.00, averaged obstacles : 9.47\n"
     ]
    },
    {
     "name": "stderr",
     "output_type": "stream",
     "text": [
      " 13%|█▎        | 15420/120100 [02:05<24:32, 71.08it/s]"
     ]
    },
    {
     "name": "stdout",
     "output_type": "stream",
     "text": [
      "Epsilon : 0.0004521821299768573, average reward : -39.8510, averaged shaped reward : -57.4510 Pickup, Drop, Success, Hit wall rate : [1.55, 1.54, 0.96, 2.66]\n",
      "averaged grid size : 5.00, averaged obstacles : 9.95\n"
     ]
    },
    {
     "name": "stderr",
     "output_type": "stream",
     "text": [
      " 13%|█▎        | 15511/120100 [02:07<17:35, 99.05it/s]"
     ]
    },
    {
     "name": "stdout",
     "output_type": "stream",
     "text": [
      "Epsilon : 0.0004301235688963043, average reward : -106.1960, averaged shaped reward : -137.5960 Pickup, Drop, Success, Hit wall rate : [1.95, 1.89, 0.91, 6.31]\n",
      "averaged grid size : 5.00, averaged obstacles : 9.50\n"
     ]
    },
    {
     "name": "stderr",
     "output_type": "stream",
     "text": [
      " 13%|█▎        | 15627/120100 [02:08<16:08, 107.83it/s]"
     ]
    },
    {
     "name": "stdout",
     "output_type": "stream",
     "text": [
      "Epsilon : 0.000409141078904561, average reward : -26.2070, averaged shaped reward : -41.0070 Pickup, Drop, Success, Hit wall rate : [1.52, 1.5, 0.98, 2.42]\n",
      "averaged grid size : 5.00, averaged obstacles : 10.65\n"
     ]
    },
    {
     "name": "stderr",
     "output_type": "stream",
     "text": [
      " 13%|█▎        | 15708/120100 [02:09<26:36, 65.39it/s] "
     ]
    },
    {
     "name": "stdout",
     "output_type": "stream",
     "text": [
      "Epsilon : 0.0003891821665962804, average reward : -63.4000, averaged shaped reward : -94.3000 Pickup, Drop, Success, Hit wall rate : [1.76, 1.73, 0.95, 3.91]\n",
      "averaged grid size : 5.00, averaged obstacles : 9.66\n"
     ]
    },
    {
     "name": "stderr",
     "output_type": "stream",
     "text": [
      " 13%|█▎        | 15813/120100 [02:11<23:59, 72.47it/s]"
     ]
    },
    {
     "name": "stdout",
     "output_type": "stream",
     "text": [
      "Epsilon : 0.0003701968993240746, average reward : -61.0870, averaged shaped reward : -80.4870 Pickup, Drop, Success, Hit wall rate : [1.45, 1.42, 0.95, 2.99]\n",
      "averaged grid size : 5.00, averaged obstacles : 10.84\n"
     ]
    },
    {
     "name": "stderr",
     "output_type": "stream",
     "text": [
      " 13%|█▎        | 15906/120100 [02:13<21:02, 82.53it/s]"
     ]
    },
    {
     "name": "stdout",
     "output_type": "stream",
     "text": [
      "Epsilon : 0.0003521377802784163, average reward : -83.4310, averaged shaped reward : -94.6310 Pickup, Drop, Success, Hit wall rate : [1.1, 1.08, 0.9, 3.08]\n",
      "averaged grid size : 5.00, averaged obstacles : 10.37\n"
     ]
    },
    {
     "name": "stderr",
     "output_type": "stream",
     "text": [
      " 13%|█▎        | 16004/120100 [02:14<24:07, 71.90it/s]"
     ]
    },
    {
     "name": "stdout",
     "output_type": "stream",
     "text": [
      "Epsilon : 0.000334959629661453, average reward : -67.7400, averaged shaped reward : -77.6400 Pickup, Drop, Success, Hit wall rate : [1.0, 0.99, 0.91, 2.44]\n",
      "averaged grid size : 5.00, averaged obstacles : 9.99\n"
     ]
    },
    {
     "name": "stderr",
     "output_type": "stream",
     "text": [
      " 13%|█▎        | 16096/120100 [02:15<15:04, 115.02it/s]"
     ]
    },
    {
     "name": "stdout",
     "output_type": "stream",
     "text": [
      "Epsilon : 0.00031861947165745427, average reward : -6.9440, averaged shaped reward : -16.0440 Pickup, Drop, Success, Hit wall rate : [1.31, 1.31, 0.99, 1.74]\n",
      "averaged grid size : 5.00, averaged obstacles : 10.15\n"
     ]
    },
    {
     "name": "stderr",
     "output_type": "stream",
     "text": [
      " 14%|█▎        | 16215/120100 [02:16<13:48, 125.38it/s]"
     ]
    },
    {
     "name": "stdout",
     "output_type": "stream",
     "text": [
      "Epsilon : 0.0003030764269171209, average reward : -43.6460, averaged shaped reward : -61.0460 Pickup, Drop, Success, Hit wall rate : [1.4, 1.36, 0.94, 3.07]\n",
      "averaged grid size : 5.00, averaged obstacles : 9.62\n"
     ]
    },
    {
     "name": "stderr",
     "output_type": "stream",
     "text": [
      " 14%|█▎        | 16319/120100 [02:18<18:34, 93.10it/s] "
     ]
    },
    {
     "name": "stdout",
     "output_type": "stream",
     "text": [
      "Epsilon : 0.0002882916102867752, average reward : -57.3380, averaged shaped reward : -86.2380 Pickup, Drop, Success, Hit wall rate : [2.01, 2.0, 0.99, 4.72]\n",
      "averaged grid size : 5.00, averaged obstacles : 9.50\n"
     ]
    },
    {
     "name": "stderr",
     "output_type": "stream",
     "text": [
      " 14%|█▎        | 16409/120100 [02:19<28:47, 60.01it/s]"
     ]
    },
    {
     "name": "stdout",
     "output_type": "stream",
     "text": [
      "Epsilon : 0.0002742280335265717, average reward : -77.6180, averaged shaped reward : -111.1180 Pickup, Drop, Success, Hit wall rate : [2.1, 2.06, 0.93, 5.01]\n",
      "averaged grid size : 5.00, averaged obstacles : 10.18\n"
     ]
    },
    {
     "name": "stderr",
     "output_type": "stream",
     "text": [
      " 14%|█▍        | 16515/120100 [02:21<20:42, 83.38it/s]"
     ]
    },
    {
     "name": "stdout",
     "output_type": "stream",
     "text": [
      "Epsilon : 0.0002608505127743577, average reward : -160.7120, averaged shaped reward : -211.8120 Pickup, Drop, Success, Hit wall rate : [2.81, 2.75, 0.9, 9.24]\n",
      "averaged grid size : 5.00, averaged obstacles : 9.63\n"
     ]
    },
    {
     "name": "stderr",
     "output_type": "stream",
     "text": [
      " 14%|█▍        | 16609/120100 [02:22<27:51, 61.92it/s]"
     ]
    },
    {
     "name": "stdout",
     "output_type": "stream",
     "text": [
      "Epsilon : 0.0002481255805236712, average reward : -149.7630, averaged shaped reward : -198.3630 Pickup, Drop, Success, Hit wall rate : [2.62, 2.59, 0.95, 9.99]\n",
      "averaged grid size : 5.00, averaged obstacles : 9.58\n"
     ]
    },
    {
     "name": "stderr",
     "output_type": "stream",
     "text": [
      " 14%|█▍        | 16708/120100 [02:24<29:19, 58.75it/s]"
     ]
    },
    {
     "name": "stdout",
     "output_type": "stream",
     "text": [
      "Epsilon : 0.000236021401895672, average reward : -100.9960, averaged shaped reward : -135.2960 Pickup, Drop, Success, Hit wall rate : [2.11, 2.07, 0.94, 5.67]\n",
      "averaged grid size : 5.00, averaged obstacles : 10.80\n"
     ]
    },
    {
     "name": "stderr",
     "output_type": "stream",
     "text": [
      " 14%|█▍        | 16816/120100 [02:25<23:01, 74.74it/s]"
     ]
    },
    {
     "name": "stdout",
     "output_type": "stream",
     "text": [
      "Epsilon : 0.00022450769499553455, average reward : -83.1600, averaged shaped reward : -100.9600 Pickup, Drop, Success, Hit wall rate : [1.44, 1.43, 0.91, 2.85]\n",
      "averaged grid size : 5.00, averaged obstacles : 10.17\n"
     ]
    },
    {
     "name": "stderr",
     "output_type": "stream",
     "text": [
      " 14%|█▍        | 16904/120100 [02:27<23:05, 74.48it/s]"
     ]
    },
    {
     "name": "stdout",
     "output_type": "stream",
     "text": [
      "Epsilon : 0.0002135556551540516, average reward : -40.1940, averaged shaped reward : -59.3940 Pickup, Drop, Success, Hit wall rate : [1.59, 1.58, 0.98, 3.56]\n",
      "averaged grid size : 5.00, averaged obstacles : 10.23\n"
     ]
    },
    {
     "name": "stderr",
     "output_type": "stream",
     "text": [
      " 14%|█▍        | 17014/120100 [02:28<19:04, 90.05it/s]"
     ]
    },
    {
     "name": "stdout",
     "output_type": "stream",
     "text": [
      "Epsilon : 0.00020313788286492048, average reward : -54.4140, averaged shaped reward : -76.9140 Pickup, Drop, Success, Hit wall rate : [1.71, 1.68, 0.96, 3.75]\n",
      "averaged grid size : 5.00, averaged obstacles : 10.10\n"
     ]
    },
    {
     "name": "stderr",
     "output_type": "stream",
     "text": [
      " 14%|█▍        | 17104/120100 [02:29<16:08, 106.37it/s]"
     ]
    },
    {
     "name": "stdout",
     "output_type": "stream",
     "text": [
      "Epsilon : 0.00019322831523742635, average reward : -11.4710, averaged shaped reward : -22.2710 Pickup, Drop, Success, Hit wall rate : [1.32, 1.32, 0.99, 2.65]\n",
      "averaged grid size : 5.00, averaged obstacles : 9.62\n"
     ]
    },
    {
     "name": "stderr",
     "output_type": "stream",
     "text": [
      " 14%|█▍        | 17225/120100 [02:30<17:45, 96.54it/s] "
     ]
    },
    {
     "name": "stdout",
     "output_type": "stream",
     "text": [
      "Epsilon : 0.0001838021607930319, average reward : -28.0980, averaged shaped reward : -43.3980 Pickup, Drop, Success, Hit wall rate : [1.53, 1.5, 0.95, 1.87]\n",
      "averaged grid size : 5.00, averaged obstacles : 9.63\n"
     ]
    },
    {
     "name": "stderr",
     "output_type": "stream",
     "text": [
      " 14%|█▍        | 17307/120100 [02:31<27:40, 61.91it/s]"
     ]
    },
    {
     "name": "stdout",
     "output_type": "stream",
     "text": [
      "Epsilon : 0.00017483583744275227, average reward : -63.7670, averaged shaped reward : -89.0670 Pickup, Drop, Success, Hit wall rate : [1.81, 1.76, 0.95, 3.78]\n",
      "averaged grid size : 5.00, averaged obstacles : 9.87\n"
     ]
    },
    {
     "name": "stderr",
     "output_type": "stream",
     "text": [
      " 15%|█▍        | 17415/120100 [02:33<27:32, 62.15it/s]"
     ]
    },
    {
     "name": "stdout",
     "output_type": "stream",
     "text": [
      "Epsilon : 0.0001663069134901451, average reward : -121.7370, averaged shaped reward : -160.9370 Pickup, Drop, Success, Hit wall rate : [2.31, 2.22, 0.9, 5.4]\n",
      "averaged grid size : 5.00, averaged obstacles : 10.12\n"
     ]
    },
    {
     "name": "stderr",
     "output_type": "stream",
     "text": [
      " 15%|█▍        | 17515/120100 [02:34<16:05, 106.29it/s]"
     ]
    },
    {
     "name": "stdout",
     "output_type": "stream",
     "text": [
      "Epsilon : 0.00015819405151232136, average reward : -8.4620, averaged shaped reward : -17.2620 Pickup, Drop, Success, Hit wall rate : [1.29, 1.28, 0.98, 1.56]\n",
      "averaged grid size : 5.00, averaged obstacles : 9.81\n"
     ]
    },
    {
     "name": "stderr",
     "output_type": "stream",
     "text": [
      " 15%|█▍        | 17630/120100 [02:35<12:18, 138.66it/s]"
     ]
    },
    {
     "name": "stdout",
     "output_type": "stream",
     "text": [
      "Epsilon : 0.0001504769549785789, average reward : 14.7660, averaged shaped reward : 9.8660 Pickup, Drop, Success, Hit wall rate : [1.1, 1.08, 0.98, 0.76]\n",
      "averaged grid size : 5.00, averaged obstacles : 9.54\n"
     ]
    },
    {
     "name": "stderr",
     "output_type": "stream",
     "text": [
      " 15%|█▍        | 17713/120100 [02:36<14:41, 116.18it/s]"
     ]
    },
    {
     "name": "stdout",
     "output_type": "stream",
     "text": [
      "Epsilon : 0.0001431363174731108, average reward : 8.2570, averaged shaped reward : 1.0570 Pickup, Drop, Success, Hit wall rate : [1.23, 1.22, 0.99, 0.9]\n",
      "averaged grid size : 5.00, averaged obstacles : 9.95\n"
     ]
    },
    {
     "name": "stderr",
     "output_type": "stream",
     "text": [
      " 15%|█▍        | 17811/120100 [02:37<16:42, 102.01it/s]"
     ]
    },
    {
     "name": "stdout",
     "output_type": "stream",
     "text": [
      "Epsilon : 0.00013615377439475508, average reward : -15.2740, averaged shaped reward : -24.3740 Pickup, Drop, Success, Hit wall rate : [1.31, 1.29, 0.97, 1.64]\n",
      "averaged grid size : 5.00, averaged obstacles : 9.97\n"
     ]
    },
    {
     "name": "stderr",
     "output_type": "stream",
     "text": [
      " 15%|█▍        | 17907/120100 [02:38<26:16, 64.81it/s] "
     ]
    },
    {
     "name": "stdout",
     "output_type": "stream",
     "text": [
      "Epsilon : 0.00012951185701295083, average reward : -42.3730, averaged shaped reward : -56.1730 Pickup, Drop, Success, Hit wall rate : [1.46, 1.43, 0.96, 2.2]\n",
      "averaged grid size : 5.00, averaged obstacles : 9.33\n"
     ]
    },
    {
     "name": "stderr",
     "output_type": "stream",
     "text": [
      " 15%|█▌        | 18017/120100 [02:39<19:54, 85.48it/s]"
     ]
    },
    {
     "name": "stdout",
     "output_type": "stream",
     "text": [
      "Epsilon : 0.00012319394876495726, average reward : -24.4220, averaged shaped reward : -36.5220 Pickup, Drop, Success, Hit wall rate : [1.35, 1.31, 0.95, 1.66]\n",
      "averaged grid size : 5.00, averaged obstacles : 9.99\n"
     ]
    },
    {
     "name": "stderr",
     "output_type": "stream",
     "text": [
      " 15%|█▌        | 18109/120100 [02:40<23:20, 72.85it/s] "
     ]
    },
    {
     "name": "stdout",
     "output_type": "stream",
     "text": [
      "Epsilon : 0.00011718424368500324, average reward : -25.4420, averaged shaped reward : -34.9420 Pickup, Drop, Success, Hit wall rate : [1.32, 1.28, 0.95, 1.51]\n",
      "averaged grid size : 5.00, averaged obstacles : 9.34\n"
     ]
    },
    {
     "name": "stderr",
     "output_type": "stream",
     "text": [
      " 15%|█▌        | 18221/120100 [02:41<14:50, 114.41it/s]"
     ]
    },
    {
     "name": "stdout",
     "output_type": "stream",
     "text": [
      "Epsilon : 0.00011146770686136471, average reward : -1.3290, averaged shaped reward : -9.7290 Pickup, Drop, Success, Hit wall rate : [1.27, 1.25, 0.98, 1.46]\n",
      "averaged grid size : 5.00, averaged obstacles : 10.84\n"
     ]
    },
    {
     "name": "stderr",
     "output_type": "stream",
     "text": [
      " 15%|█▌        | 18315/120100 [02:43<17:06, 99.13it/s] "
     ]
    },
    {
     "name": "stdout",
     "output_type": "stream",
     "text": [
      "Epsilon : 0.00010603003682244384, average reward : -38.4390, averaged shaped reward : -52.4390 Pickup, Drop, Success, Hit wall rate : [1.47, 1.42, 0.94, 2.1]\n",
      "averaged grid size : 5.00, averaged obstacles : 10.34\n"
     ]
    },
    {
     "name": "stderr",
     "output_type": "stream",
     "text": [
      " 15%|█▌        | 18406/120100 [02:44<19:49, 85.48it/s]"
     ]
    },
    {
     "name": "stdout",
     "output_type": "stream",
     "text": [
      "Epsilon : 0.00010085762975774877, average reward : -29.1370, averaged shaped reward : -42.3370 Pickup, Drop, Success, Hit wall rate : [1.46, 1.44, 0.97, 2.56]\n",
      "averaged grid size : 5.00, averaged obstacles : 10.59\n"
     ]
    },
    {
     "name": "stderr",
     "output_type": "stream",
     "text": [
      " 15%|█▌        | 18520/120100 [02:44<14:37, 115.70it/s]"
     ]
    },
    {
     "name": "stdout",
     "output_type": "stream",
     "text": [
      "Epsilon : 9.593754548426156e-05, average reward : 4.4320, averaged shaped reward : -1.2680 Pickup, Drop, Success, Hit wall rate : [1.18, 1.16, 0.97, 1.06]\n",
      "averaged grid size : 5.00, averaged obstacles : 9.54\n"
     ]
    },
    {
     "name": "stderr",
     "output_type": "stream",
     "text": [
      " 15%|█▌        | 18602/120100 [02:46<26:45, 63.22it/s] "
     ]
    },
    {
     "name": "stdout",
     "output_type": "stream",
     "text": [
      "Epsilon : 9.125747507305086e-05, average reward : -29.0270, averaged shaped reward : -39.5270 Pickup, Drop, Success, Hit wall rate : [1.39, 1.38, 0.98, 2.14]\n",
      "averaged grid size : 5.00, averaged obstacles : 10.49\n"
     ]
    },
    {
     "name": "stderr",
     "output_type": "stream",
     "text": [
      " 16%|█▌        | 18713/120100 [02:47<18:05, 93.41it/s]"
     ]
    },
    {
     "name": "stdout",
     "output_type": "stream",
     "text": [
      "Epsilon : 8.680571005513881e-05, average reward : -52.4570, averaged shaped reward : -69.9570 Pickup, Drop, Success, Hit wall rate : [1.6, 1.55, 0.92, 2.67]\n",
      "averaged grid size : 5.00, averaged obstacles : 10.32\n"
     ]
    },
    {
     "name": "stderr",
     "output_type": "stream",
     "text": [
      " 16%|█▌        | 18814/120100 [02:48<21:18, 79.24it/s]"
     ]
    },
    {
     "name": "stdout",
     "output_type": "stream",
     "text": [
      "Epsilon : 8.257111312958124e-05, average reward : -42.5420, averaged shaped reward : -59.7420 Pickup, Drop, Success, Hit wall rate : [1.51, 1.48, 0.97, 3.19]\n",
      "averaged grid size : 5.00, averaged obstacles : 9.09\n"
     ]
    },
    {
     "name": "stderr",
     "output_type": "stream",
     "text": [
      " 16%|█▌        | 18922/120100 [02:49<15:37, 107.87it/s]"
     ]
    },
    {
     "name": "stdout",
     "output_type": "stream",
     "text": [
      "Epsilon : 7.85430903004806e-05, average reward : -9.8220, averaged shaped reward : -17.9220 Pickup, Drop, Success, Hit wall rate : [1.22, 1.19, 0.96, 0.91]\n",
      "averaged grid size : 5.00, averaged obstacles : 9.99\n"
     ]
    },
    {
     "name": "stderr",
     "output_type": "stream",
     "text": [
      " 16%|█▌        | 19033/120100 [02:50<12:32, 134.29it/s]"
     ]
    },
    {
     "name": "stdout",
     "output_type": "stream",
     "text": [
      "Epsilon : 7.471156437322377e-05, average reward : 12.4680, averaged shaped reward : 9.0680 Pickup, Drop, Success, Hit wall rate : [1.09, 1.08, 0.99, 0.32]\n",
      "averaged grid size : 5.00, averaged obstacles : 9.28\n"
     ]
    },
    {
     "name": "stderr",
     "output_type": "stream",
     "text": [
      " 16%|█▌        | 19100/120100 [02:51<18:29, 91.05it/s] "
     ]
    },
    {
     "name": "stdout",
     "output_type": "stream",
     "text": [
      "Epsilon : 7.106694974363912e-05, average reward : -5.6030, averaged shaped reward : -11.1030 Pickup, Drop, Success, Hit wall rate : [1.13, 1.11, 0.96, 1.25]\n",
      "averaged grid size : 5.00, averaged obstacles : 10.19\n"
     ]
    },
    {
     "name": "stderr",
     "output_type": "stream",
     "text": [
      " 16%|█▌        | 19213/120100 [02:52<12:32, 134.00it/s]"
     ]
    },
    {
     "name": "stdout",
     "output_type": "stream",
     "text": [
      "Epsilon : 6.760012841700043e-05, average reward : -18.3560, averaged shaped reward : -30.5560 Pickup, Drop, Success, Hit wall rate : [1.47, 1.45, 0.97, 2.16]\n",
      "averaged grid size : 5.00, averaged obstacles : 10.16\n"
     ]
    },
    {
     "name": "stderr",
     "output_type": "stream",
     "text": [
      " 16%|█▌        | 19311/120100 [02:54<32:56, 51.00it/s] "
     ]
    },
    {
     "name": "stdout",
     "output_type": "stream",
     "text": [
      "Epsilon : 6.430242719688382e-05, average reward : -95.0270, averaged shaped reward : -126.3270 Pickup, Drop, Success, Hit wall rate : [2.13, 2.03, 0.9, 4.74]\n",
      "averaged grid size : 5.00, averaged obstacles : 9.93\n"
     ]
    },
    {
     "name": "stderr",
     "output_type": "stream",
     "text": [
      " 16%|█▌        | 19407/120100 [02:56<43:02, 38.99it/s]"
     ]
    },
    {
     "name": "stdout",
     "output_type": "stream",
     "text": [
      "Epsilon : 6.116559598680738e-05, average reward : -164.2100, averaged shaped reward : -202.5100 Pickup, Drop, Success, Hit wall rate : [2.26, 2.14, 0.83, 6.88]\n",
      "averaged grid size : 5.00, averaged obstacles : 9.94\n"
     ]
    },
    {
     "name": "stderr",
     "output_type": "stream",
     "text": [
      " 16%|█▌        | 19511/120100 [02:57<26:51, 62.40it/s]"
     ]
    },
    {
     "name": "stdout",
     "output_type": "stream",
     "text": [
      "Epsilon : 5.818178715037135e-05, average reward : -45.9730, averaged shaped reward : -61.0730 Pickup, Drop, Success, Hit wall rate : [1.36, 1.3, 0.93, 2.08]\n",
      "averaged grid size : 5.00, averaged obstacles : 9.22\n"
     ]
    },
    {
     "name": "stderr",
     "output_type": "stream",
     "text": [
      " 16%|█▋        | 19611/120100 [02:59<22:29, 74.48it/s]"
     ]
    },
    {
     "name": "stdout",
     "output_type": "stream",
     "text": [
      "Epsilon : 5.534353587826143e-05, average reward : -47.1040, averaged shaped reward : -57.1040 Pickup, Drop, Success, Hit wall rate : [1.32, 1.3, 0.96, 2.57]\n",
      "averaged grid size : 5.00, averaged obstacles : 10.53\n"
     ]
    },
    {
     "name": "stderr",
     "output_type": "stream",
     "text": [
      " 16%|█▋        | 19694/120100 [02:59<13:16, 126.01it/s]"
     ]
    },
    {
     "name": "stdout",
     "output_type": "stream",
     "text": [
      "Epsilon : 5.264374151299787e-05, average reward : -4.8070, averaged shaped reward : -11.0070 Pickup, Drop, Success, Hit wall rate : [1.18, 1.17, 0.98, 1.31]\n",
      "averaged grid size : 5.00, averaged obstacles : 9.54\n"
     ]
    },
    {
     "name": "stderr",
     "output_type": "stream",
     "text": [
      " 17%|█▋        | 19817/120100 [03:01<16:20, 102.25it/s]"
     ]
    },
    {
     "name": "stdout",
     "output_type": "stream",
     "text": [
      "Epsilon : 5.007564978470969e-05, average reward : -27.7850, averaged shaped reward : -37.0850 Pickup, Drop, Success, Hit wall rate : [1.32, 1.3, 0.97, 1.65]\n",
      "averaged grid size : 5.00, averaged obstacles : 10.21\n"
     ]
    },
    {
     "name": "stderr",
     "output_type": "stream",
     "text": [
      " 17%|█▋        | 19928/120100 [03:02<11:59, 139.25it/s]"
     ]
    },
    {
     "name": "stdout",
     "output_type": "stream",
     "text": [
      "Epsilon : 4.763283591349166e-05, average reward : -15.0410, averaged shaped reward : -20.8410 Pickup, Drop, Success, Hit wall rate : [1.17, 1.13, 0.96, 1.47]\n",
      "averaged grid size : 5.00, averaged obstacles : 10.21\n"
     ]
    },
    {
     "name": "stderr",
     "output_type": "stream",
     "text": [
      " 17%|█▋        | 20009/120100 [03:03<13:23, 124.64it/s]"
     ]
    },
    {
     "name": "stdout",
     "output_type": "stream",
     "text": [
      "Epsilon : 4.53091885360699e-05, average reward : 10.3010, averaged shaped reward : 8.2010 Pickup, Drop, Success, Hit wall rate : [1.09, 1.07, 0.98, 0.49]\n",
      "averaged grid size : 5.00, averaged obstacles : 9.30\n"
     ]
    },
    {
     "name": "stderr",
     "output_type": "stream",
     "text": [
      " 17%|█▋        | 20117/120100 [03:04<15:59, 104.25it/s]"
     ]
    },
    {
     "name": "stdout",
     "output_type": "stream",
     "text": [
      "Epsilon : 4.309889441656468e-05, average reward : -0.4640, averaged shaped reward : -2.4640 Pickup, Drop, Success, Hit wall rate : [1.04, 1.04, 0.99, 0.82]\n",
      "averaged grid size : 5.00, averaged obstacles : 9.80\n"
     ]
    },
    {
     "name": "stderr",
     "output_type": "stream",
     "text": [
      " 17%|█▋        | 20208/120100 [03:05<20:07, 82.75it/s] "
     ]
    },
    {
     "name": "stdout",
     "output_type": "stream",
     "text": [
      "Epsilon : 4.0996423903099795e-05, average reward : 1.4060, averaged shaped reward : -2.0940 Pickup, Drop, Success, Hit wall rate : [1.1, 1.08, 0.97, 0.8]\n",
      "averaged grid size : 5.00, averaged obstacles : 10.58\n"
     ]
    },
    {
     "name": "stderr",
     "output_type": "stream",
     "text": [
      " 17%|█▋        | 20311/120100 [03:06<16:46, 99.13it/s] "
     ]
    },
    {
     "name": "stdout",
     "output_type": "stream",
     "text": [
      "Epsilon : 3.89965170938744e-05, average reward : -6.2590, averaged shaped reward : -11.6590 Pickup, Drop, Success, Hit wall rate : [1.17, 1.13, 0.96, 0.56]\n",
      "averaged grid size : 5.00, averaged obstacles : 9.78\n"
     ]
    },
    {
     "name": "stderr",
     "output_type": "stream",
     "text": [
      " 17%|█▋        | 20415/120100 [03:07<21:09, 78.52it/s] "
     ]
    },
    {
     "name": "stdout",
     "output_type": "stream",
     "text": [
      "Epsilon : 3.7094170678088187e-05, average reward : -8.2910, averaged shaped reward : -9.3910 Pickup, Drop, Success, Hit wall rate : [0.99, 0.97, 0.95, 0.21]\n",
      "averaged grid size : 5.00, averaged obstacles : 9.58\n"
     ]
    },
    {
     "name": "stderr",
     "output_type": "stream",
     "text": [
      " 17%|█▋        | 20515/120100 [03:08<17:49, 93.14it/s] "
     ]
    },
    {
     "name": "stdout",
     "output_type": "stream",
     "text": [
      "Epsilon : 3.528462541879866e-05, average reward : 3.6770, averaged shaped reward : 1.9770 Pickup, Drop, Success, Hit wall rate : [0.99, 0.99, 0.98, 0.39]\n",
      "averaged grid size : 5.00, averaged obstacles : 8.85\n"
     ]
    },
    {
     "name": "stderr",
     "output_type": "stream",
     "text": [
      " 17%|█▋        | 20617/120100 [03:09<17:16, 96.01it/s] "
     ]
    },
    {
     "name": "stdout",
     "output_type": "stream",
     "text": [
      "Epsilon : 3.3563354246395554e-05, average reward : -5.6980, averaged shaped reward : -8.5980 Pickup, Drop, Success, Hit wall rate : [1.08, 1.04, 0.96, 0.94]\n",
      "averaged grid size : 5.00, averaged obstacles : 10.20\n"
     ]
    },
    {
     "name": "stderr",
     "output_type": "stream",
     "text": [
      " 17%|█▋        | 20715/120100 [03:10<16:39, 99.39it/s] "
     ]
    },
    {
     "name": "stdout",
     "output_type": "stream",
     "text": [
      "Epsilon : 3.192605093290494e-05, average reward : 19.4930, averaged shaped reward : 19.0930 Pickup, Drop, Success, Hit wall rate : [0.99, 0.98, 0.98, 0.13]\n",
      "averaged grid size : 5.00, averaged obstacles : 9.51\n"
     ]
    },
    {
     "name": "stderr",
     "output_type": "stream",
     "text": [
      " 17%|█▋        | 20802/120100 [03:11<28:03, 58.98it/s]"
     ]
    },
    {
     "name": "stdout",
     "output_type": "stream",
     "text": [
      "Epsilon : 3.0368619318788806e-05, average reward : -2.6600, averaged shaped reward : -3.6600 Pickup, Drop, Success, Hit wall rate : [1.01, 1.01, 0.99, 0.59]\n",
      "averaged grid size : 5.00, averaged obstacles : 10.07\n"
     ]
    },
    {
     "name": "stderr",
     "output_type": "stream",
     "text": [
      " 17%|█▋        | 20901/120100 [03:12<21:39, 76.32it/s]"
     ]
    },
    {
     "name": "stdout",
     "output_type": "stream",
     "text": [
      "Epsilon : 2.888716306528791e-05, average reward : -16.6600, averaged shaped reward : -20.9600 Pickup, Drop, Success, Hit wall rate : [1.13, 1.07, 0.94, 0.31]\n",
      "averaged grid size : 5.00, averaged obstacles : 10.15\n"
     ]
    },
    {
     "name": "stderr",
     "output_type": "stream",
     "text": [
      " 17%|█▋        | 21012/120100 [03:14<23:44, 69.56it/s]"
     ]
    },
    {
     "name": "stdout",
     "output_type": "stream",
     "text": [
      "Epsilon : 2.7477975906670747e-05, average reward : -37.2680, averaged shaped reward : -44.0680 Pickup, Drop, Success, Hit wall rate : [1.21, 1.15, 0.92, 0.79]\n",
      "averaged grid size : 5.00, averaged obstacles : 10.49\n"
     ]
    },
    {
     "name": "stderr",
     "output_type": "stream",
     "text": [
      " 18%|█▊        | 21111/120100 [03:15<25:01, 65.91it/s]"
     ]
    },
    {
     "name": "stdout",
     "output_type": "stream",
     "text": [
      "Epsilon : 2.613753237800171e-05, average reward : -23.0400, averaged shaped reward : -25.2400 Pickup, Drop, Success, Hit wall rate : [1.08, 1.02, 0.93, 0.31]\n",
      "averaged grid size : 5.00, averaged obstacles : 9.60\n"
     ]
    },
    {
     "name": "stderr",
     "output_type": "stream",
     "text": [
      " 18%|█▊        | 21203/120100 [03:17<23:36, 69.84it/s]"
     ]
    },
    {
     "name": "stdout",
     "output_type": "stream",
     "text": [
      "Epsilon : 2.4862478995231832e-05, average reward : -20.4920, averaged shaped reward : -22.4920 Pickup, Drop, Success, Hit wall rate : [1.02, 0.99, 0.96, 0.74]\n",
      "averaged grid size : 5.00, averaged obstacles : 11.02\n"
     ]
    },
    {
     "name": "stderr",
     "output_type": "stream",
     "text": [
      " 18%|█▊        | 21306/120100 [03:18<21:24, 76.89it/s]"
     ]
    },
    {
     "name": "stdout",
     "output_type": "stream",
     "text": [
      "Epsilon : 2.364962586554634e-05, average reward : -55.0490, averaged shaped reward : -60.5490 Pickup, Drop, Success, Hit wall rate : [0.95, 0.91, 0.9, 1.39]\n",
      "averaged grid size : 5.00, averaged obstacles : 9.37\n"
     ]
    },
    {
     "name": "stderr",
     "output_type": "stream",
     "text": [
      " 18%|█▊        | 21417/120100 [03:19<14:01, 117.32it/s]"
     ]
    },
    {
     "name": "stdout",
     "output_type": "stream",
     "text": [
      "Epsilon : 2.2495938706980223e-05, average reward : -1.3100, averaged shaped reward : -4.0100 Pickup, Drop, Success, Hit wall rate : [0.98, 0.96, 0.95, 0.4]\n",
      "averaged grid size : 5.00, averaged obstacles : 9.34\n"
     ]
    },
    {
     "name": "stderr",
     "output_type": "stream",
     "text": [
      " 18%|█▊        | 21514/120100 [03:20<18:03, 90.97it/s] "
     ]
    },
    {
     "name": "stdout",
     "output_type": "stream",
     "text": [
      "Epsilon : 2.1398531257336673e-05, average reward : -4.9520, averaged shaped reward : -7.8520 Pickup, Drop, Success, Hit wall rate : [1.05, 1.03, 0.97, 0.93]\n",
      "averaged grid size : 5.00, averaged obstacles : 9.81\n"
     ]
    },
    {
     "name": "stderr",
     "output_type": "stream",
     "text": [
      " 18%|█▊        | 21611/120100 [03:21<11:48, 138.93it/s]"
     ]
    },
    {
     "name": "stdout",
     "output_type": "stream",
     "text": [
      "Epsilon : 2.035465805341717e-05, average reward : 15.5360, averaged shaped reward : 14.8360 Pickup, Drop, Success, Hit wall rate : [1.03, 1.01, 0.98, 0.16]\n",
      "averaged grid size : 5.00, averaged obstacles : 11.00\n"
     ]
    },
    {
     "name": "stderr",
     "output_type": "stream",
     "text": [
      " 18%|█▊        | 21718/120100 [03:22<14:41, 111.60it/s]"
     ]
    },
    {
     "name": "stdout",
     "output_type": "stream",
     "text": [
      "Epsilon : 1.936170756249872e-05, average reward : -24.6990, averaged shaped reward : -28.8990 Pickup, Drop, Success, Hit wall rate : [1.01, 0.99, 0.93, 1.27]\n",
      "averaged grid size : 5.00, averaged obstacles : 8.87\n"
     ]
    },
    {
     "name": "stderr",
     "output_type": "stream",
     "text": [
      " 18%|█▊        | 21823/120100 [03:23<14:05, 116.27it/s]"
     ]
    },
    {
     "name": "stdout",
     "output_type": "stream",
     "text": [
      "Epsilon : 1.8417195648874336e-05, average reward : 3.5510, averaged shaped reward : 2.0510 Pickup, Drop, Success, Hit wall rate : [0.98, 0.97, 0.97, 0.34]\n",
      "averaged grid size : 5.00, averaged obstacles : 10.02\n"
     ]
    },
    {
     "name": "stderr",
     "output_type": "stream",
     "text": [
      " 18%|█▊        | 21916/120100 [03:24<13:28, 121.42it/s]"
     ]
    },
    {
     "name": "stdout",
     "output_type": "stream",
     "text": [
      "Epsilon : 1.7518759359112114e-05, average reward : 16.2320, averaged shaped reward : 15.3320 Pickup, Drop, Success, Hit wall rate : [1.01, 1.0, 0.99, 0.35]\n",
      "averaged grid size : 5.00, averaged obstacles : 9.86\n"
     ]
    },
    {
     "name": "stderr",
     "output_type": "stream",
     "text": [
      " 18%|█▊        | 22012/120100 [03:25<11:45, 138.98it/s]"
     ]
    },
    {
     "name": "stdout",
     "output_type": "stream",
     "text": [
      "Epsilon : 1.6664151010484406e-05, average reward : 24.4600, averaged shaped reward : 23.8600 Pickup, Drop, Success, Hit wall rate : [1.01, 0.99, 0.98, 0.25]\n",
      "averaged grid size : 5.00, averaged obstacles : 10.49\n"
     ]
    },
    {
     "name": "stderr",
     "output_type": "stream",
     "text": [
      " 18%|█▊        | 22137/120100 [03:26<10:04, 162.05it/s]"
     ]
    },
    {
     "name": "stdout",
     "output_type": "stream",
     "text": [
      "Epsilon : 1.5851232567778262e-05, average reward : 21.1310, averaged shaped reward : 20.5310 Pickup, Drop, Success, Hit wall rate : [0.97, 0.97, 0.97, 0.09]\n",
      "averaged grid size : 5.00, averaged obstacles : 10.48\n"
     ]
    },
    {
     "name": "stderr",
     "output_type": "stream",
     "text": [
      " 18%|█▊        | 22218/120100 [03:27<19:30, 83.59it/s] "
     ]
    },
    {
     "name": "stdout",
     "output_type": "stream",
     "text": [
      "Epsilon : 1.5077970294418908e-05, average reward : 1.5090, averaged shaped reward : 1.5090 Pickup, Drop, Success, Hit wall rate : [1.0, 0.94, 0.94, 0.1]\n",
      "averaged grid size : 5.00, averaged obstacles : 9.89\n"
     ]
    },
    {
     "name": "stderr",
     "output_type": "stream",
     "text": [
      " 19%|█▊        | 22313/120100 [03:28<21:23, 76.16it/s]"
     ]
    },
    {
     "name": "stdout",
     "output_type": "stream",
     "text": [
      "Epsilon : 1.434242966452443e-05, average reward : -13.2970, averaged shaped reward : -14.9970 Pickup, Drop, Success, Hit wall rate : [1.03, 0.98, 0.94, 0.2]\n",
      "averaged grid size : 5.00, averaged obstacles : 10.33\n"
     ]
    },
    {
     "name": "stderr",
     "output_type": "stream",
     "text": [
      " 19%|█▊        | 22412/120100 [03:29<14:38, 111.19it/s]"
     ]
    },
    {
     "name": "stdout",
     "output_type": "stream",
     "text": [
      "Epsilon : 1.3642770523163319e-05, average reward : 5.5470, averaged shaped reward : 5.2470 Pickup, Drop, Success, Hit wall rate : [1.01, 0.99, 0.97, 0.35]\n",
      "averaged grid size : 5.00, averaged obstacles : 10.78\n"
     ]
    },
    {
     "name": "stderr",
     "output_type": "stream",
     "text": [
      " 19%|█▊        | 22507/120100 [03:30<21:18, 76.31it/s] "
     ]
    },
    {
     "name": "stdout",
     "output_type": "stream",
     "text": [
      "Epsilon : 1.2977242482706328e-05, average reward : 1.5730, averaged shaped reward : 1.1730 Pickup, Drop, Success, Hit wall rate : [0.99, 0.96, 0.95, 0.14]\n",
      "averaged grid size : 5.00, averaged obstacles : 9.19\n"
     ]
    },
    {
     "name": "stderr",
     "output_type": "stream",
     "text": [
      " 19%|█▉        | 22615/120100 [03:31<14:03, 115.64it/s]"
     ]
    },
    {
     "name": "stdout",
     "output_type": "stream",
     "text": [
      "Epsilon : 1.2344180543755814e-05, average reward : -16.9170, averaged shaped reward : -18.8170 Pickup, Drop, Success, Hit wall rate : [0.99, 0.97, 0.94, 0.72]\n",
      "averaged grid size : 5.00, averaged obstacles : 10.44\n"
     ]
    },
    {
     "name": "stderr",
     "output_type": "stream",
     "text": [
      " 19%|█▉        | 22700/120100 [03:32<13:02, 124.44it/s]"
     ]
    },
    {
     "name": "stdout",
     "output_type": "stream",
     "text": [
      "Epsilon : 1.1742000929696878e-05, average reward : 14.9120, averaged shaped reward : 14.1120 Pickup, Drop, Success, Hit wall rate : [0.99, 0.99, 0.99, 0.17]\n",
      "averaged grid size : 5.00, averaged obstacles : 9.93\n"
     ]
    },
    {
     "name": "stderr",
     "output_type": "stream",
     "text": [
      " 19%|█▉        | 22807/120100 [03:33<19:05, 84.91it/s] "
     ]
    },
    {
     "name": "stdout",
     "output_type": "stream",
     "text": [
      "Epsilon : 1.116919712444945e-05, average reward : 0.9230, averaged shaped reward : 0.4230 Pickup, Drop, Success, Hit wall rate : [1.01, 0.99, 0.98, 0.23]\n",
      "averaged grid size : 5.00, averaged obstacles : 10.38\n"
     ]
    },
    {
     "name": "stderr",
     "output_type": "stream",
     "text": [
      " 19%|█▉        | 22912/120100 [03:34<11:36, 139.53it/s]"
     ]
    },
    {
     "name": "stdout",
     "output_type": "stream",
     "text": [
      "Epsilon : 1.0624336103508588e-05, average reward : 26.9690, averaged shaped reward : 26.8690 Pickup, Drop, Success, Hit wall rate : [0.99, 0.99, 0.99, 0.09]\n",
      "averaged grid size : 5.00, averaged obstacles : 9.86\n"
     ]
    },
    {
     "name": "stderr",
     "output_type": "stream",
     "text": [
      " 19%|█▉        | 23006/120100 [03:35<12:25, 130.16it/s]"
     ]
    },
    {
     "name": "stdout",
     "output_type": "stream",
     "text": [
      "Epsilon : 1.0106054748843901e-05, average reward : 18.6280, averaged shaped reward : 18.0280 Pickup, Drop, Success, Hit wall rate : [0.98, 0.96, 0.96, 0.08]\n",
      "averaged grid size : 5.00, averaged obstacles : 10.31\n"
     ]
    },
    {
     "name": "stderr",
     "output_type": "stream",
     "text": [
      " 19%|█▉        | 23115/120100 [03:36<12:51, 125.76it/s]"
     ]
    },
    {
     "name": "stdout",
     "output_type": "stream",
     "text": [
      "Epsilon : 9.613056438689101e-06, average reward : 13.2800, averaged shaped reward : 12.9800 Pickup, Drop, Success, Hit wall rate : [0.98, 0.97, 0.97, 0.18]\n",
      "averaged grid size : 5.00, averaged obstacles : 10.70\n"
     ]
    },
    {
     "name": "stderr",
     "output_type": "stream",
     "text": [
      " 19%|█▉        | 23239/120100 [03:37<12:27, 129.60it/s]"
     ]
    },
    {
     "name": "stdout",
     "output_type": "stream",
     "text": [
      "Epsilon : 9.14410780369001e-06, average reward : 6.4630, averaged shaped reward : 6.3630 Pickup, Drop, Success, Hit wall rate : [0.99, 0.96, 0.96, 0.59]\n",
      "averaged grid size : 5.00, averaged obstacles : 9.66\n"
     ]
    },
    {
     "name": "stderr",
     "output_type": "stream",
     "text": [
      " 19%|█▉        | 23312/120100 [03:38<18:15, 88.35it/s] "
     ]
    },
    {
     "name": "stdout",
     "output_type": "stream",
     "text": [
      "Epsilon : 8.698035641295676e-06, average reward : -1.5700, averaged shaped reward : -2.2700 Pickup, Drop, Success, Hit wall rate : [0.99, 0.96, 0.95, 0.41]\n",
      "averaged grid size : 5.00, averaged obstacles : 10.30\n"
     ]
    },
    {
     "name": "stderr",
     "output_type": "stream",
     "text": [
      " 20%|█▉        | 23420/120100 [03:39<11:32, 139.59it/s]"
     ]
    },
    {
     "name": "stdout",
     "output_type": "stream",
     "text": [
      "Epsilon : 8.27372398067308e-06, average reward : 18.0760, averaged shaped reward : 17.6760 Pickup, Drop, Success, Hit wall rate : [0.98, 0.97, 0.97, 0.02]\n",
      "averaged grid size : 5.00, averaged obstacles : 9.75\n"
     ]
    },
    {
     "name": "stderr",
     "output_type": "stream",
     "text": [
      " 20%|█▉        | 23526/120100 [03:40<13:44, 117.11it/s]"
     ]
    },
    {
     "name": "stdout",
     "output_type": "stream",
     "text": [
      "Epsilon : 7.870111290802624e-06, average reward : 18.7410, averaged shaped reward : 18.7410 Pickup, Drop, Success, Hit wall rate : [1.0, 0.98, 0.98, 0.0]\n",
      "averaged grid size : 5.00, averaged obstacles : 10.37\n"
     ]
    },
    {
     "name": "stderr",
     "output_type": "stream",
     "text": [
      " 20%|█▉        | 23606/120100 [03:41<19:21, 83.09it/s] "
     ]
    },
    {
     "name": "stdout",
     "output_type": "stream",
     "text": [
      "Epsilon : 7.4861878247695865e-06, average reward : -4.2830, averaged shaped reward : -4.9830 Pickup, Drop, Success, Hit wall rate : [0.96, 0.94, 0.94, 0.15]\n",
      "averaged grid size : 5.00, averaged obstacles : 9.61\n"
     ]
    },
    {
     "name": "stderr",
     "output_type": "stream",
     "text": [
      " 20%|█▉        | 23712/120100 [03:42<17:36, 91.20it/s] "
     ]
    },
    {
     "name": "stdout",
     "output_type": "stream",
     "text": [
      "Epsilon : 7.120993093607561e-06, average reward : 0.4710, averaged shaped reward : 0.2710 Pickup, Drop, Success, Hit wall rate : [0.99, 0.94, 0.94, 0.03]\n",
      "averaged grid size : 5.00, averaged obstacles : 10.04\n"
     ]
    },
    {
     "name": "stderr",
     "output_type": "stream",
     "text": [
      " 20%|█▉        | 23806/120100 [03:42<11:21, 141.38it/s]"
     ]
    },
    {
     "name": "stdout",
     "output_type": "stream",
     "text": [
      "Epsilon : 6.773613463374101e-06, average reward : 29.8590, averaged shaped reward : 29.6590 Pickup, Drop, Success, Hit wall rate : [0.99, 0.98, 0.98, 0.13]\n",
      "averaged grid size : 5.00, averaged obstacles : 9.43\n"
     ]
    },
    {
     "name": "stderr",
     "output_type": "stream",
     "text": [
      " 20%|█▉        | 23923/120100 [03:43<14:37, 109.66it/s]"
     ]
    },
    {
     "name": "stdout",
     "output_type": "stream",
     "text": [
      "Epsilon : 6.44317986944694e-06, average reward : 2.3300, averaged shaped reward : 2.1300 Pickup, Drop, Success, Hit wall rate : [1.01, 0.96, 0.95, 0.28]\n",
      "averaged grid size : 5.00, averaged obstacles : 9.42\n"
     ]
    },
    {
     "name": "stderr",
     "output_type": "stream",
     "text": [
      " 20%|█▉        | 24006/120100 [03:44<17:29, 91.57it/s] "
     ]
    },
    {
     "name": "stdout",
     "output_type": "stream",
     "text": [
      "Epsilon : 6.12886564232244e-06, average reward : 12.6450, averaged shaped reward : 12.5450 Pickup, Drop, Success, Hit wall rate : [0.98, 0.98, 0.98, 0.13]\n",
      "averaged grid size : 5.00, averaged obstacles : 9.96\n"
     ]
    },
    {
     "name": "stderr",
     "output_type": "stream",
     "text": [
      " 20%|██        | 24126/120100 [03:45<14:32, 110.04it/s]"
     ]
    },
    {
     "name": "stdout",
     "output_type": "stream",
     "text": [
      "Epsilon : 5.8298844394770505e-06, average reward : -0.4530, averaged shaped reward : -0.6530 Pickup, Drop, Success, Hit wall rate : [1.0, 0.94, 0.94, 0.14]\n",
      "averaged grid size : 5.00, averaged obstacles : 10.89\n"
     ]
    },
    {
     "name": "stderr",
     "output_type": "stream",
     "text": [
      " 20%|██        | 24204/120100 [03:46<15:59, 100.00it/s]"
     ]
    },
    {
     "name": "stdout",
     "output_type": "stream",
     "text": [
      "Epsilon : 5.545488278117576e-06, average reward : 10.3560, averaged shaped reward : 10.0560 Pickup, Drop, Success, Hit wall rate : [1.0, 0.97, 0.97, 0.34]\n",
      "averaged grid size : 5.00, averaged obstacles : 10.48\n"
     ]
    },
    {
     "name": "stderr",
     "output_type": "stream",
     "text": [
      " 20%|██        | 24323/120100 [03:47<13:01, 122.50it/s]"
     ]
    },
    {
     "name": "stdout",
     "output_type": "stream",
     "text": [
      "Epsilon : 5.274965663898814e-06, average reward : 8.8760, averaged shaped reward : 8.6760 Pickup, Drop, Success, Hit wall rate : [0.99, 0.97, 0.97, 0.08]\n",
      "averaged grid size : 5.00, averaged obstacles : 8.86\n"
     ]
    },
    {
     "name": "stderr",
     "output_type": "stream",
     "text": [
      " 20%|██        | 24415/120100 [03:48<20:11, 78.96it/s] "
     ]
    },
    {
     "name": "stdout",
     "output_type": "stream",
     "text": [
      "Epsilon : 5.017639810926945e-06, average reward : -6.3980, averaged shaped reward : -6.4980 Pickup, Drop, Success, Hit wall rate : [0.96, 0.94, 0.94, 0.07]\n",
      "averaged grid size : 5.00, averaged obstacles : 9.56\n"
     ]
    },
    {
     "name": "stderr",
     "output_type": "stream",
     "text": [
      " 20%|██        | 24519/120100 [03:49<11:56, 133.41it/s]"
     ]
    },
    {
     "name": "stdout",
     "output_type": "stream",
     "text": [
      "Epsilon : 4.772866948595539e-06, average reward : 8.4630, averaged shaped reward : 8.0630 Pickup, Drop, Success, Hit wall rate : [0.99, 0.98, 0.96, 0.2]\n",
      "averaged grid size : 5.00, averaged obstacles : 9.31\n"
     ]
    },
    {
     "name": "stderr",
     "output_type": "stream",
     "text": [
      " 20%|██        | 24612/120100 [03:50<14:52, 106.97it/s]"
     ]
    },
    {
     "name": "stdout",
     "output_type": "stream",
     "text": [
      "Epsilon : 4.5400347110183145e-06, average reward : 15.2580, averaged shaped reward : 14.9580 Pickup, Drop, Success, Hit wall rate : [0.99, 0.98, 0.98, 0.07]\n",
      "averaged grid size : 5.00, averaged obstacles : 10.15\n"
     ]
    },
    {
     "name": "stderr",
     "output_type": "stream",
     "text": [
      " 21%|██        | 24714/120100 [03:52<20:19, 78.24it/s] "
     ]
    },
    {
     "name": "stdout",
     "output_type": "stream",
     "text": [
      "Epsilon : 4.318560605029313e-06, average reward : -15.4540, averaged shaped reward : -15.4540 Pickup, Drop, Success, Hit wall rate : [0.95, 0.93, 0.93, 0.24]\n",
      "averaged grid size : 5.00, averaged obstacles : 9.66\n"
     ]
    },
    {
     "name": "stderr",
     "output_type": "stream",
     "text": [
      " 21%|██        | 24815/120100 [03:53<20:04, 79.09it/s]"
     ]
    },
    {
     "name": "stdout",
     "output_type": "stream",
     "text": [
      "Epsilon : 4.107890552917824e-06, average reward : -18.6060, averaged shaped reward : -19.9060 Pickup, Drop, Success, Hit wall rate : [0.96, 0.92, 0.92, 0.27]\n",
      "averaged grid size : 5.00, averaged obstacles : 9.59\n"
     ]
    },
    {
     "name": "stderr",
     "output_type": "stream",
     "text": [
      " 21%|██        | 24917/120100 [03:54<23:17, 68.13it/s]"
     ]
    },
    {
     "name": "stdout",
     "output_type": "stream",
     "text": [
      "Epsilon : 3.9074975062523094e-06, average reward : -18.4470, averaged shaped reward : -18.5470 Pickup, Drop, Success, Hit wall rate : [1.0, 0.95, 0.95, 0.06]\n",
      "averaged grid size : 5.00, averaged obstacles : 10.65\n"
     ]
    },
    {
     "name": "stderr",
     "output_type": "stream",
     "text": [
      " 21%|██        | 25010/120100 [03:55<20:03, 79.03it/s]"
     ]
    },
    {
     "name": "stdout",
     "output_type": "stream",
     "text": [
      "Epsilon : 3.7168801273253995e-06, average reward : 2.6890, averaged shaped reward : 2.2890 Pickup, Drop, Success, Hit wall rate : [1.01, 1.0, 0.99, 0.03]\n",
      "averaged grid size : 5.00, averaged obstacles : 9.48\n"
     ]
    },
    {
     "name": "stderr",
     "output_type": "stream",
     "text": [
      " 21%|██        | 25108/120100 [03:57<17:18, 91.47it/s]"
     ]
    },
    {
     "name": "stdout",
     "output_type": "stream",
     "text": [
      "Epsilon : 3.5355615349212784e-06, average reward : -6.7720, averaged shaped reward : -6.7720 Pickup, Drop, Success, Hit wall rate : [0.98, 0.93, 0.93, 0.06]\n",
      "averaged grid size : 5.00, averaged obstacles : 10.11\n"
     ]
    },
    {
     "name": "stderr",
     "output_type": "stream",
     "text": [
      " 21%|██        | 25208/120100 [03:57<13:14, 119.37it/s]"
     ]
    },
    {
     "name": "stdout",
     "output_type": "stream",
     "text": [
      "Epsilon : 3.3630881112676165e-06, average reward : 6.7900, averaged shaped reward : 6.6900 Pickup, Drop, Success, Hit wall rate : [0.98, 0.96, 0.96, 0.09]\n",
      "averaged grid size : 5.00, averaged obstacles : 10.11\n"
     ]
    },
    {
     "name": "stderr",
     "output_type": "stream",
     "text": [
      " 21%|██        | 25324/120100 [03:59<15:43, 100.42it/s]"
     ]
    },
    {
     "name": "stdout",
     "output_type": "stream",
     "text": [
      "Epsilon : 3.199028367187341e-06, average reward : -28.7490, averaged shaped reward : -28.8490 Pickup, Drop, Success, Hit wall rate : [0.99, 0.93, 0.93, 0.36]\n",
      "averaged grid size : 5.00, averaged obstacles : 10.33\n"
     ]
    },
    {
     "name": "stderr",
     "output_type": "stream",
     "text": [
      " 21%|██        | 25413/120100 [04:00<15:16, 103.30it/s]"
     ]
    },
    {
     "name": "stdout",
     "output_type": "stream",
     "text": [
      "Epsilon : 3.0429718626111103e-06, average reward : 11.5830, averaged shaped reward : 11.3830 Pickup, Drop, Success, Hit wall rate : [0.98, 0.96, 0.96, 0.04]\n",
      "averaged grid size : 5.00, averaged obstacles : 9.59\n"
     ]
    },
    {
     "name": "stderr",
     "output_type": "stream",
     "text": [
      " 21%|██▏       | 25533/120100 [04:01<11:51, 132.93it/s]"
     ]
    },
    {
     "name": "stdout",
     "output_type": "stream",
     "text": [
      "Epsilon : 2.8945281797498556e-06, average reward : -24.8030, averaged shaped reward : -25.3030 Pickup, Drop, Success, Hit wall rate : [0.97, 0.91, 0.91, 0.16]\n",
      "averaged grid size : 5.00, averaged obstacles : 9.36\n"
     ]
    },
    {
     "name": "stderr",
     "output_type": "stream",
     "text": [
      " 21%|██▏       | 25612/120100 [04:02<15:10, 103.83it/s]"
     ]
    },
    {
     "name": "stdout",
     "output_type": "stream",
     "text": [
      "Epsilon : 2.7533259463584955e-06, average reward : 11.2330, averaged shaped reward : 10.8330 Pickup, Drop, Success, Hit wall rate : [0.96, 0.95, 0.95, 0.15]\n",
      "averaged grid size : 5.00, averaged obstacles : 9.62\n"
     ]
    },
    {
     "name": "stderr",
     "output_type": "stream",
     "text": [
      " 21%|██▏       | 25731/120100 [04:03<11:58, 131.43it/s]"
     ]
    },
    {
     "name": "stdout",
     "output_type": "stream",
     "text": [
      "Epsilon : 2.6190119066472658e-06, average reward : 4.5250, averaged shaped reward : 4.0250 Pickup, Drop, Success, Hit wall rate : [0.95, 0.94, 0.94, 0.22]\n",
      "averaged grid size : 5.00, averaged obstacles : 9.52\n"
     ]
    },
    {
     "name": "stderr",
     "output_type": "stream",
     "text": [
      " 21%|██▏       | 25811/120100 [04:04<18:29, 85.00it/s] "
     ]
    },
    {
     "name": "stdout",
     "output_type": "stream",
     "text": [
      "Epsilon : 2.491250037516279e-06, average reward : 10.1500, averaged shaped reward : 10.1500 Pickup, Drop, Success, Hit wall rate : [0.98, 0.97, 0.97, 0.05]\n",
      "averaged grid size : 5.00, averaged obstacles : 9.59\n"
     ]
    },
    {
     "name": "stderr",
     "output_type": "stream",
     "text": [
      " 22%|██▏       | 25914/120100 [04:05<19:11, 81.81it/s]"
     ]
    },
    {
     "name": "stdout",
     "output_type": "stream",
     "text": [
      "Epsilon : 2.36972070790236e-06, average reward : -9.9230, averaged shaped reward : -10.3230 Pickup, Drop, Success, Hit wall rate : [0.97, 0.95, 0.95, 0.08]\n",
      "averaged grid size : 5.00, averaged obstacles : 11.36\n"
     ]
    },
    {
     "name": "stderr",
     "output_type": "stream",
     "text": [
      " 22%|██▏       | 26008/120100 [04:07<22:20, 70.19it/s] "
     ]
    },
    {
     "name": "stdout",
     "output_type": "stream",
     "text": [
      "Epsilon : 2.254119879134999e-06, average reward : -1.7200, averaged shaped reward : -1.7200 Pickup, Drop, Success, Hit wall rate : [0.99, 0.96, 0.96, 0.28]\n",
      "averaged grid size : 5.00, averaged obstacles : 10.39\n"
     ]
    },
    {
     "name": "stderr",
     "output_type": "stream",
     "text": [
      " 22%|██▏       | 26106/120100 [04:07<11:35, 135.05it/s]"
     ]
    },
    {
     "name": "stdout",
     "output_type": "stream",
     "text": [
      "Epsilon : 2.144158344300942e-06, average reward : 8.6360, averaged shaped reward : 8.3360 Pickup, Drop, Success, Hit wall rate : [0.99, 0.97, 0.97, 0.03]\n",
      "averaged grid size : 5.00, averaged obstacles : 10.32\n"
     ]
    },
    {
     "name": "stderr",
     "output_type": "stream",
     "text": [
      " 22%|██▏       | 26201/120100 [04:09<28:06, 55.68it/s] "
     ]
    },
    {
     "name": "stdout",
     "output_type": "stream",
     "text": [
      "Epsilon : 2.039561004714434e-06, average reward : -48.0770, averaged shaped reward : -49.4770 Pickup, Drop, Success, Hit wall rate : [0.89, 0.86, 0.86, 0.37]\n",
      "averaged grid size : 5.00, averaged obstacles : 9.81\n"
     ]
    },
    {
     "name": "stderr",
     "output_type": "stream",
     "text": [
      " 22%|██▏       | 26305/120100 [04:11<18:47, 83.16it/s]"
     ]
    },
    {
     "name": "stdout",
     "output_type": "stream",
     "text": [
      "Epsilon : 1.9400661816830375e-06, average reward : -31.7490, averaged shaped reward : -33.1490 Pickup, Drop, Success, Hit wall rate : [0.92, 0.9, 0.9, 0.53]\n",
      "averaged grid size : 5.00, averaged obstacles : 9.73\n"
     ]
    },
    {
     "name": "stderr",
     "output_type": "stream",
     "text": [
      " 22%|██▏       | 26402/120100 [04:12<29:58, 52.10it/s]"
     ]
    },
    {
     "name": "stdout",
     "output_type": "stream",
     "text": [
      "Epsilon : 1.845424961847215e-06, average reward : -60.9730, averaged shaped reward : -63.8730 Pickup, Drop, Success, Hit wall rate : [0.92, 0.91, 0.91, 0.79]\n",
      "averaged grid size : 5.00, averaged obstacles : 10.00\n"
     ]
    },
    {
     "name": "stderr",
     "output_type": "stream",
     "text": [
      " 22%|██▏       | 26500/120100 [04:14<30:53, 50.50it/s]"
     ]
    },
    {
     "name": "stdout",
     "output_type": "stream",
     "text": [
      "Epsilon : 1.755400574455861e-06, average reward : -72.6400, averaged shaped reward : -78.2400 Pickup, Drop, Success, Hit wall rate : [0.86, 0.86, 0.86, 1.08]\n",
      "averaged grid size : 5.00, averaged obstacles : 10.10\n"
     ]
    },
    {
     "name": "stderr",
     "output_type": "stream",
     "text": [
      " 22%|██▏       | 26602/120100 [04:16<23:24, 66.58it/s]"
     ]
    },
    {
     "name": "stdout",
     "output_type": "stream",
     "text": [
      "Epsilon : 1.6697677990198789e-06, average reward : -48.2540, averaged shaped reward : -52.0540 Pickup, Drop, Success, Hit wall rate : [0.91, 0.91, 0.91, 0.8]\n",
      "averaged grid size : 5.00, averaged obstacles : 10.85\n"
     ]
    },
    {
     "name": "stderr",
     "output_type": "stream",
     "text": [
      " 22%|██▏       | 26702/120100 [04:18<24:39, 63.11it/s]"
     ]
    },
    {
     "name": "stdout",
     "output_type": "stream",
     "text": [
      "Epsilon : 1.588312401861867e-06, average reward : -61.8800, averaged shaped reward : -66.1800 Pickup, Drop, Success, Hit wall rate : [0.91, 0.9, 0.9, 1.36]\n",
      "averaged grid size : 5.00, averaged obstacles : 10.00\n"
     ]
    },
    {
     "name": "stderr",
     "output_type": "stream",
     "text": [
      " 22%|██▏       | 26803/120100 [04:19<19:28, 79.86it/s]"
     ]
    },
    {
     "name": "stdout",
     "output_type": "stream",
     "text": [
      "Epsilon : 1.510830600152316e-06, average reward : -28.5860, averaged shaped reward : -31.2860 Pickup, Drop, Success, Hit wall rate : [0.95, 0.92, 0.92, 1.0]\n",
      "averaged grid size : 5.00, averaged obstacles : 9.90\n"
     ]
    },
    {
     "name": "stderr",
     "output_type": "stream",
     "text": [
      " 22%|██▏       | 26923/120100 [04:20<14:21, 108.10it/s]"
     ]
    },
    {
     "name": "stdout",
     "output_type": "stream",
     "text": [
      "Epsilon : 1.4371285520914296e-06, average reward : 0.3810, averaged shaped reward : -0.1190 Pickup, Drop, Success, Hit wall rate : [0.98, 0.95, 0.95, 0.3]\n",
      "averaged grid size : 5.00, averaged obstacles : 10.66\n"
     ]
    },
    {
     "name": "stderr",
     "output_type": "stream",
     "text": [
      " 22%|██▏       | 27017/120100 [04:21<10:30, 147.56it/s]"
     ]
    },
    {
     "name": "stdout",
     "output_type": "stream",
     "text": [
      "Epsilon : 1.3670218719611512e-06, average reward : 23.5110, averaged shaped reward : 23.0110 Pickup, Drop, Success, Hit wall rate : [0.99, 0.98, 0.98, 0.18]\n",
      "averaged grid size : 5.00, averaged obstacles : 9.27\n"
     ]
    },
    {
     "name": "stderr",
     "output_type": "stream",
     "text": [
      " 23%|██▎       | 27118/120100 [04:22<11:58, 129.49it/s]"
     ]
    },
    {
     "name": "stdout",
     "output_type": "stream",
     "text": [
      "Epsilon : 1.3003351688341387e-06, average reward : 2.1930, averaged shaped reward : 1.1930 Pickup, Drop, Success, Hit wall rate : [0.97, 0.95, 0.95, 0.46]\n",
      "averaged grid size : 5.00, averaged obstacles : 9.75\n"
     ]
    },
    {
     "name": "stderr",
     "output_type": "stream",
     "text": [
      " 23%|██▎       | 27212/120100 [04:23<15:43, 98.47it/s] "
     ]
    },
    {
     "name": "stdout",
     "output_type": "stream",
     "text": [
      "Epsilon : 1.2369016077856578e-06, average reward : 11.1100, averaged shaped reward : 10.4100 Pickup, Drop, Success, Hit wall rate : [0.98, 0.97, 0.97, 0.13]\n",
      "averaged grid size : 5.00, averaged obstacles : 9.75\n"
     ]
    },
    {
     "name": "stderr",
     "output_type": "stream",
     "text": [
      " 23%|██▎       | 27312/120100 [04:24<16:32, 93.52it/s] "
     ]
    },
    {
     "name": "stdout",
     "output_type": "stream",
     "text": [
      "Epsilon : 1.1765624925106459e-06, average reward : 3.3100, averaged shaped reward : 2.9100 Pickup, Drop, Success, Hit wall rate : [1.0, 0.95, 0.95, 0.28]\n",
      "averaged grid size : 5.00, averaged obstacles : 9.99\n"
     ]
    },
    {
     "name": "stderr",
     "output_type": "stream",
     "text": [
      " 23%|██▎       | 27410/120100 [04:25<14:25, 107.12it/s]"
     ]
    },
    {
     "name": "stdout",
     "output_type": "stream",
     "text": [
      "Epsilon : 1.1191668683017418e-06, average reward : -5.7670, averaged shaped reward : -5.8670 Pickup, Drop, Success, Hit wall rate : [0.98, 0.93, 0.93, 0.07]\n",
      "averaged grid size : 5.00, averaged obstacles : 9.51\n"
     ]
    },
    {
     "name": "stderr",
     "output_type": "stream",
     "text": [
      " 23%|██▎       | 27519/120100 [04:26<16:49, 91.73it/s] "
     ]
    },
    {
     "name": "stdout",
     "output_type": "stream",
     "text": [
      "Epsilon : 1.0645711443950308e-06, average reward : -18.9690, averaged shaped reward : -18.9690 Pickup, Drop, Success, Hit wall rate : [0.98, 0.91, 0.91, 0.04]\n",
      "averaged grid size : 5.00, averaged obstacles : 10.36\n"
     ]
    },
    {
     "name": "stderr",
     "output_type": "stream",
     "text": [
      " 23%|██▎       | 27601/120100 [04:27<15:29, 99.49it/s] "
     ]
    },
    {
     "name": "stdout",
     "output_type": "stream",
     "text": [
      "Epsilon : 1.0126387347386955e-06, average reward : 24.3790, averaged shaped reward : 24.3790 Pickup, Drop, Success, Hit wall rate : [1.0, 0.99, 0.99, 0.09]\n",
      "averaged grid size : 5.00, averaged obstacles : 10.46\n"
     ]
    },
    {
     "name": "stderr",
     "output_type": "stream",
     "text": [
      " 23%|██▎       | 27716/120100 [04:28<13:54, 110.71it/s]"
     ]
    },
    {
     "name": "stdout",
     "output_type": "stream",
     "text": [
      "Epsilon : 9.632397162858645e-07, average reward : 7.0870, averaged shaped reward : 7.0870 Pickup, Drop, Success, Hit wall rate : [0.95, 0.93, 0.93, 0.02]\n",
      "averaged grid size : 5.00, averaged obstacles : 9.23\n"
     ]
    },
    {
     "name": "stderr",
     "output_type": "stream",
     "text": [
      " 23%|██▎       | 27812/120100 [04:29<11:47, 130.51it/s]"
     ]
    },
    {
     "name": "stdout",
     "output_type": "stream",
     "text": [
      "Epsilon : 9.162505039567665e-07, average reward : 20.0580, averaged shaped reward : 20.0580 Pickup, Drop, Success, Hit wall rate : [1.0, 0.98, 0.98, 0.01]\n",
      "averaged grid size : 5.00, averaged obstacles : 10.48\n"
     ]
    },
    {
     "name": "stderr",
     "output_type": "stream",
     "text": [
      " 23%|██▎       | 27921/120100 [04:30<13:14, 116.06it/s]"
     ]
    },
    {
     "name": "stdout",
     "output_type": "stream",
     "text": [
      "Epsilon : 8.715535414570497e-07, average reward : 14.2610, averaged shaped reward : 14.2610 Pickup, Drop, Success, Hit wall rate : [0.97, 0.96, 0.96, 0.01]\n",
      "averaged grid size : 5.00, averaged obstacles : 10.52\n"
     ]
    },
    {
     "name": "stderr",
     "output_type": "stream",
     "text": [
      " 23%|██▎       | 27999/120100 [04:31<11:09, 137.49it/s]"
     ]
    },
    {
     "name": "stdout",
     "output_type": "stream",
     "text": [
      "Epsilon : 8.290370071787349e-07, average reward : 31.9690, averaged shaped reward : 31.6690 Pickup, Drop, Success, Hit wall rate : [0.99, 0.99, 0.99, 0.02]\n",
      "averaged grid size : 5.00, averaged obstacles : 11.47\n"
     ]
    },
    {
     "name": "stderr",
     "output_type": "stream",
     "text": [
      " 23%|██▎       | 28120/120100 [04:32<12:31, 122.47it/s]"
     ]
    },
    {
     "name": "stdout",
     "output_type": "stream",
     "text": [
      "Epsilon : 7.885945344480526e-07, average reward : 14.6740, averaged shaped reward : 14.5740 Pickup, Drop, Success, Hit wall rate : [0.99, 0.96, 0.96, 0.07]\n",
      "averaged grid size : 5.00, averaged obstacles : 10.19\n"
     ]
    },
    {
     "name": "stderr",
     "output_type": "stream",
     "text": [
      " 23%|██▎       | 28213/120100 [04:33<18:59, 80.61it/s] "
     ]
    },
    {
     "name": "stdout",
     "output_type": "stream",
     "text": [
      "Epsilon : 7.501249454202801e-07, average reward : -16.4270, averaged shaped reward : -16.6270 Pickup, Drop, Success, Hit wall rate : [0.96, 0.91, 0.91, 0.33]\n",
      "averaged grid size : 5.00, averaged obstacles : 10.69\n"
     ]
    },
    {
     "name": "stderr",
     "output_type": "stream",
     "text": [
      " 24%|██▎       | 28302/120100 [04:34<14:06, 108.45it/s]"
     ]
    },
    {
     "name": "stdout",
     "output_type": "stream",
     "text": [
      "Epsilon : 7.135319979558445e-07, average reward : 16.4120, averaged shaped reward : 16.4120 Pickup, Drop, Success, Hit wall rate : [0.99, 0.96, 0.96, 0.02]\n",
      "averaged grid size : 5.00, averaged obstacles : 9.72\n"
     ]
    },
    {
     "name": "stderr",
     "output_type": "stream",
     "text": [
      " 24%|██▎       | 28409/120100 [04:35<13:34, 112.61it/s]"
     ]
    },
    {
     "name": "stdout",
     "output_type": "stream",
     "text": [
      "Epsilon : 6.787241448444368e-07, average reward : 3.1160, averaged shaped reward : 3.1160 Pickup, Drop, Success, Hit wall rate : [1.0, 0.96, 0.96, 0.02]\n",
      "averaged grid size : 5.00, averaged obstacles : 9.86\n"
     ]
    },
    {
     "name": "stderr",
     "output_type": "stream",
     "text": [
      " 24%|██▎       | 28513/120100 [04:36<16:17, 93.67it/s] "
     ]
    },
    {
     "name": "stdout",
     "output_type": "stream",
     "text": [
      "Epsilon : 6.456143047747651e-07, average reward : 7.4110, averaged shaped reward : 7.4110 Pickup, Drop, Success, Hit wall rate : [0.98, 0.95, 0.95, 0.01]\n",
      "averaged grid size : 5.00, averaged obstacles : 10.89\n"
     ]
    },
    {
     "name": "stderr",
     "output_type": "stream",
     "text": [
      " 24%|██▍       | 28611/120100 [04:36<10:47, 141.36it/s]"
     ]
    },
    {
     "name": "stdout",
     "output_type": "stream",
     "text": [
      "Epsilon : 6.141196444769738e-07, average reward : 30.2850, averaged shaped reward : 30.1850 Pickup, Drop, Success, Hit wall rate : [0.99, 0.99, 0.99, 0.23]\n",
      "averaged grid size : 5.00, averaged obstacles : 10.24\n"
     ]
    },
    {
     "name": "stderr",
     "output_type": "stream",
     "text": [
      " 24%|██▍       | 28732/120100 [04:38<13:20, 114.11it/s]"
     ]
    },
    {
     "name": "stdout",
     "output_type": "stream",
     "text": [
      "Epsilon : 5.841613714926868e-07, average reward : -8.5460, averaged shaped reward : -8.9460 Pickup, Drop, Success, Hit wall rate : [0.97, 0.93, 0.93, 0.01]\n",
      "averaged grid size : 5.00, averaged obstacles : 10.17\n"
     ]
    },
    {
     "name": "stderr",
     "output_type": "stream",
     "text": [
      " 24%|██▍       | 28809/120100 [04:39<22:03, 68.97it/s] "
     ]
    },
    {
     "name": "stdout",
     "output_type": "stream",
     "text": [
      "Epsilon : 5.556645370542485e-07, average reward : -7.8430, averaged shaped reward : -7.8430 Pickup, Drop, Success, Hit wall rate : [0.97, 0.93, 0.93, 0.03]\n",
      "averaged grid size : 5.00, averaged obstacles : 10.90\n"
     ]
    },
    {
     "name": "stderr",
     "output_type": "stream",
     "text": [
      " 24%|██▍       | 28908/120100 [04:40<11:06, 136.78it/s]"
     ]
    },
    {
     "name": "stdout",
     "output_type": "stream",
     "text": [
      "Epsilon : 5.285578485799925e-07, average reward : 18.8410, averaged shaped reward : 18.8410 Pickup, Drop, Success, Hit wall rate : [0.99, 0.96, 0.96, 0.05]\n",
      "averaged grid size : 5.00, averaged obstacles : 11.08\n"
     ]
    },
    {
     "name": "stderr",
     "output_type": "stream",
     "text": [
      " 24%|██▍       | 29028/120100 [04:41<11:57, 126.94it/s]"
     ]
    },
    {
     "name": "stdout",
     "output_type": "stream",
     "text": [
      "Epsilon : 5.027734913164627e-07, average reward : -1.8750, averaged shaped reward : -1.9750 Pickup, Drop, Success, Hit wall rate : [0.99, 0.93, 0.93, 0.02]\n",
      "averaged grid size : 5.00, averaged obstacles : 9.67\n"
     ]
    },
    {
     "name": "stderr",
     "output_type": "stream",
     "text": [
      " 24%|██▍       | 29126/120100 [04:42<10:57, 138.26it/s]"
     ]
    },
    {
     "name": "stdout",
     "output_type": "stream",
     "text": [
      "Epsilon : 4.782469586813615e-07, average reward : 5.6100, averaged shaped reward : 5.6100 Pickup, Drop, Success, Hit wall rate : [0.95, 0.94, 0.94, 0.02]\n",
      "averaged grid size : 5.00, averaged obstacles : 8.83\n"
     ]
    },
    {
     "name": "stderr",
     "output_type": "stream",
     "text": [
      " 24%|██▍       | 29217/120100 [04:43<14:55, 101.46it/s]"
     ]
    },
    {
     "name": "stdout",
     "output_type": "stream",
     "text": [
      "Epsilon : 4.5491689088279234e-07, average reward : 2.4070, averaged shaped reward : 2.4070 Pickup, Drop, Success, Hit wall rate : [1.0, 0.94, 0.94, 0.04]\n",
      "averaged grid size : 5.00, averaged obstacles : 10.21\n"
     ]
    },
    {
     "name": "stderr",
     "output_type": "stream",
     "text": [
      " 24%|██▍       | 29314/120100 [04:44<15:11, 99.65it/s] "
     ]
    },
    {
     "name": "stdout",
     "output_type": "stream",
     "text": [
      "Epsilon : 4.3272492141105083e-07, average reward : 10.8430, averaged shaped reward : 10.8430 Pickup, Drop, Success, Hit wall rate : [1.0, 0.96, 0.96, 0.01]\n",
      "averaged grid size : 5.00, averaged obstacles : 9.84\n"
     ]
    },
    {
     "name": "stderr",
     "output_type": "stream",
     "text": [
      " 24%|██▍       | 29403/120100 [04:45<18:04, 83.62it/s]"
     ]
    },
    {
     "name": "stdout",
     "output_type": "stream",
     "text": [
      "Epsilon : 4.1161553101892803e-07, average reward : -10.6780, averaged shaped reward : -10.6780 Pickup, Drop, Success, Hit wall rate : [0.98, 0.94, 0.94, 0.0]\n",
      "averaged grid size : 5.00, averaged obstacles : 9.68\n"
     ]
    },
    {
     "name": "stderr",
     "output_type": "stream",
     "text": [
      " 25%|██▍       | 29523/120100 [04:46<14:22, 105.03it/s]"
     ]
    },
    {
     "name": "stdout",
     "output_type": "stream",
     "text": [
      "Epsilon : 3.915359088252117e-07, average reward : -14.0870, averaged shaped reward : -14.0870 Pickup, Drop, Success, Hit wall rate : [0.95, 0.92, 0.92, 0.01]\n",
      "averaged grid size : 5.00, averaged obstacles : 10.92\n"
     ]
    },
    {
     "name": "stderr",
     "output_type": "stream",
     "text": [
      " 25%|██▍       | 29623/120100 [04:47<13:19, 113.20it/s]"
     ]
    },
    {
     "name": "stdout",
     "output_type": "stream",
     "text": [
      "Epsilon : 3.724358201939056e-07, average reward : 5.6300, averaged shaped reward : 5.6300 Pickup, Drop, Success, Hit wall rate : [0.98, 0.97, 0.97, 0.04]\n",
      "averaged grid size : 5.00, averaged obstacles : 9.75\n"
     ]
    },
    {
     "name": "stderr",
     "output_type": "stream",
     "text": [
      " 25%|██▍       | 29710/120100 [04:48<17:14, 87.36it/s] "
     ]
    },
    {
     "name": "stdout",
     "output_type": "stream",
     "text": [
      "Epsilon : 3.5426748105862477e-07, average reward : 1.4830, averaged shaped reward : 1.2830 Pickup, Drop, Success, Hit wall rate : [0.99, 0.95, 0.94, 0.02]\n",
      "averaged grid size : 5.00, averaged obstacles : 10.15\n"
     ]
    },
    {
     "name": "stderr",
     "output_type": "stream",
     "text": [
      " 25%|██▍       | 29823/120100 [04:49<11:34, 129.95it/s]"
     ]
    },
    {
     "name": "stdout",
     "output_type": "stream",
     "text": [
      "Epsilon : 3.3698543837775814e-07, average reward : 11.0800, averaged shaped reward : 10.9800 Pickup, Drop, Success, Hit wall rate : [0.98, 0.94, 0.94, 0.01]\n",
      "averaged grid size : 5.00, averaged obstacles : 9.29\n"
     ]
    },
    {
     "name": "stderr",
     "output_type": "stream",
     "text": [
      " 25%|██▍       | 29934/120100 [04:50<09:25, 159.33it/s]"
     ]
    },
    {
     "name": "stdout",
     "output_type": "stream",
     "text": [
      "Epsilon : 3.205464564213213e-07, average reward : 31.4380, averaged shaped reward : 31.3380 Pickup, Drop, Success, Hit wall rate : [0.99, 0.99, 0.99, 0.01]\n",
      "averaged grid size : 5.00, averaged obstacles : 11.09\n"
     ]
    },
    {
     "name": "stderr",
     "output_type": "stream",
     "text": [
      " 25%|██▍       | 30007/120100 [04:51<11:33, 129.97it/s]"
     ]
    },
    {
     "name": "stdout",
     "output_type": "stream",
     "text": [
      "Epsilon : 3.0490940860502125e-07, average reward : 9.6510, averaged shaped reward : 9.4510 Pickup, Drop, Success, Hit wall rate : [0.97, 0.95, 0.95, 0.17]\n",
      "averaged grid size : 5.00, averaged obstacles : 9.79\n"
     ]
    },
    {
     "name": "stderr",
     "output_type": "stream",
     "text": [
      " 25%|██▌       | 30117/120100 [04:52<14:33, 103.03it/s]"
     ]
    },
    {
     "name": "stdout",
     "output_type": "stream",
     "text": [
      "Epsilon : 2.900351746009188e-07, average reward : 1.7740, averaged shaped reward : 1.6740 Pickup, Drop, Success, Hit wall rate : [0.95, 0.93, 0.93, 0.01]\n",
      "averaged grid size : 5.00, averaged obstacles : 10.88\n"
     ]
    },
    {
     "name": "stderr",
     "output_type": "stream",
     "text": [
      " 25%|██▌       | 30209/120100 [04:53<19:46, 75.76it/s] "
     ]
    },
    {
     "name": "stdout",
     "output_type": "stream",
     "text": [
      "Epsilon : 2.758865424672902e-07, average reward : -18.4890, averaged shaped reward : -18.7890 Pickup, Drop, Success, Hit wall rate : [1.0, 0.95, 0.92, 0.03]\n",
      "averaged grid size : 5.00, averaged obstacles : 9.37\n"
     ]
    },
    {
     "name": "stderr",
     "output_type": "stream",
     "text": [
      " 25%|██▌       | 30318/120100 [04:54<14:27, 103.54it/s]"
     ]
    },
    {
     "name": "stdout",
     "output_type": "stream",
     "text": [
      "Epsilon : 2.6242811555283293e-07, average reward : -0.5520, averaged shaped reward : -0.5520 Pickup, Drop, Success, Hit wall rate : [0.96, 0.92, 0.92, 0.03]\n",
      "averaged grid size : 5.00, averaged obstacles : 9.35\n"
     ]
    },
    {
     "name": "stderr",
     "output_type": "stream",
     "text": [
      " 25%|██▌       | 30405/120100 [04:55<10:17, 145.36it/s]"
     ]
    },
    {
     "name": "stdout",
     "output_type": "stream",
     "text": [
      "Epsilon : 2.4962622394231563e-07, average reward : 39.0570, averaged shaped reward : 39.0570 Pickup, Drop, Success, Hit wall rate : [0.99, 0.99, 0.99, 0.01]\n",
      "averaged grid size : 5.00, averaged obstacles : 10.18\n"
     ]
    },
    {
     "name": "stderr",
     "output_type": "stream",
     "text": [
      " 25%|██▌       | 30510/120100 [04:56<12:30, 119.43it/s]"
     ]
    },
    {
     "name": "stdout",
     "output_type": "stream",
     "text": [
      "Epsilon : 2.3744884022212918e-07, average reward : 22.4520, averaged shaped reward : 22.4520 Pickup, Drop, Success, Hit wall rate : [0.98, 0.98, 0.98, 0.02]\n",
      "averaged grid size : 5.00, averaged obstacles : 10.43\n"
     ]
    },
    {
     "name": "stderr",
     "output_type": "stream",
     "text": [
      " 25%|██▌       | 30607/120100 [04:57<17:02, 87.54it/s] "
     ]
    },
    {
     "name": "stdout",
     "output_type": "stream",
     "text": [
      "Epsilon : 2.2586549935500027e-07, average reward : -6.7190, averaged shaped reward : -6.7190 Pickup, Drop, Success, Hit wall rate : [0.97, 0.94, 0.94, 0.28]\n",
      "averaged grid size : 5.00, averaged obstacles : 10.06\n"
     ]
    },
    {
     "name": "stderr",
     "output_type": "stream",
     "text": [
      " 26%|██▌       | 30706/120100 [04:58<21:32, 69.14it/s]"
     ]
    },
    {
     "name": "stdout",
     "output_type": "stream",
     "text": [
      "Epsilon : 2.14847222463415e-07, average reward : -23.3150, averaged shaped reward : -24.9150 Pickup, Drop, Success, Hit wall rate : [1.06, 1.03, 0.92, 0.09]\n",
      "averaged grid size : 5.00, averaged obstacles : 9.26\n"
     ]
    },
    {
     "name": "stderr",
     "output_type": "stream",
     "text": [
      " 26%|██▌       | 30802/120100 [04:59<12:55, 115.08it/s]"
     ]
    },
    {
     "name": "stdout",
     "output_type": "stream",
     "text": [
      "Epsilon : 2.0436644433107502e-07, average reward : 14.0380, averaged shaped reward : 14.0380 Pickup, Drop, Success, Hit wall rate : [1.0, 0.95, 0.95, 0.0]\n",
      "averaged grid size : 5.00, averaged obstacles : 10.03\n"
     ]
    },
    {
     "name": "stderr",
     "output_type": "stream",
     "text": [
      " 26%|██▌       | 30904/120100 [05:00<09:49, 151.18it/s]"
     ]
    },
    {
     "name": "stdout",
     "output_type": "stream",
     "text": [
      "Epsilon : 1.943969444410127e-07, average reward : 24.1890, averaged shaped reward : 24.0890 Pickup, Drop, Success, Hit wall rate : [0.98, 0.97, 0.97, 0.01]\n",
      "averaged grid size : 5.00, averaged obstacles : 9.32\n"
     ]
    },
    {
     "name": "stderr",
     "output_type": "stream",
     "text": [
      " 26%|██▌       | 31017/120100 [05:01<15:05, 98.39it/s] "
     ]
    },
    {
     "name": "stdout",
     "output_type": "stream",
     "text": [
      "Epsilon : 1.8491378137783624e-07, average reward : 1.0700, averaged shaped reward : 0.9700 Pickup, Drop, Success, Hit wall rate : [0.97, 0.95, 0.95, 0.02]\n",
      "averaged grid size : 5.00, averaged obstacles : 9.57\n"
     ]
    },
    {
     "name": "stderr",
     "output_type": "stream",
     "text": [
      " 26%|██▌       | 31128/120100 [05:02<09:52, 150.24it/s]"
     ]
    },
    {
     "name": "stdout",
     "output_type": "stream",
     "text": [
      "Epsilon : 1.7589323042999624e-07, average reward : 19.3880, averaged shaped reward : 19.3880 Pickup, Drop, Success, Hit wall rate : [0.98, 0.96, 0.96, 0.01]\n",
      "averaged grid size : 5.00, averaged obstacles : 9.14\n"
     ]
    },
    {
     "name": "stderr",
     "output_type": "stream",
     "text": [
      " 26%|██▌       | 31214/120100 [05:02<11:42, 126.50it/s]"
     ]
    },
    {
     "name": "stdout",
     "output_type": "stream",
     "text": [
      "Epsilon : 1.6731272423596677e-07, average reward : 28.8760, averaged shaped reward : 28.8760 Pickup, Drop, Success, Hit wall rate : [1.0, 0.98, 0.98, 0.03]\n",
      "averaged grid size : 5.00, averaged obstacles : 10.32\n"
     ]
    },
    {
     "name": "stderr",
     "output_type": "stream",
     "text": [
      " 26%|██▌       | 31320/120100 [05:03<10:40, 138.51it/s]"
     ]
    },
    {
     "name": "stdout",
     "output_type": "stream",
     "text": [
      "Epsilon : 1.5915079632585304e-07, average reward : 6.7830, averaged shaped reward : 6.7830 Pickup, Drop, Success, Hit wall rate : [0.96, 0.94, 0.94, 0.01]\n",
      "averaged grid size : 5.00, averaged obstacles : 10.18\n"
     ]
    },
    {
     "name": "stderr",
     "output_type": "stream",
     "text": [
      " 26%|██▌       | 31408/120100 [05:04<14:44, 100.26it/s]"
     ]
    },
    {
     "name": "stdout",
     "output_type": "stream",
     "text": [
      "Epsilon : 1.5138702741717863e-07, average reward : 10.1980, averaged shaped reward : 9.8980 Pickup, Drop, Success, Hit wall rate : [0.98, 0.95, 0.95, 0.05]\n",
      "averaged grid size : 5.00, averaged obstacles : 9.68\n"
     ]
    },
    {
     "name": "stderr",
     "output_type": "stream",
     "text": [
      " 26%|██▋       | 31533/120100 [05:05<11:18, 130.45it/s]"
     ]
    },
    {
     "name": "stdout",
     "output_type": "stream",
     "text": [
      "Epsilon : 1.4400199433049722e-07, average reward : 5.4550, averaged shaped reward : 5.3550 Pickup, Drop, Success, Hit wall rate : [0.97, 0.94, 0.94, 0.0]\n",
      "averaged grid size : 5.00, averaged obstacles : 10.25\n"
     ]
    },
    {
     "name": "stderr",
     "output_type": "stream",
     "text": [
      " 26%|██▋       | 31602/120100 [05:06<14:59, 98.35it/s] "
     ]
    },
    {
     "name": "stdout",
     "output_type": "stream",
     "text": [
      "Epsilon : 1.3697722139702624e-07, average reward : 21.8810, averaged shaped reward : 21.8810 Pickup, Drop, Success, Hit wall rate : [0.97, 0.97, 0.97, 0.01]\n",
      "averaged grid size : 5.00, averaged obstacles : 9.85\n"
     ]
    },
    {
     "name": "stderr",
     "output_type": "stream",
     "text": [
      " 26%|██▋       | 31731/120100 [05:07<09:04, 162.30it/s]"
     ]
    },
    {
     "name": "stdout",
     "output_type": "stream",
     "text": [
      "Epsilon : 1.3029513423673666e-07, average reward : 25.0100, averaged shaped reward : 25.0100 Pickup, Drop, Success, Hit wall rate : [0.99, 0.97, 0.97, 0.0]\n",
      "averaged grid size : 5.00, averaged obstacles : 10.21\n"
     ]
    },
    {
     "name": "stderr",
     "output_type": "stream",
     "text": [
      " 26%|██▋       | 31822/120100 [05:08<11:41, 125.92it/s]"
     ]
    },
    {
     "name": "stdout",
     "output_type": "stream",
     "text": [
      "Epsilon : 1.2393901579126203e-07, average reward : 24.5670, averaged shaped reward : 24.5670 Pickup, Drop, Success, Hit wall rate : [0.98, 0.96, 0.96, 0.02]\n",
      "averaged grid size : 5.00, averaged obstacles : 9.51\n"
     ]
    },
    {
     "name": "stderr",
     "output_type": "stream",
     "text": [
      " 27%|██▋       | 31907/120100 [05:08<10:12, 144.01it/s]"
     ]
    },
    {
     "name": "stdout",
     "output_type": "stream",
     "text": [
      "Epsilon : 1.1789296450162998e-07, average reward : 24.8730, averaged shaped reward : 24.8730 Pickup, Drop, Success, Hit wall rate : [0.98, 0.97, 0.97, 0.01]\n",
      "averaged grid size : 5.00, averaged obstacles : 9.96\n"
     ]
    },
    {
     "name": "stderr",
     "output_type": "stream",
     "text": [
      " 27%|██▋       | 32014/120100 [05:09<13:06, 111.95it/s]"
     ]
    },
    {
     "name": "stdout",
     "output_type": "stream",
     "text": [
      "Epsilon : 1.1214185452618764e-07, average reward : 7.3420, averaged shaped reward : 7.3420 Pickup, Drop, Success, Hit wall rate : [0.97, 0.96, 0.96, 0.01]\n",
      "averaged grid size : 5.00, averaged obstacles : 8.84\n"
     ]
    },
    {
     "name": "stderr",
     "output_type": "stream",
     "text": [
      " 27%|██▋       | 32141/120100 [05:10<09:45, 150.22it/s]"
     ]
    },
    {
     "name": "stdout",
     "output_type": "stream",
     "text": [
      "Epsilon : 1.0667129789919539e-07, average reward : 12.4960, averaged shaped reward : 12.4960 Pickup, Drop, Success, Hit wall rate : [1.0, 0.98, 0.98, 0.01]\n",
      "averaged grid size : 5.00, averaged obstacles : 10.40\n"
     ]
    },
    {
     "name": "stderr",
     "output_type": "stream",
     "text": [
      " 27%|██▋       | 32245/120100 [05:11<09:58, 146.73it/s]"
     ]
    },
    {
     "name": "stdout",
     "output_type": "stream",
     "text": [
      "Epsilon : 1.0146760853541691e-07, average reward : 16.0980, averaged shaped reward : 16.0980 Pickup, Drop, Success, Hit wall rate : [0.99, 0.98, 0.98, 0.01]\n",
      "averaged grid size : 5.00, averaged obstacles : 10.07\n"
     ]
    },
    {
     "name": "stderr",
     "output_type": "stream",
     "text": [
      " 27%|██▋       | 32319/120100 [05:12<17:33, 83.36it/s] "
     ]
    },
    {
     "name": "stdout",
     "output_type": "stream",
     "text": [
      "Epsilon : 9.651776799065521e-08, average reward : 3.1850, averaged shaped reward : 3.1850 Pickup, Drop, Success, Hit wall rate : [0.96, 0.93, 0.93, 0.0]\n",
      "averaged grid size : 5.00, averaged obstacles : 9.79\n"
     ]
    },
    {
     "name": "stderr",
     "output_type": "stream",
     "text": [
      " 27%|██▋       | 32404/120100 [05:13<20:16, 72.11it/s] "
     ]
    },
    {
     "name": "stdout",
     "output_type": "stream",
     "text": [
      "Epsilon : 9.18093928925737e-08, average reward : 5.1560, averaged shaped reward : 5.1560 Pickup, Drop, Success, Hit wall rate : [0.95, 0.94, 0.94, 0.02]\n",
      "averaged grid size : 5.00, averaged obstacles : 10.11\n"
     ]
    },
    {
     "name": "stderr",
     "output_type": "stream",
     "text": [
      " 27%|██▋       | 32525/120100 [05:14<12:06, 120.58it/s]"
     ]
    },
    {
     "name": "stdout",
     "output_type": "stream",
     "text": [
      "Epsilon : 8.733070396032208e-08, average reward : 9.6450, averaged shaped reward : 9.6450 Pickup, Drop, Success, Hit wall rate : [0.98, 0.95, 0.95, 0.03]\n",
      "averaged grid size : 5.00, averaged obstacles : 9.99\n"
     ]
    },
    {
     "name": "stderr",
     "output_type": "stream",
     "text": [
      " 27%|██▋       | 32608/120100 [05:15<17:26, 83.57it/s] "
     ]
    },
    {
     "name": "stdout",
     "output_type": "stream",
     "text": [
      "Epsilon : 8.30704965354621e-08, average reward : -2.4580, averaged shaped reward : -2.4580 Pickup, Drop, Success, Hit wall rate : [0.98, 0.93, 0.93, 0.04]\n",
      "averaged grid size : 5.00, averaged obstacles : 9.48\n"
     ]
    },
    {
     "name": "stderr",
     "output_type": "stream",
     "text": [
      " 27%|██▋       | 32715/120100 [05:16<10:54, 133.43it/s]"
     ]
    },
    {
     "name": "stdout",
     "output_type": "stream",
     "text": [
      "Epsilon : 7.901811255046664e-08, average reward : 24.2580, averaged shaped reward : 24.2580 Pickup, Drop, Success, Hit wall rate : [0.98, 0.97, 0.97, 0.02]\n",
      "averaged grid size : 5.00, averaged obstacles : 10.18\n"
     ]
    },
    {
     "name": "stderr",
     "output_type": "stream",
     "text": [
      " 27%|██▋       | 32810/120100 [05:17<17:15, 84.30it/s] "
     ]
    },
    {
     "name": "stdout",
     "output_type": "stream",
     "text": [
      "Epsilon : 7.516341386466571e-08, average reward : -6.5730, averaged shaped reward : -6.5730 Pickup, Drop, Success, Hit wall rate : [0.95, 0.92, 0.92, 0.0]\n",
      "averaged grid size : 5.00, averaged obstacles : 10.27\n"
     ]
    },
    {
     "name": "stderr",
     "output_type": "stream",
     "text": [
      " 27%|██▋       | 32907/120100 [05:18<21:03, 69.03it/s]"
     ]
    },
    {
     "name": "stdout",
     "output_type": "stream",
     "text": [
      "Epsilon : 7.149675690092968e-08, average reward : -16.6400, averaged shaped reward : -16.8400 Pickup, Drop, Success, Hit wall rate : [0.93, 0.9, 0.9, 0.11]\n",
      "averaged grid size : 5.00, averaged obstacles : 9.92\n"
     ]
    },
    {
     "name": "stderr",
     "output_type": "stream",
     "text": [
      " 27%|██▋       | 33010/120100 [05:19<14:04, 103.12it/s]"
     ]
    },
    {
     "name": "stdout",
     "output_type": "stream",
     "text": [
      "Epsilon : 6.800896851963895e-08, average reward : -3.6980, averaged shaped reward : -3.7980 Pickup, Drop, Success, Hit wall rate : [0.97, 0.92, 0.92, 0.01]\n",
      "averaged grid size : 5.00, averaged obstacles : 9.22\n"
     ]
    },
    {
     "name": "stderr",
     "output_type": "stream",
     "text": [
      " 28%|██▊       | 33118/120100 [05:20<10:10, 142.47it/s]"
     ]
    },
    {
     "name": "stdout",
     "output_type": "stream",
     "text": [
      "Epsilon : 6.469132306957959e-08, average reward : 17.3180, averaged shaped reward : 17.2180 Pickup, Drop, Success, Hit wall rate : [0.98, 0.96, 0.96, 0.03]\n",
      "averaged grid size : 5.00, averaged obstacles : 10.42\n"
     ]
    },
    {
     "name": "stderr",
     "output_type": "stream",
     "text": [
      " 28%|██▊       | 33208/120100 [05:22<20:30, 70.59it/s] "
     ]
    },
    {
     "name": "stdout",
     "output_type": "stream",
     "text": [
      "Epsilon : 6.15355205583544e-08, average reward : -7.0330, averaged shaped reward : -7.2330 Pickup, Drop, Success, Hit wall rate : [0.94, 0.91, 0.91, 0.01]\n",
      "averaged grid size : 5.00, averaged obstacles : 9.21\n"
     ]
    },
    {
     "name": "stderr",
     "output_type": "stream",
     "text": [
      " 28%|██▊       | 33307/120100 [05:23<19:24, 74.56it/s]"
     ]
    },
    {
     "name": "stdout",
     "output_type": "stream",
     "text": [
      "Epsilon : 5.853366588769428e-08, average reward : -30.2490, averaged shaped reward : -30.4490 Pickup, Drop, Success, Hit wall rate : [0.94, 0.89, 0.89, 0.01]\n",
      "averaged grid size : 5.00, averaged obstacles : 8.96\n"
     ]
    },
    {
     "name": "stderr",
     "output_type": "stream",
     "text": [
      " 28%|██▊       | 33409/120100 [05:24<16:51, 85.69it/s] "
     ]
    },
    {
     "name": "stdout",
     "output_type": "stream",
     "text": [
      "Epsilon : 5.567824910172252e-08, average reward : -8.5810, averaged shaped reward : -8.5810 Pickup, Drop, Success, Hit wall rate : [0.97, 0.93, 0.93, 0.01]\n",
      "averaged grid size : 5.00, averaged obstacles : 9.13\n"
     ]
    },
    {
     "name": "stderr",
     "output_type": "stream",
     "text": [
      " 28%|██▊       | 33507/120100 [05:25<14:41, 98.23it/s] "
     ]
    },
    {
     "name": "stdout",
     "output_type": "stream",
     "text": [
      "Epsilon : 5.296212659875796e-08, average reward : 11.9590, averaged shaped reward : 11.9590 Pickup, Drop, Success, Hit wall rate : [0.98, 0.97, 0.97, 0.02]\n",
      "averaged grid size : 5.00, averaged obstacles : 10.68\n"
     ]
    },
    {
     "name": "stderr",
     "output_type": "stream",
     "text": [
      " 28%|██▊       | 33645/120100 [05:26<10:24, 138.33it/s]"
     ]
    },
    {
     "name": "stdout",
     "output_type": "stream",
     "text": [
      "Epsilon : 5.037850325965238e-08, average reward : -17.4360, averaged shaped reward : -17.4360 Pickup, Drop, Success, Hit wall rate : [0.97, 0.94, 0.94, 0.0]\n",
      "averaged grid size : 5.00, averaged obstacles : 9.94\n"
     ]
    },
    {
     "name": "stderr",
     "output_type": "stream",
     "text": [
      " 28%|██▊       | 33715/120100 [05:27<17:31, 82.17it/s] "
     ]
    },
    {
     "name": "stdout",
     "output_type": "stream",
     "text": [
      "Epsilon : 4.792091544795194e-08, average reward : 14.1420, averaged shaped reward : 14.1420 Pickup, Drop, Success, Hit wall rate : [0.98, 0.95, 0.95, 0.01]\n",
      "averaged grid size : 5.00, averaged obstacles : 10.03\n"
     ]
    },
    {
     "name": "stderr",
     "output_type": "stream",
     "text": [
      " 28%|██▊       | 33808/120100 [05:29<18:11, 79.06it/s]"
     ]
    },
    {
     "name": "stdout",
     "output_type": "stream",
     "text": [
      "Epsilon : 4.558321483935258e-08, average reward : -14.0340, averaged shaped reward : -14.0340 Pickup, Drop, Success, Hit wall rate : [0.96, 0.93, 0.93, 0.0]\n",
      "averaged grid size : 5.00, averaged obstacles : 9.35\n"
     ]
    },
    {
     "name": "stderr",
     "output_type": "stream",
     "text": [
      " 28%|██▊       | 33911/120100 [05:29<11:26, 125.58it/s]"
     ]
    },
    {
     "name": "stdout",
     "output_type": "stream",
     "text": [
      "Epsilon : 4.335955303999471e-08, average reward : 30.8370, averaged shaped reward : 30.7370 Pickup, Drop, Success, Hit wall rate : [0.98, 0.98, 0.98, 0.07]\n",
      "averaged grid size : 5.00, averaged obstacles : 10.37\n"
     ]
    },
    {
     "name": "stderr",
     "output_type": "stream",
     "text": [
      " 28%|██▊       | 34018/120100 [05:30<13:48, 103.89it/s]"
     ]
    },
    {
     "name": "stdout",
     "output_type": "stream",
     "text": [
      "Epsilon : 4.124436695511526e-08, average reward : 5.3010, averaged shaped reward : 5.3010 Pickup, Drop, Success, Hit wall rate : [0.96, 0.93, 0.93, 0.02]\n",
      "averaged grid size : 5.00, averaged obstacles : 10.70\n"
     ]
    },
    {
     "name": "stderr",
     "output_type": "stream",
     "text": [
      " 28%|██▊       | 34134/120100 [05:31<09:49, 145.87it/s]"
     ]
    },
    {
     "name": "stdout",
     "output_type": "stream",
     "text": [
      "Epsilon : 3.92323648714533e-08, average reward : 19.1870, averaged shaped reward : 18.9870 Pickup, Drop, Success, Hit wall rate : [0.98, 0.96, 0.96, 0.14]\n",
      "averaged grid size : 5.00, averaged obstacles : 9.61\n"
     ]
    },
    {
     "name": "stderr",
     "output_type": "stream",
     "text": [
      " 28%|██▊       | 34213/120100 [05:32<13:46, 103.86it/s]"
     ]
    },
    {
     "name": "stdout",
     "output_type": "stream",
     "text": [
      "Epsilon : 3.7318513218589913e-08, average reward : 21.5320, averaged shaped reward : 21.5320 Pickup, Drop, Success, Hit wall rate : [1.0, 0.98, 0.98, 0.01]\n",
      "averaged grid size : 5.00, averaged obstacles : 9.53\n"
     ]
    },
    {
     "name": "stderr",
     "output_type": "stream",
     "text": [
      " 29%|██▊       | 34313/120100 [05:33<20:43, 68.99it/s] "
     ]
    },
    {
     "name": "stdout",
     "output_type": "stream",
     "text": [
      "Epsilon : 3.549802397610298e-08, average reward : -19.3970, averaged shaped reward : -19.4970 Pickup, Drop, Success, Hit wall rate : [0.95, 0.9, 0.89, 0.03]\n",
      "averaged grid size : 5.00, averaged obstacles : 10.86\n"
     ]
    },
    {
     "name": "stderr",
     "output_type": "stream",
     "text": [
      " 29%|██▊       | 34415/120100 [05:34<15:05, 94.59it/s] "
     ]
    },
    {
     "name": "stdout",
     "output_type": "stream",
     "text": [
      "Epsilon : 3.376634269503186e-08, average reward : 7.0430, averaged shaped reward : 7.0430 Pickup, Drop, Success, Hit wall rate : [1.0, 0.96, 0.96, 0.0]\n",
      "averaged grid size : 5.00, averaged obstacles : 10.22\n"
     ]
    },
    {
     "name": "stderr",
     "output_type": "stream",
     "text": [
      " 29%|██▊       | 34506/120100 [05:36<22:08, 64.44it/s] "
     ]
    },
    {
     "name": "stdout",
     "output_type": "stream",
     "text": [
      "Epsilon : 3.211913710368446e-08, average reward : -24.9180, averaged shaped reward : -25.0180 Pickup, Drop, Success, Hit wall rate : [0.96, 0.91, 0.91, 0.6]\n",
      "averaged grid size : 5.00, averaged obstacles : 10.35\n"
     ]
    },
    {
     "name": "stderr",
     "output_type": "stream",
     "text": [
      " 29%|██▉       | 34616/120100 [05:37<19:34, 72.79it/s]"
     ]
    },
    {
     "name": "stdout",
     "output_type": "stream",
     "text": [
      "Epsilon : 3.055228626928164e-08, average reward : -19.9600, averaged shaped reward : -20.0600 Pickup, Drop, Success, Hit wall rate : [0.98, 0.93, 0.92, 0.08]\n",
      "averaged grid size : 5.00, averaged obstacles : 10.76\n"
     ]
    },
    {
     "name": "stderr",
     "output_type": "stream",
     "text": [
      " 29%|██▉       | 34720/120100 [05:38<11:12, 126.89it/s]"
     ]
    },
    {
     "name": "stdout",
     "output_type": "stream",
     "text": [
      "Epsilon : 2.9061870288322862e-08, average reward : 14.1080, averaged shaped reward : 14.0080 Pickup, Drop, Success, Hit wall rate : [0.98, 0.97, 0.97, 0.01]\n",
      "averaged grid size : 5.00, averaged obstacles : 10.55\n"
     ]
    },
    {
     "name": "stderr",
     "output_type": "stream",
     "text": [
      " 29%|██▉       | 34824/120100 [05:39<08:41, 163.54it/s]"
     ]
    },
    {
     "name": "stdout",
     "output_type": "stream",
     "text": [
      "Epsilon : 2.7644160479881547e-08, average reward : 30.5910, averaged shaped reward : 30.5910 Pickup, Drop, Success, Hit wall rate : [1.0, 1.0, 1.0, 0.04]\n",
      "averaged grid size : 5.00, averaged obstacles : 10.20\n"
     ]
    },
    {
     "name": "stderr",
     "output_type": "stream",
     "text": [
      " 29%|██▉       | 34923/120100 [05:40<13:45, 103.24it/s]"
     ]
    },
    {
     "name": "stdout",
     "output_type": "stream",
     "text": [
      "Epsilon : 2.6295610057295662e-08, average reward : 11.0080, averaged shaped reward : 11.0080 Pickup, Drop, Success, Hit wall rate : [0.98, 0.95, 0.95, 0.02]\n",
      "averaged grid size : 5.00, averaged obstacles : 10.76\n"
     ]
    },
    {
     "name": "stderr",
     "output_type": "stream",
     "text": [
      " 29%|██▉       | 35009/120100 [05:41<20:44, 68.37it/s] "
     ]
    },
    {
     "name": "stdout",
     "output_type": "stream",
     "text": [
      "Epsilon : 2.501284525491626e-08, average reward : -17.0740, averaged shaped reward : -17.0740 Pickup, Drop, Success, Hit wall rate : [0.99, 0.92, 0.92, 0.0]\n",
      "averaged grid size : 5.00, averaged obstacles : 9.67\n"
     ]
    },
    {
     "name": "stderr",
     "output_type": "stream",
     "text": [
      " 29%|██▉       | 35112/120100 [05:42<12:57, 109.25it/s]"
     ]
    },
    {
     "name": "stdout",
     "output_type": "stream",
     "text": [
      "Epsilon : 2.3792656887715122e-08, average reward : 10.9080, averaged shaped reward : 10.8080 Pickup, Drop, Success, Hit wall rate : [0.99, 0.96, 0.96, 0.04]\n",
      "averaged grid size : 5.00, averaged obstacles : 10.26\n"
     ]
    },
    {
     "name": "stderr",
     "output_type": "stream",
     "text": [
      " 29%|██▉       | 35228/120100 [05:43<08:38, 163.66it/s]"
     ]
    },
    {
     "name": "stdout",
     "output_type": "stream",
     "text": [
      "Epsilon : 2.2631992322635635e-08, average reward : 12.5470, averaged shaped reward : 12.5470 Pickup, Drop, Success, Hit wall rate : [0.98, 0.94, 0.94, 0.02]\n",
      "averaged grid size : 5.00, averaged obstacles : 9.58\n"
     ]
    },
    {
     "name": "stderr",
     "output_type": "stream",
     "text": [
      " 29%|██▉       | 35344/120100 [05:44<09:22, 150.71it/s]"
     ]
    },
    {
     "name": "stdout",
     "output_type": "stream",
     "text": [
      "Epsilon : 2.1527947841600934e-08, average reward : 25.4630, averaged shaped reward : 25.2630 Pickup, Drop, Success, Hit wall rate : [0.99, 0.97, 0.97, 0.02]\n",
      "averaged grid size : 5.00, averaged obstacles : 10.27\n"
     ]
    },
    {
     "name": "stderr",
     "output_type": "stream",
     "text": [
      " 29%|██▉       | 35422/120100 [05:44<10:38, 132.55it/s]"
     ]
    },
    {
     "name": "stdout",
     "output_type": "stream",
     "text": [
      "Epsilon : 2.0477761377073432e-08, average reward : 30.2340, averaged shaped reward : 30.2340 Pickup, Drop, Success, Hit wall rate : [0.98, 0.98, 0.98, 0.02]\n",
      "averaged grid size : 5.00, averaged obstacles : 10.43\n"
     ]
    },
    {
     "name": "stderr",
     "output_type": "stream",
     "text": [
      " 30%|██▉       | 35516/120100 [05:45<14:05, 100.10it/s]"
     ]
    },
    {
     "name": "stdout",
     "output_type": "stream",
     "text": [
      "Epsilon : 1.9478805601991652e-08, average reward : -1.3240, averaged shaped reward : -1.3240 Pickup, Drop, Success, Hit wall rate : [0.95, 0.93, 0.93, 0.02]\n",
      "averaged grid size : 5.00, averaged obstacles : 9.56\n"
     ]
    },
    {
     "name": "stderr",
     "output_type": "stream",
     "text": [
      " 30%|██▉       | 35613/120100 [05:47<13:33, 103.80it/s]"
     ]
    },
    {
     "name": "stdout",
     "output_type": "stream",
     "text": [
      "Epsilon : 1.8528581356797027e-08, average reward : -17.7150, averaged shaped reward : -17.9150 Pickup, Drop, Success, Hit wall rate : [0.97, 0.92, 0.92, 0.06]\n",
      "averaged grid size : 5.00, averaged obstacles : 10.40\n"
     ]
    },
    {
     "name": "stderr",
     "output_type": "stream",
     "text": [
      " 30%|██▉       | 35706/120100 [05:47<12:32, 112.08it/s]"
     ]
    },
    {
     "name": "stdout",
     "output_type": "stream",
     "text": [
      "Epsilon : 1.7624711397106633e-08, average reward : 31.7080, averaged shaped reward : 31.7080 Pickup, Drop, Success, Hit wall rate : [1.0, 0.99, 0.99, 0.0]\n",
      "averaged grid size : 5.00, averaged obstacles : 9.14\n"
     ]
    },
    {
     "name": "stderr",
     "output_type": "stream",
     "text": [
      " 30%|██▉       | 35823/120100 [05:48<11:01, 127.46it/s]"
     ]
    },
    {
     "name": "stdout",
     "output_type": "stream",
     "text": [
      "Epsilon : 1.676493444638969e-08, average reward : -3.9500, averaged shaped reward : -3.9500 Pickup, Drop, Success, Hit wall rate : [0.98, 0.92, 0.92, 0.04]\n",
      "averaged grid size : 5.00, averaged obstacles : 9.80\n"
     ]
    },
    {
     "name": "stderr",
     "output_type": "stream",
     "text": [
      " 30%|██▉       | 35902/120100 [05:49<10:12, 137.38it/s]"
     ]
    },
    {
     "name": "stdout",
     "output_type": "stream",
     "text": [
      "Epsilon : 1.594709953876943e-08, average reward : 26.6020, averaged shaped reward : 26.6020 Pickup, Drop, Success, Hit wall rate : [0.99, 0.99, 0.99, 0.0]\n",
      "averaged grid size : 5.00, averaged obstacles : 9.97\n"
     ]
    },
    {
     "name": "stderr",
     "output_type": "stream",
     "text": [
      " 30%|██▉       | 36023/120100 [05:50<10:42, 130.92it/s]"
     ]
    },
    {
     "name": "stdout",
     "output_type": "stream",
     "text": [
      "Epsilon : 1.5169160637796923e-08, average reward : 12.8660, averaged shaped reward : 12.8660 Pickup, Drop, Success, Hit wall rate : [0.98, 0.95, 0.95, 0.02]\n",
      "averaged grid size : 5.00, averaged obstacles : 10.67\n"
     ]
    },
    {
     "name": "stderr",
     "output_type": "stream",
     "text": [
      " 30%|███       | 36117/120100 [05:51<11:50, 118.12it/s]"
     ]
    },
    {
     "name": "stdout",
     "output_type": "stream",
     "text": [
      "Epsilon : 1.442917151773442e-08, average reward : 14.6910, averaged shaped reward : 14.5910 Pickup, Drop, Success, Hit wall rate : [0.99, 0.97, 0.97, 0.04]\n",
      "averaged grid size : 5.00, averaged obstacles : 9.93\n"
     ]
    },
    {
     "name": "stderr",
     "output_type": "stream",
     "text": [
      " 30%|███       | 36218/120100 [05:52<09:15, 150.96it/s]"
     ]
    },
    {
     "name": "stdout",
     "output_type": "stream",
     "text": [
      "Epsilon : 1.3725280894542374e-08, average reward : 20.6920, averaged shaped reward : 20.6920 Pickup, Drop, Success, Hit wall rate : [0.98, 0.96, 0.96, 0.06]\n",
      "averaged grid size : 5.00, averaged obstacles : 10.04\n"
     ]
    },
    {
     "name": "stderr",
     "output_type": "stream",
     "text": [
      " 30%|███       | 36306/120100 [05:53<15:22, 90.84it/s] "
     ]
    },
    {
     "name": "stdout",
     "output_type": "stream",
     "text": [
      "Epsilon : 1.3055727794388895e-08, average reward : 9.6130, averaged shaped reward : 9.6130 Pickup, Drop, Success, Hit wall rate : [0.98, 0.95, 0.95, 0.06]\n",
      "averaged grid size : 5.00, averaged obstacles : 11.26\n"
     ]
    },
    {
     "name": "stderr",
     "output_type": "stream",
     "text": [
      " 30%|███       | 36411/120100 [05:54<22:09, 62.96it/s]"
     ]
    },
    {
     "name": "stdout",
     "output_type": "stream",
     "text": [
      "Epsilon : 1.2418837148094805e-08, average reward : -11.7020, averaged shaped reward : -11.7020 Pickup, Drop, Success, Hit wall rate : [0.98, 0.92, 0.92, 0.0]\n",
      "averaged grid size : 5.00, averaged obstacles : 10.72\n"
     ]
    },
    {
     "name": "stderr",
     "output_type": "stream",
     "text": [
      " 30%|███       | 36500/120100 [05:55<14:48, 94.09it/s] "
     ]
    },
    {
     "name": "stdout",
     "output_type": "stream",
     "text": [
      "Epsilon : 1.18130156004925e-08, average reward : -0.1660, averaged shaped reward : -0.1660 Pickup, Drop, Success, Hit wall rate : [0.98, 0.94, 0.94, 0.01]\n",
      "averaged grid size : 5.00, averaged obstacles : 10.49\n"
     ]
    },
    {
     "name": "stderr",
     "output_type": "stream",
     "text": [
      " 30%|███       | 36600/120100 [05:56<15:27, 90.01it/s] "
     ]
    },
    {
     "name": "stdout",
     "output_type": "stream",
     "text": [
      "Epsilon : 1.1236747524214644e-08, average reward : -0.4970, averaged shaped reward : -0.4970 Pickup, Drop, Success, Hit wall rate : [0.96, 0.92, 0.92, 0.01]\n",
      "averaged grid size : 5.00, averaged obstacles : 9.95\n"
     ]
    },
    {
     "name": "stderr",
     "output_type": "stream",
     "text": [
      " 31%|███       | 36711/120100 [05:58<16:33, 83.92it/s]"
     ]
    },
    {
     "name": "stdout",
     "output_type": "stream",
     "text": [
      "Epsilon : 1.0688591227940106e-08, average reward : -28.4260, averaged shaped reward : -28.9260 Pickup, Drop, Success, Hit wall rate : [0.95, 0.91, 0.9, 0.05]\n",
      "averaged grid size : 5.00, averaged obstacles : 10.14\n"
     ]
    },
    {
     "name": "stderr",
     "output_type": "stream",
     "text": [
      " 31%|███       | 36840/120100 [05:59<09:22, 148.08it/s]"
     ]
    },
    {
     "name": "stdout",
     "output_type": "stream",
     "text": [
      "Epsilon : 1.0167175349611063e-08, average reward : 5.4920, averaged shaped reward : 5.3920 Pickup, Drop, Success, Hit wall rate : [0.96, 0.94, 0.94, 0.04]\n",
      "averaged grid size : 5.00, averaged obstacles : 9.89\n"
     ]
    },
    {
     "name": "stderr",
     "output_type": "stream",
     "text": [
      " 31%|███       | 36909/120100 [06:00<14:08, 98.04it/s] "
     ]
    },
    {
     "name": "stdout",
     "output_type": "stream",
     "text": [
      "Epsilon : 9.671195425597771e-09, average reward : 31.4040, averaged shaped reward : 31.4040 Pickup, Drop, Success, Hit wall rate : [1.0, 0.97, 0.97, 0.03]\n",
      "averaged grid size : 5.00, averaged obstacles : 10.83\n"
     ]
    },
    {
     "name": "stderr",
     "output_type": "stream",
     "text": [
      " 31%|███       | 37004/120100 [06:01<12:46, 108.37it/s]"
     ]
    },
    {
     "name": "stdout",
     "output_type": "stream",
     "text": [
      "Epsilon : 9.199410627228075e-09, average reward : 9.9310, averaged shaped reward : 9.8310 Pickup, Drop, Success, Hit wall rate : [0.96, 0.95, 0.95, 0.03]\n",
      "averaged grid size : 5.00, averaged obstacles : 10.68\n"
     ]
    },
    {
     "name": "stderr",
     "output_type": "stream",
     "text": [
      " 31%|███       | 37113/120100 [06:02<13:26, 102.86it/s]"
     ]
    },
    {
     "name": "stdout",
     "output_type": "stream",
     "text": [
      "Epsilon : 8.750640656516973e-09, average reward : 5.5190, averaged shaped reward : 5.5190 Pickup, Drop, Success, Hit wall rate : [0.95, 0.94, 0.94, 0.0]\n",
      "averaged grid size : 5.00, averaged obstacles : 10.58\n"
     ]
    },
    {
     "name": "stderr",
     "output_type": "stream",
     "text": [
      " 31%|███       | 37208/120100 [06:03<16:58, 81.42it/s] "
     ]
    },
    {
     "name": "stdout",
     "output_type": "stream",
     "text": [
      "Epsilon : 8.323762793330224e-09, average reward : -28.3670, averaged shaped reward : -28.6670 Pickup, Drop, Success, Hit wall rate : [0.93, 0.9, 0.9, 0.05]\n",
      "averaged grid size : 5.00, averaged obstacles : 10.78\n"
     ]
    },
    {
     "name": "stderr",
     "output_type": "stream",
     "text": [
      " 31%|███       | 37305/120100 [06:04<14:28, 95.29it/s]"
     ]
    },
    {
     "name": "stdout",
     "output_type": "stream",
     "text": [
      "Epsilon : 7.917709086594608e-09, average reward : 1.0920, averaged shaped reward : 0.8920 Pickup, Drop, Success, Hit wall rate : [0.98, 0.94, 0.94, 0.05]\n",
      "averaged grid size : 5.00, averaged obstacles : 10.26\n"
     ]
    },
    {
     "name": "stderr",
     "output_type": "stream",
     "text": [
      " 31%|███       | 37412/120100 [06:06<19:19, 71.32it/s] "
     ]
    },
    {
     "name": "stdout",
     "output_type": "stream",
     "text": [
      "Epsilon : 7.53146368252781e-09, average reward : -19.6810, averaged shaped reward : -19.6810 Pickup, Drop, Success, Hit wall rate : [0.93, 0.9, 0.9, 0.01]\n",
      "averaged grid size : 5.00, averaged obstacles : 8.71\n"
     ]
    },
    {
     "name": "stderr",
     "output_type": "stream",
     "text": [
      " 31%|███       | 37515/120100 [06:07<19:54, 69.15it/s]"
     ]
    },
    {
     "name": "stdout",
     "output_type": "stream",
     "text": [
      "Epsilon : 7.164060283203942e-09, average reward : -28.0120, averaged shaped reward : -28.2120 Pickup, Drop, Success, Hit wall rate : [0.94, 0.91, 0.9, 0.02]\n",
      "averaged grid size : 5.00, averaged obstacles : 9.32\n"
     ]
    },
    {
     "name": "stderr",
     "output_type": "stream",
     "text": [
      " 31%|███▏      | 37621/120100 [06:08<14:23, 95.56it/s] "
     ]
    },
    {
     "name": "stdout",
     "output_type": "stream",
     "text": [
      "Epsilon : 6.814579729096452e-09, average reward : 8.3200, averaged shaped reward : 8.3200 Pickup, Drop, Success, Hit wall rate : [0.99, 0.96, 0.96, 0.01]\n",
      "averaged grid size : 5.00, averaged obstacles : 10.28\n"
     ]
    },
    {
     "name": "stderr",
     "output_type": "stream",
     "text": [
      " 31%|███▏      | 37699/120100 [06:09<10:00, 137.28it/s]"
     ]
    },
    {
     "name": "stdout",
     "output_type": "stream",
     "text": [
      "Epsilon : 6.482147699550602e-09, average reward : 25.9500, averaged shaped reward : 25.9500 Pickup, Drop, Success, Hit wall rate : [0.99, 0.99, 0.99, 0.0]\n",
      "averaged grid size : 5.00, averaged obstacles : 9.61\n"
     ]
    },
    {
     "name": "stderr",
     "output_type": "stream",
     "text": [
      " 31%|███▏      | 37812/120100 [06:10<13:05, 104.72it/s]"
     ]
    },
    {
     "name": "stdout",
     "output_type": "stream",
     "text": [
      "Epsilon : 6.16593252543255e-09, average reward : -1.9030, averaged shaped reward : -3.3030 Pickup, Drop, Success, Hit wall rate : [1.09, 1.05, 0.94, 0.05]\n",
      "averaged grid size : 5.00, averaged obstacles : 10.45\n"
     ]
    },
    {
     "name": "stderr",
     "output_type": "stream",
     "text": [
      " 32%|███▏      | 37918/120100 [06:11<15:32, 88.15it/s] "
     ]
    },
    {
     "name": "stdout",
     "output_type": "stream",
     "text": [
      "Epsilon : 5.8651431084828315e-09, average reward : 5.7970, averaged shaped reward : 5.7970 Pickup, Drop, Success, Hit wall rate : [0.97, 0.95, 0.95, 0.02]\n",
      "averaged grid size : 5.00, averaged obstacles : 10.18\n"
     ]
    },
    {
     "name": "stderr",
     "output_type": "stream",
     "text": [
      " 32%|███▏      | 38012/120100 [06:12<10:19, 132.54it/s]"
     ]
    },
    {
     "name": "stdout",
     "output_type": "stream",
     "text": [
      "Epsilon : 5.579026942168885e-09, average reward : 16.9510, averaged shaped reward : 16.6510 Pickup, Drop, Success, Hit wall rate : [0.99, 0.98, 0.98, 0.31]\n",
      "averaged grid size : 5.00, averaged obstacles : 10.76\n"
     ]
    },
    {
     "name": "stderr",
     "output_type": "stream",
     "text": [
      " 32%|███▏      | 38110/120100 [06:13<12:50, 106.47it/s]"
     ]
    },
    {
     "name": "stdout",
     "output_type": "stream",
     "text": [
      "Epsilon : 5.306868229085331e-09, average reward : 19.3180, averaged shaped reward : 19.3180 Pickup, Drop, Success, Hit wall rate : [0.98, 0.98, 0.98, 0.02]\n",
      "averaged grid size : 5.00, averaged obstacles : 10.95\n"
     ]
    },
    {
     "name": "stderr",
     "output_type": "stream",
     "text": [
      " 32%|███▏      | 38226/120100 [06:14<14:47, 92.25it/s] "
     ]
    },
    {
     "name": "stdout",
     "output_type": "stream",
     "text": [
      "Epsilon : 5.047986090192058e-09, average reward : -25.6840, averaged shaped reward : -26.4840 Pickup, Drop, Success, Hit wall rate : [0.99, 0.97, 0.92, 0.32]\n",
      "averaged grid size : 5.00, averaged obstacles : 9.50\n"
     ]
    },
    {
     "name": "stderr",
     "output_type": "stream",
     "text": [
      " 32%|███▏      | 38322/120100 [06:15<12:58, 105.05it/s]"
     ]
    },
    {
     "name": "stdout",
     "output_type": "stream",
     "text": [
      "Epsilon : 4.80173286141015e-09, average reward : 9.7260, averaged shaped reward : 9.2260 Pickup, Drop, Success, Hit wall rate : [1.02, 1.02, 0.99, 0.02]\n",
      "averaged grid size : 5.00, averaged obstacles : 9.96\n"
     ]
    },
    {
     "name": "stderr",
     "output_type": "stream",
     "text": [
      " 32%|███▏      | 38412/120100 [06:16<16:21, 83.22it/s] "
     ]
    },
    {
     "name": "stdout",
     "output_type": "stream",
     "text": [
      "Epsilon : 4.567492473314023e-09, average reward : 5.5710, averaged shaped reward : 5.5710 Pickup, Drop, Success, Hit wall rate : [0.98, 0.94, 0.94, 0.0]\n",
      "averaged grid size : 5.00, averaged obstacles : 10.37\n"
     ]
    },
    {
     "name": "stderr",
     "output_type": "stream",
     "text": [
      " 32%|███▏      | 38517/120100 [06:17<13:37, 99.76it/s] "
     ]
    },
    {
     "name": "stdout",
     "output_type": "stream",
     "text": [
      "Epsilon : 4.344678909866217e-09, average reward : 9.1370, averaged shaped reward : 9.1370 Pickup, Drop, Success, Hit wall rate : [0.99, 0.97, 0.97, 0.03]\n",
      "averaged grid size : 5.00, averaged obstacles : 9.60\n"
     ]
    },
    {
     "name": "stderr",
     "output_type": "stream",
     "text": [
      " 32%|███▏      | 38616/120100 [06:19<14:36, 92.92it/s] "
     ]
    },
    {
     "name": "stdout",
     "output_type": "stream",
     "text": [
      "Epsilon : 4.1327347423388975e-09, average reward : -7.5440, averaged shaped reward : -7.6440 Pickup, Drop, Success, Hit wall rate : [0.96, 0.92, 0.92, 0.01]\n",
      "averaged grid size : 5.00, averaged obstacles : 10.06\n"
     ]
    },
    {
     "name": "stderr",
     "output_type": "stream",
     "text": [
      " 32%|███▏      | 38721/120100 [06:20<13:32, 100.18it/s]"
     ]
    },
    {
     "name": "stdout",
     "output_type": "stream",
     "text": [
      "Epsilon : 3.9311297347542984e-09, average reward : 8.2200, averaged shaped reward : 8.2200 Pickup, Drop, Success, Hit wall rate : [0.99, 0.98, 0.98, 0.02]\n",
      "averaged grid size : 5.00, averaged obstacles : 9.75\n"
     ]
    },
    {
     "name": "stderr",
     "output_type": "stream",
     "text": [
      " 32%|███▏      | 38805/120100 [06:21<12:09, 111.49it/s]"
     ]
    },
    {
     "name": "stdout",
     "output_type": "stream",
     "text": [
      "Epsilon : 3.739359517355185e-09, average reward : 9.0640, averaged shaped reward : 8.9640 Pickup, Drop, Success, Hit wall rate : [0.99, 0.95, 0.95, 0.01]\n",
      "averaged grid size : 5.00, averaged obstacles : 10.16\n"
     ]
    },
    {
     "name": "stderr",
     "output_type": "stream",
     "text": [
      " 32%|███▏      | 38916/120100 [06:22<15:44, 85.98it/s] "
     ]
    },
    {
     "name": "stdout",
     "output_type": "stream",
     "text": [
      "Epsilon : 3.5569443247867653e-09, average reward : -23.0080, averaged shaped reward : -23.0080 Pickup, Drop, Success, Hit wall rate : [0.94, 0.9, 0.9, 0.0]\n",
      "averaged grid size : 5.00, averaged obstacles : 10.08\n"
     ]
    },
    {
     "name": "stderr",
     "output_type": "stream",
     "text": [
      " 32%|███▏      | 39014/120100 [06:23<11:44, 115.09it/s]"
     ]
    },
    {
     "name": "stdout",
     "output_type": "stream",
     "text": [
      "Epsilon : 3.383427795833156e-09, average reward : 28.1460, averaged shaped reward : 27.4460 Pickup, Drop, Success, Hit wall rate : [1.04, 1.02, 0.98, 0.04]\n",
      "averaged grid size : 5.00, averaged obstacles : 10.60\n"
     ]
    },
    {
     "name": "stderr",
     "output_type": "stream",
     "text": [
      " 33%|███▎      | 39114/120100 [06:24<13:34, 99.47it/s] "
     ]
    },
    {
     "name": "stdout",
     "output_type": "stream",
     "text": [
      "Epsilon : 3.2183758317056804e-09, average reward : -1.8810, averaged shaped reward : -1.8810 Pickup, Drop, Success, Hit wall rate : [0.98, 0.95, 0.95, 0.02]\n",
      "averaged grid size : 5.00, averaged obstacles : 10.46\n"
     ]
    },
    {
     "name": "stderr",
     "output_type": "stream",
     "text": [
      " 33%|███▎      | 39228/120100 [06:25<09:56, 135.52it/s]"
     ]
    },
    {
     "name": "stdout",
     "output_type": "stream",
     "text": [
      "Epsilon : 3.0613755100266973e-09, average reward : -6.6650, averaged shaped reward : -6.6650 Pickup, Drop, Success, Hit wall rate : [0.99, 0.93, 0.93, 0.0]\n",
      "averaged grid size : 5.00, averaged obstacles : 10.14\n"
     ]
    },
    {
     "name": "stderr",
     "output_type": "stream",
     "text": [
      " 33%|███▎      | 39303/120100 [06:26<18:00, 74.79it/s] "
     ]
    },
    {
     "name": "stdout",
     "output_type": "stream",
     "text": [
      "Epsilon : 2.91203405179196e-09, average reward : -6.6190, averaged shaped reward : -6.6190 Pickup, Drop, Success, Hit wall rate : [0.95, 0.94, 0.94, 0.02]\n",
      "averaged grid size : 5.00, averaged obstacles : 10.06\n"
     ]
    },
    {
     "name": "stderr",
     "output_type": "stream",
     "text": [
      " 33%|███▎      | 39398/120100 [06:27<11:26, 117.61it/s]"
     ]
    },
    {
     "name": "stdout",
     "output_type": "stream",
     "text": [
      "Epsilon : 2.769977838727125e-09, average reward : 17.0280, averaged shaped reward : 17.0280 Pickup, Drop, Success, Hit wall rate : [0.96, 0.96, 0.96, 0.03]\n",
      "averaged grid size : 5.00, averaged obstacles : 10.22\n"
     ]
    },
    {
     "name": "stderr",
     "output_type": "stream",
     "text": [
      " 33%|███▎      | 39511/120100 [06:28<14:10, 94.76it/s] "
     ]
    },
    {
     "name": "stdout",
     "output_type": "stream",
     "text": [
      "Epsilon : 2.634851478580013e-09, average reward : 6.7950, averaged shaped reward : 6.6950 Pickup, Drop, Success, Hit wall rate : [0.95, 0.94, 0.94, 0.0]\n",
      "averaged grid size : 5.00, averaged obstacles : 9.18\n"
     ]
    },
    {
     "name": "stderr",
     "output_type": "stream",
     "text": [
      " 33%|███▎      | 39618/120100 [06:29<12:27, 107.67it/s]"
     ]
    },
    {
     "name": "stdout",
     "output_type": "stream",
     "text": [
      "Epsilon : 2.5063169160102407e-09, average reward : -2.3720, averaged shaped reward : -2.5720 Pickup, Drop, Success, Hit wall rate : [1.0, 0.94, 0.93, 0.01]\n",
      "averaged grid size : 5.00, averaged obstacles : 10.24\n"
     ]
    },
    {
     "name": "stderr",
     "output_type": "stream",
     "text": [
      " 33%|███▎      | 39714/120100 [06:31<13:15, 101.02it/s]"
     ]
    },
    {
     "name": "stdout",
     "output_type": "stream",
     "text": [
      "Epsilon : 2.3840525868518453e-09, average reward : -3.3670, averaged shaped reward : -3.7670 Pickup, Drop, Success, Hit wall rate : [0.97, 0.94, 0.94, 0.14]\n",
      "averaged grid size : 5.00, averaged obstacles : 9.80\n"
     ]
    },
    {
     "name": "stderr",
     "output_type": "stream",
     "text": [
      " 33%|███▎      | 39829/120100 [06:31<10:36, 126.19it/s]"
     ]
    },
    {
     "name": "stdout",
     "output_type": "stream",
     "text": [
      "Epsilon : 2.267752613633058e-09, average reward : 13.0910, averaged shaped reward : 13.0910 Pickup, Drop, Success, Hit wall rate : [0.99, 0.95, 0.95, 0.03]\n",
      "averaged grid size : 5.00, averaged obstacles : 10.01\n"
     ]
    },
    {
     "name": "stderr",
     "output_type": "stream",
     "text": [
      " 33%|███▎      | 39907/120100 [06:33<15:29, 86.24it/s] "
     ]
    },
    {
     "name": "stdout",
     "output_type": "stream",
     "text": [
      "Epsilon : 2.157126040340636e-09, average reward : -13.0620, averaged shaped reward : -13.0620 Pickup, Drop, Success, Hit wall rate : [0.95, 0.92, 0.92, 0.0]\n",
      "averaged grid size : 5.00, averaged obstacles : 9.80\n"
     ]
    },
    {
     "name": "stderr",
     "output_type": "stream",
     "text": [
      " 33%|███▎      | 40010/120100 [06:34<11:43, 113.91it/s]"
     ]
    },
    {
     "name": "stdout",
     "output_type": "stream",
     "text": [
      "Epsilon : 2.0518961045142467e-09, average reward : 4.9080, averaged shaped reward : 4.9080 Pickup, Drop, Success, Hit wall rate : [0.99, 0.96, 0.96, 0.04]\n",
      "averaged grid size : 5.00, averaged obstacles : 9.10\n"
     ]
    },
    {
     "name": "stderr",
     "output_type": "stream",
     "text": [
      " 33%|███▎      | 40135/120100 [06:35<09:53, 134.65it/s]"
     ]
    },
    {
     "name": "stdout",
     "output_type": "stream",
     "text": [
      "Epsilon : 1.951799544849909e-09, average reward : 6.5340, averaged shaped reward : 6.5340 Pickup, Drop, Success, Hit wall rate : [0.98, 0.96, 0.96, 0.02]\n",
      "averaged grid size : 5.00, averaged obstacles : 9.65\n"
     ]
    },
    {
     "name": "stderr",
     "output_type": "stream",
     "text": [
      " 33%|███▎      | 40208/120100 [06:36<15:58, 83.38it/s] "
     ]
    },
    {
     "name": "stdout",
     "output_type": "stream",
     "text": [
      "Epsilon : 1.8565859425802414e-09, average reward : 11.2620, averaged shaped reward : 11.2620 Pickup, Drop, Success, Hit wall rate : [0.97, 0.95, 0.95, 0.01]\n",
      "averaged grid size : 5.00, averaged obstacles : 9.69\n"
     ]
    },
    {
     "name": "stderr",
     "output_type": "stream",
     "text": [
      " 34%|███▎      | 40318/120100 [06:37<13:20, 99.60it/s] "
     ]
    },
    {
     "name": "stdout",
     "output_type": "stream",
     "text": [
      "Epsilon : 1.7660170949838125e-09, average reward : 9.2470, averaged shaped reward : 9.2470 Pickup, Drop, Success, Hit wall rate : [1.0, 0.99, 0.99, 0.03]\n",
      "averaged grid size : 5.00, averaged obstacles : 9.28\n"
     ]
    },
    {
     "name": "stderr",
     "output_type": "stream",
     "text": [
      " 34%|███▎      | 40397/120100 [06:37<11:38, 114.16it/s]"
     ]
    },
    {
     "name": "stdout",
     "output_type": "stream",
     "text": [
      "Epsilon : 1.6798664194562446e-09, average reward : 3.9280, averaged shaped reward : 3.9280 Pickup, Drop, Success, Hit wall rate : [0.99, 0.97, 0.97, 0.08]\n",
      "averaged grid size : 5.00, averaged obstacles : 10.28\n"
     ]
    },
    {
     "name": "stderr",
     "output_type": "stream",
     "text": [
      " 34%|███▎      | 40517/120100 [06:39<13:24, 98.87it/s] "
     ]
    },
    {
     "name": "stdout",
     "output_type": "stream",
     "text": [
      "Epsilon : 1.5979183866522028e-09, average reward : -36.1350, averaged shaped reward : -36.6350 Pickup, Drop, Success, Hit wall rate : [0.97, 0.92, 0.9, 0.17]\n",
      "averaged grid size : 5.00, averaged obstacles : 10.57\n"
     ]
    },
    {
     "name": "stderr",
     "output_type": "stream",
     "text": [
      " 34%|███▍      | 40603/120100 [06:40<14:04, 94.12it/s]"
     ]
    },
    {
     "name": "stdout",
     "output_type": "stream",
     "text": [
      "Epsilon : 1.5199679812801228e-09, average reward : 9.6110, averaged shaped reward : 9.5110 Pickup, Drop, Success, Hit wall rate : [0.98, 0.95, 0.95, 0.0]\n",
      "averaged grid size : 5.00, averaged obstacles : 10.33\n"
     ]
    },
    {
     "name": "stderr",
     "output_type": "stream",
     "text": [
      " 34%|███▍      | 40711/120100 [06:42<16:49, 78.63it/s]"
     ]
    },
    {
     "name": "stdout",
     "output_type": "stream",
     "text": [
      "Epsilon : 1.4458201892007048e-09, average reward : -12.4100, averaged shaped reward : -12.4100 Pickup, Drop, Success, Hit wall rate : [0.96, 0.94, 0.94, 0.01]\n",
      "averaged grid size : 5.00, averaged obstacles : 9.62\n"
     ]
    },
    {
     "name": "stderr",
     "output_type": "stream",
     "text": [
      " 34%|███▍      | 40831/120100 [06:43<11:48, 111.91it/s]"
     ]
    },
    {
     "name": "stdout",
     "output_type": "stream",
     "text": [
      "Epsilon : 1.3752895095459996e-09, average reward : -23.4880, averaged shaped reward : -23.7880 Pickup, Drop, Success, Hit wall rate : [0.93, 0.9, 0.9, 0.02]\n",
      "averaged grid size : 5.00, averaged obstacles : 10.95\n"
     ]
    },
    {
     "name": "stderr",
     "output_type": "stream",
     "text": [
      " 34%|███▍      | 40905/120100 [06:44<18:53, 69.89it/s] "
     ]
    },
    {
     "name": "stdout",
     "output_type": "stream",
     "text": [
      "Epsilon : 1.308199490638537e-09, average reward : -15.6770, averaged shaped reward : -16.0770 Pickup, Drop, Success, Hit wall rate : [0.97, 0.94, 0.92, 0.03]\n",
      "averaged grid size : 5.00, averaged obstacles : 9.60\n"
     ]
    },
    {
     "name": "stderr",
     "output_type": "stream",
     "text": [
      " 34%|███▍      | 41001/120100 [06:46<15:40, 84.08it/s]"
     ]
    },
    {
     "name": "stdout",
     "output_type": "stream",
     "text": [
      "Epsilon : 1.2443822885494677e-09, average reward : -7.4470, averaged shaped reward : -7.8470 Pickup, Drop, Success, Hit wall rate : [0.96, 0.94, 0.94, 0.21]\n",
      "averaged grid size : 5.00, averaged obstacles : 10.96\n"
     ]
    },
    {
     "name": "stderr",
     "output_type": "stream",
     "text": [
      " 34%|███▍      | 41110/120100 [06:47<14:24, 91.34it/s] "
     ]
    },
    {
     "name": "stdout",
     "output_type": "stream",
     "text": [
      "Epsilon : 1.183678247191327e-09, average reward : -4.0250, averaged shaped reward : -4.0250 Pickup, Drop, Success, Hit wall rate : [0.96, 0.95, 0.95, 0.07]\n",
      "averaged grid size : 5.00, averaged obstacles : 10.24\n"
     ]
    },
    {
     "name": "stderr",
     "output_type": "stream",
     "text": [
      " 34%|███▍      | 41214/120100 [06:48<13:57, 94.23it/s]"
     ]
    },
    {
     "name": "stdout",
     "output_type": "stream",
     "text": [
      "Epsilon : 1.1259354988949096e-09, average reward : -7.8160, averaged shaped reward : -7.9160 Pickup, Drop, Success, Hit wall rate : [0.97, 0.92, 0.92, 0.01]\n",
      "averaged grid size : 5.00, averaged obstacles : 9.81\n"
     ]
    },
    {
     "name": "stderr",
     "output_type": "stream",
     "text": [
      " 34%|███▍      | 41333/120100 [06:49<12:49, 102.30it/s]"
     ]
    },
    {
     "name": "stdout",
     "output_type": "stream",
     "text": [
      "Epsilon : 1.0710095844709867e-09, average reward : -5.9880, averaged shaped reward : -5.9880 Pickup, Drop, Success, Hit wall rate : [0.97, 0.95, 0.95, 0.02]\n",
      "averaged grid size : 5.00, averaged obstacles : 10.06\n"
     ]
    },
    {
     "name": "stderr",
     "output_type": "stream",
     "text": [
      " 34%|███▍      | 41406/120100 [06:50<13:30, 97.08it/s] "
     ]
    },
    {
     "name": "stdout",
     "output_type": "stream",
     "text": [
      "Epsilon : 1.0187630918063602e-09, average reward : 21.2570, averaged shaped reward : 21.2570 Pickup, Drop, Success, Hit wall rate : [1.0, 0.97, 0.97, 0.02]\n",
      "averaged grid size : 5.00, averaged obstacles : 10.54\n"
     ]
    },
    {
     "name": "stderr",
     "output_type": "stream",
     "text": [
      " 35%|███▍      | 41528/120100 [06:51<09:34, 136.75it/s]"
     ]
    },
    {
     "name": "stdout",
     "output_type": "stream",
     "text": [
      "Epsilon : 9.690653120900894e-10, average reward : 2.4780, averaged shaped reward : 2.3780 Pickup, Drop, Success, Hit wall rate : [0.97, 0.93, 0.93, 0.01]\n",
      "averaged grid size : 5.00, averaged obstacles : 9.94\n"
     ]
    },
    {
     "name": "stderr",
     "output_type": "stream",
     "text": [
      " 35%|███▍      | 41621/120100 [06:52<10:26, 125.25it/s]"
     ]
    },
    {
     "name": "stdout",
     "output_type": "stream",
     "text": [
      "Epsilon : 9.217919128098527e-10, average reward : 20.4700, averaged shaped reward : 20.4700 Pickup, Drop, Success, Hit wall rate : [1.0, 0.96, 0.96, 0.02]\n",
      "averaged grid size : 5.00, averaged obstacles : 10.84\n"
     ]
    },
    {
     "name": "stderr",
     "output_type": "stream",
     "text": [
      " 35%|███▍      | 41725/120100 [06:53<09:05, 143.66it/s]"
     ]
    },
    {
     "name": "stdout",
     "output_type": "stream",
     "text": [
      "Epsilon : 8.768246267003449e-10, average reward : -5.2710, averaged shaped reward : -6.8710 Pickup, Drop, Success, Hit wall rate : [1.11, 1.04, 0.92, 0.05]\n",
      "averaged grid size : 5.00, averaged obstacles : 10.03\n"
     ]
    },
    {
     "name": "stderr",
     "output_type": "stream",
     "text": [
      " 35%|███▍      | 41811/120100 [06:55<16:01, 81.40it/s] "
     ]
    },
    {
     "name": "stdout",
     "output_type": "stream",
     "text": [
      "Epsilon : 8.340509558655589e-10, average reward : -24.9200, averaged shaped reward : -25.2200 Pickup, Drop, Success, Hit wall rate : [0.96, 0.9, 0.89, 0.01]\n",
      "averaged grid size : 5.00, averaged obstacles : 9.88\n"
     ]
    },
    {
     "name": "stderr",
     "output_type": "stream",
     "text": [
      " 35%|███▍      | 41915/120100 [06:56<09:14, 141.02it/s]"
     ]
    },
    {
     "name": "stdout",
     "output_type": "stream",
     "text": [
      "Epsilon : 7.933638903346951e-10, average reward : 6.8060, averaged shaped reward : 6.4060 Pickup, Drop, Success, Hit wall rate : [1.03, 0.99, 0.96, 0.0]\n",
      "averaged grid size : 5.00, averaged obstacles : 10.79\n"
     ]
    },
    {
     "name": "stderr",
     "output_type": "stream",
     "text": [
      " 35%|███▍      | 42008/120100 [06:56<10:59, 118.40it/s]"
     ]
    },
    {
     "name": "stdout",
     "output_type": "stream",
     "text": [
      "Epsilon : 7.546616403476193e-10, average reward : 17.0850, averaged shaped reward : 16.9850 Pickup, Drop, Success, Hit wall rate : [0.98, 0.98, 0.98, 0.12]\n",
      "averaged grid size : 5.00, averaged obstacles : 9.89\n"
     ]
    },
    {
     "name": "stderr",
     "output_type": "stream",
     "text": [
      " 35%|███▌      | 42120/120100 [06:57<09:12, 141.24it/s]"
     ]
    },
    {
     "name": "stdout",
     "output_type": "stream",
     "text": [
      "Epsilon : 7.17847381700091e-10, average reward : 15.9200, averaged shaped reward : 15.9200 Pickup, Drop, Success, Hit wall rate : [0.97, 0.96, 0.96, 0.0]\n",
      "averaged grid size : 5.00, averaged obstacles : 9.97\n"
     ]
    },
    {
     "name": "stderr",
     "output_type": "stream",
     "text": [
      " 35%|███▌      | 42206/120100 [06:59<16:01, 81.01it/s] "
     ]
    },
    {
     "name": "stdout",
     "output_type": "stream",
     "text": [
      "Epsilon : 6.828290135116868e-10, average reward : -4.9950, averaged shaped reward : -5.0950 Pickup, Drop, Success, Hit wall rate : [0.97, 0.92, 0.92, 0.01]\n",
      "averaged grid size : 5.00, averaged obstacles : 10.02\n"
     ]
    },
    {
     "name": "stderr",
     "output_type": "stream",
     "text": [
      " 35%|███▌      | 42320/120100 [07:00<13:05, 99.06it/s]"
     ]
    },
    {
     "name": "stdout",
     "output_type": "stream",
     "text": [
      "Epsilon : 6.495189278103962e-10, average reward : -8.3180, averaged shaped reward : -8.3180 Pickup, Drop, Success, Hit wall rate : [0.97, 0.92, 0.92, 0.02]\n",
      "averaged grid size : 5.00, averaged obstacles : 9.66\n"
     ]
    },
    {
     "name": "stderr",
     "output_type": "stream",
     "text": [
      " 35%|███▌      | 42405/120100 [07:01<16:59, 76.22it/s]"
     ]
    },
    {
     "name": "stdout",
     "output_type": "stream",
     "text": [
      "Epsilon : 6.178337903574537e-10, average reward : -25.5320, averaged shaped reward : -25.5320 Pickup, Drop, Success, Hit wall rate : [0.99, 0.91, 0.91, 0.02]\n",
      "averaged grid size : 5.00, averaged obstacles : 9.38\n"
     ]
    },
    {
     "name": "stderr",
     "output_type": "stream",
     "text": [
      " 35%|███▌      | 42520/120100 [07:02<12:22, 104.45it/s]"
     ]
    },
    {
     "name": "stdout",
     "output_type": "stream",
     "text": [
      "Epsilon : 5.876943321640777e-10, average reward : 3.4930, averaged shaped reward : 3.1930 Pickup, Drop, Success, Hit wall rate : [0.99, 0.97, 0.97, 0.09]\n",
      "averaged grid size : 5.00, averaged obstacles : 8.66\n"
     ]
    },
    {
     "name": "stderr",
     "output_type": "stream",
     "text": [
      " 35%|███▌      | 42628/120100 [07:03<13:05, 98.66it/s] "
     ]
    },
    {
     "name": "stdout",
     "output_type": "stream",
     "text": [
      "Epsilon : 5.590251511785315e-10, average reward : 12.6100, averaged shaped reward : 12.4100 Pickup, Drop, Success, Hit wall rate : [0.98, 0.97, 0.96, 0.07]\n",
      "averaged grid size : 5.00, averaged obstacles : 10.22\n"
     ]
    },
    {
     "name": "stderr",
     "output_type": "stream",
     "text": [
      " 36%|███▌      | 42709/120100 [07:04<19:11, 67.23it/s] "
     ]
    },
    {
     "name": "stdout",
     "output_type": "stream",
     "text": [
      "Epsilon : 5.317545236473907e-10, average reward : 1.4260, averaged shaped reward : 1.4260 Pickup, Drop, Success, Hit wall rate : [0.95, 0.93, 0.93, 0.03]\n",
      "averaged grid size : 5.00, averaged obstacles : 10.57\n"
     ]
    },
    {
     "name": "stderr",
     "output_type": "stream",
     "text": [
      " 36%|███▌      | 42818/120100 [07:05<11:36, 110.89it/s]"
     ]
    },
    {
     "name": "stdout",
     "output_type": "stream",
     "text": [
      "Epsilon : 5.058142246790601e-10, average reward : 9.9570, averaged shaped reward : 9.8570 Pickup, Drop, Success, Hit wall rate : [0.95, 0.94, 0.94, 0.03]\n",
      "averaged grid size : 5.00, averaged obstacles : 9.72\n"
     ]
    },
    {
     "name": "stderr",
     "output_type": "stream",
     "text": [
      " 36%|███▌      | 42912/120100 [07:06<11:31, 111.60it/s]"
     ]
    },
    {
     "name": "stdout",
     "output_type": "stream",
     "text": [
      "Epsilon : 4.811393575606567e-10, average reward : 16.0450, averaged shaped reward : 16.0450 Pickup, Drop, Success, Hit wall rate : [1.0, 0.98, 0.98, 0.04]\n",
      "averaged grid size : 5.00, averaged obstacles : 10.41\n"
     ]
    },
    {
     "name": "stderr",
     "output_type": "stream",
     "text": [
      " 36%|███▌      | 43015/120100 [07:07<15:10, 84.68it/s] "
     ]
    },
    {
     "name": "stdout",
     "output_type": "stream",
     "text": [
      "Epsilon : 4.576681914012312e-10, average reward : -6.5570, averaged shaped reward : -6.5570 Pickup, Drop, Success, Hit wall rate : [0.97, 0.94, 0.94, 0.03]\n",
      "averaged grid size : 5.00, averaged obstacles : 10.32\n"
     ]
    },
    {
     "name": "stderr",
     "output_type": "stream",
     "text": [
      " 36%|███▌      | 43107/120100 [07:08<12:21, 103.85it/s]"
     ]
    },
    {
     "name": "stdout",
     "output_type": "stream",
     "text": [
      "Epsilon : 4.3534200669515525e-10, average reward : 2.0410, averaged shaped reward : 1.5410 Pickup, Drop, Success, Hit wall rate : [0.97, 0.96, 0.95, 0.16]\n",
      "averaged grid size : 5.00, averaged obstacles : 9.03\n"
     ]
    },
    {
     "name": "stderr",
     "output_type": "stream",
     "text": [
      " 36%|███▌      | 43228/120100 [07:10<11:38, 110.08it/s]"
     ]
    },
    {
     "name": "stdout",
     "output_type": "stream",
     "text": [
      "Epsilon : 4.141049484193074e-10, average reward : -13.3690, averaged shaped reward : -13.9690 Pickup, Drop, Success, Hit wall rate : [1.0, 0.94, 0.93, 0.19]\n",
      "averaged grid size : 5.00, averaged obstacles : 10.15\n"
     ]
    },
    {
     "name": "stderr",
     "output_type": "stream",
     "text": [
      " 36%|███▌      | 43313/120100 [07:11<12:26, 102.86it/s]"
     ]
    },
    {
     "name": "stdout",
     "output_type": "stream",
     "text": [
      "Epsilon : 3.9390388629654263e-10, average reward : 15.4630, averaged shaped reward : 15.3630 Pickup, Drop, Success, Hit wall rate : [1.0, 0.98, 0.98, 0.01]\n",
      "averaged grid size : 5.00, averaged obstacles : 10.69\n"
     ]
    },
    {
     "name": "stderr",
     "output_type": "stream",
     "text": [
      " 36%|███▌      | 43411/120100 [07:12<13:50, 92.36it/s] "
     ]
    },
    {
     "name": "stdout",
     "output_type": "stream",
     "text": [
      "Epsilon : 3.7468828187585457e-10, average reward : 9.7600, averaged shaped reward : 9.7600 Pickup, Drop, Success, Hit wall rate : [0.99, 0.97, 0.97, 0.06]\n",
      "averaged grid size : 5.00, averaged obstacles : 9.80\n"
     ]
    },
    {
     "name": "stderr",
     "output_type": "stream",
     "text": [
      " 36%|███▌      | 43513/120100 [07:12<10:22, 123.02it/s]"
     ]
    },
    {
     "name": "stdout",
     "output_type": "stream",
     "text": [
      "Epsilon : 3.5641006209669396e-10, average reward : 14.6140, averaged shaped reward : 13.8140 Pickup, Drop, Success, Hit wall rate : [1.03, 1.01, 0.97, 0.08]\n",
      "averaged grid size : 5.00, averaged obstacles : 10.93\n"
     ]
    },
    {
     "name": "stderr",
     "output_type": "stream",
     "text": [
      " 36%|███▋      | 43608/120100 [07:13<10:20, 123.30it/s]"
     ]
    },
    {
     "name": "stdout",
     "output_type": "stream",
     "text": [
      "Epsilon : 3.390234990211341e-10, average reward : 21.0270, averaged shaped reward : 21.0270 Pickup, Drop, Success, Hit wall rate : [0.98, 0.97, 0.97, 0.01]\n",
      "averaged grid size : 5.00, averaged obstacles : 9.61\n"
     ]
    },
    {
     "name": "stderr",
     "output_type": "stream",
     "text": [
      " 36%|███▋      | 43722/120100 [07:14<12:20, 103.15it/s]"
     ]
    },
    {
     "name": "stdout",
     "output_type": "stream",
     "text": [
      "Epsilon : 3.224850954329978e-10, average reward : 5.8400, averaged shaped reward : 5.8400 Pickup, Drop, Success, Hit wall rate : [0.98, 0.96, 0.96, 0.02]\n",
      "averaged grid size : 5.00, averaged obstacles : 10.01\n"
     ]
    },
    {
     "name": "stderr",
     "output_type": "stream",
     "text": [
      " 36%|███▋      | 43826/120100 [07:16<12:25, 102.35it/s]"
     ]
    },
    {
     "name": "stdout",
     "output_type": "stream",
     "text": [
      "Epsilon : 3.0675347601773994e-10, average reward : 6.4980, averaged shaped reward : 6.3980 Pickup, Drop, Success, Hit wall rate : [0.99, 0.95, 0.95, 0.03]\n",
      "averaged grid size : 5.00, averaged obstacles : 10.74\n"
     ]
    },
    {
     "name": "stderr",
     "output_type": "stream",
     "text": [
      " 37%|███▋      | 43915/120100 [07:16<11:48, 107.49it/s]"
     ]
    },
    {
     "name": "stdout",
     "output_type": "stream",
     "text": [
      "Epsilon : 2.917892838508457e-10, average reward : 7.3210, averaged shaped reward : 7.2210 Pickup, Drop, Success, Hit wall rate : [0.98, 0.95, 0.95, 0.0]\n",
      "averaged grid size : 5.00, averaged obstacles : 9.69\n"
     ]
    },
    {
     "name": "stderr",
     "output_type": "stream",
     "text": [
      " 37%|███▋      | 44021/120100 [07:17<10:05, 125.59it/s]"
     ]
    },
    {
     "name": "stdout",
     "output_type": "stream",
     "text": [
      "Epsilon : 2.7755508193578123e-10, average reward : 22.2740, averaged shaped reward : 22.2740 Pickup, Drop, Success, Hit wall rate : [0.99, 0.98, 0.98, 0.01]\n",
      "averaged grid size : 5.00, averaged obstacles : 10.41\n"
     ]
    },
    {
     "name": "stderr",
     "output_type": "stream",
     "text": [
      " 37%|███▋      | 44106/120100 [07:18<15:06, 83.83it/s] "
     ]
    },
    {
     "name": "stdout",
     "output_type": "stream",
     "text": [
      "Epsilon : 2.6401525954516224e-10, average reward : -2.1490, averaged shaped reward : -2.1490 Pickup, Drop, Success, Hit wall rate : [0.95, 0.93, 0.93, 0.0]\n",
      "averaged grid size : 5.00, averaged obstacles : 9.57\n"
     ]
    },
    {
     "name": "stderr",
     "output_type": "stream",
     "text": [
      " 37%|███▋      | 44208/120100 [07:19<14:33, 86.88it/s] "
     ]
    },
    {
     "name": "stdout",
     "output_type": "stream",
     "text": [
      "Epsilon : 2.5113594313083796e-10, average reward : 7.2940, averaged shaped reward : 7.2940 Pickup, Drop, Success, Hit wall rate : [0.99, 0.95, 0.95, 0.31]\n",
      "averaged grid size : 5.00, averaged obstacles : 10.15\n"
     ]
    },
    {
     "name": "stderr",
     "output_type": "stream",
     "text": [
      " 37%|███▋      | 44313/120100 [07:21<16:27, 76.76it/s]"
     ]
    },
    {
     "name": "stdout",
     "output_type": "stream",
     "text": [
      "Epsilon : 2.388849115799949e-10, average reward : -13.7470, averaged shaped reward : -14.0470 Pickup, Drop, Success, Hit wall rate : [0.97, 0.94, 0.93, 0.06]\n",
      "averaged grid size : 5.00, averaged obstacles : 9.21\n"
     ]
    },
    {
     "name": "stderr",
     "output_type": "stream",
     "text": [
      " 37%|███▋      | 44416/120100 [07:22<12:01, 104.87it/s]"
     ]
    },
    {
     "name": "stdout",
     "output_type": "stream",
     "text": [
      "Epsilon : 2.2723151560528127e-10, average reward : 0.6040, averaged shaped reward : 0.5040 Pickup, Drop, Success, Hit wall rate : [0.96, 0.94, 0.94, 0.03]\n",
      "averaged grid size : 5.00, averaged obstacles : 9.49\n"
     ]
    },
    {
     "name": "stderr",
     "output_type": "stream",
     "text": [
      " 37%|███▋      | 44521/120100 [07:23<11:37, 108.34it/s]"
     ]
    },
    {
     "name": "stdout",
     "output_type": "stream",
     "text": [
      "Epsilon : 2.161466010672781e-10, average reward : -2.3820, averaged shaped reward : -2.4820 Pickup, Drop, Success, Hit wall rate : [0.95, 0.95, 0.95, 0.1]\n",
      "averaged grid size : 5.00, averaged obstacles : 10.08\n"
     ]
    },
    {
     "name": "stderr",
     "output_type": "stream",
     "text": [
      " 37%|███▋      | 44625/120100 [07:24<13:19, 94.39it/s] "
     ]
    },
    {
     "name": "stdout",
     "output_type": "stream",
     "text": [
      "Epsilon : 2.0560243603749122e-10, average reward : -20.3990, averaged shaped reward : -20.7990 Pickup, Drop, Success, Hit wall rate : [0.96, 0.92, 0.92, 0.06]\n",
      "averaged grid size : 5.00, averaged obstacles : 9.86\n"
     ]
    },
    {
     "name": "stderr",
     "output_type": "stream",
     "text": [
      " 37%|███▋      | 44719/120100 [07:25<12:53, 97.49it/s] "
     ]
    },
    {
     "name": "stdout",
     "output_type": "stream",
     "text": [
      "Epsilon : 1.9557264141938987e-10, average reward : 13.1280, averaged shaped reward : 13.1280 Pickup, Drop, Success, Hit wall rate : [0.98, 0.95, 0.95, 0.09]\n",
      "averaged grid size : 5.00, averaged obstacles : 10.23\n"
     ]
    },
    {
     "name": "stderr",
     "output_type": "stream",
     "text": [
      " 37%|███▋      | 44806/120100 [07:26<11:58, 104.83it/s]"
     ]
    },
    {
     "name": "stdout",
     "output_type": "stream",
     "text": [
      "Epsilon : 1.8603212495392152e-10, average reward : 11.2900, averaged shaped reward : 11.2900 Pickup, Drop, Success, Hit wall rate : [0.98, 0.96, 0.96, 0.05]\n",
      "averaged grid size : 5.00, averaged obstacles : 9.41\n"
     ]
    },
    {
     "name": "stderr",
     "output_type": "stream",
     "text": [
      " 37%|███▋      | 44921/120100 [07:28<17:21, 72.21it/s] "
     ]
    },
    {
     "name": "stdout",
     "output_type": "stream",
     "text": [
      "Epsilon : 1.769570184444026e-10, average reward : -34.6560, averaged shaped reward : -34.7560 Pickup, Drop, Success, Hit wall rate : [0.92, 0.88, 0.88, 0.08]\n",
      "averaged grid size : 5.00, averaged obstacles : 10.54\n"
     ]
    },
    {
     "name": "stderr",
     "output_type": "stream",
     "text": [
      " 37%|███▋      | 45031/120100 [07:29<09:52, 126.64it/s]"
     ]
    },
    {
     "name": "stdout",
     "output_type": "stream",
     "text": [
      "Epsilon : 1.6832461804373176e-10, average reward : 22.0100, averaged shaped reward : 21.9100 Pickup, Drop, Success, Hit wall rate : [0.98, 0.96, 0.96, 0.02]\n",
      "averaged grid size : 5.00, averaged obstacles : 10.60\n"
     ]
    },
    {
     "name": "stderr",
     "output_type": "stream",
     "text": [
      " 38%|███▊      | 45115/120100 [07:30<15:16, 81.85it/s] "
     ]
    },
    {
     "name": "stdout",
     "output_type": "stream",
     "text": [
      "Epsilon : 1.6011332745454287e-10, average reward : 1.4270, averaged shaped reward : 1.3270 Pickup, Drop, Success, Hit wall rate : [1.0, 0.96, 0.95, 0.07]\n",
      "averaged grid size : 5.00, averaged obstacles : 9.82\n"
     ]
    },
    {
     "name": "stderr",
     "output_type": "stream",
     "text": [
      " 38%|███▊      | 45215/120100 [07:31<16:24, 76.03it/s] "
     ]
    },
    {
     "name": "stdout",
     "output_type": "stream",
     "text": [
      "Epsilon : 1.5230260390019248e-10, average reward : -3.6300, averaged shaped reward : -4.2300 Pickup, Drop, Success, Hit wall rate : [1.05, 1.03, 0.97, 0.14]\n",
      "averaged grid size : 5.00, averaged obstacles : 10.05\n"
     ]
    },
    {
     "name": "stderr",
     "output_type": "stream",
     "text": [
      " 38%|███▊      | 45322/120100 [07:32<13:44, 90.74it/s] "
     ]
    },
    {
     "name": "stdout",
     "output_type": "stream",
     "text": [
      "Epsilon : 1.4487290673141763e-10, average reward : -3.9490, averaged shaped reward : -3.9490 Pickup, Drop, Success, Hit wall rate : [0.98, 0.95, 0.95, 0.07]\n",
      "averaged grid size : 5.00, averaged obstacles : 10.01\n"
     ]
    },
    {
     "name": "stderr",
     "output_type": "stream",
     "text": [
      " 38%|███▊      | 45405/120100 [07:33<11:15, 110.50it/s]"
     ]
    },
    {
     "name": "stdout",
     "output_type": "stream",
     "text": [
      "Epsilon : 1.3780564854008717e-10, average reward : 6.4780, averaged shaped reward : 6.4780 Pickup, Drop, Success, Hit wall rate : [0.99, 0.96, 0.96, 0.06]\n",
      "averaged grid size : 5.00, averaged obstacles : 9.97\n"
     ]
    },
    {
     "name": "stderr",
     "output_type": "stream",
     "text": [
      " 38%|███▊      | 45510/120100 [07:34<13:47, 90.16it/s] "
     ]
    },
    {
     "name": "stdout",
     "output_type": "stream",
     "text": [
      "Epsilon : 1.3108314865774485e-10, average reward : -0.4050, averaged shaped reward : -0.4050 Pickup, Drop, Success, Hit wall rate : [0.96, 0.94, 0.94, 0.02]\n",
      "averaged grid size : 5.00, averaged obstacles : 10.28\n"
     ]
    },
    {
     "name": "stderr",
     "output_type": "stream",
     "text": [
      " 38%|███▊      | 45622/120100 [07:35<09:30, 130.52it/s]"
     ]
    },
    {
     "name": "stdout",
     "output_type": "stream",
     "text": [
      "Epsilon : 1.2468858892260884e-10, average reward : 7.0060, averaged shaped reward : 7.0060 Pickup, Drop, Success, Hit wall rate : [0.95, 0.94, 0.94, 0.03]\n",
      "averaged grid size : 5.00, averaged obstacles : 10.47\n"
     ]
    },
    {
     "name": "stderr",
     "output_type": "stream",
     "text": [
      " 38%|███▊      | 45705/120100 [07:36<17:31, 70.73it/s] "
     ]
    },
    {
     "name": "stdout",
     "output_type": "stream",
     "text": [
      "Epsilon : 1.1860597160436574e-10, average reward : -31.2780, averaged shaped reward : -31.5780 Pickup, Drop, Success, Hit wall rate : [0.92, 0.89, 0.89, 0.31]\n",
      "averaged grid size : 5.00, averaged obstacles : 10.35\n"
     ]
    },
    {
     "name": "stderr",
     "output_type": "stream",
     "text": [
      " 38%|███▊      | 45816/120100 [07:38<15:24, 80.31it/s]"
     ]
    },
    {
     "name": "stdout",
     "output_type": "stream",
     "text": [
      "Epsilon : 1.128200793814972e-10, average reward : -34.2780, averaged shaped reward : -34.5780 Pickup, Drop, Success, Hit wall rate : [0.94, 0.91, 0.91, 0.2]\n",
      "averaged grid size : 5.00, averaged obstacles : 10.33\n"
     ]
    },
    {
     "name": "stderr",
     "output_type": "stream",
     "text": [
      " 38%|███▊      | 45905/120100 [07:39<15:59, 77.35it/s]"
     ]
    },
    {
     "name": "stdout",
     "output_type": "stream",
     "text": [
      "Epsilon : 1.0731643727101182e-10, average reward : -6.4710, averaged shaped reward : -7.1710 Pickup, Drop, Success, Hit wall rate : [0.99, 0.95, 0.93, 0.23]\n",
      "averaged grid size : 5.00, averaged obstacles : 9.48\n"
     ]
    },
    {
     "name": "stderr",
     "output_type": "stream",
     "text": [
      " 38%|███▊      | 46021/120100 [07:41<12:28, 98.93it/s]"
     ]
    },
    {
     "name": "stdout",
     "output_type": "stream",
     "text": [
      "Epsilon : 1.020812764153382e-10, average reward : -47.4260, averaged shaped reward : -48.0260 Pickup, Drop, Success, Hit wall rate : [0.89, 0.88, 0.88, 0.32]\n",
      "averaged grid size : 5.00, averaged obstacles : 9.33\n"
     ]
    },
    {
     "name": "stderr",
     "output_type": "stream",
     "text": [
      " 38%|███▊      | 46110/120100 [07:43<21:37, 57.02it/s]"
     ]
    },
    {
     "name": "stdout",
     "output_type": "stream",
     "text": [
      "Epsilon : 9.710149963578301e-11, average reward : -32.7150, averaged shaped reward : -33.6150 Pickup, Drop, Success, Hit wall rate : [0.93, 0.9, 0.9, 0.19]\n",
      "averaged grid size : 5.00, averaged obstacles : 10.02\n"
     ]
    },
    {
     "name": "stderr",
     "output_type": "stream",
     "text": [
      " 38%|███▊      | 46213/120100 [07:44<18:19, 67.19it/s]"
     ]
    },
    {
     "name": "stdout",
     "output_type": "stream",
     "text": [
      "Epsilon : 9.236464866637638e-11, average reward : -43.7580, averaged shaped reward : -45.0580 Pickup, Drop, Success, Hit wall rate : [1.03, 0.96, 0.89, 0.28]\n",
      "averaged grid size : 5.00, averaged obstacles : 9.35\n"
     ]
    },
    {
     "name": "stderr",
     "output_type": "stream",
     "text": [
      " 39%|███▊      | 46318/120100 [07:45<10:42, 114.90it/s]"
     ]
    },
    {
     "name": "stdout",
     "output_type": "stream",
     "text": [
      "Epsilon : 8.78588729861315e-11, average reward : 16.6440, averaged shaped reward : 16.4440 Pickup, Drop, Success, Hit wall rate : [0.99, 0.97, 0.97, 0.15]\n",
      "averaged grid size : 5.00, averaged obstacles : 10.14\n"
     ]
    },
    {
     "name": "stderr",
     "output_type": "stream",
     "text": [
      " 39%|███▊      | 46402/120100 [07:46<18:59, 64.68it/s] "
     ]
    },
    {
     "name": "stdout",
     "output_type": "stream",
     "text": [
      "Epsilon : 8.357290017174297e-11, average reward : -16.5760, averaged shaped reward : -16.8760 Pickup, Drop, Success, Hit wall rate : [0.98, 0.96, 0.95, 0.09]\n",
      "averaged grid size : 5.00, averaged obstacles : 9.96\n"
     ]
    },
    {
     "name": "stderr",
     "output_type": "stream",
     "text": [
      " 39%|███▊      | 46509/120100 [07:47<13:19, 92.02it/s]"
     ]
    },
    {
     "name": "stdout",
     "output_type": "stream",
     "text": [
      "Epsilon : 7.949600769655452e-11, average reward : -3.8640, averaged shaped reward : -4.5640 Pickup, Drop, Success, Hit wall rate : [0.97, 0.94, 0.94, 0.28]\n",
      "averaged grid size : 5.00, averaged obstacles : 10.47\n"
     ]
    },
    {
     "name": "stderr",
     "output_type": "stream",
     "text": [
      " 39%|███▉      | 46613/120100 [07:49<15:29, 79.03it/s]"
     ]
    },
    {
     "name": "stdout",
     "output_type": "stream",
     "text": [
      "Epsilon : 7.561799610524223e-11, average reward : -24.9380, averaged shaped reward : -25.5380 Pickup, Drop, Success, Hit wall rate : [0.94, 0.92, 0.92, 0.2]\n",
      "averaged grid size : 5.00, averaged obstacles : 9.65\n"
     ]
    },
    {
     "name": "stderr",
     "output_type": "stream",
     "text": [
      " 39%|███▉      | 46709/120100 [07:50<22:29, 54.38it/s]"
     ]
    },
    {
     "name": "stdout",
     "output_type": "stream",
     "text": [
      "Epsilon : 7.192916349710293e-11, average reward : -31.5000, averaged shaped reward : -32.1000 Pickup, Drop, Success, Hit wall rate : [0.96, 0.89, 0.89, 0.17]\n",
      "averaged grid size : 5.00, averaged obstacles : 10.04\n"
     ]
    },
    {
     "name": "stderr",
     "output_type": "stream",
     "text": [
      " 39%|███▉      | 46812/120100 [07:52<18:40, 65.43it/s]"
     ]
    },
    {
     "name": "stdout",
     "output_type": "stream",
     "text": [
      "Epsilon : 6.842028125411133e-11, average reward : -35.3020, averaged shaped reward : -35.8020 Pickup, Drop, Success, Hit wall rate : [0.94, 0.9, 0.9, 0.13]\n",
      "averaged grid size : 5.00, averaged obstacles : 10.17\n"
     ]
    },
    {
     "name": "stderr",
     "output_type": "stream",
     "text": [
      " 39%|███▉      | 46917/120100 [07:53<14:12, 85.87it/s] "
     ]
    },
    {
     "name": "stdout",
     "output_type": "stream",
     "text": [
      "Epsilon : 6.508257095302162e-11, average reward : 14.5830, averaged shaped reward : 14.4830 Pickup, Drop, Success, Hit wall rate : [0.99, 0.96, 0.96, 0.08]\n",
      "averaged grid size : 5.00, averaged obstacles : 10.43\n"
     ]
    },
    {
     "name": "stderr",
     "output_type": "stream",
     "text": [
      " 39%|███▉      | 47012/120100 [07:54<10:35, 115.10it/s]"
     ]
    },
    {
     "name": "stdout",
     "output_type": "stream",
     "text": [
      "Epsilon : 6.190768240375465e-11, average reward : 12.6420, averaged shaped reward : 11.9420 Pickup, Drop, Success, Hit wall rate : [1.01, 1.0, 0.99, 0.14]\n",
      "averaged grid size : 5.00, averaged obstacles : 10.32\n"
     ]
    },
    {
     "name": "stderr",
     "output_type": "stream",
     "text": [
      " 39%|███▉      | 47112/120100 [07:55<13:45, 88.37it/s] "
     ]
    },
    {
     "name": "stdout",
     "output_type": "stream",
     "text": [
      "Epsilon : 5.88876727591263e-11, average reward : 8.1670, averaged shaped reward : 8.1670 Pickup, Drop, Success, Hit wall rate : [0.98, 0.96, 0.96, 0.06]\n",
      "averaged grid size : 5.00, averaged obstacles : 10.66\n"
     ]
    },
    {
     "name": "stderr",
     "output_type": "stream",
     "text": [
      " 39%|███▉      | 47235/120100 [07:56<09:02, 134.38it/s]"
     ]
    },
    {
     "name": "stdout",
     "output_type": "stream",
     "text": [
      "Epsilon : 5.601498664365491e-11, average reward : 11.2290, averaged shaped reward : 10.8290 Pickup, Drop, Success, Hit wall rate : [1.0, 0.98, 0.97, 0.04]\n",
      "averaged grid size : 5.00, averaged obstacles : 10.02\n"
     ]
    },
    {
     "name": "stderr",
     "output_type": "stream",
     "text": [
      " 39%|███▉      | 47318/120100 [07:56<10:17, 117.83it/s]"
     ]
    },
    {
     "name": "stdout",
     "output_type": "stream",
     "text": [
      "Epsilon : 5.3282437251734745e-11, average reward : 16.9930, averaged shaped reward : 16.8930 Pickup, Drop, Success, Hit wall rate : [1.0, 0.96, 0.96, 0.07]\n",
      "averaged grid size : 5.00, averaged obstacles : 10.47\n"
     ]
    },
    {
     "name": "stderr",
     "output_type": "stream",
     "text": [
      " 39%|███▉      | 47417/120100 [07:57<11:11, 108.20it/s]"
     ]
    },
    {
     "name": "stdout",
     "output_type": "stream",
     "text": [
      "Epsilon : 5.0683188367887296e-11, average reward : 21.6710, averaged shaped reward : 21.5710 Pickup, Drop, Success, Hit wall rate : [0.96, 0.96, 0.96, 0.12]\n",
      "averaged grid size : 5.00, averaged obstacles : 10.07\n"
     ]
    },
    {
     "name": "stderr",
     "output_type": "stream",
     "text": [
      " 40%|███▉      | 47510/120100 [07:58<08:38, 139.93it/s]"
     ]
    },
    {
     "name": "stdout",
     "output_type": "stream",
     "text": [
      "Epsilon : 4.8210737264108785e-11, average reward : 15.1100, averaged shaped reward : 15.1100 Pickup, Drop, Success, Hit wall rate : [0.99, 0.98, 0.98, 0.04]\n",
      "averaged grid size : 5.00, averaged obstacles : 9.51\n"
     ]
    },
    {
     "name": "stderr",
     "output_type": "stream",
     "text": [
      " 40%|███▉      | 47611/120100 [07:59<15:06, 79.92it/s] "
     ]
    },
    {
     "name": "stdout",
     "output_type": "stream",
     "text": [
      "Epsilon : 4.5858898431527635e-11, average reward : -17.0290, averaged shaped reward : -17.0290 Pickup, Drop, Success, Hit wall rate : [0.97, 0.92, 0.92, 0.04]\n",
      "averaged grid size : 5.00, averaged obstacles : 9.90\n"
     ]
    },
    {
     "name": "stderr",
     "output_type": "stream",
     "text": [
      " 40%|███▉      | 47706/120100 [08:01<21:02, 57.33it/s]"
     ]
    },
    {
     "name": "stdout",
     "output_type": "stream",
     "text": [
      "Epsilon : 4.36217881056718e-11, average reward : -36.0160, averaged shaped reward : -36.0160 Pickup, Drop, Success, Hit wall rate : [0.94, 0.87, 0.87, 0.03]\n",
      "averaged grid size : 5.00, averaged obstacles : 10.58\n"
     ]
    },
    {
     "name": "stderr",
     "output_type": "stream",
     "text": [
      " 40%|███▉      | 47811/120100 [08:02<15:33, 77.43it/s] "
     ]
    },
    {
     "name": "stdout",
     "output_type": "stream",
     "text": [
      "Epsilon : 4.149380954663156e-11, average reward : -7.7940, averaged shaped reward : -8.1940 Pickup, Drop, Success, Hit wall rate : [0.96, 0.92, 0.92, 0.02]\n",
      "averaged grid size : 5.00, averaged obstacles : 10.31\n"
     ]
    },
    {
     "name": "stderr",
     "output_type": "stream",
     "text": [
      " 40%|███▉      | 47916/120100 [08:04<17:19, 69.45it/s]"
     ]
    },
    {
     "name": "stdout",
     "output_type": "stream",
     "text": [
      "Epsilon : 3.9469639037292635e-11, average reward : -16.7660, averaged shaped reward : -17.0660 Pickup, Drop, Success, Hit wall rate : [0.96, 0.92, 0.92, 0.04]\n",
      "averaged grid size : 5.00, averaged obstacles : 10.12\n"
     ]
    },
    {
     "name": "stderr",
     "output_type": "stream",
     "text": [
      " 40%|███▉      | 48012/120100 [08:05<19:19, 62.18it/s] "
     ]
    },
    {
     "name": "stdout",
     "output_type": "stream",
     "text": [
      "Epsilon : 3.754421256460991e-11, average reward : -14.0350, averaged shaped reward : -14.6350 Pickup, Drop, Success, Hit wall rate : [1.0, 0.95, 0.94, 0.76]\n",
      "averaged grid size : 5.00, averaged obstacles : 10.33\n"
     ]
    },
    {
     "name": "stderr",
     "output_type": "stream",
     "text": [
      " 40%|████      | 48115/120100 [08:06<12:41, 94.52it/s]"
     ]
    },
    {
     "name": "stdout",
     "output_type": "stream",
     "text": [
      "Epsilon : 3.5712713150601466e-11, average reward : -23.1110, averaged shaped reward : -24.1110 Pickup, Drop, Success, Hit wall rate : [1.01, 0.97, 0.91, 0.09]\n",
      "averaged grid size : 5.00, averaged obstacles : 9.91\n"
     ]
    },
    {
     "name": "stderr",
     "output_type": "stream",
     "text": [
      " 40%|████      | 48203/120100 [08:07<15:57, 75.08it/s] "
     ]
    },
    {
     "name": "stdout",
     "output_type": "stream",
     "text": [
      "Epsilon : 3.397055880136805e-11, average reward : -1.4970, averaged shaped reward : -1.4970 Pickup, Drop, Success, Hit wall rate : [0.98, 0.94, 0.94, 0.03]\n",
      "averaged grid size : 5.00, averaged obstacles : 10.53\n"
     ]
    },
    {
     "name": "stderr",
     "output_type": "stream",
     "text": [
      " 40%|████      | 48305/120100 [08:09<16:48, 71.16it/s]"
     ]
    },
    {
     "name": "stdout",
     "output_type": "stream",
     "text": [
      "Epsilon : 3.2313391043989286e-11, average reward : -13.1760, averaged shaped reward : -13.2760 Pickup, Drop, Success, Hit wall rate : [0.98, 0.95, 0.94, 0.14]\n",
      "averaged grid size : 5.00, averaged obstacles : 10.16\n"
     ]
    },
    {
     "name": "stderr",
     "output_type": "stream",
     "text": [
      " 40%|████      | 48420/120100 [08:10<10:07, 117.91it/s]"
     ]
    },
    {
     "name": "stdout",
     "output_type": "stream",
     "text": [
      "Epsilon : 3.0737064022618304e-11, average reward : -23.5090, averaged shaped reward : -24.5090 Pickup, Drop, Success, Hit wall rate : [0.93, 0.9, 0.9, 0.33]\n",
      "averaged grid size : 5.00, averaged obstacles : 10.15\n"
     ]
    },
    {
     "name": "stderr",
     "output_type": "stream",
     "text": [
      " 40%|████      | 48519/120100 [08:11<08:44, 136.37it/s]"
     ]
    },
    {
     "name": "stdout",
     "output_type": "stream",
     "text": [
      "Epsilon : 2.923763412649549e-11, average reward : 27.2270, averaged shaped reward : 27.0270 Pickup, Drop, Success, Hit wall rate : [1.0, 0.98, 0.98, 0.13]\n",
      "averaged grid size : 5.00, averaged obstacles : 10.14\n"
     ]
    },
    {
     "name": "stderr",
     "output_type": "stream",
     "text": [
      " 40%|████      | 48600/120100 [08:12<14:27, 82.43it/s] "
     ]
    },
    {
     "name": "stdout",
     "output_type": "stream",
     "text": [
      "Epsilon : 2.7811350123934038e-11, average reward : 3.8720, averaged shaped reward : 3.8720 Pickup, Drop, Success, Hit wall rate : [0.98, 0.93, 0.93, 0.04]\n",
      "averaged grid size : 5.00, averaged obstacles : 10.92\n"
     ]
    },
    {
     "name": "stderr",
     "output_type": "stream",
     "text": [
      " 41%|████      | 48747/120100 [08:14<08:51, 134.19it/s]"
     ]
    },
    {
     "name": "stdout",
     "output_type": "stream",
     "text": [
      "Epsilon : 2.6454643777593366e-11, average reward : -19.8580, averaged shaped reward : -20.0580 Pickup, Drop, Success, Hit wall rate : [0.9, 0.89, 0.89, 0.0]\n",
      "averaged grid size : 5.00, averaged obstacles : 9.70\n"
     ]
    },
    {
     "name": "stderr",
     "output_type": "stream",
     "text": [
      " 41%|████      | 48819/120100 [08:14<11:03, 107.45it/s]"
     ]
    },
    {
     "name": "stdout",
     "output_type": "stream",
     "text": [
      "Epsilon : 2.5164120917563097e-11, average reward : 20.6380, averaged shaped reward : 20.6380 Pickup, Drop, Success, Hit wall rate : [0.98, 0.98, 0.98, 0.03]\n",
      "averaged grid size : 5.00, averaged obstacles : 10.28\n"
     ]
    },
    {
     "name": "stderr",
     "output_type": "stream",
     "text": [
      " 41%|████      | 48918/120100 [08:15<07:22, 160.69it/s]"
     ]
    },
    {
     "name": "stdout",
     "output_type": "stream",
     "text": [
      "Epsilon : 2.393655294992384e-11, average reward : 37.7860, averaged shaped reward : 37.7860 Pickup, Drop, Success, Hit wall rate : [1.0, 0.99, 0.99, 0.0]\n",
      "averaged grid size : 5.00, averaged obstacles : 9.85\n"
     ]
    },
    {
     "name": "stderr",
     "output_type": "stream",
     "text": [
      " 41%|████      | 49023/120100 [08:16<10:33, 112.21it/s]"
     ]
    },
    {
     "name": "stdout",
     "output_type": "stream",
     "text": [
      "Epsilon : 2.2768868779541402e-11, average reward : 1.5130, averaged shaped reward : 1.4130 Pickup, Drop, Success, Hit wall rate : [0.97, 0.95, 0.95, 0.02]\n",
      "averaged grid size : 5.00, averaged obstacles : 9.96\n"
     ]
    },
    {
     "name": "stderr",
     "output_type": "stream",
     "text": [
      " 41%|████      | 49109/120100 [08:17<11:05, 106.66it/s]"
     ]
    },
    {
     "name": "stdout",
     "output_type": "stream",
     "text": [
      "Epsilon : 2.165814712688717e-11, average reward : 5.0020, averaged shaped reward : 5.0020 Pickup, Drop, Success, Hit wall rate : [0.98, 0.93, 0.93, 0.02]\n",
      "averaged grid size : 5.00, averaged obstacles : 9.29\n"
     ]
    },
    {
     "name": "stderr",
     "output_type": "stream",
     "text": [
      " 41%|████      | 49219/120100 [08:18<10:26, 113.20it/s]"
     ]
    },
    {
     "name": "stdout",
     "output_type": "stream",
     "text": [
      "Epsilon : 2.0601609219662713e-11, average reward : 15.0070, averaged shaped reward : 14.9070 Pickup, Drop, Success, Hit wall rate : [0.97, 0.97, 0.97, 0.0]\n",
      "averaged grid size : 5.00, averaged obstacles : 10.13\n"
     ]
    },
    {
     "name": "stderr",
     "output_type": "stream",
     "text": [
      " 41%|████      | 49309/120100 [08:19<13:36, 86.68it/s] "
     ]
    },
    {
     "name": "stdout",
     "output_type": "stream",
     "text": [
      "Epsilon : 1.9596611840945264e-11, average reward : 6.9980, averaged shaped reward : 6.9980 Pickup, Drop, Success, Hit wall rate : [0.96, 0.95, 0.95, 0.02]\n",
      "averaged grid size : 5.00, averaged obstacles : 9.51\n"
     ]
    },
    {
     "name": "stderr",
     "output_type": "stream",
     "text": [
      " 41%|████      | 49424/120100 [08:20<11:12, 105.16it/s]"
     ]
    },
    {
     "name": "stdout",
     "output_type": "stream",
     "text": [
      "Epsilon : 1.8640640716461632e-11, average reward : -19.9690, averaged shaped reward : -20.1690 Pickup, Drop, Success, Hit wall rate : [0.96, 0.91, 0.91, 0.07]\n",
      "averaged grid size : 5.00, averaged obstacles : 10.00\n"
     ]
    },
    {
     "name": "stderr",
     "output_type": "stream",
     "text": [
      " 41%|████      | 49507/120100 [08:21<10:56, 107.56it/s]"
     ]
    },
    {
     "name": "stdout",
     "output_type": "stream",
     "text": [
      "Epsilon : 1.7731304224447345e-11, average reward : 13.6150, averaged shaped reward : 13.4150 Pickup, Drop, Success, Hit wall rate : [0.99, 0.96, 0.96, 0.06]\n",
      "averaged grid size : 5.00, averaged obstacles : 9.44\n"
     ]
    },
    {
     "name": "stderr",
     "output_type": "stream",
     "text": [
      " 41%|████▏     | 49610/120100 [08:22<13:08, 89.40it/s] "
     ]
    },
    {
     "name": "stdout",
     "output_type": "stream",
     "text": [
      "Epsilon : 1.6866327412354274e-11, average reward : -6.1730, averaged shaped reward : -6.2730 Pickup, Drop, Success, Hit wall rate : [0.97, 0.94, 0.94, 0.04]\n",
      "averaged grid size : 5.00, averaged obstacles : 10.33\n"
     ]
    },
    {
     "name": "stderr",
     "output_type": "stream",
     "text": [
      " 41%|████▏     | 49706/120100 [08:23<12:56, 90.70it/s] "
     ]
    },
    {
     "name": "stdout",
     "output_type": "stream",
     "text": [
      "Epsilon : 1.6043546305438217e-11, average reward : -2.4420, averaged shaped reward : -2.7420 Pickup, Drop, Success, Hit wall rate : [0.96, 0.95, 0.95, 0.03]\n",
      "averaged grid size : 5.00, averaged obstacles : 10.01\n"
     ]
    },
    {
     "name": "stderr",
     "output_type": "stream",
     "text": [
      " 41%|████▏     | 49830/120100 [08:25<09:54, 118.23it/s]"
     ]
    },
    {
     "name": "stdout",
     "output_type": "stream",
     "text": [
      "Epsilon : 1.526090249298746e-11, average reward : -7.2760, averaged shaped reward : -7.4760 Pickup, Drop, Success, Hit wall rate : [0.97, 0.94, 0.93, 0.04]\n",
      "averaged grid size : 5.00, averaged obstacles : 9.80\n"
     ]
    },
    {
     "name": "stderr",
     "output_type": "stream",
     "text": [
      " 42%|████▏     | 49916/120100 [08:26<13:08, 88.99it/s] "
     ]
    },
    {
     "name": "stdout",
     "output_type": "stream",
     "text": [
      "Epsilon : 1.4516437978648608e-11, average reward : 7.8740, averaged shaped reward : 7.0740 Pickup, Drop, Success, Hit wall rate : [0.96, 0.96, 0.96, 0.18]\n",
      "averaged grid size : 5.00, averaged obstacles : 10.97\n"
     ]
    },
    {
     "name": "stderr",
     "output_type": "stream",
     "text": [
      " 42%|████▏     | 49999/120100 [08:27<15:40, 74.51it/s]"
     ]
    },
    {
     "name": "stdout",
     "output_type": "stream",
     "text": [
      "Epsilon : 1.380829028196615e-11, average reward : -14.5500, averaged shaped reward : -14.6500 Pickup, Drop, Success, Hit wall rate : [0.95, 0.93, 0.93, 0.17]\n",
      "averaged grid size : 5.00, averaged obstacles : 10.26\n"
     ]
    },
    {
     "name": "stderr",
     "output_type": "stream",
     "text": [
      " 42%|████▏     | 50108/120100 [08:28<14:04, 82.92it/s]"
     ]
    },
    {
     "name": "stdout",
     "output_type": "stream",
     "text": [
      "Epsilon : 1.3134687778881065e-11, average reward : -18.8320, averaged shaped reward : -18.9320 Pickup, Drop, Success, Hit wall rate : [0.95, 0.9, 0.9, 0.11]\n",
      "averaged grid size : 5.00, averaged obstacles : 9.60\n"
     ]
    },
    {
     "name": "stderr",
     "output_type": "stream",
     "text": [
      " 42%|████▏     | 50224/120100 [08:30<10:43, 108.53it/s]"
     ]
    },
    {
     "name": "stdout",
     "output_type": "stream",
     "text": [
      "Epsilon : 1.2493945269531417e-11, average reward : -20.9640, averaged shaped reward : -21.0640 Pickup, Drop, Success, Hit wall rate : [0.96, 0.91, 0.91, 0.01]\n",
      "averaged grid size : 5.00, averaged obstacles : 10.77\n"
     ]
    },
    {
     "name": "stderr",
     "output_type": "stream",
     "text": [
      " 42%|████▏     | 50342/120100 [08:31<07:36, 152.70it/s]"
     ]
    },
    {
     "name": "stdout",
     "output_type": "stream",
     "text": [
      "Epsilon : 1.1884459762266573e-11, average reward : 16.8030, averaged shaped reward : 16.8030 Pickup, Drop, Success, Hit wall rate : [0.98, 0.97, 0.97, 0.17]\n",
      "averaged grid size : 5.00, averaged obstacles : 8.95\n"
     ]
    },
    {
     "name": "stderr",
     "output_type": "stream",
     "text": [
      " 42%|████▏     | 50407/120100 [08:32<15:24, 75.42it/s] "
     ]
    },
    {
     "name": "stdout",
     "output_type": "stream",
     "text": [
      "Epsilon : 1.1304706463327607e-11, average reward : -17.2660, averaged shaped reward : -17.2660 Pickup, Drop, Success, Hit wall rate : [0.95, 0.91, 0.91, 0.1]\n",
      "averaged grid size : 5.00, averaged obstacles : 10.21\n"
     ]
    },
    {
     "name": "stderr",
     "output_type": "stream",
     "text": [
      " 42%|████▏     | 50516/120100 [08:33<11:54, 97.42it/s] "
     ]
    },
    {
     "name": "stdout",
     "output_type": "stream",
     "text": [
      "Epsilon : 1.075323496216103e-11, average reward : -8.3370, averaged shaped reward : -8.8370 Pickup, Drop, Success, Hit wall rate : [1.02, 0.97, 0.93, 0.08]\n",
      "averaged grid size : 5.00, averaged obstacles : 10.03\n"
     ]
    },
    {
     "name": "stderr",
     "output_type": "stream",
     "text": [
      " 42%|████▏     | 50612/120100 [08:34<11:58, 96.74it/s] "
     ]
    },
    {
     "name": "stdout",
     "output_type": "stream",
     "text": [
      "Epsilon : 1.0228665602822336e-11, average reward : 12.6520, averaged shaped reward : 12.6520 Pickup, Drop, Success, Hit wall rate : [0.98, 0.96, 0.96, 0.04]\n",
      "averaged grid size : 5.00, averaged obstacles : 10.40\n"
     ]
    },
    {
     "name": "stderr",
     "output_type": "stream",
     "text": [
      " 42%|████▏     | 50713/120100 [08:36<15:58, 72.36it/s]"
     ]
    },
    {
     "name": "stdout",
     "output_type": "stream",
     "text": [
      "Epsilon : 9.72968603239138e-12, average reward : -32.7420, averaged shaped reward : -32.9420 Pickup, Drop, Success, Hit wall rate : [0.94, 0.89, 0.89, 0.09]\n",
      "averaged grid size : 5.00, averaged obstacles : 9.90\n"
     ]
    },
    {
     "name": "stderr",
     "output_type": "stream",
     "text": [
      " 42%|████▏     | 50810/120100 [08:37<13:38, 84.69it/s]"
     ]
    },
    {
     "name": "stdout",
     "output_type": "stream",
     "text": [
      "Epsilon : 9.255047917764665e-12, average reward : -13.3570, averaged shaped reward : -13.6570 Pickup, Drop, Success, Hit wall rate : [0.95, 0.91, 0.91, 0.12]\n",
      "averaged grid size : 5.00, averaged obstacles : 11.03\n"
     ]
    },
    {
     "name": "stderr",
     "output_type": "stream",
     "text": [
      " 42%|████▏     | 50923/120100 [08:38<09:21, 123.21it/s]"
     ]
    },
    {
     "name": "stdout",
     "output_type": "stream",
     "text": [
      "Epsilon : 8.803563822610554e-12, average reward : 9.7360, averaged shaped reward : 9.7360 Pickup, Drop, Success, Hit wall rate : [0.97, 0.94, 0.94, 0.1]\n",
      "averaged grid size : 5.00, averaged obstacles : 10.28\n"
     ]
    },
    {
     "name": "stderr",
     "output_type": "stream",
     "text": [
      " 42%|████▏     | 51009/120100 [08:39<12:16, 93.77it/s] "
     ]
    },
    {
     "name": "stdout",
     "output_type": "stream",
     "text": [
      "Epsilon : 8.374104236674372e-12, average reward : 1.2740, averaged shaped reward : 0.6740 Pickup, Drop, Success, Hit wall rate : [0.98, 0.96, 0.96, 0.05]\n",
      "averaged grid size : 5.00, averaged obstacles : 10.32\n"
     ]
    },
    {
     "name": "stderr",
     "output_type": "stream",
     "text": [
      " 43%|████▎     | 51116/120100 [08:40<11:31, 99.82it/s]"
     ]
    },
    {
     "name": "stdout",
     "output_type": "stream",
     "text": [
      "Epsilon : 7.965594750001256e-12, average reward : -9.5400, averaged shaped reward : -9.6400 Pickup, Drop, Success, Hit wall rate : [0.94, 0.93, 0.93, 0.07]\n",
      "averaged grid size : 5.00, averaged obstacles : 10.26\n"
     ]
    },
    {
     "name": "stderr",
     "output_type": "stream",
     "text": [
      " 43%|████▎     | 51203/120100 [08:41<18:21, 62.54it/s] "
     ]
    },
    {
     "name": "stdout",
     "output_type": "stream",
     "text": [
      "Epsilon : 7.577013365007502e-12, average reward : -12.6150, averaged shaped reward : -12.6150 Pickup, Drop, Success, Hit wall rate : [0.95, 0.92, 0.92, 0.06]\n",
      "averaged grid size : 5.00, averaged obstacles : 10.18\n"
     ]
    },
    {
     "name": "stderr",
     "output_type": "stream",
     "text": [
      " 43%|████▎     | 51320/120100 [08:42<09:41, 118.24it/s]"
     ]
    },
    {
     "name": "stdout",
     "output_type": "stream",
     "text": [
      "Epsilon : 7.2073879396755966e-12, average reward : 21.8350, averaged shaped reward : 21.8350 Pickup, Drop, Success, Hit wall rate : [0.99, 0.97, 0.97, 0.09]\n",
      "averaged grid size : 5.00, averaged obstacles : 9.88\n"
     ]
    },
    {
     "name": "stderr",
     "output_type": "stream",
     "text": [
      " 43%|████▎     | 51413/120100 [08:44<17:00, 67.30it/s] "
     ]
    },
    {
     "name": "stdout",
     "output_type": "stream",
     "text": [
      "Epsilon : 6.855793755476606e-12, average reward : -42.1400, averaged shaped reward : -42.3400 Pickup, Drop, Success, Hit wall rate : [0.93, 0.88, 0.88, 0.09]\n",
      "averaged grid size : 5.00, averaged obstacles : 10.34\n"
     ]
    },
    {
     "name": "stderr",
     "output_type": "stream",
     "text": [
      " 43%|████▎     | 51510/120100 [08:46<21:34, 52.99it/s]"
     ]
    },
    {
     "name": "stdout",
     "output_type": "stream",
     "text": [
      "Epsilon : 6.521351203935274e-12, average reward : -34.1810, averaged shaped reward : -34.3810 Pickup, Drop, Success, Hit wall rate : [0.94, 0.9, 0.9, 0.13]\n",
      "averaged grid size : 5.00, averaged obstacles : 9.58\n"
     ]
    },
    {
     "name": "stderr",
     "output_type": "stream",
     "text": [
      " 43%|████▎     | 51605/120100 [08:47<16:08, 70.70it/s]"
     ]
    },
    {
     "name": "stdout",
     "output_type": "stream",
     "text": [
      "Epsilon : 6.203223586050181e-12, average reward : -34.2770, averaged shaped reward : -34.7770 Pickup, Drop, Success, Hit wall rate : [0.92, 0.89, 0.89, 0.04]\n",
      "averaged grid size : 5.00, averaged obstacles : 9.17\n"
     ]
    },
    {
     "name": "stderr",
     "output_type": "stream",
     "text": [
      " 43%|████▎     | 51703/120100 [08:49<18:44, 60.81it/s]"
     ]
    },
    {
     "name": "stdout",
     "output_type": "stream",
     "text": [
      "Epsilon : 5.900615019063649e-12, average reward : -41.5840, averaged shaped reward : -41.5840 Pickup, Drop, Success, Hit wall rate : [0.92, 0.88, 0.88, 0.09]\n",
      "averaged grid size : 5.00, averaged obstacles : 9.74\n"
     ]
    },
    {
     "name": "stderr",
     "output_type": "stream",
     "text": [
      " 43%|████▎     | 51808/120100 [08:50<17:16, 65.90it/s]"
     ]
    },
    {
     "name": "stdout",
     "output_type": "stream",
     "text": [
      "Epsilon : 5.612768445344544e-12, average reward : -46.0010, averaged shaped reward : -46.8010 Pickup, Drop, Success, Hit wall rate : [0.87, 0.87, 0.87, 0.29]\n",
      "averaged grid size : 5.00, averaged obstacles : 9.06\n"
     ]
    },
    {
     "name": "stderr",
     "output_type": "stream",
     "text": [
      " 43%|████▎     | 51911/120100 [08:52<16:08, 70.38it/s]"
     ]
    },
    {
     "name": "stdout",
     "output_type": "stream",
     "text": [
      "Epsilon : 5.338963738402746e-12, average reward : -17.4520, averaged shaped reward : -17.6520 Pickup, Drop, Success, Hit wall rate : [0.96, 0.93, 0.93, 0.11]\n",
      "averaged grid size : 5.00, averaged obstacles : 9.99\n"
     ]
    },
    {
     "name": "stderr",
     "output_type": "stream",
     "text": [
      " 43%|████▎     | 52016/120100 [08:54<13:56, 81.40it/s]"
     ]
    },
    {
     "name": "stdout",
     "output_type": "stream",
     "text": [
      "Epsilon : 5.078515901296843e-12, average reward : -55.9190, averaged shaped reward : -56.3190 Pickup, Drop, Success, Hit wall rate : [0.91, 0.86, 0.86, 0.12]\n",
      "averaged grid size : 5.00, averaged obstacles : 11.07\n"
     ]
    },
    {
     "name": "stderr",
     "output_type": "stream",
     "text": [
      " 43%|████▎     | 52106/120100 [08:55<17:02, 66.47it/s]"
     ]
    },
    {
     "name": "stdout",
     "output_type": "stream",
     "text": [
      "Epsilon : 4.830773352927999e-12, average reward : -44.3760, averaged shaped reward : -45.4760 Pickup, Drop, Success, Hit wall rate : [0.9, 0.89, 0.87, 0.29]\n",
      "averaged grid size : 5.00, averaged obstacles : 9.77\n"
     ]
    },
    {
     "name": "stderr",
     "output_type": "stream",
     "text": [
      " 43%|████▎     | 52230/120100 [08:57<11:43, 96.44it/s]"
     ]
    },
    {
     "name": "stdout",
     "output_type": "stream",
     "text": [
      "Epsilon : 4.5951162979326485e-12, average reward : -49.0440, averaged shaped reward : -50.1440 Pickup, Drop, Success, Hit wall rate : [0.92, 0.89, 0.89, 0.42]\n",
      "averaged grid size : 5.00, averaged obstacles : 10.19\n"
     ]
    },
    {
     "name": "stderr",
     "output_type": "stream",
     "text": [
      " 44%|████▎     | 52310/120100 [08:58<13:29, 83.75it/s]"
     ]
    },
    {
     "name": "stdout",
     "output_type": "stream",
     "text": [
      "Epsilon : 4.370955176095789e-12, average reward : 4.7350, averaged shaped reward : 4.7350 Pickup, Drop, Success, Hit wall rate : [1.0, 0.97, 0.97, 0.08]\n",
      "averaged grid size : 5.00, averaged obstacles : 9.89\n"
     ]
    },
    {
     "name": "stderr",
     "output_type": "stream",
     "text": [
      " 44%|████▎     | 52416/120100 [08:59<10:11, 110.66it/s]"
     ]
    },
    {
     "name": "stdout",
     "output_type": "stream",
     "text": [
      "Epsilon : 4.15772918740578e-12, average reward : 13.8600, averaged shaped reward : 13.5600 Pickup, Drop, Success, Hit wall rate : [0.99, 0.98, 0.98, 0.05]\n",
      "averaged grid size : 5.00, averaged obstacles : 9.90\n"
     ]
    },
    {
     "name": "stderr",
     "output_type": "stream",
     "text": [
      " 44%|████▎     | 52520/120100 [09:00<08:23, 134.25it/s]"
     ]
    },
    {
     "name": "stdout",
     "output_type": "stream",
     "text": [
      "Epsilon : 3.954904889060597e-12, average reward : 6.1410, averaged shaped reward : 5.4410 Pickup, Drop, Success, Hit wall rate : [0.96, 0.96, 0.96, 0.14]\n",
      "averaged grid size : 5.00, averaged obstacles : 10.16\n"
     ]
    },
    {
     "name": "stderr",
     "output_type": "stream",
     "text": [
      " 44%|████▍     | 52607/120100 [09:01<12:53, 87.25it/s] "
     ]
    },
    {
     "name": "stdout",
     "output_type": "stream",
     "text": [
      "Epsilon : 3.7619748609155484e-12, average reward : 6.8350, averaged shaped reward : 6.8350 Pickup, Drop, Success, Hit wall rate : [0.99, 0.98, 0.98, 0.06]\n",
      "averaged grid size : 5.00, averaged obstacles : 10.37\n"
     ]
    },
    {
     "name": "stderr",
     "output_type": "stream",
     "text": [
      " 44%|████▍     | 52714/120100 [09:02<10:36, 105.93it/s]"
     ]
    },
    {
     "name": "stdout",
     "output_type": "stream",
     "text": [
      "Epsilon : 3.5784564360338345e-12, average reward : 4.1280, averaged shaped reward : 3.8280 Pickup, Drop, Success, Hit wall rate : [1.0, 0.98, 0.98, 0.07]\n",
      "averaged grid size : 5.00, averaged obstacles : 9.94\n"
     ]
    },
    {
     "name": "stderr",
     "output_type": "stream",
     "text": [
      " 44%|████▍     | 52806/120100 [09:03<14:26, 77.70it/s] "
     ]
    },
    {
     "name": "stdout",
     "output_type": "stream",
     "text": [
      "Epsilon : 3.4038904931638897e-12, average reward : 5.9950, averaged shaped reward : 5.5950 Pickup, Drop, Success, Hit wall rate : [0.99, 0.98, 0.97, 0.13]\n",
      "averaged grid size : 5.00, averaged obstacles : 11.08\n"
     ]
    },
    {
     "name": "stderr",
     "output_type": "stream",
     "text": [
      " 44%|████▍     | 52921/120100 [09:04<11:21, 98.57it/s]"
     ]
    },
    {
     "name": "stdout",
     "output_type": "stream",
     "text": [
      "Epsilon : 3.2378403081227157e-12, average reward : -16.0050, averaged shaped reward : -16.1050 Pickup, Drop, Success, Hit wall rate : [0.95, 0.9, 0.9, 0.08]\n",
      "averaged grid size : 5.00, averaged obstacles : 9.56\n"
     ]
    },
    {
     "name": "stderr",
     "output_type": "stream",
     "text": [
      " 44%|████▍     | 53007/120100 [09:05<11:58, 93.43it/s] "
     ]
    },
    {
     "name": "stdout",
     "output_type": "stream",
     "text": [
      "Epsilon : 3.079890461211569e-12, average reward : -4.9790, averaged shaped reward : -5.3790 Pickup, Drop, Success, Hit wall rate : [0.96, 0.94, 0.94, 0.18]\n",
      "averaged grid size : 5.00, averaged obstacles : 8.83\n"
     ]
    },
    {
     "name": "stderr",
     "output_type": "stream",
     "text": [
      " 44%|████▍     | 53114/120100 [09:07<13:34, 82.26it/s] "
     ]
    },
    {
     "name": "stdout",
     "output_type": "stream",
     "text": [
      "Epsilon : 2.9296457979305926e-12, average reward : 0.7840, averaged shaped reward : 0.5840 Pickup, Drop, Success, Hit wall rate : [0.99, 0.95, 0.95, 0.02]\n",
      "averaged grid size : 5.00, averaged obstacles : 10.42\n"
     ]
    },
    {
     "name": "stderr",
     "output_type": "stream",
     "text": [
      " 44%|████▍     | 53204/120100 [09:08<17:40, 63.09it/s] "
     ]
    },
    {
     "name": "stdout",
     "output_type": "stream",
     "text": [
      "Epsilon : 2.7867304403923703e-12, average reward : -15.9250, averaged shaped reward : -16.4250 Pickup, Drop, Success, Hit wall rate : [0.95, 0.92, 0.92, 0.1]\n",
      "averaged grid size : 5.00, averaged obstacles : 10.32\n"
     ]
    },
    {
     "name": "stderr",
     "output_type": "stream",
     "text": [
      " 44%|████▍     | 53302/120100 [09:10<22:10, 50.22it/s]"
     ]
    },
    {
     "name": "stdout",
     "output_type": "stream",
     "text": [
      "Epsilon : 2.650786846961163e-12, average reward : -69.6200, averaged shaped reward : -69.8200 Pickup, Drop, Success, Hit wall rate : [0.93, 0.86, 0.86, 0.12]\n",
      "averaged grid size : 5.00, averaged obstacles : 10.32\n"
     ]
    },
    {
     "name": "stderr",
     "output_type": "stream",
     "text": [
      " 44%|████▍     | 53409/120100 [09:12<18:27, 60.19it/s]"
     ]
    },
    {
     "name": "stdout",
     "output_type": "stream",
     "text": [
      "Epsilon : 2.521474917765261e-12, average reward : -61.1470, averaged shaped reward : -62.3470 Pickup, Drop, Success, Hit wall rate : [0.98, 0.9, 0.86, 0.6]\n",
      "averaged grid size : 5.00, averaged obstacles : 11.00\n"
     ]
    },
    {
     "name": "stderr",
     "output_type": "stream",
     "text": [
      " 45%|████▍     | 53553/120100 [09:13<07:19, 151.59it/s]"
     ]
    },
    {
     "name": "stdout",
     "output_type": "stream",
     "text": [
      "Epsilon : 2.3984711438446646e-12, average reward : -24.5140, averaged shaped reward : -27.3140 Pickup, Drop, Success, Hit wall rate : [1.14, 1.08, 0.94, 0.41]\n",
      "averaged grid size : 5.00, averaged obstacles : 10.39\n"
     ]
    },
    {
     "name": "stderr",
     "output_type": "stream",
     "text": [
      " 45%|████▍     | 53608/120100 [09:14<17:07, 64.74it/s] "
     ]
    },
    {
     "name": "stdout",
     "output_type": "stream",
     "text": [
      "Epsilon : 2.281467797805428e-12, average reward : 0.7680, averaged shaped reward : 0.7680 Pickup, Drop, Success, Hit wall rate : [0.95, 0.93, 0.93, 0.04]\n",
      "averaged grid size : 5.00, averaged obstacles : 10.01\n"
     ]
    },
    {
     "name": "stderr",
     "output_type": "stream",
     "text": [
      " 45%|████▍     | 53719/120100 [09:16<14:24, 76.80it/s]"
     ]
    },
    {
     "name": "stdout",
     "output_type": "stream",
     "text": [
      "Epsilon : 2.1701721639558983e-12, average reward : -32.6620, averaged shaped reward : -33.2620 Pickup, Drop, Success, Hit wall rate : [0.95, 0.89, 0.89, 0.09]\n",
      "averaged grid size : 5.00, averaged obstacles : 10.61\n"
     ]
    },
    {
     "name": "stderr",
     "output_type": "stream",
     "text": [
      " 45%|████▍     | 53832/120100 [09:17<09:54, 111.54it/s]"
     ]
    },
    {
     "name": "stdout",
     "output_type": "stream",
     "text": [
      "Epsilon : 2.0643058059987907e-12, average reward : -16.3070, averaged shaped reward : -16.4070 Pickup, Drop, Success, Hit wall rate : [0.93, 0.9, 0.9, 0.07]\n",
      "averaged grid size : 5.00, averaged obstacles : 10.53\n"
     ]
    },
    {
     "name": "stderr",
     "output_type": "stream",
     "text": [
      " 45%|████▍     | 53913/120100 [09:18<07:58, 138.43it/s]"
     ]
    },
    {
     "name": "stdout",
     "output_type": "stream",
     "text": [
      "Epsilon : 1.9636038704470812e-12, average reward : 27.6920, averaged shaped reward : 27.3920 Pickup, Drop, Success, Hit wall rate : [1.0, 1.0, 0.99, 0.11]\n",
      "averaged grid size : 5.00, averaged obstacles : 9.82\n"
     ]
    },
    {
     "name": "stderr",
     "output_type": "stream",
     "text": [
      " 45%|████▍     | 54020/120100 [09:19<08:27, 130.14it/s]"
     ]
    },
    {
     "name": "stdout",
     "output_type": "stream",
     "text": [
      "Epsilon : 1.867814424020959e-12, average reward : 24.5500, averaged shaped reward : 24.5500 Pickup, Drop, Success, Hit wall rate : [0.98, 0.97, 0.97, 0.09]\n",
      "averaged grid size : 5.00, averaged obstacles : 9.50\n"
     ]
    },
    {
     "name": "stderr",
     "output_type": "stream",
     "text": [
      " 45%|████▌     | 54105/120100 [09:20<12:20, 89.17it/s] "
     ]
    },
    {
     "name": "stdout",
     "output_type": "stream",
     "text": [
      "Epsilon : 1.7766978233682243e-12, average reward : -16.1780, averaged shaped reward : -16.1780 Pickup, Drop, Success, Hit wall rate : [0.96, 0.93, 0.93, 0.06]\n",
      "averaged grid size : 5.00, averaged obstacles : 8.75\n"
     ]
    },
    {
     "name": "stderr",
     "output_type": "stream",
     "text": [
      " 45%|████▌     | 54207/120100 [09:22<15:24, 71.29it/s]"
     ]
    },
    {
     "name": "stdout",
     "output_type": "stream",
     "text": [
      "Epsilon : 1.6900261155312538e-12, average reward : -34.9790, averaged shaped reward : -35.1790 Pickup, Drop, Success, Hit wall rate : [0.94, 0.91, 0.91, 0.16]\n",
      "averaged grid size : 5.00, averaged obstacles : 10.34\n"
     ]
    },
    {
     "name": "stderr",
     "output_type": "stream",
     "text": [
      " 45%|████▌     | 54307/120100 [09:23<14:04, 77.90it/s]"
     ]
    },
    {
     "name": "stdout",
     "output_type": "stream",
     "text": [
      "Epsilon : 1.6075824676606854e-12, average reward : -36.6600, averaged shaped reward : -36.9600 Pickup, Drop, Success, Hit wall rate : [0.93, 0.88, 0.88, 0.09]\n",
      "averaged grid size : 5.00, averaged obstacles : 9.92\n"
     ]
    },
    {
     "name": "stderr",
     "output_type": "stream",
     "text": [
      " 45%|████▌     | 54414/120100 [09:24<11:27, 95.61it/s] "
     ]
    },
    {
     "name": "stdout",
     "output_type": "stream",
     "text": [
      "Epsilon : 1.5291606245490752e-12, average reward : -6.1970, averaged shaped reward : -6.4970 Pickup, Drop, Success, Hit wall rate : [0.96, 0.94, 0.93, 0.17]\n",
      "averaged grid size : 5.00, averaged obstacles : 9.71\n"
     ]
    },
    {
     "name": "stderr",
     "output_type": "stream",
     "text": [
      " 45%|████▌     | 54520/120100 [09:26<14:28, 75.49it/s]"
     ]
    },
    {
     "name": "stdout",
     "output_type": "stream",
     "text": [
      "Epsilon : 1.4545643926273969e-12, average reward : -17.0000, averaged shaped reward : -17.2000 Pickup, Drop, Success, Hit wall rate : [0.95, 0.91, 0.91, 0.09]\n",
      "averaged grid size : 5.00, averaged obstacles : 10.97\n"
     ]
    },
    {
     "name": "stderr",
     "output_type": "stream",
     "text": [
      " 45%|████▌     | 54609/120100 [09:27<10:23, 105.02it/s]"
     ]
    },
    {
     "name": "stdout",
     "output_type": "stream",
     "text": [
      "Epsilon : 1.3836071491334744e-12, average reward : -6.9360, averaged shaped reward : -7.7360 Pickup, Drop, Success, Hit wall rate : [1.0, 0.97, 0.93, 0.48]\n",
      "averaged grid size : 5.00, averaged obstacles : 10.51\n"
     ]
    },
    {
     "name": "stderr",
     "output_type": "stream",
     "text": [
      " 46%|████▌     | 54710/120100 [09:28<09:28, 114.92it/s]"
     ]
    },
    {
     "name": "stdout",
     "output_type": "stream",
     "text": [
      "Epsilon : 1.3161113752243807e-12, average reward : -6.0080, averaged shaped reward : -6.3080 Pickup, Drop, Success, Hit wall rate : [0.98, 0.95, 0.94, 0.42]\n",
      "averaged grid size : 5.00, averaged obstacles : 10.79\n"
     ]
    },
    {
     "name": "stderr",
     "output_type": "stream",
     "text": [
      " 46%|████▌     | 54820/120100 [09:29<11:33, 94.09it/s] "
     ]
    },
    {
     "name": "stdout",
     "output_type": "stream",
     "text": [
      "Epsilon : 1.251908211864777e-12, average reward : -4.5680, averaged shaped reward : -4.6680 Pickup, Drop, Success, Hit wall rate : [0.96, 0.93, 0.93, 0.02]\n",
      "averaged grid size : 5.00, averaged obstacles : 10.78\n"
     ]
    },
    {
     "name": "stderr",
     "output_type": "stream",
     "text": [
      " 46%|████▌     | 54913/120100 [09:30<10:40, 101.84it/s]"
     ]
    },
    {
     "name": "stdout",
     "output_type": "stream",
     "text": [
      "Epsilon : 1.1908370373801108e-12, average reward : 7.3230, averaged shaped reward : 7.0230 Pickup, Drop, Success, Hit wall rate : [0.95, 0.94, 0.94, 0.08]\n",
      "averaged grid size : 5.00, averaged obstacles : 10.80\n"
     ]
    },
    {
     "name": "stderr",
     "output_type": "stream",
     "text": [
      " 46%|████▌     | 55012/120100 [09:31<10:34, 102.63it/s]"
     ]
    },
    {
     "name": "stdout",
     "output_type": "stream",
     "text": [
      "Epsilon : 1.132745065617807e-12, average reward : 16.4880, averaged shaped reward : 16.4880 Pickup, Drop, Success, Hit wall rate : [0.97, 0.96, 0.96, 0.05]\n",
      "averaged grid size : 5.00, averaged obstacles : 9.23\n"
     ]
    },
    {
     "name": "stderr",
     "output_type": "stream",
     "text": [
      " 46%|████▌     | 55113/120100 [09:32<10:20, 104.72it/s]"
     ]
    },
    {
     "name": "stdout",
     "output_type": "stream",
     "text": [
      "Epsilon : 1.077486963711161e-12, average reward : 10.2370, averaged shaped reward : 10.0370 Pickup, Drop, Success, Hit wall rate : [0.97, 0.96, 0.96, 0.02]\n",
      "averaged grid size : 5.00, averaged obstacles : 10.84\n"
     ]
    },
    {
     "name": "stderr",
     "output_type": "stream",
     "text": [
      " 46%|████▌     | 55225/120100 [09:33<06:29, 166.74it/s]"
     ]
    },
    {
     "name": "stdout",
     "output_type": "stream",
     "text": [
      "Epsilon : 1.0249244884896416e-12, average reward : 17.1130, averaged shaped reward : 16.9130 Pickup, Drop, Success, Hit wall rate : [0.99, 0.97, 0.96, 0.04]\n",
      "averaged grid size : 5.00, averaged obstacles : 9.62\n"
     ]
    },
    {
     "name": "stderr",
     "output_type": "stream",
     "text": [
      " 46%|████▌     | 55304/120100 [09:34<17:15, 62.60it/s] "
     ]
    },
    {
     "name": "stdout",
     "output_type": "stream",
     "text": [
      "Epsilon : 9.749261406260048e-13, average reward : -7.8450, averaged shaped reward : -7.9450 Pickup, Drop, Success, Hit wall rate : [0.96, 0.92, 0.92, 0.03]\n",
      "averaged grid size : 5.00, averaged obstacles : 11.27\n"
     ]
    },
    {
     "name": "stderr",
     "output_type": "stream",
     "text": [
      " 46%|████▌     | 55417/120100 [09:35<13:18, 81.05it/s] "
     ]
    },
    {
     "name": "stdout",
     "output_type": "stream",
     "text": [
      "Epsilon : 9.273668356549592e-13, average reward : -6.8800, averaged shaped reward : -6.9800 Pickup, Drop, Success, Hit wall rate : [0.95, 0.92, 0.92, 0.05]\n",
      "averaged grid size : 5.00, averaged obstacles : 10.57\n"
     ]
    },
    {
     "name": "stderr",
     "output_type": "stream",
     "text": [
      " 46%|████▌     | 55499/120100 [09:36<14:10, 75.99it/s]"
     ]
    },
    {
     "name": "stdout",
     "output_type": "stream",
     "text": [
      "Epsilon : 8.821275910403589e-13, average reward : -16.4500, averaged shaped reward : -16.6500 Pickup, Drop, Success, Hit wall rate : [0.95, 0.92, 0.91, 0.03]\n",
      "averaged grid size : 5.00, averaged obstacles : 10.40\n"
     ]
    },
    {
     "name": "stderr",
     "output_type": "stream",
     "text": [
      " 46%|████▋     | 55612/120100 [09:38<13:39, 78.73it/s]"
     ]
    },
    {
     "name": "stdout",
     "output_type": "stream",
     "text": [
      "Epsilon : 8.390952285080301e-13, average reward : -24.9280, averaged shaped reward : -24.9280 Pickup, Drop, Success, Hit wall rate : [0.94, 0.91, 0.91, 0.06]\n",
      "averaged grid size : 5.00, averaged obstacles : 9.92\n"
     ]
    },
    {
     "name": "stderr",
     "output_type": "stream",
     "text": [
      " 46%|████▋     | 55713/120100 [09:39<11:39, 92.02it/s] "
     ]
    },
    {
     "name": "stdout",
     "output_type": "stream",
     "text": [
      "Epsilon : 7.981620908995357e-13, average reward : -5.4680, averaged shaped reward : -5.4680 Pickup, Drop, Success, Hit wall rate : [0.95, 0.93, 0.93, 0.06]\n",
      "averaged grid size : 5.00, averaged obstacles : 10.23\n"
     ]
    },
    {
     "name": "stderr",
     "output_type": "stream",
     "text": [
      " 46%|████▋     | 55810/120100 [09:40<09:45, 109.77it/s]"
     ]
    },
    {
     "name": "stdout",
     "output_type": "stream",
     "text": [
      "Epsilon : 7.592257728385138e-13, average reward : 0.7110, averaged shaped reward : 0.5110 Pickup, Drop, Success, Hit wall rate : [0.96, 0.94, 0.94, 0.06]\n",
      "averaged grid size : 5.00, averaged obstacles : 9.77\n"
     ]
    },
    {
     "name": "stderr",
     "output_type": "stream",
     "text": [
      " 47%|████▋     | 55914/120100 [09:41<10:26, 102.53it/s]"
     ]
    },
    {
     "name": "stdout",
     "output_type": "stream",
     "text": [
      "Epsilon : 7.221888645357791e-13, average reward : -1.8960, averaged shaped reward : -1.8960 Pickup, Drop, Success, Hit wall rate : [0.96, 0.94, 0.94, 0.01]\n",
      "averaged grid size : 5.00, averaged obstacles : 9.78\n"
     ]
    },
    {
     "name": "stderr",
     "output_type": "stream",
     "text": [
      " 47%|████▋     | 56007/120100 [09:42<11:09, 95.78it/s] "
     ]
    },
    {
     "name": "stdout",
     "output_type": "stream",
     "text": [
      "Epsilon : 6.869587080922396e-13, average reward : 7.2290, averaged shaped reward : 7.1290 Pickup, Drop, Success, Hit wall rate : [0.99, 0.96, 0.96, 0.02]\n",
      "averaged grid size : 5.00, averaged obstacles : 9.94\n"
     ]
    },
    {
     "name": "stderr",
     "output_type": "stream",
     "text": [
      " 47%|████▋     | 56120/120100 [09:43<09:01, 118.26it/s]"
     ]
    },
    {
     "name": "stdout",
     "output_type": "stream",
     "text": [
      "Epsilon : 6.534471656899649e-13, average reward : 1.1790, averaged shaped reward : 1.1790 Pickup, Drop, Success, Hit wall rate : [0.96, 0.95, 0.95, 0.02]\n",
      "averaged grid size : 5.00, averaged obstacles : 9.45\n"
     ]
    },
    {
     "name": "stderr",
     "output_type": "stream",
     "text": [
      " 47%|████▋     | 56212/120100 [09:45<14:54, 71.43it/s] "
     ]
    },
    {
     "name": "stdout",
     "output_type": "stream",
     "text": [
      "Epsilon : 6.215703990914624e-13, average reward : -2.8740, averaged shaped reward : -2.8740 Pickup, Drop, Success, Hit wall rate : [0.95, 0.93, 0.93, 0.05]\n",
      "averaged grid size : 5.00, averaged obstacles : 10.16\n"
     ]
    },
    {
     "name": "stderr",
     "output_type": "stream",
     "text": [
      " 47%|████▋     | 56321/120100 [09:46<11:47, 90.15it/s]"
     ]
    },
    {
     "name": "stdout",
     "output_type": "stream",
     "text": [
      "Epsilon : 5.912486598955223e-13, average reward : -31.8770, averaged shaped reward : -32.0770 Pickup, Drop, Success, Hit wall rate : [0.94, 0.92, 0.92, 0.03]\n",
      "averaged grid size : 5.00, averaged obstacles : 10.23\n"
     ]
    },
    {
     "name": "stderr",
     "output_type": "stream",
     "text": [
      " 47%|████▋     | 56415/120100 [09:47<09:09, 115.93it/s]"
     ]
    },
    {
     "name": "stdout",
     "output_type": "stream",
     "text": [
      "Epsilon : 5.624060900249086e-13, average reward : 17.4350, averaged shaped reward : 17.1350 Pickup, Drop, Success, Hit wall rate : [0.98, 0.97, 0.96, 0.05]\n",
      "averaged grid size : 5.00, averaged obstacles : 10.74\n"
     ]
    },
    {
     "name": "stderr",
     "output_type": "stream",
     "text": [
      " 47%|████▋     | 56521/120100 [09:48<08:21, 126.83it/s]"
     ]
    },
    {
     "name": "stdout",
     "output_type": "stream",
     "text": [
      "Epsilon : 5.349705319467414e-13, average reward : 2.6370, averaged shaped reward : 2.5370 Pickup, Drop, Success, Hit wall rate : [0.95, 0.94, 0.94, 0.14]\n",
      "averaged grid size : 5.00, averaged obstacles : 10.63\n"
     ]
    },
    {
     "name": "stderr",
     "output_type": "stream",
     "text": [
      " 47%|████▋     | 56612/120100 [09:49<10:22, 101.96it/s]"
     ]
    },
    {
     "name": "stdout",
     "output_type": "stream",
     "text": [
      "Epsilon : 5.088733481508074e-13, average reward : 7.8710, averaged shaped reward : 7.7710 Pickup, Drop, Success, Hit wall rate : [0.97, 0.95, 0.95, 0.14]\n",
      "averaged grid size : 5.00, averaged obstacles : 9.62\n"
     ]
    },
    {
     "name": "stderr",
     "output_type": "stream",
     "text": [
      " 47%|████▋     | 56724/120100 [09:50<07:32, 139.97it/s]"
     ]
    },
    {
     "name": "stdout",
     "output_type": "stream",
     "text": [
      "Epsilon : 4.840492494341587e-13, average reward : 8.0160, averaged shaped reward : 8.0160 Pickup, Drop, Success, Hit wall rate : [0.96, 0.94, 0.94, 0.01]\n",
      "averaged grid size : 5.00, averaged obstacles : 9.87\n"
     ]
    },
    {
     "name": "stderr",
     "output_type": "stream",
     "text": [
      " 47%|████▋     | 56815/120100 [09:51<08:28, 124.36it/s]"
     ]
    },
    {
     "name": "stdout",
     "output_type": "stream",
     "text": [
      "Epsilon : 4.604361315624164e-13, average reward : 22.8010, averaged shaped reward : 22.7010 Pickup, Drop, Success, Hit wall rate : [0.97, 0.96, 0.96, 0.04]\n",
      "averaged grid size : 5.00, averaged obstacles : 9.87\n"
     ]
    },
    {
     "name": "stderr",
     "output_type": "stream",
     "text": [
      " 47%|████▋     | 56902/120100 [09:52<13:50, 76.10it/s] "
     ]
    },
    {
     "name": "stdout",
     "output_type": "stream",
     "text": [
      "Epsilon : 4.3797491989913655e-13, average reward : 0.8060, averaged shaped reward : 0.8060 Pickup, Drop, Success, Hit wall rate : [0.99, 0.94, 0.94, 0.0]\n",
      "averaged grid size : 5.00, averaged obstacles : 10.81\n"
     ]
    },
    {
     "name": "stderr",
     "output_type": "stream",
     "text": [
      " 47%|████▋     | 57007/120100 [09:53<12:52, 81.66it/s] "
     ]
    },
    {
     "name": "stdout",
     "output_type": "stream",
     "text": [
      "Epsilon : 4.1660942161454064e-13, average reward : -4.2060, averaged shaped reward : -4.2060 Pickup, Drop, Success, Hit wall rate : [0.95, 0.92, 0.92, 0.02]\n",
      "averaged grid size : 5.00, averaged obstacles : 10.09\n"
     ]
    },
    {
     "name": "stderr",
     "output_type": "stream",
     "text": [
      " 48%|████▊     | 57103/120100 [09:54<10:45, 97.58it/s]"
     ]
    },
    {
     "name": "stdout",
     "output_type": "stream",
     "text": [
      "Epsilon : 3.962861851038706e-13, average reward : -5.4600, averaged shaped reward : -5.5600 Pickup, Drop, Success, Hit wall rate : [0.99, 0.94, 0.94, 0.03]\n",
      "averaged grid size : 5.00, averaged obstacles : 9.97\n"
     ]
    },
    {
     "name": "stderr",
     "output_type": "stream",
     "text": [
      " 48%|████▊     | 57209/120100 [09:55<15:17, 68.56it/s]"
     ]
    },
    {
     "name": "stdout",
     "output_type": "stream",
     "text": [
      "Epsilon : 3.769543662636604e-13, average reward : -22.3420, averaged shaped reward : -22.6420 Pickup, Drop, Success, Hit wall rate : [0.95, 0.91, 0.9, 0.1]\n",
      "averaged grid size : 5.00, averaged obstacles : 10.06\n"
     ]
    },
    {
     "name": "stderr",
     "output_type": "stream",
     "text": [
      " 48%|████▊     | 57318/120100 [09:57<12:44, 82.09it/s] "
     ]
    },
    {
     "name": "stdout",
     "output_type": "stream",
     "text": [
      "Epsilon : 3.585656012913833e-13, average reward : -16.1420, averaged shaped reward : -16.3420 Pickup, Drop, Success, Hit wall rate : [0.95, 0.93, 0.93, 0.03]\n",
      "averaged grid size : 5.00, averaged obstacles : 10.84\n"
     ]
    },
    {
     "name": "stderr",
     "output_type": "stream",
     "text": [
      " 48%|████▊     | 57416/120100 [09:58<13:10, 79.26it/s]"
     ]
    },
    {
     "name": "stdout",
     "output_type": "stream",
     "text": [
      "Epsilon : 3.4107388569024737e-13, average reward : -38.1330, averaged shaped reward : -40.0330 Pickup, Drop, Success, Hit wall rate : [1.07, 0.99, 0.89, 0.3]\n",
      "averaged grid size : 5.00, averaged obstacles : 10.51\n"
     ]
    },
    {
     "name": "stderr",
     "output_type": "stream",
     "text": [
      " 48%|████▊     | 57523/120100 [09:59<12:08, 85.94it/s]"
     ]
    },
    {
     "name": "stdout",
     "output_type": "stream",
     "text": [
      "Epsilon : 3.2443545917643317e-13, average reward : -4.3260, averaged shaped reward : -4.3260 Pickup, Drop, Success, Hit wall rate : [0.96, 0.95, 0.95, 0.04]\n",
      "averaged grid size : 5.00, averaged obstacles : 10.30\n"
     ]
    },
    {
     "name": "stderr",
     "output_type": "stream",
     "text": [
      " 48%|████▊     | 57608/120100 [10:01<13:55, 74.76it/s]"
     ]
    },
    {
     "name": "stdout",
     "output_type": "stream",
     "text": [
      "Epsilon : 3.0860869620084446e-13, average reward : -6.6610, averaged shaped reward : -6.6610 Pickup, Drop, Success, Hit wall rate : [0.95, 0.92, 0.92, 0.03]\n",
      "averaged grid size : 5.00, averaged obstacles : 9.72\n"
     ]
    },
    {
     "name": "stderr",
     "output_type": "stream",
     "text": [
      " 48%|████▊     | 57718/120100 [10:02<09:00, 115.36it/s]"
     ]
    },
    {
     "name": "stdout",
     "output_type": "stream",
     "text": [
      "Epsilon : 2.935540018114742e-13, average reward : -3.7930, averaged shaped reward : -3.9930 Pickup, Drop, Success, Hit wall rate : [0.96, 0.93, 0.93, 0.02]\n",
      "averaged grid size : 5.00, averaged obstacles : 9.21\n"
     ]
    },
    {
     "name": "stderr",
     "output_type": "stream",
     "text": [
      " 48%|████▊     | 57815/120100 [10:03<10:49, 95.86it/s] "
     ]
    },
    {
     "name": "stdout",
     "output_type": "stream",
     "text": [
      "Epsilon : 2.7923371259586413e-13, average reward : -2.0700, averaged shaped reward : -2.0700 Pickup, Drop, Success, Hit wall rate : [0.96, 0.93, 0.93, 0.02]\n",
      "averaged grid size : 5.00, averaged obstacles : 9.56\n"
     ]
    },
    {
     "name": "stderr",
     "output_type": "stream",
     "text": [
      " 48%|████▊     | 57909/120100 [10:04<13:45, 75.37it/s] "
     ]
    },
    {
     "name": "stdout",
     "output_type": "stream",
     "text": [
      "Epsilon : 2.6561200245583533e-13, average reward : 1.1060, averaged shaped reward : 0.9060 Pickup, Drop, Success, Hit wall rate : [0.95, 0.94, 0.94, 0.01]\n",
      "averaged grid size : 5.00, averaged obstacles : 9.23\n"
     ]
    },
    {
     "name": "stderr",
     "output_type": "stream",
     "text": [
      " 48%|████▊     | 58026/120100 [10:05<08:47, 117.70it/s]"
     ]
    },
    {
     "name": "stdout",
     "output_type": "stream",
     "text": [
      "Epsilon : 2.5265479297876054e-13, average reward : -13.9970, averaged shaped reward : -14.1970 Pickup, Drop, Success, Hit wall rate : [0.95, 0.91, 0.91, 0.02]\n",
      "averaged grid size : 5.00, averaged obstacles : 10.79\n"
     ]
    },
    {
     "name": "stderr",
     "output_type": "stream",
     "text": [
      " 48%|████▊     | 58104/120100 [10:06<10:28, 98.62it/s] "
     ]
    },
    {
     "name": "stdout",
     "output_type": "stream",
     "text": [
      "Epsilon : 2.4032966818114476e-13, average reward : -1.0490, averaged shaped reward : -1.1490 Pickup, Drop, Success, Hit wall rate : [0.95, 0.93, 0.92, 0.09]\n",
      "averaged grid size : 5.00, averaged obstacles : 9.39\n"
     ]
    },
    {
     "name": "stderr",
     "output_type": "stream",
     "text": [
      " 48%|████▊     | 58204/120100 [10:08<17:45, 58.11it/s]"
     ]
    },
    {
     "name": "stdout",
     "output_type": "stream",
     "text": [
      "Epsilon : 2.286057934112282e-13, average reward : -45.0780, averaged shaped reward : -45.3780 Pickup, Drop, Success, Hit wall rate : [0.94, 0.87, 0.87, 0.02]\n",
      "averaged grid size : 5.00, averaged obstacles : 9.81\n"
     ]
    },
    {
     "name": "stderr",
     "output_type": "stream",
     "text": [
      " 49%|████▊     | 58312/120100 [10:10<16:25, 62.69it/s]"
     ]
    },
    {
     "name": "stdout",
     "output_type": "stream",
     "text": [
      "Epsilon : 2.1745383820771775e-13, average reward : -37.4080, averaged shaped reward : -37.4080 Pickup, Drop, Success, Hit wall rate : [0.93, 0.88, 0.88, 0.06]\n",
      "averaged grid size : 5.00, averaged obstacles : 10.14\n"
     ]
    },
    {
     "name": "stderr",
     "output_type": "stream",
     "text": [
      " 49%|████▊     | 58418/120100 [10:11<10:57, 93.87it/s]"
     ]
    },
    {
     "name": "stdout",
     "output_type": "stream",
     "text": [
      "Epsilon : 2.068459029216613e-13, average reward : -3.9040, averaged shaped reward : -4.0040 Pickup, Drop, Success, Hit wall rate : [0.96, 0.93, 0.93, 0.03]\n",
      "averaged grid size : 5.00, averaged obstacles : 10.80\n"
     ]
    },
    {
     "name": "stderr",
     "output_type": "stream",
     "text": [
      " 49%|████▊     | 58514/120100 [10:12<11:35, 88.49it/s] "
     ]
    },
    {
     "name": "stdout",
     "output_type": "stream",
     "text": [
      "Epsilon : 1.9675544891788828e-13, average reward : 19.1490, averaged shaped reward : 19.0490 Pickup, Drop, Success, Hit wall rate : [0.99, 0.99, 0.99, 0.04]\n",
      "averaged grid size : 5.00, averaged obstacles : 9.43\n"
     ]
    },
    {
     "name": "stderr",
     "output_type": "stream",
     "text": [
      " 49%|████▉     | 58614/120100 [10:13<12:10, 84.13it/s] "
     ]
    },
    {
     "name": "stdout",
     "output_type": "stream",
     "text": [
      "Epsilon : 1.871572321813955e-13, average reward : 7.2210, averaged shaped reward : 7.2210 Pickup, Drop, Success, Hit wall rate : [0.96, 0.94, 0.94, 0.01]\n",
      "averaged grid size : 5.00, averaged obstacles : 9.16\n"
     ]
    },
    {
     "name": "stderr",
     "output_type": "stream",
     "text": [
      " 49%|████▉     | 58719/120100 [10:14<10:03, 101.66it/s]"
     ]
    },
    {
     "name": "stdout",
     "output_type": "stream",
     "text": [
      "Epsilon : 1.7802724016257817e-13, average reward : 4.5990, averaged shaped reward : 4.2990 Pickup, Drop, Success, Hit wall rate : [0.95, 0.94, 0.94, 0.03]\n",
      "averaged grid size : 5.00, averaged obstacles : 9.65\n"
     ]
    },
    {
     "name": "stderr",
     "output_type": "stream",
     "text": [
      " 49%|████▉     | 58811/120100 [10:15<16:56, 60.31it/s] "
     ]
    },
    {
     "name": "stdout",
     "output_type": "stream",
     "text": [
      "Epsilon : 1.6934263170330648e-13, average reward : -16.9220, averaged shaped reward : -17.3220 Pickup, Drop, Success, Hit wall rate : [0.92, 0.89, 0.89, 0.02]\n",
      "averaged grid size : 5.00, averaged obstacles : 10.21\n"
     ]
    },
    {
     "name": "stderr",
     "output_type": "stream",
     "text": [
      " 49%|████▉     | 58910/120100 [10:17<17:56, 56.84it/s]"
     ]
    },
    {
     "name": "stdout",
     "output_type": "stream",
     "text": [
      "Epsilon : 1.6108167989355642e-13, average reward : -69.5890, averaged shaped reward : -69.7890 Pickup, Drop, Success, Hit wall rate : [0.9, 0.82, 0.82, 0.07]\n",
      "averaged grid size : 5.00, averaged obstacles : 11.07\n"
     ]
    },
    {
     "name": "stderr",
     "output_type": "stream",
     "text": [
      " 49%|████▉     | 59009/120100 [10:18<10:09, 100.19it/s]"
     ]
    },
    {
     "name": "stdout",
     "output_type": "stream",
     "text": [
      "Epsilon : 1.5322371771563503e-13, average reward : -2.6320, averaged shaped reward : -2.8320 Pickup, Drop, Success, Hit wall rate : [0.98, 0.95, 0.95, 0.04]\n",
      "averaged grid size : 5.00, averaged obstacles : 9.56\n"
     ]
    },
    {
     "name": "stderr",
     "output_type": "stream",
     "text": [
      " 49%|████▉     | 59118/120100 [10:19<07:56, 128.06it/s]"
     ]
    },
    {
     "name": "stdout",
     "output_type": "stream",
     "text": [
      "Epsilon : 1.4574908634001496e-13, average reward : 7.5190, averaged shaped reward : 7.3190 Pickup, Drop, Success, Hit wall rate : [0.98, 0.96, 0.95, 0.13]\n",
      "averaged grid size : 5.00, averaged obstacles : 10.72\n"
     ]
    },
    {
     "name": "stderr",
     "output_type": "stream",
     "text": [
      " 49%|████▉     | 59208/120100 [10:20<09:36, 105.61it/s]"
     ]
    },
    {
     "name": "stdout",
     "output_type": "stream",
     "text": [
      "Epsilon : 1.3863908594342585e-13, average reward : 6.7260, averaged shaped reward : 6.7260 Pickup, Drop, Success, Hit wall rate : [0.99, 0.96, 0.96, 0.03]\n",
      "averaged grid size : 5.00, averaged obstacles : 9.49\n"
     ]
    },
    {
     "name": "stderr",
     "output_type": "stream",
     "text": [
      " 49%|████▉     | 59305/120100 [10:22<16:03, 63.10it/s] "
     ]
    },
    {
     "name": "stdout",
     "output_type": "stream",
     "text": [
      "Epsilon : 1.3187592892616013e-13, average reward : -13.2770, averaged shaped reward : -13.2770 Pickup, Drop, Success, Hit wall rate : [0.98, 0.93, 0.93, 0.0]\n",
      "averaged grid size : 5.00, averaged obstacles : 10.51\n"
     ]
    },
    {
     "name": "stderr",
     "output_type": "stream",
     "text": [
      " 49%|████▉     | 59402/120100 [10:23<11:03, 91.52it/s]"
     ]
    },
    {
     "name": "stdout",
     "output_type": "stream",
     "text": [
      "Epsilon : 1.2544269541155565e-13, average reward : -6.7270, averaged shaped reward : -6.7270 Pickup, Drop, Success, Hit wall rate : [0.97, 0.93, 0.93, 0.02]\n",
      "averaged grid size : 5.00, averaged obstacles : 8.93\n"
     ]
    },
    {
     "name": "stderr",
     "output_type": "stream",
     "text": [
      " 50%|████▉     | 59513/120100 [10:25<13:45, 73.39it/s]"
     ]
    },
    {
     "name": "stdout",
     "output_type": "stream",
     "text": [
      "Epsilon : 1.1932329091632136e-13, average reward : -30.8640, averaged shaped reward : -30.8640 Pickup, Drop, Success, Hit wall rate : [0.95, 0.93, 0.93, 0.03]\n",
      "averaged grid size : 5.00, averaged obstacles : 10.39\n"
     ]
    },
    {
     "name": "stderr",
     "output_type": "stream",
     "text": [
      " 50%|████▉     | 59614/120100 [10:26<14:49, 67.99it/s]"
     ]
    },
    {
     "name": "stdout",
     "output_type": "stream",
     "text": [
      "Epsilon : 1.1350240608581069e-13, average reward : -6.5850, averaged shaped reward : -6.6850 Pickup, Drop, Success, Hit wall rate : [0.94, 0.92, 0.92, 0.01]\n",
      "averaged grid size : 5.00, averaged obstacles : 9.81\n"
     ]
    },
    {
     "name": "stderr",
     "output_type": "stream",
     "text": [
      " 50%|████▉     | 59719/120100 [10:27<08:15, 121.87it/s]"
     ]
    },
    {
     "name": "stdout",
     "output_type": "stream",
     "text": [
      "Epsilon : 1.079654783935073e-13, average reward : 21.0040, averaged shaped reward : 21.0040 Pickup, Drop, Success, Hit wall rate : [0.99, 0.99, 0.99, 0.04]\n",
      "averaged grid size : 5.00, averaged obstacles : 10.70\n"
     ]
    },
    {
     "name": "stderr",
     "output_type": "stream",
     "text": [
      " 50%|████▉     | 59816/120100 [10:28<10:27, 96.13it/s] "
     ]
    },
    {
     "name": "stdout",
     "output_type": "stream",
     "text": [
      "Epsilon : 1.0269865570890415e-13, average reward : 0.9720, averaged shaped reward : 0.8720 Pickup, Drop, Success, Hit wall rate : [0.95, 0.93, 0.93, 0.04]\n",
      "averaged grid size : 5.00, averaged obstacles : 9.75\n"
     ]
    },
    {
     "name": "stderr",
     "output_type": "stream",
     "text": [
      " 50%|████▉     | 59914/120100 [10:28<06:08, 163.46it/s]"
     ]
    },
    {
     "name": "stdout",
     "output_type": "stream",
     "text": [
      "Epsilon : 9.768876164263153e-14, average reward : 45.5280, averaged shaped reward : 45.4280 Pickup, Drop, Success, Hit wall rate : [1.0, 1.0, 1.0, 0.02]\n",
      "averaged grid size : 5.00, averaged obstacles : 10.41\n"
     ]
    },
    {
     "name": "stderr",
     "output_type": "stream",
     "text": [
      " 50%|████▉     | 60023/120100 [10:29<07:23, 135.35it/s]"
     ]
    },
    {
     "name": "stdout",
     "output_type": "stream",
     "text": [
      "Epsilon : 9.292326258213601e-14, average reward : 18.3090, averaged shaped reward : 18.3090 Pickup, Drop, Success, Hit wall rate : [0.97, 0.96, 0.96, 0.03]\n",
      "averaged grid size : 5.00, averaged obstacles : 9.69\n"
     ]
    },
    {
     "name": "stderr",
     "output_type": "stream",
     "text": [
      " 50%|█████     | 60111/120100 [10:30<10:09, 98.50it/s] "
     ]
    },
    {
     "name": "stdout",
     "output_type": "stream",
     "text": [
      "Epsilon : 8.839023633543933e-14, average reward : 21.8010, averaged shaped reward : 21.0010 Pickup, Drop, Success, Hit wall rate : [1.04, 1.03, 0.97, 0.13]\n",
      "averaged grid size : 5.00, averaged obstacles : 10.71\n"
     ]
    },
    {
     "name": "stderr",
     "output_type": "stream",
     "text": [
      " 50%|█████     | 60210/120100 [10:31<11:03, 90.29it/s] "
     ]
    },
    {
     "name": "stdout",
     "output_type": "stream",
     "text": [
      "Epsilon : 8.407834230453284e-14, average reward : -3.4100, averaged shaped reward : -3.4100 Pickup, Drop, Success, Hit wall rate : [0.96, 0.93, 0.93, 0.01]\n",
      "averaged grid size : 5.00, averaged obstacles : 10.02\n"
     ]
    },
    {
     "name": "stderr",
     "output_type": "stream",
     "text": [
      " 50%|█████     | 60324/120100 [10:32<06:39, 149.66it/s]"
     ]
    },
    {
     "name": "stdout",
     "output_type": "stream",
     "text": [
      "Epsilon : 7.997679311378731e-14, average reward : 4.0270, averaged shaped reward : 3.9270 Pickup, Drop, Success, Hit wall rate : [0.97, 0.95, 0.95, 0.02]\n",
      "averaged grid size : 5.00, averaged obstacles : 10.03\n"
     ]
    },
    {
     "name": "stderr",
     "output_type": "stream",
     "text": [
      " 50%|█████     | 60400/120100 [10:33<12:30, 79.49it/s] "
     ]
    },
    {
     "name": "stdout",
     "output_type": "stream",
     "text": [
      "Epsilon : 7.607532762239884e-14, average reward : -18.6150, averaged shaped reward : -18.9150 Pickup, Drop, Success, Hit wall rate : [0.96, 0.92, 0.91, 0.16]\n",
      "averaged grid size : 5.00, averaged obstacles : 9.59\n"
     ]
    },
    {
     "name": "stderr",
     "output_type": "stream",
     "text": [
      " 50%|█████     | 60513/120100 [10:35<12:32, 79.17it/s]"
     ]
    },
    {
     "name": "stdout",
     "output_type": "stream",
     "text": [
      "Epsilon : 7.236418525335465e-14, average reward : -36.3640, averaged shaped reward : -36.3640 Pickup, Drop, Success, Hit wall rate : [0.93, 0.9, 0.9, 0.01]\n",
      "averaged grid size : 5.00, averaged obstacles : 9.57\n"
     ]
    },
    {
     "name": "stderr",
     "output_type": "stream",
     "text": [
      " 50%|█████     | 60616/120100 [10:37<13:02, 76.03it/s]"
     ]
    },
    {
     "name": "stdout",
     "output_type": "stream",
     "text": [
      "Epsilon : 6.883408157469474e-14, average reward : -5.9170, averaged shaped reward : -6.1170 Pickup, Drop, Success, Hit wall rate : [0.97, 0.92, 0.92, 0.02]\n",
      "averaged grid size : 5.00, averaged obstacles : 10.53\n"
     ]
    },
    {
     "name": "stderr",
     "output_type": "stream",
     "text": [
      " 51%|█████     | 60729/120100 [10:38<09:04, 109.00it/s]"
     ]
    },
    {
     "name": "stdout",
     "output_type": "stream",
     "text": [
      "Epsilon : 6.547618507198052e-14, average reward : 8.8980, averaged shaped reward : 8.8980 Pickup, Drop, Success, Hit wall rate : [0.98, 0.95, 0.95, 0.01]\n",
      "averaged grid size : 5.00, averaged obstacles : 10.12\n"
     ]
    },
    {
     "name": "stderr",
     "output_type": "stream",
     "text": [
      " 51%|█████     | 60805/120100 [10:39<13:34, 72.79it/s] "
     ]
    },
    {
     "name": "stdout",
     "output_type": "stream",
     "text": [
      "Epsilon : 6.228209505385937e-14, average reward : -8.1930, averaged shaped reward : -8.3930 Pickup, Drop, Success, Hit wall rate : [0.97, 0.93, 0.93, 0.1]\n",
      "averaged grid size : 5.00, averaged obstacles : 9.68\n"
     ]
    },
    {
     "name": "stderr",
     "output_type": "stream",
     "text": [
      " 51%|█████     | 60923/120100 [10:40<11:10, 88.22it/s]"
     ]
    },
    {
     "name": "stdout",
     "output_type": "stream",
     "text": [
      "Epsilon : 5.924382063545046e-14, average reward : -15.8040, averaged shaped reward : -16.0040 Pickup, Drop, Success, Hit wall rate : [0.97, 0.9, 0.9, 0.03]\n",
      "averaged grid size : 5.00, averaged obstacles : 10.72\n"
     ]
    },
    {
     "name": "stderr",
     "output_type": "stream",
     "text": [
      " 51%|█████     | 61002/120100 [10:41<08:05, 121.66it/s]"
     ]
    },
    {
     "name": "stdout",
     "output_type": "stream",
     "text": [
      "Epsilon : 5.635376074697303e-14, average reward : 34.4680, averaged shaped reward : 34.4680 Pickup, Drop, Success, Hit wall rate : [0.99, 0.99, 0.99, 0.01]\n",
      "averaged grid size : 5.00, averaged obstacles : 9.76\n"
     ]
    },
    {
     "name": "stderr",
     "output_type": "stream",
     "text": [
      " 51%|█████     | 61113/120100 [10:42<11:16, 87.13it/s] "
     ]
    },
    {
     "name": "stdout",
     "output_type": "stream",
     "text": [
      "Epsilon : 5.3604685117603077e-14, average reward : -7.4960, averaged shaped reward : -7.4960 Pickup, Drop, Success, Hit wall rate : [0.93, 0.91, 0.91, 0.02]\n",
      "averaged grid size : 5.00, averaged obstacles : 9.87\n"
     ]
    },
    {
     "name": "stderr",
     "output_type": "stream",
     "text": [
      " 51%|█████     | 61214/120100 [10:43<11:54, 82.44it/s] "
     ]
    },
    {
     "name": "stdout",
     "output_type": "stream",
     "text": [
      "Epsilon : 5.0989716186984413e-14, average reward : 3.5440, averaged shaped reward : 3.5440 Pickup, Drop, Success, Hit wall rate : [0.99, 0.95, 0.95, 0.29]\n",
      "averaged grid size : 5.00, averaged obstacles : 9.09\n"
     ]
    },
    {
     "name": "stderr",
     "output_type": "stream",
     "text": [
      " 51%|█████     | 61308/120100 [10:44<12:06, 80.92it/s] "
     ]
    },
    {
     "name": "stdout",
     "output_type": "stream",
     "text": [
      "Epsilon : 4.850231189914087e-14, average reward : -12.2200, averaged shaped reward : -12.2200 Pickup, Drop, Success, Hit wall rate : [0.93, 0.92, 0.92, 0.0]\n",
      "averaged grid size : 5.00, averaged obstacles : 9.35\n"
     ]
    },
    {
     "name": "stderr",
     "output_type": "stream",
     "text": [
      " 51%|█████     | 61419/120100 [10:46<09:58, 97.97it/s]"
     ]
    },
    {
     "name": "stdout",
     "output_type": "stream",
     "text": [
      "Epsilon : 4.613624933574417e-14, average reward : -17.5160, averaged shaped reward : -17.5160 Pickup, Drop, Success, Hit wall rate : [0.95, 0.91, 0.91, 0.0]\n",
      "averaged grid size : 5.00, averaged obstacles : 9.63\n"
     ]
    },
    {
     "name": "stderr",
     "output_type": "stream",
     "text": [
      " 51%|█████     | 61531/120100 [10:47<08:25, 115.85it/s]"
     ]
    },
    {
     "name": "stdout",
     "output_type": "stream",
     "text": [
      "Epsilon : 4.3885609147791095e-14, average reward : 8.5260, averaged shaped reward : 8.5260 Pickup, Drop, Success, Hit wall rate : [0.97, 0.95, 0.95, 0.02]\n",
      "averaged grid size : 5.00, averaged obstacles : 9.86\n"
     ]
    },
    {
     "name": "stderr",
     "output_type": "stream",
     "text": [
      " 51%|█████▏    | 61634/120100 [10:47<06:28, 150.63it/s]"
     ]
    },
    {
     "name": "stdout",
     "output_type": "stream",
     "text": [
      "Epsilon : 4.174476074674224e-14, average reward : 18.1990, averaged shaped reward : 18.0990 Pickup, Drop, Success, Hit wall rate : [0.97, 0.97, 0.97, 0.04]\n",
      "averaged grid size : 5.00, averaged obstacles : 10.09\n"
     ]
    },
    {
     "name": "stderr",
     "output_type": "stream",
     "text": [
      " 51%|█████▏    | 61712/120100 [10:48<09:13, 105.56it/s]"
     ]
    },
    {
     "name": "stdout",
     "output_type": "stream",
     "text": [
      "Epsilon : 3.970834821807328e-14, average reward : 8.1040, averaged shaped reward : 8.0040 Pickup, Drop, Success, Hit wall rate : [0.93, 0.93, 0.93, 0.0]\n",
      "averaged grid size : 5.00, averaged obstacles : 9.69\n"
     ]
    },
    {
     "name": "stderr",
     "output_type": "stream",
     "text": [
      " 51%|█████▏    | 61811/120100 [10:50<12:37, 76.97it/s] "
     ]
    },
    {
     "name": "stdout",
     "output_type": "stream",
     "text": [
      "Epsilon : 3.777127692199825e-14, average reward : -21.9050, averaged shaped reward : -22.0050 Pickup, Drop, Success, Hit wall rate : [0.94, 0.9, 0.9, 0.03]\n",
      "averaged grid size : 5.00, averaged obstacles : 9.93\n"
     ]
    },
    {
     "name": "stderr",
     "output_type": "stream",
     "text": [
      " 52%|█████▏    | 61914/120100 [10:51<08:06, 119.71it/s]"
     ]
    },
    {
     "name": "stdout",
     "output_type": "stream",
     "text": [
      "Epsilon : 3.5928700747842447e-14, average reward : 7.3130, averaged shaped reward : 7.3130 Pickup, Drop, Success, Hit wall rate : [0.97, 0.94, 0.94, 0.01]\n",
      "averaged grid size : 5.00, averaged obstacles : 10.48\n"
     ]
    },
    {
     "name": "stderr",
     "output_type": "stream",
     "text": [
      " 52%|█████▏    | 62006/120100 [10:52<12:21, 78.32it/s] "
     ]
    },
    {
     "name": "stdout",
     "output_type": "stream",
     "text": [
      "Epsilon : 3.41760099901786e-14, average reward : -14.1670, averaged shaped reward : -14.1670 Pickup, Drop, Success, Hit wall rate : [0.96, 0.91, 0.91, 0.01]\n",
      "averaged grid size : 5.00, averaged obstacles : 9.10\n"
     ]
    },
    {
     "name": "stderr",
     "output_type": "stream",
     "text": [
      " 52%|█████▏    | 62134/120100 [10:53<07:18, 132.06it/s]"
     ]
    },
    {
     "name": "stdout",
     "output_type": "stream",
     "text": [
      "Epsilon : 3.2508819816395025e-14, average reward : -23.0260, averaged shaped reward : -23.0260 Pickup, Drop, Success, Hit wall rate : [0.93, 0.9, 0.9, 0.02]\n",
      "averaged grid size : 5.00, averaged obstacles : 10.47\n"
     ]
    },
    {
     "name": "stderr",
     "output_type": "stream",
     "text": [
      " 52%|█████▏    | 62206/120100 [10:54<09:10, 105.08it/s]"
     ]
    },
    {
     "name": "stdout",
     "output_type": "stream",
     "text": [
      "Epsilon : 3.092295929684431e-14, average reward : 22.3670, averaged shaped reward : 22.3670 Pickup, Drop, Success, Hit wall rate : [0.99, 0.96, 0.96, 0.03]\n",
      "averaged grid size : 5.00, averaged obstacles : 9.86\n"
     ]
    },
    {
     "name": "stderr",
     "output_type": "stream",
     "text": [
      " 52%|█████▏    | 62311/120100 [10:56<13:16, 72.57it/s] "
     ]
    },
    {
     "name": "stdout",
     "output_type": "stream",
     "text": [
      "Epsilon : 2.94144609701285e-14, average reward : -18.8730, averaged shaped reward : -18.8730 Pickup, Drop, Success, Hit wall rate : [0.95, 0.92, 0.92, 0.03]\n",
      "averaged grid size : 5.00, averaged obstacles : 10.27\n"
     ]
    },
    {
     "name": "stderr",
     "output_type": "stream",
     "text": [
      " 52%|█████▏    | 62427/120100 [10:57<08:25, 114.19it/s]"
     ]
    },
    {
     "name": "stdout",
     "output_type": "stream",
     "text": [
      "Epsilon : 2.7979550917415165e-14, average reward : 8.3730, averaged shaped reward : 8.3730 Pickup, Drop, Success, Hit wall rate : [0.99, 0.97, 0.97, 0.16]\n",
      "averaged grid size : 5.00, averaged obstacles : 10.65\n"
     ]
    },
    {
     "name": "stderr",
     "output_type": "stream",
     "text": [
      " 52%|█████▏    | 62514/120100 [10:57<08:38, 111.03it/s]"
     ]
    },
    {
     "name": "stdout",
     "output_type": "stream",
     "text": [
      "Epsilon : 2.661463932095327e-14, average reward : 15.2800, averaged shaped reward : 15.2800 Pickup, Drop, Success, Hit wall rate : [0.99, 0.96, 0.96, 0.01]\n",
      "averaged grid size : 5.00, averaged obstacles : 11.72\n"
     ]
    },
    {
     "name": "stderr",
     "output_type": "stream",
     "text": [
      " 52%|█████▏    | 62603/120100 [10:58<11:30, 83.23it/s] "
     ]
    },
    {
     "name": "stdout",
     "output_type": "stream",
     "text": [
      "Epsilon : 2.5316311483167666e-14, average reward : 2.2490, averaged shaped reward : 2.2490 Pickup, Drop, Success, Hit wall rate : [0.96, 0.94, 0.94, 0.0]\n",
      "averaged grid size : 5.00, averaged obstacles : 9.57\n"
     ]
    },
    {
     "name": "stderr",
     "output_type": "stream",
     "text": [
      " 52%|█████▏    | 62720/120100 [11:00<10:10, 94.00it/s]"
     ]
    },
    {
     "name": "stdout",
     "output_type": "stream",
     "text": [
      "Epsilon : 2.4081319283864386e-14, average reward : -7.7460, averaged shaped reward : -7.8460 Pickup, Drop, Success, Hit wall rate : [0.99, 0.93, 0.93, 0.02]\n",
      "averaged grid size : 5.00, averaged obstacles : 10.94\n"
     ]
    },
    {
     "name": "stderr",
     "output_type": "stream",
     "text": [
      " 52%|█████▏    | 62814/120100 [11:01<14:44, 64.74it/s]"
     ]
    },
    {
     "name": "stdout",
     "output_type": "stream",
     "text": [
      "Epsilon : 2.290657305417457e-14, average reward : -32.1890, averaged shaped reward : -32.3890 Pickup, Drop, Success, Hit wall rate : [0.91, 0.89, 0.89, 0.05]\n",
      "averaged grid size : 5.00, averaged obstacles : 10.03\n"
     ]
    },
    {
     "name": "stderr",
     "output_type": "stream",
     "text": [
      " 52%|█████▏    | 62913/120100 [11:03<14:36, 65.24it/s]"
     ]
    },
    {
     "name": "stdout",
     "output_type": "stream",
     "text": [
      "Epsilon : 2.1789133846907546e-14, average reward : -41.0500, averaged shaped reward : -41.1500 Pickup, Drop, Success, Hit wall rate : [0.94, 0.9, 0.9, 0.04]\n",
      "averaged grid size : 5.00, averaged obstacles : 9.70\n"
     ]
    },
    {
     "name": "stderr",
     "output_type": "stream",
     "text": [
      " 52%|█████▏    | 63006/120100 [11:05<20:00, 47.57it/s] "
     ]
    },
    {
     "name": "stdout",
     "output_type": "stream",
     "text": [
      "Epsilon : 2.0726206083975047e-14, average reward : -19.6480, averaged shaped reward : -19.7480 Pickup, Drop, Success, Hit wall rate : [0.95, 0.91, 0.91, 0.0]\n",
      "averaged grid size : 5.00, averaged obstacles : 10.98\n"
     ]
    },
    {
     "name": "stderr",
     "output_type": "stream",
     "text": [
      " 53%|█████▎    | 63110/120100 [11:06<12:28, 76.17it/s]"
     ]
    },
    {
     "name": "stdout",
     "output_type": "stream",
     "text": [
      "Epsilon : 1.9715130562492374e-14, average reward : -33.8560, averaged shaped reward : -33.9560 Pickup, Drop, Success, Hit wall rate : [0.93, 0.91, 0.91, 0.01]\n",
      "averaged grid size : 5.00, averaged obstacles : 9.31\n"
     ]
    },
    {
     "name": "stderr",
     "output_type": "stream",
     "text": [
      " 53%|█████▎    | 63197/120100 [11:07<06:44, 140.71it/s]"
     ]
    },
    {
     "name": "stdout",
     "output_type": "stream",
     "text": [
      "Epsilon : 1.8753377802059163e-14, average reward : 13.5740, averaged shaped reward : 13.2740 Pickup, Drop, Success, Hit wall rate : [0.97, 0.97, 0.97, 0.02]\n",
      "averaged grid size : 5.00, averaged obstacles : 10.13\n"
     ]
    },
    {
     "name": "stderr",
     "output_type": "stream",
     "text": [
      " 53%|█████▎    | 63310/120100 [11:08<11:52, 79.71it/s] "
     ]
    },
    {
     "name": "stdout",
     "output_type": "stream",
     "text": [
      "Epsilon : 1.7838541716576132e-14, average reward : -36.2020, averaged shaped reward : -36.2020 Pickup, Drop, Success, Hit wall rate : [0.97, 0.88, 0.88, 0.03]\n",
      "averaged grid size : 5.00, averaged obstacles : 9.98\n"
     ]
    },
    {
     "name": "stderr",
     "output_type": "stream",
     "text": [
      " 53%|█████▎    | 63419/120100 [11:10<09:01, 104.66it/s]"
     ]
    },
    {
     "name": "stdout",
     "output_type": "stream",
     "text": [
      "Epsilon : 1.6968333594766415e-14, average reward : 2.3420, averaged shaped reward : 2.3420 Pickup, Drop, Success, Hit wall rate : [0.95, 0.93, 0.93, 0.02]\n",
      "averaged grid size : 5.00, averaged obstacles : 10.76\n"
     ]
    },
    {
     "name": "stderr",
     "output_type": "stream",
     "text": [
      " 53%|█████▎    | 63518/120100 [11:11<11:49, 79.77it/s] "
     ]
    },
    {
     "name": "stdout",
     "output_type": "stream",
     "text": [
      "Epsilon : 1.614057637434173e-14, average reward : -42.6300, averaged shaped reward : -42.6300 Pickup, Drop, Success, Hit wall rate : [0.94, 0.87, 0.87, 0.01]\n",
      "averaged grid size : 5.00, averaged obstacles : 8.57\n"
     ]
    },
    {
     "name": "stderr",
     "output_type": "stream",
     "text": [
      " 53%|█████▎    | 63612/120100 [11:12<07:44, 121.66it/s]"
     ]
    },
    {
     "name": "stdout",
     "output_type": "stream",
     "text": [
      "Epsilon : 1.5353199195489108e-14, average reward : 26.4310, averaged shaped reward : 26.4310 Pickup, Drop, Success, Hit wall rate : [0.99, 0.99, 0.99, 0.03]\n",
      "averaged grid size : 5.00, averaged obstacles : 11.24\n"
     ]
    },
    {
     "name": "stderr",
     "output_type": "stream",
     "text": [
      " 53%|█████▎    | 63731/120100 [11:13<07:06, 132.16it/s]"
     ]
    },
    {
     "name": "stdout",
     "output_type": "stream",
     "text": [
      "Epsilon : 1.4604232220051728e-14, average reward : 18.3150, averaged shaped reward : 18.3150 Pickup, Drop, Success, Hit wall rate : [0.99, 0.97, 0.97, 0.03]\n",
      "averaged grid size : 5.00, averaged obstacles : 10.34\n"
     ]
    },
    {
     "name": "stderr",
     "output_type": "stream",
     "text": [
      " 53%|█████▎    | 63816/120100 [11:14<10:14, 91.52it/s] "
     ]
    },
    {
     "name": "stdout",
     "output_type": "stream",
     "text": [
      "Epsilon : 1.3891801703443138e-14, average reward : 1.9380, averaged shaped reward : 1.9380 Pickup, Drop, Success, Hit wall rate : [0.97, 0.95, 0.95, 0.02]\n",
      "averaged grid size : 5.00, averaged obstacles : 9.52\n"
     ]
    },
    {
     "name": "stderr",
     "output_type": "stream",
     "text": [
      " 53%|█████▎    | 63914/120100 [11:15<13:19, 70.26it/s] "
     ]
    },
    {
     "name": "stdout",
     "output_type": "stream",
     "text": [
      "Epsilon : 1.321412530696543e-14, average reward : -25.3420, averaged shaped reward : -25.3420 Pickup, Drop, Success, Hit wall rate : [0.95, 0.89, 0.89, 0.01]\n",
      "averaged grid size : 5.00, averaged obstacles : 10.38\n"
     ]
    },
    {
     "name": "stderr",
     "output_type": "stream",
     "text": [
      " 53%|█████▎    | 64006/120100 [11:16<08:54, 104.93it/s]"
     ]
    },
    {
     "name": "stdout",
     "output_type": "stream",
     "text": [
      "Epsilon : 1.2569507638804383e-14, average reward : 18.3440, averaged shaped reward : 18.3440 Pickup, Drop, Success, Hit wall rate : [0.99, 0.97, 0.97, 0.04]\n",
      "averaged grid size : 5.00, averaged obstacles : 10.56\n"
     ]
    },
    {
     "name": "stderr",
     "output_type": "stream",
     "text": [
      " 53%|█████▎    | 64119/120100 [11:17<08:47, 106.22it/s]"
     ]
    },
    {
     "name": "stdout",
     "output_type": "stream",
     "text": [
      "Epsilon : 1.1956336012545664e-14, average reward : 5.3150, averaged shaped reward : 5.3150 Pickup, Drop, Success, Hit wall rate : [0.97, 0.96, 0.96, 0.02]\n",
      "averaged grid size : 5.00, averaged obstacles : 9.15\n"
     ]
    },
    {
     "name": "stderr",
     "output_type": "stream",
     "text": [
      " 53%|█████▎    | 64206/120100 [11:18<09:20, 99.79it/s] "
     ]
    },
    {
     "name": "stdout",
     "output_type": "stream",
     "text": [
      "Epsilon : 1.1373076412601166e-14, average reward : 23.5590, averaged shaped reward : 23.5590 Pickup, Drop, Success, Hit wall rate : [0.98, 0.98, 0.98, 0.02]\n",
      "averaged grid size : 5.00, averaged obstacles : 9.67\n"
     ]
    },
    {
     "name": "stderr",
     "output_type": "stream",
     "text": [
      " 54%|█████▎    | 64312/120100 [11:19<11:17, 82.35it/s] "
     ]
    },
    {
     "name": "stdout",
     "output_type": "stream",
     "text": [
      "Epsilon : 1.081826965645183e-14, average reward : -10.3280, averaged shaped reward : -10.3280 Pickup, Drop, Success, Hit wall rate : [0.97, 0.94, 0.94, 0.03]\n",
      "averaged grid size : 5.00, averaged obstacles : 9.65\n"
     ]
    },
    {
     "name": "stderr",
     "output_type": "stream",
     "text": [
      " 54%|█████▎    | 64412/120100 [11:20<09:09, 101.30it/s]"
     ]
    },
    {
     "name": "stdout",
     "output_type": "stream",
     "text": [
      "Epsilon : 1.0290527744105687e-14, average reward : 4.8630, averaged shaped reward : 4.6630 Pickup, Drop, Success, Hit wall rate : [0.97, 0.94, 0.94, 0.11]\n",
      "averaged grid size : 5.00, averaged obstacles : 10.28\n"
     ]
    },
    {
     "name": "stderr",
     "output_type": "stream",
     "text": [
      " 54%|█████▎    | 64506/120100 [11:21<10:51, 85.29it/s] "
     ]
    },
    {
     "name": "stdout",
     "output_type": "stream",
     "text": [
      "Epsilon : 9.78853038563843e-15, average reward : 4.6680, averaged shaped reward : 4.6680 Pickup, Drop, Success, Hit wall rate : [0.97, 0.96, 0.96, 0.04]\n",
      "averaged grid size : 5.00, averaged obstacles : 10.67\n"
     ]
    },
    {
     "name": "stderr",
     "output_type": "stream",
     "text": [
      " 54%|█████▍    | 64608/120100 [11:22<09:17, 99.59it/s] "
     ]
    },
    {
     "name": "stdout",
     "output_type": "stream",
     "text": [
      "Epsilon : 9.311021698129034e-15, average reward : 13.9510, averaged shaped reward : 13.9510 Pickup, Drop, Success, Hit wall rate : [0.96, 0.95, 0.95, 0.01]\n",
      "averaged grid size : 5.00, averaged obstacles : 9.83\n"
     ]
    },
    {
     "name": "stderr",
     "output_type": "stream",
     "text": [
      " 54%|█████▍    | 64710/120100 [11:23<05:49, 158.61it/s]"
     ]
    },
    {
     "name": "stdout",
     "output_type": "stream",
     "text": [
      "Epsilon : 8.856807063727087e-15, average reward : 14.9350, averaged shaped reward : 14.9350 Pickup, Drop, Success, Hit wall rate : [0.95, 0.95, 0.95, 0.02]\n",
      "averaged grid size : 5.00, averaged obstacles : 10.75\n"
     ]
    },
    {
     "name": "stderr",
     "output_type": "stream",
     "text": [
      " 54%|█████▍    | 64812/120100 [11:24<09:46, 94.23it/s] "
     ]
    },
    {
     "name": "stdout",
     "output_type": "stream",
     "text": [
      "Epsilon : 8.424750140991335e-15, average reward : -14.0040, averaged shaped reward : -14.0040 Pickup, Drop, Success, Hit wall rate : [0.93, 0.9, 0.9, 0.02]\n",
      "averaged grid size : 5.00, averaged obstacles : 9.67\n"
     ]
    },
    {
     "name": "stderr",
     "output_type": "stream",
     "text": [
      " 54%|█████▍    | 64899/120100 [11:25<09:45, 94.27it/s] "
     ]
    },
    {
     "name": "stdout",
     "output_type": "stream",
     "text": [
      "Epsilon : 8.013770022022535e-15, average reward : 4.3200, averaged shaped reward : 4.2200 Pickup, Drop, Success, Hit wall rate : [0.98, 0.95, 0.95, 0.18]\n",
      "averaged grid size : 5.00, averaged obstacles : 10.02\n"
     ]
    },
    {
     "name": "stderr",
     "output_type": "stream",
     "text": [
      " 54%|█████▍    | 65027/120100 [11:27<08:59, 102.17it/s]"
     ]
    },
    {
     "name": "stdout",
     "output_type": "stream",
     "text": [
      "Epsilon : 7.622838528278329e-15, average reward : -14.5920, averaged shaped reward : -14.5920 Pickup, Drop, Success, Hit wall rate : [0.97, 0.91, 0.91, 0.01]\n",
      "averaged grid size : 5.00, averaged obstacles : 10.29\n"
     ]
    },
    {
     "name": "stderr",
     "output_type": "stream",
     "text": [
      " 54%|█████▍    | 65123/120100 [11:28<08:24, 108.91it/s]"
     ]
    },
    {
     "name": "stdout",
     "output_type": "stream",
     "text": [
      "Epsilon : 7.250977638305015e-15, average reward : 4.1410, averaged shaped reward : 4.1410 Pickup, Drop, Success, Hit wall rate : [0.96, 0.95, 0.95, 0.01]\n",
      "averaged grid size : 5.00, averaged obstacles : 10.31\n"
     ]
    },
    {
     "name": "stderr",
     "output_type": "stream",
     "text": [
      " 54%|█████▍    | 65210/120100 [11:28<08:32, 107.01it/s]"
     ]
    },
    {
     "name": "stdout",
     "output_type": "stream",
     "text": [
      "Epsilon : 6.897257040950893e-15, average reward : 7.1070, averaged shaped reward : 7.0070 Pickup, Drop, Success, Hit wall rate : [0.96, 0.94, 0.94, 0.01]\n",
      "averaged grid size : 5.00, averaged obstacles : 11.03\n"
     ]
    },
    {
     "name": "stderr",
     "output_type": "stream",
     "text": [
      " 54%|█████▍    | 65323/120100 [11:30<08:28, 107.67it/s]"
     ]
    },
    {
     "name": "stdout",
     "output_type": "stream",
     "text": [
      "Epsilon : 6.5607918079398585e-15, average reward : 4.7310, averaged shaped reward : 4.7310 Pickup, Drop, Success, Hit wall rate : [0.96, 0.94, 0.94, 0.01]\n",
      "averaged grid size : 5.00, averaged obstacles : 10.17\n"
     ]
    },
    {
     "name": "stderr",
     "output_type": "stream",
     "text": [
      " 54%|█████▍    | 65410/120100 [11:31<09:57, 91.57it/s] "
     ]
    },
    {
     "name": "stdout",
     "output_type": "stream",
     "text": [
      "Epsilon : 6.240740179982692e-15, average reward : 5.3000, averaged shaped reward : 5.3000 Pickup, Drop, Success, Hit wall rate : [0.96, 0.94, 0.94, 0.0]\n",
      "averaged grid size : 5.00, averaged obstacles : 11.02\n"
     ]
    },
    {
     "name": "stderr",
     "output_type": "stream",
     "text": [
      " 55%|█████▍    | 65506/120100 [11:32<07:22, 123.50it/s]"
     ]
    },
    {
     "name": "stdout",
     "output_type": "stream",
     "text": [
      "Epsilon : 5.936301460887237e-15, average reward : -1.7350, averaged shaped reward : -1.7350 Pickup, Drop, Success, Hit wall rate : [0.94, 0.92, 0.92, 0.02]\n",
      "averaged grid size : 5.00, averaged obstacles : 9.56\n"
     ]
    },
    {
     "name": "stderr",
     "output_type": "stream",
     "text": [
      " 55%|█████▍    | 65624/120100 [11:33<07:18, 124.35it/s]"
     ]
    },
    {
     "name": "stdout",
     "output_type": "stream",
     "text": [
      "Epsilon : 5.6467140143991206e-15, average reward : 0.0530, averaged shaped reward : -0.0470 Pickup, Drop, Success, Hit wall rate : [0.96, 0.94, 0.94, 0.09]\n",
      "averaged grid size : 5.00, averaged obstacles : 9.69\n"
     ]
    },
    {
     "name": "stderr",
     "output_type": "stream",
     "text": [
      " 55%|█████▍    | 65713/120100 [11:34<06:57, 130.25it/s]"
     ]
    },
    {
     "name": "stdout",
     "output_type": "stream",
     "text": [
      "Epsilon : 5.371253358761508e-15, average reward : 21.7850, averaged shaped reward : 21.7850 Pickup, Drop, Success, Hit wall rate : [1.0, 0.97, 0.97, 0.04]\n",
      "averaged grid size : 5.00, averaged obstacles : 10.27\n"
     ]
    },
    {
     "name": "stderr",
     "output_type": "stream",
     "text": [
      " 55%|█████▍    | 65821/120100 [11:35<12:46, 70.85it/s] "
     ]
    },
    {
     "name": "stdout",
     "output_type": "stream",
     "text": [
      "Epsilon : 5.109230354226963e-15, average reward : -26.4170, averaged shaped reward : -26.4170 Pickup, Drop, Success, Hit wall rate : [0.96, 0.9, 0.9, 0.05]\n",
      "averaged grid size : 5.00, averaged obstacles : 9.31\n"
     ]
    },
    {
     "name": "stderr",
     "output_type": "stream",
     "text": [
      " 55%|█████▍    | 65912/120100 [11:37<16:19, 55.30it/s]"
     ]
    },
    {
     "name": "stdout",
     "output_type": "stream",
     "text": [
      "Epsilon : 4.8599894789869366e-15, average reward : -30.1940, averaged shaped reward : -30.1940 Pickup, Drop, Success, Hit wall rate : [0.96, 0.9, 0.9, 0.02]\n",
      "averaged grid size : 5.00, averaged obstacles : 9.76\n"
     ]
    },
    {
     "name": "stderr",
     "output_type": "stream",
     "text": [
      " 55%|█████▍    | 66018/120100 [11:38<09:35, 94.00it/s] "
     ]
    },
    {
     "name": "stdout",
     "output_type": "stream",
     "text": [
      "Epsilon : 4.622907189205681e-15, average reward : 13.2720, averaged shaped reward : 13.2720 Pickup, Drop, Success, Hit wall rate : [0.96, 0.96, 0.96, 0.02]\n",
      "averaged grid size : 5.00, averaged obstacles : 10.78\n"
     ]
    },
    {
     "name": "stderr",
     "output_type": "stream",
     "text": [
      " 55%|█████▌    | 66105/120100 [11:38<07:14, 124.16it/s]"
     ]
    },
    {
     "name": "stdout",
     "output_type": "stream",
     "text": [
      "Epsilon : 4.3973903590557605e-15, average reward : 16.1780, averaged shaped reward : 16.1780 Pickup, Drop, Success, Hit wall rate : [0.95, 0.95, 0.95, 0.03]\n",
      "averaged grid size : 5.00, averaged obstacles : 10.14\n"
     ]
    },
    {
     "name": "stderr",
     "output_type": "stream",
     "text": [
      " 55%|█████▌    | 66238/120100 [11:40<07:10, 125.13it/s]"
     ]
    },
    {
     "name": "stdout",
     "output_type": "stream",
     "text": [
      "Epsilon : 4.182874796852472e-15, average reward : 8.4450, averaged shaped reward : 8.2450 Pickup, Drop, Success, Hit wall rate : [0.99, 0.95, 0.95, 0.09]\n",
      "averaged grid size : 5.00, averaged obstacles : 11.31\n"
     ]
    },
    {
     "name": "stderr",
     "output_type": "stream",
     "text": [
      " 55%|█████▌    | 66312/120100 [11:40<08:37, 104.00it/s]"
     ]
    },
    {
     "name": "stdout",
     "output_type": "stream",
     "text": [
      "Epsilon : 3.978823833574914e-15, average reward : 12.7310, averaged shaped reward : 12.7310 Pickup, Drop, Success, Hit wall rate : [0.96, 0.95, 0.95, 0.02]\n",
      "averaged grid size : 5.00, averaged obstacles : 10.59\n"
     ]
    },
    {
     "name": "stderr",
     "output_type": "stream",
     "text": [
      " 55%|█████▌    | 66427/120100 [11:41<09:29, 94.32it/s] "
     ]
    },
    {
     "name": "stdout",
     "output_type": "stream",
     "text": [
      "Epsilon : 3.784726980242466e-15, average reward : 8.1590, averaged shaped reward : 8.1590 Pickup, Drop, Success, Hit wall rate : [0.97, 0.96, 0.96, 0.01]\n",
      "averaged grid size : 5.00, averaged obstacles : 9.23\n"
     ]
    },
    {
     "name": "stderr",
     "output_type": "stream",
     "text": [
      " 55%|█████▌    | 66518/120100 [11:42<07:44, 115.46it/s]"
     ]
    },
    {
     "name": "stdout",
     "output_type": "stream",
     "text": [
      "Epsilon : 3.600098650787767e-15, average reward : 7.3050, averaged shaped reward : 7.1050 Pickup, Drop, Success, Hit wall rate : [0.96, 0.94, 0.94, 0.02]\n",
      "averaged grid size : 5.00, averaged obstacles : 9.82\n"
     ]
    },
    {
     "name": "stderr",
     "output_type": "stream",
     "text": [
      " 55%|█████▌    | 66603/120100 [11:43<09:09, 97.40it/s] "
     ]
    },
    {
     "name": "stdout",
     "output_type": "stream",
     "text": [
      "Epsilon : 3.4244769472311003e-15, average reward : 19.0710, averaged shaped reward : 19.0710 Pickup, Drop, Success, Hit wall rate : [0.98, 0.97, 0.97, 0.01]\n",
      "averaged grid size : 5.00, averaged obstacles : 9.99\n"
     ]
    },
    {
     "name": "stderr",
     "output_type": "stream",
     "text": [
      " 56%|█████▌    | 66726/120100 [11:45<09:54, 89.80it/s] "
     ]
    },
    {
     "name": "stdout",
     "output_type": "stream",
     "text": [
      "Epsilon : 3.2574225041169766e-15, average reward : -2.9660, averaged shaped reward : -3.4660 Pickup, Drop, Success, Hit wall rate : [1.02, 0.98, 0.94, 0.0]\n",
      "averaged grid size : 5.00, averaged obstacles : 10.61\n"
     ]
    },
    {
     "name": "stderr",
     "output_type": "stream",
     "text": [
      " 56%|█████▌    | 66805/120100 [11:46<11:08, 79.78it/s]"
     ]
    },
    {
     "name": "stdout",
     "output_type": "stream",
     "text": [
      "Epsilon : 3.09851738932195e-15, average reward : -4.9590, averaged shaped reward : -5.1590 Pickup, Drop, Success, Hit wall rate : [0.96, 0.91, 0.91, 0.18]\n",
      "averaged grid size : 5.00, averaged obstacles : 8.86\n"
     ]
    },
    {
     "name": "stderr",
     "output_type": "stream",
     "text": [
      " 56%|█████▌    | 66906/120100 [11:46<07:24, 119.71it/s]"
     ]
    },
    {
     "name": "stdout",
     "output_type": "stream",
     "text": [
      "Epsilon : 2.9473640584837505e-15, average reward : 13.9150, averaged shaped reward : 13.8150 Pickup, Drop, Success, Hit wall rate : [1.0, 0.97, 0.96, 0.02]\n",
      "averaged grid size : 5.00, averaged obstacles : 10.28\n"
     ]
    },
    {
     "name": "stderr",
     "output_type": "stream",
     "text": [
      " 56%|█████▌    | 67014/120100 [11:47<06:57, 127.13it/s]"
     ]
    },
    {
     "name": "stdout",
     "output_type": "stream",
     "text": [
      "Epsilon : 2.8035843604359345e-15, average reward : 15.3380, averaged shaped reward : 15.3380 Pickup, Drop, Success, Hit wall rate : [0.99, 0.99, 0.99, 0.02]\n",
      "averaged grid size : 5.00, averaged obstacles : 10.47\n"
     ]
    },
    {
     "name": "stderr",
     "output_type": "stream",
     "text": [
      " 56%|█████▌    | 67100/120100 [11:48<08:39, 102.03it/s]"
     ]
    },
    {
     "name": "stdout",
     "output_type": "stream",
     "text": [
      "Epsilon : 2.666818591159904e-15, average reward : -4.5170, averaged shaped reward : -4.5170 Pickup, Drop, Success, Hit wall rate : [0.94, 0.93, 0.93, 0.01]\n",
      "averaged grid size : 5.00, averaged obstacles : 10.07\n"
     ]
    },
    {
     "name": "stderr",
     "output_type": "stream",
     "text": [
      " 56%|█████▌    | 67207/120100 [11:50<14:23, 61.22it/s] "
     ]
    },
    {
     "name": "stdout",
     "output_type": "stream",
     "text": [
      "Epsilon : 2.5367245938874654e-15, average reward : -46.5070, averaged shaped reward : -46.5070 Pickup, Drop, Success, Hit wall rate : [0.92, 0.87, 0.87, 0.03]\n",
      "averaged grid size : 5.00, averaged obstacles : 9.91\n"
     ]
    },
    {
     "name": "stderr",
     "output_type": "stream",
     "text": [
      " 56%|█████▌    | 67321/120100 [11:51<06:40, 131.72it/s]"
     ]
    },
    {
     "name": "stdout",
     "output_type": "stream",
     "text": [
      "Epsilon : 2.4129769031026233e-15, average reward : 14.5930, averaged shaped reward : 14.4930 Pickup, Drop, Success, Hit wall rate : [0.99, 0.97, 0.97, 0.06]\n",
      "averaged grid size : 5.00, averaged obstacles : 9.68\n"
     ]
    },
    {
     "name": "stderr",
     "output_type": "stream",
     "text": [
      " 56%|█████▌    | 67416/120100 [11:52<06:35, 133.24it/s]"
     ]
    },
    {
     "name": "stdout",
     "output_type": "stream",
     "text": [
      "Epsilon : 2.2952659303010726e-15, average reward : 7.0840, averaged shaped reward : 7.0840 Pickup, Drop, Success, Hit wall rate : [0.97, 0.94, 0.94, 0.02]\n",
      "averaged grid size : 5.00, averaged obstacles : 9.67\n"
     ]
    },
    {
     "name": "stderr",
     "output_type": "stream",
     "text": [
      " 56%|█████▌    | 67525/120100 [11:54<10:24, 84.23it/s] "
     ]
    },
    {
     "name": "stdout",
     "output_type": "stream",
     "text": [
      "Epsilon : 2.18329718947036e-15, average reward : -23.4550, averaged shaped reward : -23.4550 Pickup, Drop, Success, Hit wall rate : [0.94, 0.91, 0.91, 0.02]\n",
      "averaged grid size : 5.00, averaged obstacles : 10.22\n"
     ]
    },
    {
     "name": "stderr",
     "output_type": "stream",
     "text": [
      " 56%|█████▋    | 67608/120100 [11:55<10:02, 87.19it/s]"
     ]
    },
    {
     "name": "stdout",
     "output_type": "stream",
     "text": [
      "Epsilon : 2.076790560353024e-15, average reward : -2.5810, averaged shaped reward : -2.5810 Pickup, Drop, Success, Hit wall rate : [0.94, 0.92, 0.92, 0.02]\n",
      "averaged grid size : 5.00, averaged obstacles : 10.03\n"
     ]
    },
    {
     "name": "stderr",
     "output_type": "stream",
     "text": [
      " 56%|█████▋    | 67714/120100 [11:56<08:16, 105.45it/s]"
     ]
    },
    {
     "name": "stdout",
     "output_type": "stream",
     "text": [
      "Epsilon : 1.9754795876495988e-15, average reward : 3.6060, averaged shaped reward : 3.6060 Pickup, Drop, Success, Hit wall rate : [0.97, 0.95, 0.95, 0.04]\n",
      "averaged grid size : 5.00, averaged obstacles : 10.52\n"
     ]
    },
    {
     "name": "stderr",
     "output_type": "stream",
     "text": [
      " 56%|█████▋    | 67810/120100 [11:57<09:46, 89.14it/s] "
     ]
    },
    {
     "name": "stdout",
     "output_type": "stream",
     "text": [
      "Epsilon : 1.8791108144081963e-15, average reward : 5.2270, averaged shaped reward : 5.0270 Pickup, Drop, Success, Hit wall rate : [0.97, 0.94, 0.94, 0.02]\n",
      "averaged grid size : 5.00, averaged obstacles : 9.20\n"
     ]
    },
    {
     "name": "stderr",
     "output_type": "stream",
     "text": [
      " 57%|█████▋    | 67907/120100 [11:58<14:42, 59.17it/s]"
     ]
    },
    {
     "name": "stdout",
     "output_type": "stream",
     "text": [
      "Epsilon : 1.7874431479330266e-15, average reward : -15.4720, averaged shaped reward : -15.6720 Pickup, Drop, Success, Hit wall rate : [0.96, 0.91, 0.91, 0.12]\n",
      "averaged grid size : 5.00, averaged obstacles : 10.79\n"
     ]
    },
    {
     "name": "stderr",
     "output_type": "stream",
     "text": [
      " 57%|█████▋    | 68008/120100 [12:00<14:02, 61.83it/s]"
     ]
    },
    {
     "name": "stdout",
     "output_type": "stream",
     "text": [
      "Epsilon : 1.700247256625437e-15, average reward : -53.2120, averaged shaped reward : -53.6120 Pickup, Drop, Success, Hit wall rate : [0.89, 0.88, 0.88, 0.02]\n",
      "averaged grid size : 5.00, averaged obstacles : 9.29\n"
     ]
    },
    {
     "name": "stderr",
     "output_type": "stream",
     "text": [
      " 57%|█████▋    | 68107/120100 [12:02<12:14, 70.77it/s] "
     ]
    },
    {
     "name": "stdout",
     "output_type": "stream",
     "text": [
      "Epsilon : 1.6173049962485516e-15, average reward : -21.4450, averaged shaped reward : -21.6450 Pickup, Drop, Success, Hit wall rate : [0.95, 0.91, 0.91, 0.06]\n",
      "averaged grid size : 5.00, averaged obstacles : 10.09\n"
     ]
    },
    {
     "name": "stderr",
     "output_type": "stream",
     "text": [
      " 57%|█████▋    | 68219/120100 [12:03<08:10, 105.77it/s]"
     ]
    },
    {
     "name": "stdout",
     "output_type": "stream",
     "text": [
      "Epsilon : 1.538408864180135e-15, average reward : 11.4870, averaged shaped reward : 11.3870 Pickup, Drop, Success, Hit wall rate : [0.98, 0.95, 0.95, 0.01]\n",
      "averaged grid size : 5.00, averaged obstacles : 9.54\n"
     ]
    },
    {
     "name": "stderr",
     "output_type": "stream",
     "text": [
      " 57%|█████▋    | 68317/120100 [12:03<08:21, 103.31it/s]"
     ]
    },
    {
     "name": "stdout",
     "output_type": "stream",
     "text": [
      "Epsilon : 1.4633614802883426e-15, average reward : 6.4010, averaged shaped reward : 6.4010 Pickup, Drop, Success, Hit wall rate : [0.96, 0.95, 0.95, 0.0]\n",
      "averaged grid size : 5.00, averaged obstacles : 9.48\n"
     ]
    },
    {
     "name": "stderr",
     "output_type": "stream",
     "text": [
      " 57%|█████▋    | 68409/120100 [12:05<16:28, 52.27it/s] "
     ]
    },
    {
     "name": "stdout",
     "output_type": "stream",
     "text": [
      "Epsilon : 1.3919750931316436e-15, average reward : -36.1230, averaged shaped reward : -36.2230 Pickup, Drop, Success, Hit wall rate : [0.96, 0.88, 0.88, 0.06]\n",
      "averaged grid size : 5.00, averaged obstacles : 9.54\n"
     ]
    },
    {
     "name": "stderr",
     "output_type": "stream",
     "text": [
      " 57%|█████▋    | 68517/120100 [12:07<08:18, 103.50it/s]"
     ]
    },
    {
     "name": "stdout",
     "output_type": "stream",
     "text": [
      "Epsilon : 1.3240711102475259e-15, average reward : -15.4390, averaged shaped reward : -15.6390 Pickup, Drop, Success, Hit wall rate : [0.98, 0.94, 0.94, 0.07]\n",
      "averaged grid size : 5.00, averaged obstacles : 10.68\n"
     ]
    },
    {
     "name": "stderr",
     "output_type": "stream",
     "text": [
      " 57%|█████▋    | 68634/120100 [12:08<06:15, 136.94it/s]"
     ]
    },
    {
     "name": "stdout",
     "output_type": "stream",
     "text": [
      "Epsilon : 1.2594796513548778e-15, average reward : 11.8010, averaged shaped reward : 11.7010 Pickup, Drop, Success, Hit wall rate : [1.0, 0.96, 0.96, 0.04]\n",
      "averaged grid size : 5.00, averaged obstacles : 10.95\n"
     ]
    },
    {
     "name": "stderr",
     "output_type": "stream",
     "text": [
      " 57%|█████▋    | 68704/120100 [12:08<05:44, 148.99it/s]"
     ]
    },
    {
     "name": "stdout",
     "output_type": "stream",
     "text": [
      "Epsilon : 1.198039123352263e-15, average reward : 35.9290, averaged shaped reward : 35.9290 Pickup, Drop, Success, Hit wall rate : [1.0, 0.99, 0.99, 0.09]\n",
      "averaged grid size : 5.00, averaged obstacles : 9.45\n"
     ]
    },
    {
     "name": "stderr",
     "output_type": "stream",
     "text": [
      " 57%|█████▋    | 68812/120100 [12:09<08:08, 104.98it/s]"
     ]
    },
    {
     "name": "stdout",
     "output_type": "stream",
     "text": [
      "Epsilon : 1.1395958160488314e-15, average reward : -1.3630, averaged shaped reward : -1.3630 Pickup, Drop, Success, Hit wall rate : [0.97, 0.95, 0.95, 0.03]\n",
      "averaged grid size : 5.00, averaged obstacles : 9.93\n"
     ]
    },
    {
     "name": "stderr",
     "output_type": "stream",
     "text": [
      " 57%|█████▋    | 68902/120100 [12:10<11:21, 75.10it/s] "
     ]
    },
    {
     "name": "stdout",
     "output_type": "stream",
     "text": [
      "Epsilon : 1.084003517616466e-15, average reward : 1.8890, averaged shaped reward : 1.4890 Pickup, Drop, Success, Hit wall rate : [0.99, 0.95, 0.93, 0.02]\n",
      "averaged grid size : 5.00, averaged obstacles : 10.53\n"
     ]
    },
    {
     "name": "stderr",
     "output_type": "stream",
     "text": [
      " 57%|█████▋    | 69011/120100 [12:12<11:18, 75.30it/s]"
     ]
    },
    {
     "name": "stdout",
     "output_type": "stream",
     "text": [
      "Epsilon : 1.031123148801138e-15, average reward : -24.4190, averaged shaped reward : -24.7190 Pickup, Drop, Success, Hit wall rate : [0.98, 0.93, 0.91, 0.04]\n",
      "averaged grid size : 5.00, averaged obstacles : 10.27\n"
     ]
    },
    {
     "name": "stderr",
     "output_type": "stream",
     "text": [
      " 58%|█████▊    | 69108/120100 [12:13<07:32, 112.60it/s]"
     ]
    },
    {
     "name": "stdout",
     "output_type": "stream",
     "text": [
      "Epsilon : 9.808224149783176e-16, average reward : -10.4080, averaged shaped reward : -10.6080 Pickup, Drop, Success, Hit wall rate : [0.96, 0.91, 0.9, 0.04]\n",
      "averaged grid size : 5.00, averaged obstacles : 10.57\n"
     ]
    },
    {
     "name": "stderr",
     "output_type": "stream",
     "text": [
      " 58%|█████▊    | 69225/120100 [12:14<07:23, 114.65it/s]"
     ]
    },
    {
     "name": "stdout",
     "output_type": "stream",
     "text": [
      "Epsilon : 9.329754751819968e-16, average reward : -3.6580, averaged shaped reward : -3.9580 Pickup, Drop, Success, Hit wall rate : [0.98, 0.95, 0.94, 0.07]\n",
      "averaged grid size : 5.00, averaged obstacles : 10.71\n"
     ]
    },
    {
     "name": "stderr",
     "output_type": "stream",
     "text": [
      " 58%|█████▊    | 69306/120100 [12:15<07:52, 107.47it/s]"
     ]
    },
    {
     "name": "stdout",
     "output_type": "stream",
     "text": [
      "Epsilon : 8.874626272792875e-16, average reward : 9.6540, averaged shaped reward : 9.3540 Pickup, Drop, Success, Hit wall rate : [1.03, 1.0, 0.97, 0.05]\n",
      "averaged grid size : 5.00, averaged obstacles : 10.62\n"
     ]
    },
    {
     "name": "stderr",
     "output_type": "stream",
     "text": [
      " 58%|█████▊    | 69413/120100 [12:16<08:59, 93.99it/s] "
     ]
    },
    {
     "name": "stdout",
     "output_type": "stream",
     "text": [
      "Epsilon : 8.4417000850297705e-16, average reward : -22.6010, averaged shaped reward : -22.9010 Pickup, Drop, Success, Hit wall rate : [0.96, 0.92, 0.91, 0.12]\n",
      "averaged grid size : 5.00, averaged obstacles : 10.63\n"
     ]
    },
    {
     "name": "stderr",
     "output_type": "stream",
     "text": [
      " 58%|█████▊    | 69502/120100 [12:18<12:29, 67.55it/s]"
     ]
    },
    {
     "name": "stdout",
     "output_type": "stream",
     "text": [
      "Epsilon : 8.02989310592852e-16, average reward : -16.8020, averaged shaped reward : -18.2020 Pickup, Drop, Success, Hit wall rate : [1.05, 1.0, 0.92, 0.2]\n",
      "averaged grid size : 5.00, averaged obstacles : 10.00\n"
     ]
    },
    {
     "name": "stderr",
     "output_type": "stream",
     "text": [
      " 58%|█████▊    | 69613/120100 [12:20<09:19, 90.29it/s]"
     ]
    },
    {
     "name": "stdout",
     "output_type": "stream",
     "text": [
      "Epsilon : 7.638175088331272e-16, average reward : -58.7020, averaged shaped reward : -60.0020 Pickup, Drop, Success, Hit wall rate : [1.02, 0.95, 0.88, 0.13]\n",
      "averaged grid size : 5.00, averaged obstacles : 10.08\n"
     ]
    },
    {
     "name": "stderr",
     "output_type": "stream",
     "text": [
      " 58%|█████▊    | 69705/120100 [12:21<09:51, 85.15it/s] "
     ]
    },
    {
     "name": "stdout",
     "output_type": "stream",
     "text": [
      "Epsilon : 7.265566043080993e-16, average reward : -0.3400, averaged shaped reward : -1.1400 Pickup, Drop, Success, Hit wall rate : [1.03, 1.0, 0.94, 0.06]\n",
      "averaged grid size : 5.00, averaged obstacles : 10.02\n"
     ]
    },
    {
     "name": "stderr",
     "output_type": "stream",
     "text": [
      " 58%|█████▊    | 69815/120100 [12:22<09:04, 92.27it/s]"
     ]
    },
    {
     "name": "stdout",
     "output_type": "stream",
     "text": [
      "Epsilon : 6.91113378731207e-16, average reward : -5.9610, averaged shaped reward : -6.1610 Pickup, Drop, Success, Hit wall rate : [1.01, 0.95, 0.94, 0.15]\n",
      "averaged grid size : 5.00, averaged obstacles : 10.76\n"
     ]
    },
    {
     "name": "stderr",
     "output_type": "stream",
     "text": [
      " 58%|█████▊    | 69907/120100 [12:23<12:27, 67.11it/s] "
     ]
    },
    {
     "name": "stdout",
     "output_type": "stream",
     "text": [
      "Epsilon : 6.573991612341337e-16, average reward : -11.1450, averaged shaped reward : -11.3450 Pickup, Drop, Success, Hit wall rate : [0.97, 0.97, 0.95, 0.05]\n",
      "averaged grid size : 5.00, averaged obstacles : 9.13\n"
     ]
    },
    {
     "name": "stderr",
     "output_type": "stream",
     "text": [
      " 58%|█████▊    | 70007/120100 [12:25<10:41, 78.04it/s]"
     ]
    },
    {
     "name": "stdout",
     "output_type": "stream",
     "text": [
      "Epsilon : 6.253296065325145e-16, average reward : -28.4180, averaged shaped reward : -29.6180 Pickup, Drop, Success, Hit wall rate : [1.01, 0.96, 0.92, 0.11]\n",
      "averaged grid size : 5.00, averaged obstacles : 10.09\n"
     ]
    },
    {
     "name": "stderr",
     "output_type": "stream",
     "text": [
      " 58%|█████▊    | 70113/120100 [12:26<08:12, 101.43it/s]"
     ]
    },
    {
     "name": "stdout",
     "output_type": "stream",
     "text": [
      "Epsilon : 5.948244839132691e-16, average reward : -5.9180, averaged shaped reward : -6.7180 Pickup, Drop, Success, Hit wall rate : [1.04, 1.01, 0.96, 0.09]\n",
      "averaged grid size : 5.00, averaged obstacles : 9.76\n"
     ]
    },
    {
     "name": "stderr",
     "output_type": "stream",
     "text": [
      " 58%|█████▊    | 70207/120100 [12:27<07:56, 104.60it/s]"
     ]
    },
    {
     "name": "stdout",
     "output_type": "stream",
     "text": [
      "Epsilon : 5.658074765156504e-16, average reward : 17.6780, averaged shaped reward : 17.4780 Pickup, Drop, Success, Hit wall rate : [0.99, 0.97, 0.96, 0.06]\n",
      "averaged grid size : 5.00, averaged obstacles : 9.76\n"
     ]
    },
    {
     "name": "stderr",
     "output_type": "stream",
     "text": [
      " 59%|█████▊    | 70309/120100 [12:28<08:45, 94.71it/s] "
     ]
    },
    {
     "name": "stdout",
     "output_type": "stream",
     "text": [
      "Epsilon : 5.382059904038647e-16, average reward : 5.6650, averaged shaped reward : 5.3650 Pickup, Drop, Success, Hit wall rate : [1.0, 0.98, 0.97, 0.1]\n",
      "averaged grid size : 5.00, averaged obstacles : 9.23\n"
     ]
    },
    {
     "name": "stderr",
     "output_type": "stream",
     "text": [
      " 59%|█████▊    | 70424/120100 [12:29<06:47, 122.02it/s]"
     ]
    },
    {
     "name": "stdout",
     "output_type": "stream",
     "text": [
      "Epsilon : 5.119509729535939e-16, average reward : -0.2850, averaged shaped reward : -1.3850 Pickup, Drop, Success, Hit wall rate : [1.04, 1.02, 0.98, 0.07]\n",
      "averaged grid size : 5.00, averaged obstacles : 11.27\n"
     ]
    },
    {
     "name": "stderr",
     "output_type": "stream",
     "text": [
      " 59%|█████▊    | 70502/120100 [12:30<08:17, 99.75it/s] "
     ]
    },
    {
     "name": "stdout",
     "output_type": "stream",
     "text": [
      "Epsilon : 4.869767400980771e-16, average reward : 23.1160, averaged shaped reward : 23.0160 Pickup, Drop, Success, Hit wall rate : [0.99, 0.98, 0.98, 0.01]\n",
      "averaged grid size : 5.00, averaged obstacles : 10.59\n"
     ]
    },
    {
     "name": "stderr",
     "output_type": "stream",
     "text": [
      " 59%|█████▉    | 70620/120100 [12:31<07:43, 106.73it/s]"
     ]
    },
    {
     "name": "stdout",
     "output_type": "stream",
     "text": [
      "Epsilon : 4.63220812001556e-16, average reward : 8.2760, averaged shaped reward : 8.2760 Pickup, Drop, Success, Hit wall rate : [0.98, 0.94, 0.94, 0.04]\n",
      "averaged grid size : 5.00, averaged obstacles : 9.95\n"
     ]
    },
    {
     "name": "stderr",
     "output_type": "stream",
     "text": [
      " 59%|█████▉    | 70705/120100 [12:32<08:26, 97.60it/s] "
     ]
    },
    {
     "name": "stdout",
     "output_type": "stream",
     "text": [
      "Epsilon : 4.4062375674896873e-16, average reward : -2.7130, averaged shaped reward : -2.8130 Pickup, Drop, Success, Hit wall rate : [0.99, 0.93, 0.92, 0.05]\n",
      "averaged grid size : 5.00, averaged obstacles : 10.69\n"
     ]
    },
    {
     "name": "stderr",
     "output_type": "stream",
     "text": [
      " 59%|█████▉    | 70816/120100 [12:33<08:27, 97.17it/s] "
     ]
    },
    {
     "name": "stdout",
     "output_type": "stream",
     "text": [
      "Epsilon : 4.191290416608532e-16, average reward : -0.8680, averaged shaped reward : -1.1680 Pickup, Drop, Success, Hit wall rate : [1.0, 0.97, 0.95, 0.04]\n",
      "averaged grid size : 5.00, averaged obstacles : 9.57\n"
     ]
    },
    {
     "name": "stderr",
     "output_type": "stream",
     "text": [
      " 59%|█████▉    | 70914/120100 [12:34<08:59, 91.24it/s]"
     ]
    },
    {
     "name": "stdout",
     "output_type": "stream",
     "text": [
      "Epsilon : 3.9868289186147323e-16, average reward : -14.8230, averaged shaped reward : -15.1230 Pickup, Drop, Success, Hit wall rate : [0.99, 0.96, 0.94, 0.06]\n",
      "averaged grid size : 5.00, averaged obstacles : 10.12\n"
     ]
    },
    {
     "name": "stderr",
     "output_type": "stream",
     "text": [
      " 59%|█████▉    | 71028/120100 [12:35<06:26, 126.82it/s]"
     ]
    },
    {
     "name": "stdout",
     "output_type": "stream",
     "text": [
      "Epsilon : 3.79234155746342e-16, average reward : 20.2980, averaged shaped reward : 20.2980 Pickup, Drop, Success, Hit wall rate : [0.98, 0.97, 0.97, 0.02]\n",
      "averaged grid size : 5.00, averaged obstacles : 11.45\n"
     ]
    },
    {
     "name": "stderr",
     "output_type": "stream",
     "text": [
      " 59%|█████▉    | 71116/120100 [12:36<08:40, 94.03it/s] "
     ]
    },
    {
     "name": "stdout",
     "output_type": "stream",
     "text": [
      "Epsilon : 3.607341770125719e-16, average reward : -7.5650, averaged shaped reward : -7.8650 Pickup, Drop, Success, Hit wall rate : [0.97, 0.95, 0.92, 0.06]\n",
      "averaged grid size : 5.00, averaged obstacles : 10.11\n"
     ]
    },
    {
     "name": "stderr",
     "output_type": "stream",
     "text": [
      " 59%|█████▉    | 71199/120100 [12:37<05:57, 136.97it/s]"
     ]
    },
    {
     "name": "stdout",
     "output_type": "stream",
     "text": [
      "Epsilon : 3.4313667293189967e-16, average reward : 21.3510, averaged shaped reward : 20.4510 Pickup, Drop, Success, Hit wall rate : [1.04, 1.03, 0.98, 0.13]\n",
      "averaged grid size : 5.00, averaged obstacles : 9.30\n"
     ]
    },
    {
     "name": "stderr",
     "output_type": "stream",
     "text": [
      " 59%|█████▉    | 71308/120100 [12:38<11:28, 70.89it/s] "
     ]
    },
    {
     "name": "stdout",
     "output_type": "stream",
     "text": [
      "Epsilon : 3.2639761856185315e-16, average reward : -7.3050, averaged shaped reward : -7.3050 Pickup, Drop, Success, Hit wall rate : [0.94, 0.93, 0.93, 0.01]\n",
      "averaged grid size : 5.00, averaged obstacles : 10.56\n"
     ]
    },
    {
     "name": "stderr",
     "output_type": "stream",
     "text": [
      " 59%|█████▉    | 71431/120100 [12:40<09:17, 87.29it/s]"
     ]
    },
    {
     "name": "stdout",
     "output_type": "stream",
     "text": [
      "Epsilon : 3.1047513660538534e-16, average reward : -15.6820, averaged shaped reward : -15.6820 Pickup, Drop, Success, Hit wall rate : [0.95, 0.92, 0.92, 0.01]\n",
      "averaged grid size : 5.00, averaged obstacles : 10.19\n"
     ]
    },
    {
     "name": "stderr",
     "output_type": "stream",
     "text": [
      " 60%|█████▉    | 71506/120100 [12:41<06:59, 115.75it/s]"
     ]
    },
    {
     "name": "stdout",
     "output_type": "stream",
     "text": [
      "Epsilon : 2.95329392643426e-16, average reward : 19.6080, averaged shaped reward : 19.6080 Pickup, Drop, Success, Hit wall rate : [0.98, 0.97, 0.97, 0.11]\n",
      "averaged grid size : 5.00, averaged obstacles : 10.56\n"
     ]
    },
    {
     "name": "stderr",
     "output_type": "stream",
     "text": [
      " 60%|█████▉    | 71623/120100 [12:42<08:30, 94.96it/s] "
     ]
    },
    {
     "name": "stdout",
     "output_type": "stream",
     "text": [
      "Epsilon : 2.809224954782484e-16, average reward : -28.3780, averaged shaped reward : -28.3780 Pickup, Drop, Success, Hit wall rate : [0.93, 0.88, 0.88, 0.06]\n",
      "averaged grid size : 5.00, averaged obstacles : 9.66\n"
     ]
    },
    {
     "name": "stderr",
     "output_type": "stream",
     "text": [
      " 60%|█████▉    | 71715/120100 [12:43<09:28, 85.11it/s]"
     ]
    },
    {
     "name": "stdout",
     "output_type": "stream",
     "text": [
      "Epsilon : 2.672184023383326e-16, average reward : -3.6810, averaged shaped reward : -3.6810 Pickup, Drop, Success, Hit wall rate : [0.99, 0.93, 0.93, 0.0]\n",
      "averaged grid size : 5.00, averaged obstacles : 9.43\n"
     ]
    },
    {
     "name": "stderr",
     "output_type": "stream",
     "text": [
      " 60%|█████▉    | 71810/120100 [12:45<12:07, 66.38it/s] "
     ]
    },
    {
     "name": "stdout",
     "output_type": "stream",
     "text": [
      "Epsilon : 2.5418282870757087e-16, average reward : -17.9400, averaged shaped reward : -18.0400 Pickup, Drop, Success, Hit wall rate : [0.95, 0.92, 0.91, 0.05]\n",
      "averaged grid size : 5.00, averaged obstacles : 10.18\n"
     ]
    },
    {
     "name": "stderr",
     "output_type": "stream",
     "text": [
      " 60%|█████▉    | 71908/120100 [12:46<11:23, 70.51it/s]"
     ]
    },
    {
     "name": "stdout",
     "output_type": "stream",
     "text": [
      "Epsilon : 2.417831625532257e-16, average reward : -24.3300, averaged shaped reward : -24.3300 Pickup, Drop, Success, Hit wall rate : [0.91, 0.9, 0.9, 0.03]\n",
      "averaged grid size : 5.00, averaged obstacles : 10.34\n"
     ]
    },
    {
     "name": "stderr",
     "output_type": "stream",
     "text": [
      " 60%|█████▉    | 72006/120100 [12:47<09:10, 87.41it/s]"
     ]
    },
    {
     "name": "stdout",
     "output_type": "stream",
     "text": [
      "Epsilon : 2.299883827380601e-16, average reward : -15.2550, averaged shaped reward : -15.3550 Pickup, Drop, Success, Hit wall rate : [0.97, 0.93, 0.93, 0.04]\n",
      "averaged grid size : 5.00, averaged obstacles : 9.57\n"
     ]
    },
    {
     "name": "stderr",
     "output_type": "stream",
     "text": [
      " 60%|██████    | 72108/120100 [12:49<09:34, 83.47it/s]"
     ]
    },
    {
     "name": "stdout",
     "output_type": "stream",
     "text": [
      "Epsilon : 2.1876898141252612e-16, average reward : -19.6820, averaged shaped reward : -19.6820 Pickup, Drop, Success, Hit wall rate : [0.96, 0.92, 0.92, 0.04]\n",
      "averaged grid size : 5.00, averaged obstacles : 11.20\n"
     ]
    },
    {
     "name": "stderr",
     "output_type": "stream",
     "text": [
      " 60%|██████    | 72212/120100 [12:50<07:29, 106.52it/s]"
     ]
    },
    {
     "name": "stdout",
     "output_type": "stream",
     "text": [
      "Epsilon : 2.080968901928542e-16, average reward : -0.4080, averaged shaped reward : -1.2080 Pickup, Drop, Success, Hit wall rate : [1.04, 1.0, 0.96, 0.07]\n",
      "averaged grid size : 5.00, averaged obstacles : 9.64\n"
     ]
    },
    {
     "name": "stderr",
     "output_type": "stream",
     "text": [
      " 60%|██████    | 72309/120100 [12:51<09:47, 81.35it/s] "
     ]
    },
    {
     "name": "stdout",
     "output_type": "stream",
     "text": [
      "Epsilon : 1.9794540994035697e-16, average reward : 11.9550, averaged shaped reward : 11.7550 Pickup, Drop, Success, Hit wall rate : [0.98, 0.96, 0.96, 0.06]\n",
      "averaged grid size : 5.00, averaged obstacles : 10.86\n"
     ]
    },
    {
     "name": "stderr",
     "output_type": "stream",
     "text": [
      " 60%|██████    | 72424/120100 [12:52<05:47, 137.24it/s]"
     ]
    },
    {
     "name": "stdout",
     "output_type": "stream",
     "text": [
      "Epsilon : 1.8828914396627285e-16, average reward : 3.5960, averaged shaped reward : 3.3960 Pickup, Drop, Success, Hit wall rate : [0.97, 0.93, 0.93, 0.02]\n",
      "averaged grid size : 5.00, averaged obstacles : 9.82\n"
     ]
    },
    {
     "name": "stderr",
     "output_type": "stream",
     "text": [
      " 60%|██████    | 72517/120100 [12:53<08:54, 89.01it/s] "
     ]
    },
    {
     "name": "stdout",
     "output_type": "stream",
     "text": [
      "Epsilon : 1.7910393449504146e-16, average reward : 17.2870, averaged shaped reward : 16.9870 Pickup, Drop, Success, Hit wall rate : [1.0, 0.98, 0.97, 0.31]\n",
      "averaged grid size : 5.00, averaged obstacles : 10.55\n"
     ]
    },
    {
     "name": "stderr",
     "output_type": "stream",
     "text": [
      " 60%|██████    | 72606/120100 [12:54<08:40, 91.22it/s] "
     ]
    },
    {
     "name": "stdout",
     "output_type": "stream",
     "text": [
      "Epsilon : 1.703668022270581e-16, average reward : -0.3980, averaged shaped reward : -0.4980 Pickup, Drop, Success, Hit wall rate : [0.98, 0.96, 0.95, 0.03]\n",
      "averaged grid size : 5.00, averaged obstacles : 10.98\n"
     ]
    },
    {
     "name": "stderr",
     "output_type": "stream",
     "text": [
      " 61%|██████    | 72732/120100 [12:55<04:32, 173.82it/s]"
     ]
    },
    {
     "name": "stdout",
     "output_type": "stream",
     "text": [
      "Epsilon : 1.6205588884970649e-16, average reward : 2.2130, averaged shaped reward : 2.2130 Pickup, Drop, Success, Hit wall rate : [0.99, 0.93, 0.93, 0.04]\n",
      "averaged grid size : 5.00, averaged obstacles : 10.75\n"
     ]
    },
    {
     "name": "stderr",
     "output_type": "stream",
     "text": [
      " 61%|██████    | 72816/120100 [12:56<08:03, 97.87it/s] "
     ]
    },
    {
     "name": "stdout",
     "output_type": "stream",
     "text": [
      "Epsilon : 1.5415040235284404e-16, average reward : 8.8760, averaged shaped reward : 8.8760 Pickup, Drop, Success, Hit wall rate : [0.97, 0.94, 0.94, 0.1]\n",
      "averaged grid size : 5.00, averaged obstacles : 9.01\n"
     ]
    },
    {
     "name": "stderr",
     "output_type": "stream",
     "text": [
      " 61%|██████    | 72904/120100 [12:57<07:31, 104.46it/s]"
     ]
    },
    {
     "name": "stdout",
     "output_type": "stream",
     "text": [
      "Epsilon : 1.4663056501193445e-16, average reward : 16.1710, averaged shaped reward : 16.1710 Pickup, Drop, Success, Hit wall rate : [0.98, 0.96, 0.96, 0.07]\n",
      "averaged grid size : 5.00, averaged obstacles : 10.60\n"
     ]
    },
    {
     "name": "stderr",
     "output_type": "stream",
     "text": [
      " 61%|██████    | 73025/120100 [12:59<08:09, 96.18it/s] "
     ]
    },
    {
     "name": "stdout",
     "output_type": "stream",
     "text": [
      "Epsilon : 1.3947756390869026e-16, average reward : -36.7620, averaged shaped reward : -37.7620 Pickup, Drop, Success, Hit wall rate : [1.02, 0.96, 0.91, 0.37]\n",
      "averaged grid size : 5.00, averaged obstacles : 9.74\n"
     ]
    },
    {
     "name": "stderr",
     "output_type": "stream",
     "text": [
      " 61%|██████    | 73115/120100 [13:00<08:25, 92.95it/s]"
     ]
    },
    {
     "name": "stdout",
     "output_type": "stream",
     "text": [
      "Epsilon : 1.3267350386544166e-16, average reward : -4.8960, averaged shaped reward : -4.8960 Pickup, Drop, Success, Hit wall rate : [0.95, 0.93, 0.93, 0.07]\n",
      "averaged grid size : 5.00, averaged obstacles : 10.41\n"
     ]
    },
    {
     "name": "stderr",
     "output_type": "stream",
     "text": [
      " 61%|██████    | 73216/120100 [13:01<07:51, 99.53it/s]"
     ]
    },
    {
     "name": "stdout",
     "output_type": "stream",
     "text": [
      "Epsilon : 1.2620136267548217e-16, average reward : -0.9250, averaged shaped reward : -1.0250 Pickup, Drop, Success, Hit wall rate : [0.98, 0.97, 0.96, 0.25]\n",
      "averaged grid size : 5.00, averaged obstacles : 10.56\n"
     ]
    },
    {
     "name": "stderr",
     "output_type": "stream",
     "text": [
      " 61%|██████    | 73309/120100 [13:02<07:26, 104.90it/s]"
     ]
    },
    {
     "name": "stdout",
     "output_type": "stream",
     "text": [
      "Epsilon : 1.2004494851738917e-16, average reward : 33.1160, averaged shaped reward : 33.0160 Pickup, Drop, Success, Hit wall rate : [1.0, 0.99, 0.99, 0.02]\n",
      "averaged grid size : 5.00, averaged obstacles : 10.68\n"
     ]
    },
    {
     "name": "stderr",
     "output_type": "stream",
     "text": [
      " 61%|██████    | 73403/120100 [13:03<09:44, 79.95it/s] "
     ]
    },
    {
     "name": "stdout",
     "output_type": "stream",
     "text": [
      "Epsilon : 1.1418885944677912e-16, average reward : -18.7390, averaged shaped reward : -18.7390 Pickup, Drop, Success, Hit wall rate : [0.94, 0.9, 0.9, 0.08]\n",
      "averaged grid size : 5.00, averaged obstacles : 9.97\n"
     ]
    },
    {
     "name": "stderr",
     "output_type": "stream",
     "text": [
      " 61%|██████    | 73508/120100 [13:04<09:36, 80.77it/s]"
     ]
    },
    {
     "name": "stdout",
     "output_type": "stream",
     "text": [
      "Epsilon : 1.0861844486415444e-16, average reward : -7.8520, averaged shaped reward : -8.2520 Pickup, Drop, Success, Hit wall rate : [0.98, 0.95, 0.92, 0.05]\n",
      "averaged grid size : 5.00, averaged obstacles : 9.52\n"
     ]
    },
    {
     "name": "stderr",
     "output_type": "stream",
     "text": [
      " 61%|██████▏   | 73621/120100 [13:05<06:43, 115.31it/s]"
     ]
    },
    {
     "name": "stdout",
     "output_type": "stream",
     "text": [
      "Epsilon : 1.0331976886244414e-16, average reward : -2.2500, averaged shaped reward : -2.4500 Pickup, Drop, Success, Hit wall rate : [0.97, 0.96, 0.94, 0.22]\n",
      "averaged grid size : 5.00, averaged obstacles : 9.84\n"
     ]
    },
    {
     "name": "stderr",
     "output_type": "stream",
     "text": [
      " 61%|██████▏   | 73721/120100 [13:06<09:33, 80.88it/s] "
     ]
    },
    {
     "name": "stdout",
     "output_type": "stream",
     "text": [
      "Epsilon : 9.827957536254289e-17, average reward : -8.6200, averaged shaped reward : -8.7200 Pickup, Drop, Success, Hit wall rate : [0.95, 0.93, 0.93, 0.06]\n",
      "averaged grid size : 5.00, averaged obstacles : 9.45\n"
     ]
    },
    {
     "name": "stderr",
     "output_type": "stream",
     "text": [
      " 61%|██████▏   | 73816/120100 [13:08<09:49, 78.54it/s]"
     ]
    },
    {
     "name": "stdout",
     "output_type": "stream",
     "text": [
      "Epsilon : 9.34852549496234e-17, average reward : 3.9330, averaged shaped reward : 3.9330 Pickup, Drop, Success, Hit wall rate : [0.98, 0.95, 0.95, 0.01]\n",
      "averaged grid size : 5.00, averaged obstacles : 11.25\n"
     ]
    },
    {
     "name": "stderr",
     "output_type": "stream",
     "text": [
      " 62%|██████▏   | 73910/120100 [13:09<09:00, 85.51it/s] "
     ]
    },
    {
     "name": "stdout",
     "output_type": "stream",
     "text": [
      "Epsilon : 8.892481332725571e-17, average reward : -8.0260, averaged shaped reward : -8.0260 Pickup, Drop, Success, Hit wall rate : [0.94, 0.92, 0.92, 0.08]\n",
      "averaged grid size : 5.00, averaged obstacles : 10.27\n"
     ]
    },
    {
     "name": "stderr",
     "output_type": "stream",
     "text": [
      " 62%|██████▏   | 74023/120100 [13:10<06:19, 121.56it/s]"
     ]
    },
    {
     "name": "stdout",
     "output_type": "stream",
     "text": [
      "Epsilon : 8.458684131041274e-17, average reward : 8.2550, averaged shaped reward : 8.2550 Pickup, Drop, Success, Hit wall rate : [0.98, 0.95, 0.95, 0.0]\n",
      "averaged grid size : 5.00, averaged obstacles : 10.09\n"
     ]
    },
    {
     "name": "stderr",
     "output_type": "stream",
     "text": [
      " 62%|██████▏   | 74105/120100 [13:11<08:37, 88.90it/s] "
     ]
    },
    {
     "name": "stdout",
     "output_type": "stream",
     "text": [
      "Epsilon : 8.046048628229108e-17, average reward : -3.4010, averaged shaped reward : -3.4010 Pickup, Drop, Success, Hit wall rate : [0.95, 0.93, 0.93, 0.06]\n",
      "averaged grid size : 5.00, averaged obstacles : 9.51\n"
     ]
    },
    {
     "name": "stderr",
     "output_type": "stream",
     "text": [
      " 62%|██████▏   | 74201/120100 [13:12<08:57, 85.40it/s]"
     ]
    },
    {
     "name": "stdout",
     "output_type": "stream",
     "text": [
      "Epsilon : 7.653542504353813e-17, average reward : -34.9120, averaged shaped reward : -35.0120 Pickup, Drop, Success, Hit wall rate : [0.95, 0.9, 0.9, 0.04]\n",
      "averaged grid size : 5.00, averaged obstacles : 9.76\n"
     ]
    },
    {
     "name": "stderr",
     "output_type": "stream",
     "text": [
      " 62%|██████▏   | 74304/120100 [13:14<06:06, 124.97it/s]"
     ]
    },
    {
     "name": "stdout",
     "output_type": "stream",
     "text": [
      "Epsilon : 7.280183798596159e-17, average reward : -15.4890, averaged shaped reward : -15.5890 Pickup, Drop, Success, Hit wall rate : [0.97, 0.92, 0.91, 0.05]\n",
      "averaged grid size : 5.00, averaged obstacles : 10.33\n"
     ]
    },
    {
     "name": "stderr",
     "output_type": "stream",
     "text": [
      " 62%|██████▏   | 74412/120100 [13:15<08:13, 92.63it/s] "
     ]
    },
    {
     "name": "stdout",
     "output_type": "stream",
     "text": [
      "Epsilon : 6.92503845261089e-17, average reward : -5.7150, averaged shaped reward : -5.7150 Pickup, Drop, Success, Hit wall rate : [0.94, 0.93, 0.93, 0.07]\n",
      "averaged grid size : 5.00, averaged obstacles : 9.66\n"
     ]
    },
    {
     "name": "stderr",
     "output_type": "stream",
     "text": [
      " 62%|██████▏   | 74505/120100 [13:16<13:30, 56.26it/s]"
     ]
    },
    {
     "name": "stdout",
     "output_type": "stream",
     "text": [
      "Epsilon : 6.587217973725723e-17, average reward : -32.5190, averaged shaped reward : -32.7190 Pickup, Drop, Success, Hit wall rate : [0.97, 0.9, 0.9, 0.03]\n",
      "averaged grid size : 5.00, averaged obstacles : 9.28\n"
     ]
    },
    {
     "name": "stderr",
     "output_type": "stream",
     "text": [
      " 62%|██████▏   | 74620/120100 [13:18<08:19, 90.97it/s]"
     ]
    },
    {
     "name": "stdout",
     "output_type": "stream",
     "text": [
      "Epsilon : 6.265877212135303e-17, average reward : -24.7300, averaged shaped reward : -26.1300 Pickup, Drop, Success, Hit wall rate : [1.04, 1.01, 0.92, 0.1]\n",
      "averaged grid size : 5.00, averaged obstacles : 9.41\n"
     ]
    },
    {
     "name": "stderr",
     "output_type": "stream",
     "text": [
      " 62%|██████▏   | 74711/120100 [13:19<10:32, 71.73it/s]"
     ]
    },
    {
     "name": "stdout",
     "output_type": "stream",
     "text": [
      "Epsilon : 5.960212246529066e-17, average reward : -14.3820, averaged shaped reward : -14.4820 Pickup, Drop, Success, Hit wall rate : [0.99, 0.93, 0.92, 0.09]\n",
      "averaged grid size : 5.00, averaged obstacles : 10.20\n"
     ]
    },
    {
     "name": "stderr",
     "output_type": "stream",
     "text": [
      " 62%|██████▏   | 74807/120100 [13:20<09:45, 77.34it/s]"
     ]
    },
    {
     "name": "stdout",
     "output_type": "stream",
     "text": [
      "Epsilon : 5.669458372863491e-17, average reward : -20.3090, averaged shaped reward : -20.8090 Pickup, Drop, Success, Hit wall rate : [0.97, 0.95, 0.93, 0.03]\n",
      "averaged grid size : 5.00, averaged obstacles : 9.25\n"
     ]
    },
    {
     "name": "stderr",
     "output_type": "stream",
     "text": [
      " 62%|██████▏   | 74915/120100 [13:22<10:12, 73.76it/s]"
     ]
    },
    {
     "name": "stdout",
     "output_type": "stream",
     "text": [
      "Epsilon : 5.392888191246934e-17, average reward : -16.7230, averaged shaped reward : -16.8230 Pickup, Drop, Success, Hit wall rate : [0.94, 0.9, 0.9, 0.06]\n",
      "averaged grid size : 5.00, averaged obstacles : 10.15\n"
     ]
    },
    {
     "name": "stderr",
     "output_type": "stream",
     "text": [
      " 62%|██████▏   | 75008/120100 [13:23<10:41, 70.29it/s] "
     ]
    },
    {
     "name": "stdout",
     "output_type": "stream",
     "text": [
      "Epsilon : 5.129809786150957e-17, average reward : 2.4800, averaged shaped reward : 2.1800 Pickup, Drop, Success, Hit wall rate : [0.97, 0.95, 0.95, 0.06]\n",
      "averaged grid size : 5.00, averaged obstacles : 10.15\n"
     ]
    },
    {
     "name": "stderr",
     "output_type": "stream",
     "text": [
      " 63%|██████▎   | 75114/120100 [13:24<07:59, 93.81it/s]"
     ]
    },
    {
     "name": "stdout",
     "output_type": "stream",
     "text": [
      "Epsilon : 4.879564995395468e-17, average reward : -17.8810, averaged shaped reward : -18.1810 Pickup, Drop, Success, Hit wall rate : [0.95, 0.91, 0.91, 0.09]\n",
      "averaged grid size : 5.00, averaged obstacles : 10.35\n"
     ]
    },
    {
     "name": "stderr",
     "output_type": "stream",
     "text": [
      " 63%|██████▎   | 75205/120100 [13:26<11:10, 66.93it/s]"
     ]
    },
    {
     "name": "stdout",
     "output_type": "stream",
     "text": [
      "Epsilon : 4.641527763577023e-17, average reward : -23.6910, averaged shaped reward : -23.8910 Pickup, Drop, Success, Hit wall rate : [0.94, 0.92, 0.92, 0.08]\n",
      "averaged grid size : 5.00, averaged obstacles : 10.56\n"
     ]
    },
    {
     "name": "stderr",
     "output_type": "stream",
     "text": [
      " 63%|██████▎   | 75307/120100 [13:27<15:31, 48.08it/s]"
     ]
    },
    {
     "name": "stdout",
     "output_type": "stream",
     "text": [
      "Epsilon : 4.4151025758209604e-17, average reward : -50.5990, averaged shaped reward : -51.0990 Pickup, Drop, Success, Hit wall rate : [0.96, 0.91, 0.89, 0.17]\n",
      "averaged grid size : 5.00, averaged obstacles : 9.75\n"
     ]
    },
    {
     "name": "stderr",
     "output_type": "stream",
     "text": [
      " 63%|██████▎   | 75409/120100 [13:29<10:22, 71.76it/s]"
     ]
    },
    {
     "name": "stdout",
     "output_type": "stream",
     "text": [
      "Epsilon : 4.199722967938984e-17, average reward : -18.3900, averaged shaped reward : -18.7900 Pickup, Drop, Success, Hit wall rate : [0.96, 0.92, 0.92, 0.24]\n",
      "averaged grid size : 5.00, averaged obstacles : 10.52\n"
     ]
    },
    {
     "name": "stderr",
     "output_type": "stream",
     "text": [
      " 63%|██████▎   | 75514/120100 [13:30<08:03, 92.16it/s] "
     ]
    },
    {
     "name": "stdout",
     "output_type": "stream",
     "text": [
      "Epsilon : 3.994850109264927e-17, average reward : -14.4110, averaged shaped reward : -15.4110 Pickup, Drop, Success, Hit wall rate : [0.99, 0.97, 0.93, 0.22]\n",
      "averaged grid size : 5.00, averaged obstacles : 10.04\n"
     ]
    },
    {
     "name": "stderr",
     "output_type": "stream",
     "text": [
      " 63%|██████▎   | 75608/120100 [13:31<08:09, 90.80it/s]"
     ]
    },
    {
     "name": "stdout",
     "output_type": "stream",
     "text": [
      "Epsilon : 3.7999714546233005e-17, average reward : -20.8140, averaged shaped reward : -21.4140 Pickup, Drop, Success, Hit wall rate : [0.98, 0.96, 0.94, 0.14]\n",
      "averaged grid size : 5.00, averaged obstacles : 9.76\n"
     ]
    },
    {
     "name": "stderr",
     "output_type": "stream",
     "text": [
      " 63%|██████▎   | 75704/120100 [13:32<08:39, 85.39it/s]"
     ]
    },
    {
     "name": "stdout",
     "output_type": "stream",
     "text": [
      "Epsilon : 3.614599462058145e-17, average reward : -6.6610, averaged shaped reward : -6.9610 Pickup, Drop, Success, Hit wall rate : [0.98, 0.94, 0.94, 0.14]\n",
      "averaged grid size : 5.00, averaged obstacles : 10.02\n"
     ]
    },
    {
     "name": "stderr",
     "output_type": "stream",
     "text": [
      " 63%|██████▎   | 75807/120100 [13:35<13:25, 55.00it/s]"
     ]
    },
    {
     "name": "stdout",
     "output_type": "stream",
     "text": [
      "Epsilon : 3.438270373114219e-17, average reward : -73.3100, averaged shaped reward : -74.1100 Pickup, Drop, Success, Hit wall rate : [0.87, 0.84, 0.84, 0.25]\n",
      "averaged grid size : 5.00, averaged obstacles : 9.38\n"
     ]
    },
    {
     "name": "stderr",
     "output_type": "stream",
     "text": [
      " 63%|██████▎   | 75915/120100 [13:36<07:57, 92.47it/s]"
     ]
    },
    {
     "name": "stdout",
     "output_type": "stream",
     "text": [
      "Epsilon : 3.2705430526190977e-17, average reward : -18.6220, averaged shaped reward : -18.8220 Pickup, Drop, Success, Hit wall rate : [0.95, 0.94, 0.94, 0.09]\n",
      "averaged grid size : 5.00, averaged obstacles : 11.16\n"
     ]
    },
    {
     "name": "stderr",
     "output_type": "stream",
     "text": [
      " 63%|██████▎   | 76014/120100 [13:37<07:02, 104.23it/s]"
     ]
    },
    {
     "name": "stdout",
     "output_type": "stream",
     "text": [
      "Epsilon : 3.110997885063563e-17, average reward : 8.3170, averaged shaped reward : 8.1170 Pickup, Drop, Success, Hit wall rate : [0.96, 0.95, 0.95, 0.11]\n",
      "averaged grid size : 5.00, averaged obstacles : 10.74\n"
     ]
    },
    {
     "name": "stderr",
     "output_type": "stream",
     "text": [
      " 63%|██████▎   | 76116/120100 [13:38<10:28, 70.03it/s] "
     ]
    },
    {
     "name": "stdout",
     "output_type": "stream",
     "text": [
      "Epsilon : 2.959235724819287e-17, average reward : -19.5430, averaged shaped reward : -19.7430 Pickup, Drop, Success, Hit wall rate : [0.98, 0.92, 0.91, 0.06]\n",
      "averaged grid size : 5.00, averaged obstacles : 10.21\n"
     ]
    },
    {
     "name": "stderr",
     "output_type": "stream",
     "text": [
      " 63%|██████▎   | 76222/120100 [13:40<07:26, 98.37it/s]"
     ]
    },
    {
     "name": "stdout",
     "output_type": "stream",
     "text": [
      "Epsilon : 2.814876897567486e-17, average reward : -18.0300, averaged shaped reward : -18.3300 Pickup, Drop, Success, Hit wall rate : [0.95, 0.93, 0.93, 0.09]\n",
      "averaged grid size : 5.00, averaged obstacles : 10.64\n"
     ]
    },
    {
     "name": "stderr",
     "output_type": "stream",
     "text": [
      " 64%|██████▎   | 76306/120100 [13:41<07:06, 102.74it/s]"
     ]
    },
    {
     "name": "stdout",
     "output_type": "stream",
     "text": [
      "Epsilon : 2.6775602504403484e-17, average reward : 13.9190, averaged shaped reward : 13.5190 Pickup, Drop, Success, Hit wall rate : [0.98, 0.96, 0.96, 0.05]\n",
      "averaged grid size : 5.00, averaged obstacles : 10.06\n"
     ]
    },
    {
     "name": "stderr",
     "output_type": "stream",
     "text": [
      " 64%|██████▎   | 76413/120100 [13:42<11:05, 65.60it/s] "
     ]
    },
    {
     "name": "stdout",
     "output_type": "stream",
     "text": [
      "Epsilon : 2.5469422484989157e-17, average reward : -18.8170, averaged shaped reward : -19.0170 Pickup, Drop, Success, Hit wall rate : [0.96, 0.94, 0.94, 0.13]\n",
      "averaged grid size : 5.00, averaged obstacles : 10.92\n"
     ]
    },
    {
     "name": "stderr",
     "output_type": "stream",
     "text": [
      " 64%|██████▎   | 76523/120100 [13:44<07:38, 95.06it/s]"
     ]
    },
    {
     "name": "stdout",
     "output_type": "stream",
     "text": [
      "Epsilon : 2.4226961152869966e-17, average reward : -12.7640, averaged shaped reward : -13.3640 Pickup, Drop, Success, Hit wall rate : [0.96, 0.92, 0.92, 0.15]\n",
      "averaged grid size : 5.00, averaged obstacles : 9.82\n"
     ]
    },
    {
     "name": "stderr",
     "output_type": "stream",
     "text": [
      " 64%|██████▍   | 76615/120100 [13:44<06:06, 118.62it/s]"
     ]
    },
    {
     "name": "stdout",
     "output_type": "stream",
     "text": [
      "Epsilon : 2.3045110153109944e-17, average reward : 24.0030, averaged shaped reward : 23.9030 Pickup, Drop, Success, Hit wall rate : [0.98, 0.98, 0.98, 0.07]\n",
      "averaged grid size : 5.00, averaged obstacles : 10.67\n"
     ]
    },
    {
     "name": "stderr",
     "output_type": "stream",
     "text": [
      " 64%|██████▍   | 76701/120100 [13:45<06:17, 115.08it/s]"
     ]
    },
    {
     "name": "stdout",
     "output_type": "stream",
     "text": [
      "Epsilon : 2.192091276400377e-17, average reward : 16.8290, averaged shaped reward : 16.7290 Pickup, Drop, Success, Hit wall rate : [0.98, 0.96, 0.96, 0.1]\n",
      "averaged grid size : 5.00, averaged obstacles : 10.13\n"
     ]
    },
    {
     "name": "stderr",
     "output_type": "stream",
     "text": [
      " 64%|██████▍   | 76803/120100 [13:46<07:07, 101.26it/s]"
     ]
    },
    {
     "name": "stdout",
     "output_type": "stream",
     "text": [
      "Epsilon : 2.0851556500033328e-17, average reward : -20.1230, averaged shaped reward : -20.1230 Pickup, Drop, Success, Hit wall rate : [1.0, 0.94, 0.94, 0.07]\n",
      "averaged grid size : 5.00, averaged obstacles : 10.11\n"
     ]
    },
    {
     "name": "stderr",
     "output_type": "stream",
     "text": [
      " 64%|██████▍   | 76903/120100 [13:48<10:21, 69.54it/s] "
     ]
    },
    {
     "name": "stdout",
     "output_type": "stream",
     "text": [
      "Epsilon : 1.983436607567019e-17, average reward : -22.9910, averaged shaped reward : -23.1910 Pickup, Drop, Success, Hit wall rate : [0.96, 0.92, 0.92, 0.28]\n",
      "averaged grid size : 5.00, averaged obstacles : 10.80\n"
     ]
    },
    {
     "name": "stderr",
     "output_type": "stream",
     "text": [
      " 64%|██████▍   | 77028/120100 [13:50<05:31, 129.86it/s]"
     ]
    },
    {
     "name": "stdout",
     "output_type": "stream",
     "text": [
      "Epsilon : 1.8866796712421338e-17, average reward : -35.0840, averaged shaped reward : -36.1840 Pickup, Drop, Success, Hit wall rate : [1.05, 0.97, 0.9, 0.35]\n",
      "averaged grid size : 5.00, averaged obstacles : 9.46\n"
     ]
    },
    {
     "name": "stderr",
     "output_type": "stream",
     "text": [
      " 64%|██████▍   | 77111/120100 [13:51<08:31, 83.98it/s] "
     ]
    },
    {
     "name": "stdout",
     "output_type": "stream",
     "text": [
      "Epsilon : 1.7946427772373613e-17, average reward : 12.7720, averaged shaped reward : 12.7720 Pickup, Drop, Success, Hit wall rate : [0.98, 0.96, 0.96, 0.01]\n",
      "averaged grid size : 5.00, averaged obstacles : 10.26\n"
     ]
    },
    {
     "name": "stderr",
     "output_type": "stream",
     "text": [
      " 64%|██████▍   | 77214/120100 [13:52<07:03, 101.18it/s]"
     ]
    },
    {
     "name": "stdout",
     "output_type": "stream",
     "text": [
      "Epsilon : 1.7070956702309667e-17, average reward : -5.2150, averaged shaped reward : -5.5150 Pickup, Drop, Success, Hit wall rate : [0.98, 0.94, 0.94, 0.06]\n",
      "averaged grid size : 5.00, averaged obstacles : 9.76\n"
     ]
    },
    {
     "name": "stderr",
     "output_type": "stream",
     "text": [
      " 64%|██████▍   | 77313/120100 [13:53<06:42, 106.37it/s]"
     ]
    },
    {
     "name": "stdout",
     "output_type": "stream",
     "text": [
      "Epsilon : 1.6238193273244826e-17, average reward : 15.4360, averaged shaped reward : 15.2360 Pickup, Drop, Success, Hit wall rate : [0.96, 0.96, 0.96, 0.1]\n",
      "averaged grid size : 5.00, averaged obstacles : 9.84\n"
     ]
    },
    {
     "name": "stderr",
     "output_type": "stream",
     "text": [
      " 64%|██████▍   | 77419/120100 [13:54<07:43, 92.02it/s] "
     ]
    },
    {
     "name": "stdout",
     "output_type": "stream",
     "text": [
      "Epsilon : 1.5446054100973626e-17, average reward : 3.9100, averaged shaped reward : 3.6100 Pickup, Drop, Success, Hit wall rate : [1.0, 0.97, 0.97, 0.07]\n",
      "averaged grid size : 5.00, averaged obstacles : 10.54\n"
     ]
    },
    {
     "name": "stderr",
     "output_type": "stream",
     "text": [
      " 65%|██████▍   | 77526/120100 [13:54<05:30, 128.94it/s]"
     ]
    },
    {
     "name": "stdout",
     "output_type": "stream",
     "text": [
      "Epsilon : 1.4692557433917618e-17, average reward : 27.6530, averaged shaped reward : 27.6530 Pickup, Drop, Success, Hit wall rate : [0.97, 0.97, 0.97, 0.01]\n",
      "averaged grid size : 5.00, averaged obstacles : 10.08\n"
     ]
    },
    {
     "name": "stderr",
     "output_type": "stream",
     "text": [
      " 65%|██████▍   | 77620/120100 [13:55<04:00, 177.00it/s]"
     ]
    },
    {
     "name": "stdout",
     "output_type": "stream",
     "text": [
      "Epsilon : 1.3975818195234763e-17, average reward : 28.0620, averaged shaped reward : 28.0620 Pickup, Drop, Success, Hit wall rate : [0.99, 0.98, 0.98, 0.02]\n",
      "averaged grid size : 5.00, averaged obstacles : 10.21\n"
     ]
    },
    {
     "name": "stderr",
     "output_type": "stream",
     "text": [
      " 65%|██████▍   | 77708/120100 [13:56<06:19, 111.80it/s]"
     ]
    },
    {
     "name": "stdout",
     "output_type": "stream",
     "text": [
      "Epsilon : 1.3294043266787095e-17, average reward : 20.4830, averaged shaped reward : 20.4830 Pickup, Drop, Success, Hit wall rate : [0.97, 0.95, 0.95, 0.01]\n",
      "averaged grid size : 5.00, averaged obstacles : 10.99\n"
     ]
    },
    {
     "name": "stderr",
     "output_type": "stream",
     "text": [
      " 65%|██████▍   | 77816/120100 [13:57<07:16, 96.85it/s] "
     ]
    },
    {
     "name": "stdout",
     "output_type": "stream",
     "text": [
      "Epsilon : 1.264552700316796e-17, average reward : 8.0670, averaged shaped reward : 8.0670 Pickup, Drop, Success, Hit wall rate : [0.96, 0.94, 0.94, 0.02]\n",
      "averaged grid size : 5.00, averaged obstacles : 9.96\n"
     ]
    },
    {
     "name": "stderr",
     "output_type": "stream",
     "text": [
      " 65%|██████▍   | 77925/120100 [13:58<07:14, 97.10it/s] "
     ]
    },
    {
     "name": "stdout",
     "output_type": "stream",
     "text": [
      "Epsilon : 1.202864696456617e-17, average reward : -14.9680, averaged shaped reward : -15.0680 Pickup, Drop, Success, Hit wall rate : [0.96, 0.9, 0.9, 0.02]\n",
      "averaged grid size : 5.00, averaged obstacles : 10.23\n"
     ]
    },
    {
     "name": "stderr",
     "output_type": "stream",
     "text": [
      " 65%|██████▍   | 78007/120100 [13:59<11:10, 62.78it/s]"
     ]
    },
    {
     "name": "stdout",
     "output_type": "stream",
     "text": [
      "Epsilon : 1.1441859857791586e-17, average reward : -19.9060, averaged shaped reward : -20.1060 Pickup, Drop, Success, Hit wall rate : [0.94, 0.91, 0.91, 0.26]\n",
      "averaged grid size : 5.00, averaged obstacles : 10.25\n"
     ]
    },
    {
     "name": "stderr",
     "output_type": "stream",
     "text": [
      " 65%|██████▌   | 78107/120100 [14:00<06:23, 109.49it/s]"
     ]
    },
    {
     "name": "stdout",
     "output_type": "stream",
     "text": [
      "Epsilon : 1.0883697675307421e-17, average reward : 11.5340, averaged shaped reward : 11.5340 Pickup, Drop, Success, Hit wall rate : [0.97, 0.96, 0.96, 0.03]\n",
      "averaged grid size : 5.00, averaged obstacles : 9.05\n"
     ]
    },
    {
     "name": "stderr",
     "output_type": "stream",
     "text": [
      " 65%|██████▌   | 78208/120100 [14:02<09:08, 76.41it/s] "
     ]
    },
    {
     "name": "stdout",
     "output_type": "stream",
     "text": [
      "Epsilon : 1.0352764022610168e-17, average reward : -2.8360, averaged shaped reward : -3.1360 Pickup, Drop, Success, Hit wall rate : [0.97, 0.94, 0.94, 0.03]\n",
      "averaged grid size : 5.00, averaged obstacles : 10.89\n"
     ]
    },
    {
     "name": "stderr",
     "output_type": "stream",
     "text": [
      " 65%|██████▌   | 78310/120100 [14:03<07:20, 94.92it/s] "
     ]
    },
    {
     "name": "stdout",
     "output_type": "stream",
     "text": [
      "Epsilon : 9.847730624768942e-18, average reward : -18.4250, averaged shaped reward : -18.5250 Pickup, Drop, Success, Hit wall rate : [0.95, 0.9, 0.9, 0.04]\n",
      "averaged grid size : 5.00, averaged obstacles : 9.96\n"
     ]
    },
    {
     "name": "stderr",
     "output_type": "stream",
     "text": [
      " 65%|██████▌   | 78405/120100 [14:04<08:35, 80.89it/s]"
     ]
    },
    {
     "name": "stdout",
     "output_type": "stream",
     "text": [
      "Epsilon : 9.367334003384518e-18, average reward : -18.3540, averaged shaped reward : -18.6540 Pickup, Drop, Success, Hit wall rate : [0.93, 0.91, 0.91, 0.12]\n",
      "averaged grid size : 5.00, averaged obstacles : 10.48\n"
     ]
    },
    {
     "name": "stderr",
     "output_type": "stream",
     "text": [
      " 65%|██████▌   | 78506/120100 [14:06<06:42, 103.24it/s]"
     ]
    },
    {
     "name": "stdout",
     "output_type": "stream",
     "text": [
      "Epsilon : 8.91037231565446e-18, average reward : -16.1830, averaged shaped reward : -16.1830 Pickup, Drop, Success, Hit wall rate : [0.96, 0.93, 0.93, 0.02]\n",
      "averaged grid size : 5.00, averaged obstacles : 10.03\n"
     ]
    },
    {
     "name": "stderr",
     "output_type": "stream",
     "text": [
      " 65%|██████▌   | 78629/120100 [14:07<06:23, 108.06it/s]"
     ]
    },
    {
     "name": "stdout",
     "output_type": "stream",
     "text": [
      "Epsilon : 8.475702347636506e-18, average reward : 4.4110, averaged shaped reward : 4.3110 Pickup, Drop, Success, Hit wall rate : [0.96, 0.94, 0.94, 0.0]\n",
      "averaged grid size : 5.00, averaged obstacles : 10.05\n"
     ]
    },
    {
     "name": "stderr",
     "output_type": "stream",
     "text": [
      " 66%|██████▌   | 78707/120100 [14:08<12:09, 56.72it/s] "
     ]
    },
    {
     "name": "stdout",
     "output_type": "stream",
     "text": [
      "Epsilon : 8.062236654187947e-18, average reward : -23.0400, averaged shaped reward : -23.1400 Pickup, Drop, Success, Hit wall rate : [0.96, 0.92, 0.92, 0.02]\n",
      "averaged grid size : 5.00, averaged obstacles : 9.96\n"
     ]
    },
    {
     "name": "stderr",
     "output_type": "stream",
     "text": [
      " 66%|██████▌   | 78806/120100 [14:09<08:53, 77.44it/s]"
     ]
    },
    {
     "name": "stdout",
     "output_type": "stream",
     "text": [
      "Epsilon : 7.66894083842588e-18, average reward : -20.3970, averaged shaped reward : -20.4970 Pickup, Drop, Success, Hit wall rate : [0.95, 0.9, 0.89, 0.02]\n",
      "averaged grid size : 5.00, averaged obstacles : 9.72\n"
     ]
    },
    {
     "name": "stderr",
     "output_type": "stream",
     "text": [
      " 66%|██████▌   | 78925/120100 [14:11<07:02, 97.56it/s]"
     ]
    },
    {
     "name": "stdout",
     "output_type": "stream",
     "text": [
      "Epsilon : 7.294830963902043e-18, average reward : -12.8880, averaged shaped reward : -13.0880 Pickup, Drop, Success, Hit wall rate : [0.97, 0.92, 0.92, 0.01]\n",
      "averaged grid size : 5.00, averaged obstacles : 10.66\n"
     ]
    },
    {
     "name": "stderr",
     "output_type": "stream",
     "text": [
      " 66%|██████▌   | 79002/120100 [14:12<10:38, 64.32it/s]"
     ]
    },
    {
     "name": "stdout",
     "output_type": "stream",
     "text": [
      "Epsilon : 6.938971093018206e-18, average reward : -19.0260, averaged shaped reward : -19.0260 Pickup, Drop, Success, Hit wall rate : [0.95, 0.9, 0.9, 0.07]\n",
      "averaged grid size : 5.00, averaged obstacles : 9.94\n"
     ]
    },
    {
     "name": "stderr",
     "output_type": "stream",
     "text": [
      " 66%|██████▌   | 79114/120100 [14:14<08:00, 85.34it/s]"
     ]
    },
    {
     "name": "stdout",
     "output_type": "stream",
     "text": [
      "Epsilon : 6.600470945523726e-18, average reward : -35.4220, averaged shaped reward : -35.7220 Pickup, Drop, Success, Hit wall rate : [0.97, 0.9, 0.89, 0.01]\n",
      "averaged grid size : 5.00, averaged obstacles : 10.51\n"
     ]
    },
    {
     "name": "stderr",
     "output_type": "stream",
     "text": [
      " 66%|██████▌   | 79204/120100 [14:14<08:15, 82.48it/s] "
     ]
    },
    {
     "name": "stdout",
     "output_type": "stream",
     "text": [
      "Epsilon : 6.2784836712373654e-18, average reward : 6.3030, averaged shaped reward : 6.2030 Pickup, Drop, Success, Hit wall rate : [0.97, 0.94, 0.94, 0.01]\n",
      "averaged grid size : 5.00, averaged obstacles : 9.91\n"
     ]
    },
    {
     "name": "stderr",
     "output_type": "stream",
     "text": [
      " 66%|██████▌   | 79305/120100 [14:16<08:07, 83.76it/s]"
     ]
    },
    {
     "name": "stdout",
     "output_type": "stream",
     "text": [
      "Epsilon : 5.9722037314212315e-18, average reward : -19.0590, averaged shaped reward : -19.1590 Pickup, Drop, Success, Hit wall rate : [0.95, 0.92, 0.91, 0.02]\n",
      "averaged grid size : 5.00, averaged obstacles : 10.16\n"
     ]
    },
    {
     "name": "stderr",
     "output_type": "stream",
     "text": [
      " 66%|██████▌   | 79395/120100 [14:17<06:44, 100.64it/s]"
     ]
    },
    {
     "name": "stdout",
     "output_type": "stream",
     "text": [
      "Epsilon : 5.680864883506558e-18, average reward : -11.4510, averaged shaped reward : -11.4510 Pickup, Drop, Success, Hit wall rate : [0.94, 0.93, 0.93, 0.03]\n",
      "averaged grid size : 5.00, averaged obstacles : 10.39\n"
     ]
    },
    {
     "name": "stderr",
     "output_type": "stream",
     "text": [
      " 66%|██████▌   | 79524/120100 [14:19<07:15, 93.25it/s] "
     ]
    },
    {
     "name": "stdout",
     "output_type": "stream",
     "text": [
      "Epsilon : 5.4037382641295136e-18, average reward : -14.5990, averaged shaped reward : -14.5990 Pickup, Drop, Success, Hit wall rate : [0.95, 0.91, 0.91, 0.01]\n",
      "averaged grid size : 5.00, averaged obstacles : 10.66\n"
     ]
    },
    {
     "name": "stderr",
     "output_type": "stream",
     "text": [
      " 66%|██████▋   | 79612/120100 [14:20<07:20, 91.97it/s] "
     ]
    },
    {
     "name": "stdout",
     "output_type": "stream",
     "text": [
      "Epsilon : 5.140130565681275e-18, average reward : -0.6280, averaged shaped reward : -0.6280 Pickup, Drop, Success, Hit wall rate : [0.98, 0.97, 0.97, 0.02]\n",
      "averaged grid size : 5.00, averaged obstacles : 9.59\n"
     ]
    },
    {
     "name": "stderr",
     "output_type": "stream",
     "text": [
      " 66%|██████▋   | 79721/120100 [14:21<07:33, 89.12it/s]"
     ]
    },
    {
     "name": "stdout",
     "output_type": "stream",
     "text": [
      "Epsilon : 4.889382301810478e-18, average reward : -9.7440, averaged shaped reward : -9.7440 Pickup, Drop, Success, Hit wall rate : [0.94, 0.93, 0.93, 0.01]\n",
      "averaged grid size : 5.00, averaged obstacles : 10.90\n"
     ]
    },
    {
     "name": "stderr",
     "output_type": "stream",
     "text": [
      " 66%|██████▋   | 79812/120100 [14:22<08:51, 75.73it/s] "
     ]
    },
    {
     "name": "stdout",
     "output_type": "stream",
     "text": [
      "Epsilon : 4.650866157538742e-18, average reward : 3.2350, averaged shaped reward : 2.9350 Pickup, Drop, Success, Hit wall rate : [0.97, 0.95, 0.95, 0.02]\n",
      "averaged grid size : 5.00, averaged obstacles : 10.57\n"
     ]
    },
    {
     "name": "stderr",
     "output_type": "stream",
     "text": [
      " 67%|██████▋   | 79914/120100 [14:24<09:43, 68.92it/s]"
     ]
    },
    {
     "name": "stdout",
     "output_type": "stream",
     "text": [
      "Epsilon : 4.423985419861655e-18, average reward : -39.5510, averaged shaped reward : -39.6510 Pickup, Drop, Success, Hit wall rate : [0.92, 0.88, 0.88, 0.0]\n",
      "averaged grid size : 5.00, averaged obstacles : 9.71\n"
     ]
    },
    {
     "name": "stderr",
     "output_type": "stream",
     "text": [
      " 67%|██████▋   | 80007/120100 [14:25<10:00, 66.77it/s] "
     ]
    },
    {
     "name": "stdout",
     "output_type": "stream",
     "text": [
      "Epsilon : 4.2081724849089045e-18, average reward : -2.2150, averaged shaped reward : -2.2150 Pickup, Drop, Success, Hit wall rate : [0.95, 0.95, 0.95, 0.01]\n",
      "averaged grid size : 5.00, averaged obstacles : 10.61\n"
     ]
    },
    {
     "name": "stderr",
     "output_type": "stream",
     "text": [
      " 67%|██████▋   | 80119/120100 [14:26<07:19, 90.92it/s]"
     ]
    },
    {
     "name": "stdout",
     "output_type": "stream",
     "text": [
      "Epsilon : 4.0028874379287975e-18, average reward : 2.0260, averaged shaped reward : 1.7260 Pickup, Drop, Success, Hit wall rate : [0.99, 0.95, 0.95, 0.03]\n",
      "averaged grid size : 5.00, averaged obstacles : 9.86\n"
     ]
    },
    {
     "name": "stderr",
     "output_type": "stream",
     "text": [
      " 67%|██████▋   | 80214/120100 [14:27<07:38, 86.96it/s] "
     ]
    },
    {
     "name": "stdout",
     "output_type": "stream",
     "text": [
      "Epsilon : 3.807616702544696e-18, average reward : -7.0530, averaged shaped reward : -7.0530 Pickup, Drop, Success, Hit wall rate : [0.95, 0.91, 0.91, 0.03]\n",
      "averaged grid size : 5.00, averaged obstacles : 9.96\n"
     ]
    },
    {
     "name": "stderr",
     "output_type": "stream",
     "text": [
      " 67%|██████▋   | 80311/120100 [14:29<07:52, 84.22it/s]"
     ]
    },
    {
     "name": "stdout",
     "output_type": "stream",
     "text": [
      "Epsilon : 3.62187175590403e-18, average reward : -28.6980, averaged shaped reward : -28.6980 Pickup, Drop, Success, Hit wall rate : [0.94, 0.88, 0.88, 0.0]\n",
      "averaged grid size : 5.00, averaged obstacles : 10.25\n"
     ]
    },
    {
     "name": "stderr",
     "output_type": "stream",
     "text": [
      " 67%|██████▋   | 80409/120100 [14:30<09:40, 68.35it/s]"
     ]
    },
    {
     "name": "stdout",
     "output_type": "stream",
     "text": [
      "Epsilon : 3.4451879065054975e-18, average reward : -14.2330, averaged shaped reward : -15.4330 Pickup, Drop, Success, Hit wall rate : [1.01, 0.98, 0.93, 0.01]\n",
      "averaged grid size : 5.00, averaged obstacles : 10.48\n"
     ]
    },
    {
     "name": "stderr",
     "output_type": "stream",
     "text": [
      " 67%|██████▋   | 80530/120100 [14:31<06:37, 99.53it/s] "
     ]
    },
    {
     "name": "stdout",
     "output_type": "stream",
     "text": [
      "Epsilon : 3.277123131646917e-18, average reward : -11.9860, averaged shaped reward : -12.2860 Pickup, Drop, Success, Hit wall rate : [0.98, 0.94, 0.92, 0.02]\n",
      "averaged grid size : 5.00, averaged obstacles : 9.15\n"
     ]
    },
    {
     "name": "stderr",
     "output_type": "stream",
     "text": [
      " 67%|██████▋   | 80620/120100 [14:32<05:59, 109.94it/s]"
     ]
    },
    {
     "name": "stdout",
     "output_type": "stream",
     "text": [
      "Epsilon : 3.1172569715852057e-18, average reward : 8.2490, averaged shaped reward : 8.1490 Pickup, Drop, Success, Hit wall rate : [0.96, 0.96, 0.96, 0.04]\n",
      "averaged grid size : 5.00, averaged obstacles : 10.10\n"
     ]
    },
    {
     "name": "stderr",
     "output_type": "stream",
     "text": [
      " 67%|██████▋   | 80705/120100 [14:33<07:38, 85.83it/s] "
     ]
    },
    {
     "name": "stdout",
     "output_type": "stream",
     "text": [
      "Epsilon : 2.9651894776419786e-18, average reward : -0.9090, averaged shaped reward : -0.9090 Pickup, Drop, Success, Hit wall rate : [0.96, 0.94, 0.94, 0.01]\n",
      "averaged grid size : 5.00, averaged obstacles : 9.93\n"
     ]
    },
    {
     "name": "stderr",
     "output_type": "stream",
     "text": [
      " 67%|██████▋   | 80807/120100 [14:35<10:31, 62.17it/s] "
     ]
    },
    {
     "name": "stdout",
     "output_type": "stream",
     "text": [
      "Epsilon : 2.8205402116231593e-18, average reward : -19.2930, averaged shaped reward : -20.0930 Pickup, Drop, Success, Hit wall rate : [1.0, 0.97, 0.91, 0.01]\n",
      "averaged grid size : 5.00, averaged obstacles : 9.97\n"
     ]
    },
    {
     "name": "stderr",
     "output_type": "stream",
     "text": [
      " 67%|██████▋   | 80901/120100 [14:36<09:54, 65.89it/s]"
     ]
    },
    {
     "name": "stdout",
     "output_type": "stream",
     "text": [
      "Epsilon : 2.6829472940493738e-18, average reward : -13.3450, averaged shaped reward : -13.3450 Pickup, Drop, Success, Hit wall rate : [0.93, 0.91, 0.91, 0.02]\n",
      "averaged grid size : 5.00, averaged obstacles : 10.23\n"
     ]
    },
    {
     "name": "stderr",
     "output_type": "stream",
     "text": [
      " 67%|██████▋   | 81009/120100 [14:37<07:34, 86.04it/s]"
     ]
    },
    {
     "name": "stdout",
     "output_type": "stream",
     "text": [
      "Epsilon : 2.5520664988159975e-18, average reward : -39.8810, averaged shaped reward : -40.0810 Pickup, Drop, Success, Hit wall rate : [0.95, 0.89, 0.89, 0.02]\n",
      "averaged grid size : 5.00, averaged obstacles : 9.98\n"
     ]
    },
    {
     "name": "stderr",
     "output_type": "stream",
     "text": [
      " 68%|██████▊   | 81108/120100 [14:39<12:16, 52.92it/s]"
     ]
    },
    {
     "name": "stdout",
     "output_type": "stream",
     "text": [
      "Epsilon : 2.4275703920179535e-18, average reward : -44.5800, averaged shaped reward : -44.6800 Pickup, Drop, Success, Hit wall rate : [0.89, 0.86, 0.86, 0.02]\n",
      "averaged grid size : 5.00, averaged obstacles : 10.65\n"
     ]
    },
    {
     "name": "stderr",
     "output_type": "stream",
     "text": [
      " 68%|██████▊   | 81238/120100 [14:41<04:37, 139.81it/s]"
     ]
    },
    {
     "name": "stdout",
     "output_type": "stream",
     "text": [
      "Epsilon : 2.3091475127847338e-18, average reward : -37.3440, averaged shaped reward : -37.4440 Pickup, Drop, Success, Hit wall rate : [0.93, 0.89, 0.89, 0.06]\n",
      "averaged grid size : 5.00, averaged obstacles : 10.79\n"
     ]
    },
    {
     "name": "stderr",
     "output_type": "stream",
     "text": [
      " 68%|██████▊   | 81307/120100 [14:41<05:54, 109.34it/s]"
     ]
    },
    {
     "name": "stdout",
     "output_type": "stream",
     "text": [
      "Epsilon : 2.1965015940763243e-18, average reward : 28.9120, averaged shaped reward : 28.9120 Pickup, Drop, Success, Hit wall rate : [0.97, 0.97, 0.97, 0.01]\n",
      "averaged grid size : 5.00, averaged obstacles : 10.54\n"
     ]
    },
    {
     "name": "stderr",
     "output_type": "stream",
     "text": [
      " 68%|██████▊   | 81407/120100 [14:43<08:08, 79.29it/s] "
     ]
    },
    {
     "name": "stdout",
     "output_type": "stream",
     "text": [
      "Epsilon : 2.0893508214906316e-18, average reward : -12.9330, averaged shaped reward : -13.2330 Pickup, Drop, Success, Hit wall rate : [0.96, 0.93, 0.93, 0.02]\n",
      "averaged grid size : 5.00, averaged obstacles : 9.88\n"
     ]
    },
    {
     "name": "stderr",
     "output_type": "stream",
     "text": [
      " 68%|██████▊   | 81508/120100 [14:44<07:35, 84.81it/s] "
     ]
    },
    {
     "name": "stdout",
     "output_type": "stream",
     "text": [
      "Epsilon : 1.9874271282281105e-18, average reward : -14.4220, averaged shaped reward : -14.6220 Pickup, Drop, Success, Hit wall rate : [0.95, 0.92, 0.92, 0.07]\n",
      "averaged grid size : 5.00, averaged obstacles : 9.47\n"
     ]
    },
    {
     "name": "stderr",
     "output_type": "stream",
     "text": [
      " 68%|██████▊   | 81602/120100 [14:46<12:46, 50.23it/s]"
     ]
    },
    {
     "name": "stdout",
     "output_type": "stream",
     "text": [
      "Epsilon : 1.8904755244497566e-18, average reward : -54.7560, averaged shaped reward : -55.2560 Pickup, Drop, Success, Hit wall rate : [0.94, 0.88, 0.85, 0.04]\n",
      "averaged grid size : 5.00, averaged obstacles : 9.98\n"
     ]
    },
    {
     "name": "stderr",
     "output_type": "stream",
     "text": [
      " 68%|██████▊   | 81712/120100 [14:47<08:00, 79.83it/s]"
     ]
    },
    {
     "name": "stdout",
     "output_type": "stream",
     "text": [
      "Epsilon : 1.7982534593506784e-18, average reward : -44.9990, averaged shaped reward : -45.2990 Pickup, Drop, Success, Hit wall rate : [0.91, 0.88, 0.88, 0.12]\n",
      "averaged grid size : 5.00, averaged obstacles : 11.00\n"
     ]
    },
    {
     "name": "stderr",
     "output_type": "stream",
     "text": [
      " 68%|██████▊   | 81824/120100 [14:49<05:07, 124.65it/s]"
     ]
    },
    {
     "name": "stdout",
     "output_type": "stream",
     "text": [
      "Epsilon : 1.7105302143532867e-18, average reward : 6.0250, averaged shaped reward : 6.0250 Pickup, Drop, Success, Hit wall rate : [0.98, 0.97, 0.97, 0.05]\n",
      "averaged grid size : 5.00, averaged obstacles : 10.33\n"
     ]
    },
    {
     "name": "stderr",
     "output_type": "stream",
     "text": [
      " 68%|██████▊   | 81903/120100 [14:50<08:51, 71.80it/s] "
     ]
    },
    {
     "name": "stdout",
     "output_type": "stream",
     "text": [
      "Epsilon : 1.6270863259020238e-18, average reward : -13.9570, averaged shaped reward : -14.1570 Pickup, Drop, Success, Hit wall rate : [0.94, 0.91, 0.91, 0.05]\n",
      "averaged grid size : 5.00, averaged obstacles : 10.04\n"
     ]
    },
    {
     "name": "stderr",
     "output_type": "stream",
     "text": [
      " 68%|██████▊   | 82007/120100 [14:51<05:51, 108.28it/s]"
     ]
    },
    {
     "name": "stdout",
     "output_type": "stream",
     "text": [
      "Epsilon : 1.5477130364155965e-18, average reward : 14.5810, averaged shaped reward : 14.5810 Pickup, Drop, Success, Hit wall rate : [0.95, 0.95, 0.95, 0.0]\n",
      "averaged grid size : 5.00, averaged obstacles : 10.13\n"
     ]
    },
    {
     "name": "stderr",
     "output_type": "stream",
     "text": [
      " 68%|██████▊   | 82110/120100 [14:52<09:24, 67.27it/s] "
     ]
    },
    {
     "name": "stdout",
     "output_type": "stream",
     "text": [
      "Epsilon : 1.4722117720231075e-18, average reward : -20.1360, averaged shaped reward : -20.4360 Pickup, Drop, Success, Hit wall rate : [0.93, 0.91, 0.91, 0.04]\n",
      "averaged grid size : 5.00, averaged obstacles : 10.82\n"
     ]
    },
    {
     "name": "stderr",
     "output_type": "stream",
     "text": [
      " 68%|██████▊   | 82206/120100 [14:53<08:54, 70.92it/s] "
     ]
    },
    {
     "name": "stdout",
     "output_type": "stream",
     "text": [
      "Epsilon : 1.4003936457775109e-18, average reward : -0.0960, averaged shaped reward : -0.2960 Pickup, Drop, Success, Hit wall rate : [0.97, 0.94, 0.94, 0.01]\n",
      "averaged grid size : 5.00, averaged obstacles : 9.80\n"
     ]
    },
    {
     "name": "stderr",
     "output_type": "stream",
     "text": [
      " 69%|██████▊   | 82316/120100 [14:55<08:07, 77.43it/s]"
     ]
    },
    {
     "name": "stdout",
     "output_type": "stream",
     "text": [
      "Epsilon : 1.3320789851035427e-18, average reward : -47.3720, averaged shaped reward : -47.4720 Pickup, Drop, Success, Hit wall rate : [0.92, 0.87, 0.87, 0.02]\n",
      "averaged grid size : 5.00, averaged obstacles : 9.85\n"
     ]
    },
    {
     "name": "stderr",
     "output_type": "stream",
     "text": [
      " 69%|██████▊   | 82407/120100 [14:56<05:59, 104.95it/s]"
     ]
    },
    {
     "name": "stdout",
     "output_type": "stream",
     "text": [
      "Epsilon : 1.2670968822979072e-18, average reward : -3.9260, averaged shaped reward : -4.2260 Pickup, Drop, Success, Hit wall rate : [0.97, 0.92, 0.92, 0.05]\n",
      "averaged grid size : 5.00, averaged obstacles : 10.11\n"
     ]
    },
    {
     "name": "stderr",
     "output_type": "stream",
     "text": [
      " 69%|██████▊   | 82538/120100 [14:57<04:31, 138.46it/s]"
     ]
    },
    {
     "name": "stdout",
     "output_type": "stream",
     "text": [
      "Epsilon : 1.2052847669571776e-18, average reward : -2.0580, averaged shaped reward : -2.1580 Pickup, Drop, Success, Hit wall rate : [0.96, 0.93, 0.93, 0.02]\n",
      "averaged grid size : 5.00, averaged obstacles : 10.05\n"
     ]
    },
    {
     "name": "stderr",
     "output_type": "stream",
     "text": [
      " 69%|██████▉   | 82604/120100 [14:58<08:02, 77.76it/s] "
     ]
    },
    {
     "name": "stdout",
     "output_type": "stream",
     "text": [
      "Epsilon : 1.1464879992637144e-18, average reward : 1.4280, averaged shaped reward : 1.3280 Pickup, Drop, Success, Hit wall rate : [0.95, 0.93, 0.93, 0.02]\n",
      "averaged grid size : 5.00, averaged obstacles : 10.14\n"
     ]
    },
    {
     "name": "stderr",
     "output_type": "stream",
     "text": [
      " 69%|██████▉   | 82709/120100 [15:00<09:14, 67.41it/s] "
     ]
    },
    {
     "name": "stdout",
     "output_type": "stream",
     "text": [
      "Epsilon : 1.0905594831121055e-18, average reward : -16.3570, averaged shaped reward : -16.3570 Pickup, Drop, Success, Hit wall rate : [0.97, 0.9, 0.9, 0.03]\n",
      "averaged grid size : 5.00, averaged obstacles : 10.10\n"
     ]
    },
    {
     "name": "stderr",
     "output_type": "stream",
     "text": [
      " 69%|██████▉   | 82806/120100 [15:01<08:30, 73.02it/s] "
     ]
    },
    {
     "name": "stdout",
     "output_type": "stream",
     "text": [
      "Epsilon : 1.0373592981082534e-18, average reward : -6.5350, averaged shaped reward : -6.6350 Pickup, Drop, Success, Hit wall rate : [0.96, 0.94, 0.94, 0.06]\n",
      "averaged grid size : 5.00, averaged obstacles : 10.67\n"
     ]
    },
    {
     "name": "stderr",
     "output_type": "stream",
     "text": [
      " 69%|██████▉   | 82905/120100 [15:02<09:10, 67.51it/s] "
     ]
    },
    {
     "name": "stdout",
     "output_type": "stream",
     "text": [
      "Epsilon : 9.867543495204547e-19, average reward : -16.4980, averaged shaped reward : -16.4980 Pickup, Drop, Success, Hit wall rate : [0.94, 0.91, 0.91, 0.02]\n",
      "averaged grid size : 5.00, averaged obstacles : 10.07\n"
     ]
    },
    {
     "name": "stderr",
     "output_type": "stream",
     "text": [
      " 69%|██████▉   | 83021/120100 [15:04<08:01, 76.99it/s]"
     ]
    },
    {
     "name": "stdout",
     "output_type": "stream",
     "text": [
      "Epsilon : 9.386180353067279e-19, average reward : -22.3310, averaged shaped reward : -22.3310 Pickup, Drop, Success, Hit wall rate : [0.93, 0.91, 0.91, 0.0]\n",
      "averaged grid size : 5.00, averaged obstacles : 10.02\n"
     ]
    },
    {
     "name": "stderr",
     "output_type": "stream",
     "text": [
      " 69%|██████▉   | 83128/120100 [15:05<06:12, 99.31it/s]"
     ]
    },
    {
     "name": "stdout",
     "output_type": "stream",
     "text": [
      "Epsilon : 8.928299293853785e-19, average reward : -1.0140, averaged shaped reward : -1.0140 Pickup, Drop, Success, Hit wall rate : [0.94, 0.94, 0.94, 0.01]\n",
      "averaged grid size : 5.00, averaged obstacles : 10.10\n"
     ]
    },
    {
     "name": "stderr",
     "output_type": "stream",
     "text": [
      " 69%|██████▉   | 83210/120100 [15:06<12:13, 50.32it/s]"
     ]
    },
    {
     "name": "stdout",
     "output_type": "stream",
     "text": [
      "Epsilon : 8.49275480356398e-19, average reward : -38.1400, averaged shaped reward : -38.5400 Pickup, Drop, Success, Hit wall rate : [0.89, 0.87, 0.87, 0.06]\n",
      "averaged grid size : 5.00, averaged obstacles : 10.30\n"
     ]
    },
    {
     "name": "stderr",
     "output_type": "stream",
     "text": [
      " 69%|██████▉   | 83305/120100 [15:08<11:29, 53.33it/s] "
     ]
    },
    {
     "name": "stdout",
     "output_type": "stream",
     "text": [
      "Epsilon : 8.078457249199853e-19, average reward : -38.1650, averaged shaped reward : -38.4650 Pickup, Drop, Success, Hit wall rate : [0.92, 0.88, 0.88, 0.04]\n",
      "averaged grid size : 5.00, averaged obstacles : 9.85\n"
     ]
    },
    {
     "name": "stderr",
     "output_type": "stream",
     "text": [
      " 69%|██████▉   | 83405/120100 [15:09<10:31, 58.06it/s]"
     ]
    },
    {
     "name": "stdout",
     "output_type": "stream",
     "text": [
      "Epsilon : 7.684370152752166e-19, average reward : -44.9930, averaged shaped reward : -44.9930 Pickup, Drop, Success, Hit wall rate : [0.9, 0.9, 0.9, 0.13]\n",
      "averaged grid size : 5.00, averaged obstacles : 9.84\n"
     ]
    },
    {
     "name": "stderr",
     "output_type": "stream",
     "text": [
      " 70%|██████▉   | 83513/120100 [15:11<07:35, 80.33it/s]"
     ]
    },
    {
     "name": "stdout",
     "output_type": "stream",
     "text": [
      "Epsilon : 7.309507598168831e-19, average reward : -23.9170, averaged shaped reward : -24.0170 Pickup, Drop, Success, Hit wall rate : [0.94, 0.9, 0.9, 0.02]\n",
      "averaged grid size : 5.00, averaged obstacles : 10.82\n"
     ]
    },
    {
     "name": "stderr",
     "output_type": "stream",
     "text": [
      " 70%|██████▉   | 83611/120100 [15:12<07:32, 80.67it/s] "
     ]
    },
    {
     "name": "stdout",
     "output_type": "stream",
     "text": [
      "Epsilon : 6.952931764817731e-19, average reward : -7.9130, averaged shaped reward : -7.9130 Pickup, Drop, Success, Hit wall rate : [0.95, 0.92, 0.92, 0.01]\n",
      "averaged grid size : 5.00, averaged obstacles : 10.29\n"
     ]
    },
    {
     "name": "stderr",
     "output_type": "stream",
     "text": [
      " 70%|██████▉   | 83709/120100 [15:13<07:42, 78.76it/s] "
     ]
    },
    {
     "name": "stdout",
     "output_type": "stream",
     "text": [
      "Epsilon : 6.613750581273389e-19, average reward : -1.3190, averaged shaped reward : -1.7190 Pickup, Drop, Success, Hit wall rate : [0.95, 0.93, 0.93, 0.07]\n",
      "averaged grid size : 5.00, averaged obstacles : 10.12\n"
     ]
    },
    {
     "name": "stderr",
     "output_type": "stream",
     "text": [
      " 70%|██████▉   | 83809/120100 [15:15<07:58, 75.77it/s]"
     ]
    },
    {
     "name": "stdout",
     "output_type": "stream",
     "text": [
      "Epsilon : 6.291115493557676e-19, average reward : -25.4830, averaged shaped reward : -25.9830 Pickup, Drop, Success, Hit wall rate : [0.91, 0.89, 0.89, 0.13]\n",
      "averaged grid size : 5.00, averaged obstacles : 9.82\n"
     ]
    },
    {
     "name": "stderr",
     "output_type": "stream",
     "text": [
      " 70%|██████▉   | 83916/120100 [15:16<08:34, 70.27it/s] "
     ]
    },
    {
     "name": "stdout",
     "output_type": "stream",
     "text": [
      "Epsilon : 5.984219342251215e-19, average reward : -20.5900, averaged shaped reward : -20.8900 Pickup, Drop, Success, Hit wall rate : [0.96, 0.93, 0.92, 0.07]\n",
      "averaged grid size : 5.00, averaged obstacles : 10.38\n"
     ]
    },
    {
     "name": "stderr",
     "output_type": "stream",
     "text": [
      " 70%|██████▉   | 84010/120100 [15:17<07:13, 83.31it/s]"
     ]
    },
    {
     "name": "stdout",
     "output_type": "stream",
     "text": [
      "Epsilon : 5.692294343164603e-19, average reward : -24.9790, averaged shaped reward : -25.3790 Pickup, Drop, Success, Hit wall rate : [0.9, 0.88, 0.88, 0.2]\n",
      "averaged grid size : 5.00, averaged obstacles : 9.61\n"
     ]
    },
    {
     "name": "stderr",
     "output_type": "stream",
     "text": [
      " 70%|███████   | 84111/120100 [15:19<08:59, 66.69it/s]"
     ]
    },
    {
     "name": "stdout",
     "output_type": "stream",
     "text": [
      "Epsilon : 5.414610166517442e-19, average reward : -60.2460, averaged shaped reward : -61.8460 Pickup, Drop, Success, Hit wall rate : [0.84, 0.84, 0.84, 0.35]\n",
      "averaged grid size : 5.00, averaged obstacles : 10.00\n"
     ]
    },
    {
     "name": "stderr",
     "output_type": "stream",
     "text": [
      " 70%|███████   | 84210/120100 [15:21<12:09, 49.21it/s]"
     ]
    },
    {
     "name": "stdout",
     "output_type": "stream",
     "text": [
      "Epsilon : 5.150472109819761e-19, average reward : -60.8320, averaged shaped reward : -61.5320 Pickup, Drop, Success, Hit wall rate : [0.85, 0.84, 0.84, 0.29]\n",
      "averaged grid size : 5.00, averaged obstacles : 11.04\n"
     ]
    },
    {
     "name": "stderr",
     "output_type": "stream",
     "text": [
      " 70%|███████   | 84316/120100 [15:23<10:57, 54.46it/s]"
     ]
    },
    {
     "name": "stdout",
     "output_type": "stream",
     "text": [
      "Epsilon : 4.899219359884774e-19, average reward : -67.5130, averaged shaped reward : -68.0130 Pickup, Drop, Success, Hit wall rate : [0.88, 0.85, 0.85, 0.18]\n",
      "averaged grid size : 5.00, averaged obstacles : 9.33\n"
     ]
    },
    {
     "name": "stderr",
     "output_type": "stream",
     "text": [
      " 70%|███████   | 84411/120100 [15:24<04:49, 123.12it/s]"
     ]
    },
    {
     "name": "stdout",
     "output_type": "stream",
     "text": [
      "Epsilon : 4.66022333962502e-19, average reward : 20.0800, averaged shaped reward : 19.8800 Pickup, Drop, Success, Hit wall rate : [0.97, 0.97, 0.97, 0.11]\n",
      "averaged grid size : 5.00, averaged obstacles : 10.68\n"
     ]
    },
    {
     "name": "stderr",
     "output_type": "stream",
     "text": [
      " 70%|███████   | 84519/120100 [15:26<06:52, 86.28it/s] "
     ]
    },
    {
     "name": "stdout",
     "output_type": "stream",
     "text": [
      "Epsilon : 4.432886135495794e-19, average reward : -30.7120, averaged shaped reward : -31.4120 Pickup, Drop, Success, Hit wall rate : [0.92, 0.88, 0.88, 0.07]\n",
      "averaged grid size : 5.00, averaged obstacles : 10.17\n"
     ]
    },
    {
     "name": "stderr",
     "output_type": "stream",
     "text": [
      " 70%|███████   | 84606/120100 [15:27<09:57, 59.45it/s]"
     ]
    },
    {
     "name": "stdout",
     "output_type": "stream",
     "text": [
      "Epsilon : 4.2166390016517956e-19, average reward : -42.8150, averaged shaped reward : -43.2150 Pickup, Drop, Success, Hit wall rate : [0.92, 0.88, 0.88, 0.08]\n",
      "averaged grid size : 5.00, averaged obstacles : 9.78\n"
     ]
    },
    {
     "name": "stderr",
     "output_type": "stream",
     "text": [
      " 71%|███████   | 84711/120100 [15:28<08:04, 73.04it/s] "
     ]
    },
    {
     "name": "stdout",
     "output_type": "stream",
     "text": [
      "Epsilon : 4.010940937074723e-19, average reward : -6.1740, averaged shaped reward : -6.4740 Pickup, Drop, Success, Hit wall rate : [0.94, 0.93, 0.93, 0.15]\n",
      "averaged grid size : 5.00, averaged obstacles : 10.64\n"
     ]
    },
    {
     "name": "stderr",
     "output_type": "stream",
     "text": [
      " 71%|███████   | 84799/120100 [15:30<08:31, 69.08it/s]"
     ]
    },
    {
     "name": "stdout",
     "output_type": "stream",
     "text": [
      "Epsilon : 3.815277332112091e-19, average reward : -54.8070, averaged shaped reward : -55.2070 Pickup, Drop, Success, Hit wall rate : [0.86, 0.84, 0.84, 0.14]\n",
      "averaged grid size : 5.00, averaged obstacles : 9.92\n"
     ]
    },
    {
     "name": "stderr",
     "output_type": "stream",
     "text": [
      " 71%|███████   | 84903/120100 [15:32<06:07, 95.68it/s]"
     ]
    },
    {
     "name": "stdout",
     "output_type": "stream",
     "text": [
      "Epsilon : 3.629158681041224e-19, average reward : -36.1090, averaged shaped reward : -36.4090 Pickup, Drop, Success, Hit wall rate : [0.92, 0.89, 0.89, 0.16]\n",
      "averaged grid size : 5.00, averaged obstacles : 10.10\n"
     ]
    },
    {
     "name": "stderr",
     "output_type": "stream",
     "text": [
      " 71%|███████   | 85016/120100 [15:33<06:51, 85.30it/s]"
     ]
    },
    {
     "name": "stdout",
     "output_type": "stream",
     "text": [
      "Epsilon : 3.452119357437557e-19, average reward : -19.8750, averaged shaped reward : -20.3750 Pickup, Drop, Success, Hit wall rate : [0.92, 0.89, 0.89, 0.09]\n",
      "averaged grid size : 5.00, averaged obstacles : 11.18\n"
     ]
    },
    {
     "name": "stderr",
     "output_type": "stream",
     "text": [
      " 71%|███████   | 85110/120100 [15:35<10:56, 53.31it/s]"
     ]
    },
    {
     "name": "stdout",
     "output_type": "stream",
     "text": [
      "Epsilon : 3.283716449283508e-19, average reward : -40.1600, averaged shaped reward : -40.6600 Pickup, Drop, Success, Hit wall rate : [0.91, 0.87, 0.87, 0.3]\n",
      "averaged grid size : 5.00, averaged obstacles : 10.90\n"
     ]
    },
    {
     "name": "stderr",
     "output_type": "stream",
     "text": [
      " 71%|███████   | 85205/120100 [15:36<08:07, 71.52it/s]"
     ]
    },
    {
     "name": "stdout",
     "output_type": "stream",
     "text": [
      "Epsilon : 3.1235286509035883e-19, average reward : -18.5770, averaged shaped reward : -18.6770 Pickup, Drop, Success, Hit wall rate : [0.92, 0.9, 0.9, 0.02]\n",
      "averaged grid size : 5.00, averaged obstacles : 10.81\n"
     ]
    },
    {
     "name": "stderr",
     "output_type": "stream",
     "text": [
      " 71%|███████   | 85310/120100 [15:38<09:56, 58.30it/s]"
     ]
    },
    {
     "name": "stdout",
     "output_type": "stream",
     "text": [
      "Epsilon : 2.97115520895368e-19, average reward : -46.4180, averaged shaped reward : -46.6180 Pickup, Drop, Success, Hit wall rate : [0.88, 0.86, 0.86, 0.1]\n",
      "averaged grid size : 5.00, averaged obstacles : 10.25\n"
     ]
    },
    {
     "name": "stderr",
     "output_type": "stream",
     "text": [
      " 71%|███████   | 85414/120100 [15:39<08:04, 71.61it/s]"
     ]
    },
    {
     "name": "stdout",
     "output_type": "stream",
     "text": [
      "Epsilon : 2.8262149198275644e-19, average reward : -41.5720, averaged shaped reward : -41.8720 Pickup, Drop, Success, Hit wall rate : [0.93, 0.87, 0.87, 0.06]\n",
      "averaged grid size : 5.00, averaged obstacles : 9.61\n"
     ]
    },
    {
     "name": "stderr",
     "output_type": "stream",
     "text": [
      " 71%|███████   | 85509/120100 [15:40<07:37, 75.63it/s] "
     ]
    },
    {
     "name": "stdout",
     "output_type": "stream",
     "text": [
      "Epsilon : 2.6883451759724123e-19, average reward : -1.1130, averaged shaped reward : -1.2130 Pickup, Drop, Success, Hit wall rate : [0.96, 0.93, 0.93, 0.06]\n",
      "averaged grid size : 5.00, averaged obstacles : 10.72\n"
     ]
    },
    {
     "name": "stderr",
     "output_type": "stream",
     "text": [
      " 71%|███████▏  | 85602/120100 [15:42<08:10, 70.30it/s]"
     ]
    },
    {
     "name": "stdout",
     "output_type": "stream",
     "text": [
      "Epsilon : 2.5572010587273713e-19, average reward : -45.5050, averaged shaped reward : -45.6050 Pickup, Drop, Success, Hit wall rate : [0.93, 0.86, 0.86, 0.02]\n",
      "averaged grid size : 5.00, averaged obstacles : 9.70\n"
     ]
    },
    {
     "name": "stderr",
     "output_type": "stream",
     "text": [
      " 71%|███████▏  | 85706/120100 [15:43<06:03, 94.56it/s] "
     ]
    },
    {
     "name": "stdout",
     "output_type": "stream",
     "text": [
      "Epsilon : 2.43245447541573e-19, average reward : -6.6240, averaged shaped reward : -6.8240 Pickup, Drop, Success, Hit wall rate : [0.94, 0.92, 0.92, 0.08]\n",
      "averaged grid size : 5.00, averaged obstacles : 10.72\n"
     ]
    },
    {
     "name": "stderr",
     "output_type": "stream",
     "text": [
      " 71%|███████▏  | 85812/120100 [15:45<06:45, 84.46it/s]"
     ]
    },
    {
     "name": "stdout",
     "output_type": "stream",
     "text": [
      "Epsilon : 2.3137933385318633e-19, average reward : -29.7120, averaged shaped reward : -30.2120 Pickup, Drop, Success, Hit wall rate : [0.95, 0.89, 0.88, 0.11]\n",
      "averaged grid size : 5.00, averaged obstacles : 10.59\n"
     ]
    },
    {
     "name": "stderr",
     "output_type": "stream",
     "text": [
      " 72%|███████▏  | 85900/120100 [15:47<12:17, 46.38it/s]"
     ]
    },
    {
     "name": "stdout",
     "output_type": "stream",
     "text": [
      "Epsilon : 2.2009207849694443e-19, average reward : -61.1640, averaged shaped reward : -61.4640 Pickup, Drop, Success, Hit wall rate : [0.85, 0.82, 0.82, 0.22]\n",
      "averaged grid size : 5.00, averaged obstacles : 11.23\n"
     ]
    },
    {
     "name": "stderr",
     "output_type": "stream",
     "text": [
      " 72%|███████▏  | 86032/120100 [15:48<04:35, 123.44it/s]"
     ]
    },
    {
     "name": "stdout",
     "output_type": "stream",
     "text": [
      "Epsilon : 2.0935544333376543e-19, average reward : -27.1970, averaged shaped reward : -27.3970 Pickup, Drop, Success, Hit wall rate : [0.91, 0.88, 0.88, 0.1]\n",
      "averaged grid size : 5.00, averaged obstacles : 10.53\n"
     ]
    },
    {
     "name": "stderr",
     "output_type": "stream",
     "text": [
      " 72%|███████▏  | 86119/120100 [15:49<06:29, 87.33it/s] "
     ]
    },
    {
     "name": "stdout",
     "output_type": "stream",
     "text": [
      "Epsilon : 1.9914256775073328e-19, average reward : 6.6630, averaged shaped reward : 6.6630 Pickup, Drop, Success, Hit wall rate : [0.98, 0.97, 0.97, 0.01]\n",
      "averaged grid size : 5.00, averaged obstacles : 10.87\n"
     ]
    },
    {
     "name": "stderr",
     "output_type": "stream",
     "text": [
      " 72%|███████▏  | 86211/120100 [15:51<08:16, 68.20it/s]"
     ]
    },
    {
     "name": "stdout",
     "output_type": "stream",
     "text": [
      "Epsilon : 1.8942790146196914e-19, average reward : -35.0140, averaged shaped reward : -35.4140 Pickup, Drop, Success, Hit wall rate : [0.92, 0.89, 0.89, 0.03]\n",
      "averaged grid size : 5.00, averaged obstacles : 8.70\n"
     ]
    },
    {
     "name": "stderr",
     "output_type": "stream",
     "text": [
      " 72%|███████▏  | 86309/120100 [15:53<09:26, 59.62it/s]"
     ]
    },
    {
     "name": "stdout",
     "output_type": "stream",
     "text": [
      "Epsilon : 1.8018714058764255e-19, average reward : -43.4630, averaged shaped reward : -43.6630 Pickup, Drop, Success, Hit wall rate : [0.93, 0.86, 0.86, 0.07]\n",
      "averaged grid size : 5.00, averaged obstacles : 10.11\n"
     ]
    },
    {
     "name": "stderr",
     "output_type": "stream",
     "text": [
      " 72%|███████▏  | 86411/120100 [15:54<07:42, 72.89it/s]"
     ]
    },
    {
     "name": "stdout",
     "output_type": "stream",
     "text": [
      "Epsilon : 1.7139716685120555e-19, average reward : -33.0480, averaged shaped reward : -33.7480 Pickup, Drop, Success, Hit wall rate : [0.99, 0.95, 0.89, 0.07]\n",
      "averaged grid size : 5.00, averaged obstacles : 9.21\n"
     ]
    },
    {
     "name": "stderr",
     "output_type": "stream",
     "text": [
      " 72%|███████▏  | 86508/120100 [15:55<06:43, 83.17it/s] "
     ]
    },
    {
     "name": "stdout",
     "output_type": "stream",
     "text": [
      "Epsilon : 1.63035989742737e-19, average reward : -9.5820, averaged shaped reward : -9.6820 Pickup, Drop, Success, Hit wall rate : [0.94, 0.92, 0.92, 0.03]\n",
      "averaged grid size : 5.00, averaged obstacles : 9.78\n"
     ]
    },
    {
     "name": "stderr",
     "output_type": "stream",
     "text": [
      " 72%|███████▏  | 86613/120100 [15:57<06:40, 83.57it/s]"
     ]
    },
    {
     "name": "stdout",
     "output_type": "stream",
     "text": [
      "Epsilon : 1.5508269150370078e-19, average reward : -29.2740, averaged shaped reward : -29.8740 Pickup, Drop, Success, Hit wall rate : [0.91, 0.88, 0.88, 0.08]\n",
      "averaged grid size : 5.00, averaged obstacles : 10.53\n"
     ]
    },
    {
     "name": "stderr",
     "output_type": "stream",
     "text": [
      " 72%|███████▏  | 86711/120100 [15:58<07:47, 71.41it/s]"
     ]
    },
    {
     "name": "stdout",
     "output_type": "stream",
     "text": [
      "Epsilon : 1.4751737479548408e-19, average reward : -37.9960, averaged shaped reward : -38.0960 Pickup, Drop, Success, Hit wall rate : [0.92, 0.87, 0.87, 0.09]\n",
      "averaged grid size : 5.00, averaged obstacles : 9.54\n"
     ]
    },
    {
     "name": "stderr",
     "output_type": "stream",
     "text": [
      " 72%|███████▏  | 86803/120100 [16:00<15:49, 35.08it/s]"
     ]
    },
    {
     "name": "stdout",
     "output_type": "stream",
     "text": [
      "Epsilon : 1.4032111292079318e-19, average reward : -93.7070, averaged shaped reward : -94.6070 Pickup, Drop, Success, Hit wall rate : [0.91, 0.84, 0.79, 0.22]\n",
      "averaged grid size : 5.00, averaged obstacles : 9.82\n"
     ]
    },
    {
     "name": "stderr",
     "output_type": "stream",
     "text": [
      " 72%|███████▏  | 86915/120100 [16:02<07:14, 76.44it/s] "
     ]
    },
    {
     "name": "stdout",
     "output_type": "stream",
     "text": [
      "Epsilon : 1.3347590247337251e-19, average reward : -21.5670, averaged shaped reward : -21.9670 Pickup, Drop, Success, Hit wall rate : [0.98, 0.93, 0.91, 0.05]\n",
      "averaged grid size : 5.00, averaged obstacles : 9.48\n"
     ]
    },
    {
     "name": "stderr",
     "output_type": "stream",
     "text": [
      " 72%|███████▏  | 87004/120100 [16:03<07:00, 78.71it/s]"
     ]
    },
    {
     "name": "stdout",
     "output_type": "stream",
     "text": [
      "Epsilon : 1.26964618297588e-19, average reward : -21.9910, averaged shaped reward : -21.9910 Pickup, Drop, Success, Hit wall rate : [0.96, 0.91, 0.91, 0.03]\n",
      "averaged grid size : 5.00, averaged obstacles : 9.64\n"
     ]
    },
    {
     "name": "stderr",
     "output_type": "stream",
     "text": [
      " 73%|███████▎  | 87107/120100 [16:04<05:15, 104.43it/s]"
     ]
    },
    {
     "name": "stdout",
     "output_type": "stream",
     "text": [
      "Epsilon : 1.2077097064519247e-19, average reward : 15.0260, averaged shaped reward : 15.0260 Pickup, Drop, Success, Hit wall rate : [0.98, 0.96, 0.96, 0.02]\n",
      "averaged grid size : 5.00, averaged obstacles : 10.52\n"
     ]
    },
    {
     "name": "stderr",
     "output_type": "stream",
     "text": [
      " 73%|███████▎  | 87240/120100 [16:05<04:17, 127.69it/s]"
     ]
    },
    {
     "name": "stdout",
     "output_type": "stream",
     "text": [
      "Epsilon : 1.1487946442208946e-19, average reward : 0.2070, averaged shaped reward : 0.2070 Pickup, Drop, Success, Hit wall rate : [1.0, 0.94, 0.94, 0.03]\n",
      "averaged grid size : 5.00, averaged obstacles : 11.12\n"
     ]
    },
    {
     "name": "stderr",
     "output_type": "stream",
     "text": [
      " 73%|███████▎  | 87319/120100 [16:06<05:34, 97.97it/s] "
     ]
    },
    {
     "name": "stdout",
     "output_type": "stream",
     "text": [
      "Epsilon : 1.0927536042314205e-19, average reward : 2.4380, averaged shaped reward : 2.4380 Pickup, Drop, Success, Hit wall rate : [0.97, 0.94, 0.94, 0.01]\n",
      "averaged grid size : 5.00, averaged obstacles : 10.21\n"
     ]
    },
    {
     "name": "stderr",
     "output_type": "stream",
     "text": [
      " 73%|███████▎  | 87410/120100 [16:07<07:04, 77.08it/s] "
     ]
    },
    {
     "name": "stdout",
     "output_type": "stream",
     "text": [
      "Epsilon : 1.0394463845804209e-19, average reward : -1.6540, averaged shaped reward : -1.6540 Pickup, Drop, Success, Hit wall rate : [0.97, 0.93, 0.93, 0.02]\n",
      "averaged grid size : 5.00, averaged obstacles : 10.19\n"
     ]
    },
    {
     "name": "stderr",
     "output_type": "stream",
     "text": [
      " 73%|███████▎  | 87510/120100 [16:08<04:47, 113.50it/s]"
     ]
    },
    {
     "name": "stdout",
     "output_type": "stream",
     "text": [
      "Epsilon : 9.887396227599118e-20, average reward : 12.0650, averaged shaped reward : 11.9650 Pickup, Drop, Success, Hit wall rate : [0.98, 0.96, 0.96, 0.02]\n",
      "averaged grid size : 5.00, averaged obstacles : 10.63\n"
     ]
    },
    {
     "name": "stderr",
     "output_type": "stream",
     "text": [
      " 73%|███████▎  | 87631/120100 [16:09<03:30, 154.45it/s]"
     ]
    },
    {
     "name": "stdout",
     "output_type": "stream",
     "text": [
      "Epsilon : 9.405064620144195e-20, average reward : 26.6030, averaged shaped reward : 26.3030 Pickup, Drop, Success, Hit wall rate : [0.99, 0.98, 0.98, 0.01]\n",
      "averaged grid size : 5.00, averaged obstacles : 9.34\n"
     ]
    },
    {
     "name": "stderr",
     "output_type": "stream",
     "text": [
      " 73%|███████▎  | 87715/120100 [16:10<05:43, 94.34it/s] "
     ]
    },
    {
     "name": "stdout",
     "output_type": "stream",
     "text": [
      "Epsilon : 8.94626233974312e-20, average reward : 3.0470, averaged shaped reward : 3.0470 Pickup, Drop, Success, Hit wall rate : [0.98, 0.94, 0.94, 0.04]\n",
      "averaged grid size : 5.00, averaged obstacles : 9.90\n"
     ]
    },
    {
     "name": "stderr",
     "output_type": "stream",
     "text": [
      " 73%|███████▎  | 87816/120100 [16:11<04:13, 127.51it/s]"
     ]
    },
    {
     "name": "stdout",
     "output_type": "stream",
     "text": [
      "Epsilon : 8.509841567710458e-20, average reward : -6.5940, averaged shaped reward : -6.6940 Pickup, Drop, Success, Hit wall rate : [0.99, 0.93, 0.92, 0.03]\n",
      "averaged grid size : 5.00, averaged obstacles : 10.06\n"
     ]
    },
    {
     "name": "stderr",
     "output_type": "stream",
     "text": [
      " 73%|███████▎  | 87916/120100 [16:12<05:22, 99.85it/s] "
     ]
    },
    {
     "name": "stdout",
     "output_type": "stream",
     "text": [
      "Epsilon : 8.094710478791092e-20, average reward : -1.8570, averaged shaped reward : -1.8570 Pickup, Drop, Success, Hit wall rate : [0.95, 0.91, 0.91, 0.0]\n",
      "averaged grid size : 5.00, averaged obstacles : 9.91\n"
     ]
    },
    {
     "name": "stderr",
     "output_type": "stream",
     "text": [
      " 73%|███████▎  | 88015/120100 [16:13<05:06, 104.68it/s]"
     ]
    },
    {
     "name": "stdout",
     "output_type": "stream",
     "text": [
      "Epsilon : 7.699830509662405e-20, average reward : 14.9890, averaged shaped reward : 14.9890 Pickup, Drop, Success, Hit wall rate : [0.98, 0.96, 0.96, 0.0]\n",
      "averaged grid size : 5.00, averaged obstacles : 9.38\n"
     ]
    },
    {
     "name": "stderr",
     "output_type": "stream",
     "text": [
      " 73%|███████▎  | 88128/120100 [16:14<03:43, 142.73it/s]"
     ]
    },
    {
     "name": "stdout",
     "output_type": "stream",
     "text": [
      "Epsilon : 7.324213760685642e-20, average reward : 31.2780, averaged shaped reward : 31.2780 Pickup, Drop, Success, Hit wall rate : [1.0, 0.98, 0.98, 0.05]\n",
      "averaged grid size : 5.00, averaged obstacles : 11.35\n"
     ]
    },
    {
     "name": "stderr",
     "output_type": "stream",
     "text": [
      " 73%|███████▎  | 88204/120100 [16:15<05:57, 89.10it/s] "
     ]
    },
    {
     "name": "stdout",
     "output_type": "stream",
     "text": [
      "Epsilon : 6.966920524406324e-20, average reward : 6.8280, averaged shaped reward : 6.8280 Pickup, Drop, Success, Hit wall rate : [0.97, 0.94, 0.94, 0.03]\n",
      "averaged grid size : 5.00, averaged obstacles : 8.86\n"
     ]
    },
    {
     "name": "stderr",
     "output_type": "stream",
     "text": [
      " 74%|███████▎  | 88314/120100 [16:16<05:43, 92.66it/s]"
     ]
    },
    {
     "name": "stdout",
     "output_type": "stream",
     "text": [
      "Epsilon : 6.627056934620409e-20, average reward : -18.6240, averaged shaped reward : -18.6240 Pickup, Drop, Success, Hit wall rate : [0.97, 0.92, 0.92, 0.01]\n",
      "averaged grid size : 5.00, averaged obstacles : 10.76\n"
     ]
    },
    {
     "name": "stderr",
     "output_type": "stream",
     "text": [
      " 74%|███████▎  | 88408/120100 [16:17<07:39, 69.03it/s] "
     ]
    },
    {
     "name": "stdout",
     "output_type": "stream",
     "text": [
      "Epsilon : 6.30377273012496e-20, average reward : 1.1800, averaged shaped reward : 1.0800 Pickup, Drop, Success, Hit wall rate : [1.0, 0.94, 0.93, 0.04]\n",
      "averaged grid size : 5.00, averaged obstacles : 10.09\n"
     ]
    },
    {
     "name": "stderr",
     "output_type": "stream",
     "text": [
      " 74%|███████▎  | 88521/120100 [16:19<05:26, 96.67it/s] "
     ]
    },
    {
     "name": "stdout",
     "output_type": "stream",
     "text": [
      "Epsilon : 5.996259127558438e-20, average reward : -5.4620, averaged shaped reward : -5.5620 Pickup, Drop, Success, Hit wall rate : [1.0, 0.97, 0.96, 0.04]\n",
      "averaged grid size : 5.00, averaged obstacles : 10.38\n"
     ]
    },
    {
     "name": "stderr",
     "output_type": "stream",
     "text": [
      " 74%|███████▍  | 88617/120100 [16:20<05:47, 90.58it/s] "
     ]
    },
    {
     "name": "stdout",
     "output_type": "stream",
     "text": [
      "Epsilon : 5.703746798009188e-20, average reward : 2.7570, averaged shaped reward : 2.6570 Pickup, Drop, Success, Hit wall rate : [0.97, 0.95, 0.94, 0.0]\n",
      "averaged grid size : 5.00, averaged obstacles : 10.07\n"
     ]
    },
    {
     "name": "stderr",
     "output_type": "stream",
     "text": [
      " 74%|███████▍  | 88708/120100 [16:21<05:07, 102.04it/s]"
     ]
    },
    {
     "name": "stdout",
     "output_type": "stream",
     "text": [
      "Epsilon : 5.425503942329919e-20, average reward : -2.4220, averaged shaped reward : -2.8220 Pickup, Drop, Success, Hit wall rate : [1.0, 0.96, 0.94, 0.02]\n",
      "averaged grid size : 5.00, averaged obstacles : 10.91\n"
     ]
    },
    {
     "name": "stderr",
     "output_type": "stream",
     "text": [
      " 74%|███████▍  | 88837/120100 [16:22<03:19, 156.63it/s]"
     ]
    },
    {
     "name": "stdout",
     "output_type": "stream",
     "text": [
      "Epsilon : 5.1608344603431136e-20, average reward : -7.4700, averaged shaped reward : -7.6700 Pickup, Drop, Success, Hit wall rate : [0.94, 0.92, 0.92, 0.01]\n",
      "averaged grid size : 5.00, averaged obstacles : 9.14\n"
     ]
    },
    {
     "name": "stderr",
     "output_type": "stream",
     "text": [
      " 74%|███████▍  | 88929/120100 [16:22<03:32, 146.81it/s]"
     ]
    },
    {
     "name": "stdout",
     "output_type": "stream",
     "text": [
      "Epsilon : 4.909076209357105e-20, average reward : 29.1880, averaged shaped reward : 29.1880 Pickup, Drop, Success, Hit wall rate : [0.98, 0.98, 0.98, 0.04]\n",
      "averaged grid size : 5.00, averaged obstacles : 9.42\n"
     ]
    },
    {
     "name": "stderr",
     "output_type": "stream",
     "text": [
      " 74%|███████▍  | 89012/120100 [16:23<04:54, 105.46it/s]"
     ]
    },
    {
     "name": "stdout",
     "output_type": "stream",
     "text": [
      "Epsilon : 4.669599347636067e-20, average reward : 16.3470, averaged shaped reward : 16.3470 Pickup, Drop, Success, Hit wall rate : [0.99, 0.97, 0.97, 0.03]\n",
      "averaged grid size : 5.00, averaged obstacles : 9.96\n"
     ]
    },
    {
     "name": "stderr",
     "output_type": "stream",
     "text": [
      " 74%|███████▍  | 89149/120100 [16:24<03:02, 169.23it/s]"
     ]
    },
    {
     "name": "stdout",
     "output_type": "stream",
     "text": [
      "Epsilon : 4.441804758679596e-20, average reward : 0.4040, averaged shaped reward : 0.4040 Pickup, Drop, Success, Hit wall rate : [0.96, 0.94, 0.94, 0.0]\n",
      "averaged grid size : 5.00, averaged obstacles : 10.29\n"
     ]
    },
    {
     "name": "stderr",
     "output_type": "stream",
     "text": [
      " 74%|███████▍  | 89209/120100 [16:25<06:37, 77.76it/s] "
     ]
    },
    {
     "name": "stdout",
     "output_type": "stream",
     "text": [
      "Epsilon : 4.2251225523698506e-20, average reward : 12.6480, averaged shaped reward : 12.6480 Pickup, Drop, Success, Hit wall rate : [0.96, 0.96, 0.96, 0.0]\n",
      "averaged grid size : 5.00, averaged obstacles : 9.81\n"
     ]
    },
    {
     "name": "stderr",
     "output_type": "stream",
     "text": [
      " 74%|███████▍  | 89325/120100 [16:27<04:10, 122.93it/s]"
     ]
    },
    {
     "name": "stdout",
     "output_type": "stream",
     "text": [
      "Epsilon : 4.019010639236437e-20, average reward : -10.0760, averaged shaped reward : -10.0760 Pickup, Drop, Success, Hit wall rate : [0.94, 0.92, 0.92, 0.01]\n",
      "averaged grid size : 5.00, averaged obstacles : 9.80\n"
     ]
    },
    {
     "name": "stderr",
     "output_type": "stream",
     "text": [
      " 74%|███████▍  | 89415/120100 [16:28<06:07, 83.60it/s] "
     ]
    },
    {
     "name": "stdout",
     "output_type": "stream",
     "text": [
      "Epsilon : 3.822953374272148e-20, average reward : 7.4160, averaged shaped reward : 7.4160 Pickup, Drop, Success, Hit wall rate : [0.96, 0.94, 0.94, 0.0]\n",
      "averaged grid size : 5.00, averaged obstacles : 9.49\n"
     ]
    },
    {
     "name": "stderr",
     "output_type": "stream",
     "text": [
      " 75%|███████▍  | 89516/120100 [16:28<04:14, 120.14it/s]"
     ]
    },
    {
     "name": "stdout",
     "output_type": "stream",
     "text": [
      "Epsilon : 3.636460266906752e-20, average reward : 22.6750, averaged shaped reward : 22.6750 Pickup, Drop, Success, Hit wall rate : [0.97, 0.96, 0.96, 0.09]\n",
      "averaged grid size : 5.00, averaged obstacles : 11.00\n"
     ]
    },
    {
     "name": "stderr",
     "output_type": "stream",
     "text": [
      " 75%|███████▍  | 89608/120100 [16:30<06:35, 77.15it/s] "
     ]
    },
    {
     "name": "stdout",
     "output_type": "stream",
     "text": [
      "Epsilon : 3.459064753911421e-20, average reward : -18.7660, averaged shaped reward : -18.7660 Pickup, Drop, Success, Hit wall rate : [0.91, 0.89, 0.89, 0.01]\n",
      "averaged grid size : 5.00, averaged obstacles : 10.25\n"
     ]
    },
    {
     "name": "stderr",
     "output_type": "stream",
     "text": [
      " 75%|███████▍  | 89707/120100 [16:31<06:55, 73.23it/s]"
     ]
    },
    {
     "name": "stdout",
     "output_type": "stream",
     "text": [
      "Epsilon : 3.290323032163929e-20, average reward : -32.1690, averaged shaped reward : -32.2690 Pickup, Drop, Success, Hit wall rate : [0.94, 0.88, 0.88, 0.12]\n",
      "averaged grid size : 5.00, averaged obstacles : 10.11\n"
     ]
    },
    {
     "name": "stderr",
     "output_type": "stream",
     "text": [
      " 75%|███████▍  | 89818/120100 [16:32<04:38, 108.87it/s]"
     ]
    },
    {
     "name": "stdout",
     "output_type": "stream",
     "text": [
      "Epsilon : 3.12981294835444e-20, average reward : 6.4840, averaged shaped reward : 6.4840 Pickup, Drop, Success, Hit wall rate : [0.98, 0.95, 0.95, 0.02]\n",
      "averaged grid size : 5.00, averaged obstacles : 9.70\n"
     ]
    },
    {
     "name": "stderr",
     "output_type": "stream",
     "text": [
      " 75%|███████▍  | 89906/120100 [16:34<07:25, 67.82it/s] "
     ]
    },
    {
     "name": "stdout",
     "output_type": "stream",
     "text": [
      "Epsilon : 2.97713294285419e-20, average reward : -30.6090, averaged shaped reward : -30.7090 Pickup, Drop, Success, Hit wall rate : [0.93, 0.89, 0.88, 0.0]\n",
      "averaged grid size : 5.00, averaged obstacles : 10.42\n"
     ]
    },
    {
     "name": "stderr",
     "output_type": "stream",
     "text": [
      " 75%|███████▍  | 90024/120100 [16:35<05:18, 94.46it/s] "
     ]
    },
    {
     "name": "stdout",
     "output_type": "stream",
     "text": [
      "Epsilon : 2.831901045104856e-20, average reward : -22.6260, averaged shaped reward : -22.7260 Pickup, Drop, Success, Hit wall rate : [1.0, 0.93, 0.92, 0.28]\n",
      "averaged grid size : 5.00, averaged obstacles : 9.76\n"
     ]
    },
    {
     "name": "stderr",
     "output_type": "stream",
     "text": [
      " 75%|███████▌  | 90109/120100 [16:36<04:15, 117.32it/s]"
     ]
    },
    {
     "name": "stdout",
     "output_type": "stream",
     "text": [
      "Epsilon : 2.6937539180153263e-20, average reward : 6.3410, averaged shaped reward : 6.2410 Pickup, Drop, Success, Hit wall rate : [0.97, 0.94, 0.94, 0.01]\n",
      "averaged grid size : 5.00, averaged obstacles : 9.65\n"
     ]
    },
    {
     "name": "stderr",
     "output_type": "stream",
     "text": [
      " 75%|███████▌  | 90221/120100 [16:37<04:21, 114.13it/s]"
     ]
    },
    {
     "name": "stdout",
     "output_type": "stream",
     "text": [
      "Epsilon : 2.562345948975149e-20, average reward : 2.4090, averaged shaped reward : 2.4090 Pickup, Drop, Success, Hit wall rate : [0.98, 0.97, 0.97, 0.0]\n",
      "averaged grid size : 5.00, averaged obstacles : 10.14\n"
     ]
    },
    {
     "name": "stderr",
     "output_type": "stream",
     "text": [
      " 75%|███████▌  | 90314/120100 [16:38<05:29, 90.50it/s] "
     ]
    },
    {
     "name": "stdout",
     "output_type": "stream",
     "text": [
      "Epsilon : 2.4373483852105912e-20, average reward : 8.9480, averaged shaped reward : 8.9480 Pickup, Drop, Success, Hit wall rate : [0.96, 0.94, 0.94, 0.0]\n",
      "averaged grid size : 5.00, averaged obstacles : 9.85\n"
     ]
    },
    {
     "name": "stderr",
     "output_type": "stream",
     "text": [
      " 75%|███████▌  | 90403/120100 [16:39<06:37, 74.78it/s] "
     ]
    },
    {
     "name": "stdout",
     "output_type": "stream",
     "text": [
      "Epsilon : 2.3184485113201608e-20, average reward : -6.0350, averaged shaped reward : -6.0350 Pickup, Drop, Success, Hit wall rate : [0.95, 0.91, 0.91, 0.01]\n",
      "averaged grid size : 5.00, averaged obstacles : 10.17\n"
     ]
    },
    {
     "name": "stderr",
     "output_type": "stream",
     "text": [
      " 75%|███████▌  | 90508/120100 [16:40<04:41, 105.12it/s]"
     ]
    },
    {
     "name": "stdout",
     "output_type": "stream",
     "text": [
      "Epsilon : 2.2053488669319796e-20, average reward : 17.5780, averaged shaped reward : 17.5780 Pickup, Drop, Success, Hit wall rate : [0.96, 0.95, 0.95, 0.0]\n",
      "averaged grid size : 5.00, averaged obstacles : 10.17\n"
     ]
    },
    {
     "name": "stderr",
     "output_type": "stream",
     "text": [
      " 75%|███████▌  | 90605/120100 [16:41<06:22, 77.14it/s] "
     ]
    },
    {
     "name": "stdout",
     "output_type": "stream",
     "text": [
      "Epsilon : 2.097766502525768e-20, average reward : 1.3920, averaged shaped reward : 1.3920 Pickup, Drop, Success, Hit wall rate : [0.95, 0.94, 0.94, 0.02]\n",
      "averaged grid size : 5.00, averaged obstacles : 11.39\n"
     ]
    },
    {
     "name": "stderr",
     "output_type": "stream",
     "text": [
      " 76%|███████▌  | 90719/120100 [16:42<05:01, 97.56it/s] "
     ]
    },
    {
     "name": "stdout",
     "output_type": "stream",
     "text": [
      "Epsilon : 1.9954322715576615e-20, average reward : 7.8490, averaged shaped reward : 7.8490 Pickup, Drop, Success, Hit wall rate : [0.96, 0.94, 0.94, 0.01]\n",
      "averaged grid size : 5.00, averaged obstacles : 9.73\n"
     ]
    },
    {
     "name": "stderr",
     "output_type": "stream",
     "text": [
      " 76%|███████▌  | 90809/120100 [16:43<05:57, 81.86it/s] "
     ]
    },
    {
     "name": "stdout",
     "output_type": "stream",
     "text": [
      "Epsilon : 1.8980901571169284e-20, average reward : 0.9310, averaged shaped reward : 0.9310 Pickup, Drop, Success, Hit wall rate : [0.95, 0.94, 0.94, 0.03]\n",
      "averaged grid size : 5.00, averaged obstacles : 9.98\n"
     ]
    },
    {
     "name": "stderr",
     "output_type": "stream",
     "text": [
      " 76%|███████▌  | 90909/120100 [16:45<06:32, 74.31it/s] "
     ]
    },
    {
     "name": "stdout",
     "output_type": "stream",
     "text": [
      "Epsilon : 1.8054966314300486e-20, average reward : -7.0570, averaged shaped reward : -7.0570 Pickup, Drop, Success, Hit wall rate : [0.94, 0.94, 0.94, 0.0]\n",
      "averaged grid size : 5.00, averaged obstacles : 10.11\n"
     ]
    },
    {
     "name": "stderr",
     "output_type": "stream",
     "text": [
      " 76%|███████▌  | 91011/120100 [16:45<04:58, 97.50it/s] "
     ]
    },
    {
     "name": "stdout",
     "output_type": "stream",
     "text": [
      "Epsilon : 1.717420046609745e-20, average reward : 15.7350, averaged shaped reward : 15.7350 Pickup, Drop, Success, Hit wall rate : [0.99, 0.96, 0.96, 0.01]\n",
      "averaged grid size : 5.00, averaged obstacles : 9.96\n"
     ]
    },
    {
     "name": "stderr",
     "output_type": "stream",
     "text": [
      " 76%|███████▌  | 91113/120100 [16:47<05:13, 92.59it/s] "
     ]
    },
    {
     "name": "stdout",
     "output_type": "stream",
     "text": [
      "Epsilon : 1.633640055124795e-20, average reward : -3.1710, averaged shaped reward : -3.1710 Pickup, Drop, Success, Hit wall rate : [0.93, 0.91, 0.91, 0.0]\n",
      "averaged grid size : 5.00, averaged obstacles : 10.16\n"
     ]
    },
    {
     "name": "stderr",
     "output_type": "stream",
     "text": [
      " 76%|███████▌  | 91209/120100 [16:48<07:21, 65.38it/s]"
     ]
    },
    {
     "name": "stdout",
     "output_type": "stream",
     "text": [
      "Epsilon : 1.5539470585407584e-20, average reward : -6.6060, averaged shaped reward : -6.8060 Pickup, Drop, Success, Hit wall rate : [0.95, 0.95, 0.94, 0.02]\n",
      "averaged grid size : 5.00, averaged obstacles : 10.64\n"
     ]
    },
    {
     "name": "stderr",
     "output_type": "stream",
     "text": [
      " 76%|███████▌  | 91314/120100 [16:49<04:48, 99.73it/s] "
     ]
    },
    {
     "name": "stdout",
     "output_type": "stream",
     "text": [
      "Epsilon : 1.4781416831524806e-20, average reward : 15.3670, averaged shaped reward : 15.3670 Pickup, Drop, Success, Hit wall rate : [0.99, 0.97, 0.97, 0.0]\n",
      "averaged grid size : 5.00, averaged obstacles : 9.88\n"
     ]
    },
    {
     "name": "stderr",
     "output_type": "stream",
     "text": [
      " 76%|███████▌  | 91407/120100 [16:50<05:36, 85.22it/s]"
     ]
    },
    {
     "name": "stdout",
     "output_type": "stream",
     "text": [
      "Epsilon : 1.4060342811965484e-20, average reward : -15.1350, averaged shaped reward : -15.1350 Pickup, Drop, Success, Hit wall rate : [0.92, 0.9, 0.9, 0.04]\n",
      "averaged grid size : 5.00, averaged obstacles : 10.80\n"
     ]
    },
    {
     "name": "stderr",
     "output_type": "stream",
     "text": [
      " 76%|███████▌  | 91506/120100 [16:52<06:36, 72.06it/s] "
     ]
    },
    {
     "name": "stdout",
     "output_type": "stream",
     "text": [
      "Epsilon : 1.337444456395836e-20, average reward : -2.5030, averaged shaped reward : -2.5030 Pickup, Drop, Success, Hit wall rate : [0.96, 0.92, 0.92, 0.02]\n",
      "averaged grid size : 5.00, averaged obstacles : 9.89\n"
     ]
    },
    {
     "name": "stderr",
     "output_type": "stream",
     "text": [
      " 76%|███████▋  | 91613/120100 [16:53<05:52, 80.89it/s]"
     ]
    },
    {
     "name": "stdout",
     "output_type": "stream",
     "text": [
      "Epsilon : 1.2722006126491484e-20, average reward : -29.6350, averaged shaped reward : -29.6350 Pickup, Drop, Success, Hit wall rate : [0.94, 0.89, 0.89, 0.01]\n",
      "averaged grid size : 5.00, averaged obstacles : 9.86\n"
     ]
    },
    {
     "name": "stderr",
     "output_type": "stream",
     "text": [
      " 76%|███████▋  | 91710/120100 [16:54<06:09, 76.86it/s]"
     ]
    },
    {
     "name": "stdout",
     "output_type": "stream",
     "text": [
      "Epsilon : 1.2101395247369078e-20, average reward : -16.3420, averaged shaped reward : -16.3420 Pickup, Drop, Success, Hit wall rate : [0.94, 0.9, 0.9, 0.01]\n",
      "averaged grid size : 5.00, averaged obstacles : 10.42\n"
     ]
    },
    {
     "name": "stderr",
     "output_type": "stream",
     "text": [
      " 76%|███████▋  | 91827/120100 [16:56<04:27, 105.77it/s]"
     ]
    },
    {
     "name": "stdout",
     "output_type": "stream",
     "text": [
      "Epsilon : 1.1511059299688733e-20, average reward : -14.2590, averaged shaped reward : -14.7590 Pickup, Drop, Success, Hit wall rate : [1.01, 0.95, 0.92, 0.04]\n",
      "averaged grid size : 5.00, averaged obstacles : 10.66\n"
     ]
    },
    {
     "name": "stderr",
     "output_type": "stream",
     "text": [
      " 77%|███████▋  | 91919/120100 [16:57<04:41, 100.16it/s]"
     ]
    },
    {
     "name": "stdout",
     "output_type": "stream",
     "text": [
      "Epsilon : 1.0949521397522962e-20, average reward : 4.6140, averaged shaped reward : 4.6140 Pickup, Drop, Success, Hit wall rate : [0.96, 0.94, 0.94, 0.01]\n",
      "averaged grid size : 5.00, averaged obstacles : 10.73\n"
     ]
    },
    {
     "name": "stderr",
     "output_type": "stream",
     "text": [
      " 77%|███████▋  | 92031/120100 [16:58<04:09, 112.33it/s]"
     ]
    },
    {
     "name": "stdout",
     "output_type": "stream",
     "text": [
      "Epsilon : 1.0415376701087384e-20, average reward : -21.6920, averaged shaped reward : -21.6920 Pickup, Drop, Success, Hit wall rate : [0.96, 0.91, 0.91, 0.03]\n",
      "averaged grid size : 5.00, averaged obstacles : 10.66\n"
     ]
    },
    {
     "name": "stderr",
     "output_type": "stream",
     "text": [
      " 77%|███████▋  | 92113/120100 [16:59<04:20, 107.49it/s]"
     ]
    },
    {
     "name": "stdout",
     "output_type": "stream",
     "text": [
      "Epsilon : 9.907288902151888e-21, average reward : 18.8430, averaged shaped reward : 18.8430 Pickup, Drop, Success, Hit wall rate : [0.98, 0.97, 0.97, 0.01]\n",
      "averaged grid size : 5.00, averaged obstacles : 10.19\n"
     ]
    },
    {
     "name": "stderr",
     "output_type": "stream",
     "text": [
      " 77%|███████▋  | 92215/120100 [17:00<04:03, 114.55it/s]"
     ]
    },
    {
     "name": "stdout",
     "output_type": "stream",
     "text": [
      "Epsilon : 9.423986880902203e-21, average reward : 22.0540, averaged shaped reward : 22.0540 Pickup, Drop, Success, Hit wall rate : [0.98, 0.96, 0.96, 0.02]\n",
      "averaged grid size : 5.00, averaged obstacles : 10.95\n"
     ]
    },
    {
     "name": "stderr",
     "output_type": "stream",
     "text": [
      " 77%|███████▋  | 92308/120100 [17:01<05:52, 78.92it/s] "
     ]
    },
    {
     "name": "stdout",
     "output_type": "stream",
     "text": [
      "Epsilon : 8.964261525887964e-21, average reward : 2.8460, averaged shaped reward : 2.3460 Pickup, Drop, Success, Hit wall rate : [1.0, 0.98, 0.95, 0.04]\n",
      "averaged grid size : 5.00, averaged obstacles : 11.21\n"
     ]
    },
    {
     "name": "stderr",
     "output_type": "stream",
     "text": [
      " 77%|███████▋  | 92408/120100 [17:02<04:40, 98.89it/s] "
     ]
    },
    {
     "name": "stdout",
     "output_type": "stream",
     "text": [
      "Epsilon : 8.526962709101527e-21, average reward : 3.8400, averaged shaped reward : 3.8400 Pickup, Drop, Success, Hit wall rate : [0.96, 0.93, 0.93, 0.0]\n",
      "averaged grid size : 5.00, averaged obstacles : 10.57\n"
     ]
    },
    {
     "name": "stderr",
     "output_type": "stream",
     "text": [
      " 77%|███████▋  | 92510/120100 [17:03<05:22, 85.64it/s] "
     ]
    },
    {
     "name": "stdout",
     "output_type": "stream",
     "text": [
      "Epsilon : 8.110996408620038e-21, average reward : 17.4670, averaged shaped reward : 17.4670 Pickup, Drop, Success, Hit wall rate : [0.98, 0.97, 0.97, 0.01]\n",
      "averaged grid size : 5.00, averaged obstacles : 10.89\n"
     ]
    },
    {
     "name": "stderr",
     "output_type": "stream",
     "text": [
      " 77%|███████▋  | 92600/120100 [17:04<03:12, 142.74it/s]"
     ]
    },
    {
     "name": "stdout",
     "output_type": "stream",
     "text": [
      "Epsilon : 7.715321971611995e-21, average reward : 10.5660, averaged shaped reward : 10.4660 Pickup, Drop, Success, Hit wall rate : [0.95, 0.94, 0.94, 0.06]\n",
      "averaged grid size : 5.00, averaged obstacles : 9.68\n"
     ]
    },
    {
     "name": "stderr",
     "output_type": "stream",
     "text": [
      " 77%|███████▋  | 92739/120100 [17:05<03:39, 124.81it/s]"
     ]
    },
    {
     "name": "stdout",
     "output_type": "stream",
     "text": [
      "Epsilon : 7.338949510861178e-21, average reward : -9.2310, averaged shaped reward : -9.2310 Pickup, Drop, Success, Hit wall rate : [0.99, 0.92, 0.92, 0.01]\n",
      "averaged grid size : 5.00, averaged obstacles : 8.98\n"
     ]
    },
    {
     "name": "stderr",
     "output_type": "stream",
     "text": [
      " 77%|███████▋  | 92808/120100 [17:06<05:39, 80.46it/s] "
     ]
    },
    {
     "name": "stdout",
     "output_type": "stream",
     "text": [
      "Epsilon : 6.980937428294561e-21, average reward : -3.0710, averaged shaped reward : -3.0710 Pickup, Drop, Success, Hit wall rate : [0.98, 0.94, 0.94, 0.02]\n",
      "averaged grid size : 5.00, averaged obstacles : 8.58\n"
     ]
    },
    {
     "name": "stderr",
     "output_type": "stream",
     "text": [
      " 77%|███████▋  | 92929/120100 [17:08<06:03, 74.71it/s] "
     ]
    },
    {
     "name": "stdout",
     "output_type": "stream",
     "text": [
      "Epsilon : 6.640390059318622e-21, average reward : -23.0430, averaged shaped reward : -23.1430 Pickup, Drop, Success, Hit wall rate : [0.95, 0.91, 0.9, 0.01]\n",
      "averaged grid size : 5.00, averaged obstacles : 10.21\n"
     ]
    },
    {
     "name": "stderr",
     "output_type": "stream",
     "text": [
      " 77%|███████▋  | 93008/120100 [17:09<05:27, 82.78it/s]"
     ]
    },
    {
     "name": "stdout",
     "output_type": "stream",
     "text": [
      "Epsilon : 6.316455432070808e-21, average reward : 1.1250, averaged shaped reward : 1.0250 Pickup, Drop, Success, Hit wall rate : [0.97, 0.94, 0.94, 0.01]\n",
      "averaged grid size : 5.00, averaged obstacles : 10.10\n"
     ]
    },
    {
     "name": "stderr",
     "output_type": "stream",
     "text": [
      " 78%|███████▊  | 93107/120100 [17:10<04:29, 100.16it/s]"
     ]
    },
    {
     "name": "stdout",
     "output_type": "stream",
     "text": [
      "Epsilon : 6.0083231359801716e-21, average reward : 11.5130, averaged shaped reward : 11.5130 Pickup, Drop, Success, Hit wall rate : [0.99, 0.96, 0.96, 0.0]\n",
      "averaged grid size : 5.00, averaged obstacles : 10.06\n"
     ]
    },
    {
     "name": "stderr",
     "output_type": "stream",
     "text": [
      " 78%|███████▊  | 93210/120100 [17:11<05:03, 88.58it/s] "
     ]
    },
    {
     "name": "stdout",
     "output_type": "stream",
     "text": [
      "Epsilon : 5.715222294304935e-21, average reward : -8.1160, averaged shaped reward : -8.1160 Pickup, Drop, Success, Hit wall rate : [0.96, 0.91, 0.91, 0.02]\n",
      "averaged grid size : 5.00, averaged obstacles : 10.32\n"
     ]
    },
    {
     "name": "stderr",
     "output_type": "stream",
     "text": [
      " 78%|███████▊  | 93314/120100 [17:13<07:25, 60.15it/s]"
     ]
    },
    {
     "name": "stdout",
     "output_type": "stream",
     "text": [
      "Epsilon : 5.4364196355746675e-21, average reward : -22.6660, averaged shaped reward : -22.7660 Pickup, Drop, Success, Hit wall rate : [0.96, 0.93, 0.93, 0.01]\n",
      "averaged grid size : 5.00, averaged obstacles : 9.67\n"
     ]
    },
    {
     "name": "stderr",
     "output_type": "stream",
     "text": [
      " 78%|███████▊  | 93404/120100 [17:14<05:14, 84.98it/s]"
     ]
    },
    {
     "name": "stdout",
     "output_type": "stream",
     "text": [
      "Epsilon : 5.171217659112267e-21, average reward : -2.8290, averaged shaped reward : -2.9290 Pickup, Drop, Success, Hit wall rate : [0.96, 0.94, 0.94, 0.0]\n",
      "averaged grid size : 5.00, averaged obstacles : 10.95\n"
     ]
    },
    {
     "name": "stderr",
     "output_type": "stream",
     "text": [
      " 78%|███████▊  | 93507/120100 [17:15<04:40, 94.76it/s] "
     ]
    },
    {
     "name": "stdout",
     "output_type": "stream",
     "text": [
      "Epsilon : 4.9189528900463165e-21, average reward : -4.8720, averaged shaped reward : -5.0720 Pickup, Drop, Success, Hit wall rate : [0.96, 0.94, 0.93, 0.01]\n",
      "averaged grid size : 5.00, averaged obstacles : 10.44\n"
     ]
    },
    {
     "name": "stderr",
     "output_type": "stream",
     "text": [
      " 78%|███████▊  | 93603/120100 [17:16<04:47, 92.26it/s]"
     ]
    },
    {
     "name": "stdout",
     "output_type": "stream",
     "text": [
      "Epsilon : 4.678994219448249e-21, average reward : -13.5970, averaged shaped reward : -14.2970 Pickup, Drop, Success, Hit wall rate : [1.0, 0.99, 0.92, 0.02]\n",
      "averaged grid size : 5.00, averaged obstacles : 9.51\n"
     ]
    },
    {
     "name": "stderr",
     "output_type": "stream",
     "text": [
      " 78%|███████▊  | 93706/120100 [17:17<04:39, 94.47it/s] "
     ]
    },
    {
     "name": "stdout",
     "output_type": "stream",
     "text": [
      "Epsilon : 4.4507413254417204e-21, average reward : 16.8860, averaged shaped reward : 16.8860 Pickup, Drop, Success, Hit wall rate : [0.97, 0.96, 0.96, 0.01]\n",
      "averaged grid size : 5.00, averaged obstacles : 10.90\n"
     ]
    },
    {
     "name": "stderr",
     "output_type": "stream",
     "text": [
      " 78%|███████▊  | 93809/120100 [17:18<06:15, 69.92it/s] "
     ]
    },
    {
     "name": "stdout",
     "output_type": "stream",
     "text": [
      "Epsilon : 4.233623171334167e-21, average reward : -27.0400, averaged shaped reward : -27.0400 Pickup, Drop, Success, Hit wall rate : [0.97, 0.9, 0.9, 0.0]\n",
      "averaged grid size : 5.00, averaged obstacles : 9.82\n"
     ]
    },
    {
     "name": "stderr",
     "output_type": "stream",
     "text": [
      " 78%|███████▊  | 93903/120100 [17:20<06:14, 69.95it/s] "
     ]
    },
    {
     "name": "stdout",
     "output_type": "stream",
     "text": [
      "Epsilon : 4.027096577013205e-21, average reward : -5.9460, averaged shaped reward : -5.9460 Pickup, Drop, Success, Hit wall rate : [0.97, 0.92, 0.92, 0.0]\n",
      "averaged grid size : 5.00, averaged obstacles : 10.55\n"
     ]
    },
    {
     "name": "stderr",
     "output_type": "stream",
     "text": [
      " 78%|███████▊  | 94005/120100 [17:21<04:28, 97.03it/s] "
     ]
    },
    {
     "name": "stdout",
     "output_type": "stream",
     "text": [
      "Epsilon : 3.8306448600338575e-21, average reward : 11.0330, averaged shaped reward : 10.9330 Pickup, Drop, Success, Hit wall rate : [0.96, 0.95, 0.95, 0.01]\n",
      "averaged grid size : 5.00, averaged obstacles : 10.67\n"
     ]
    },
    {
     "name": "stderr",
     "output_type": "stream",
     "text": [
      " 78%|███████▊  | 94103/120100 [17:22<04:45, 91.20it/s] "
     ]
    },
    {
     "name": "stdout",
     "output_type": "stream",
     "text": [
      "Epsilon : 3.643776542996899e-21, average reward : -4.3240, averaged shaped reward : -4.5240 Pickup, Drop, Success, Hit wall rate : [0.99, 0.94, 0.94, 0.08]\n",
      "averaged grid size : 5.00, averaged obstacles : 9.84\n"
     ]
    },
    {
     "name": "stderr",
     "output_type": "stream",
     "text": [
      " 78%|███████▊  | 94216/120100 [17:23<05:57, 72.42it/s]"
     ]
    },
    {
     "name": "stdout",
     "output_type": "stream",
     "text": [
      "Epsilon : 3.46602412398446e-21, average reward : -31.8660, averaged shaped reward : -31.8660 Pickup, Drop, Success, Hit wall rate : [0.93, 0.91, 0.91, 0.03]\n",
      "averaged grid size : 5.00, averaged obstacles : 9.64\n"
     ]
    },
    {
     "name": "stderr",
     "output_type": "stream",
     "text": [
      " 79%|███████▊  | 94301/120100 [17:25<04:54, 87.47it/s]"
     ]
    },
    {
     "name": "stdout",
     "output_type": "stream",
     "text": [
      "Epsilon : 3.296942906976848e-21, average reward : -10.7430, averaged shaped reward : -10.8430 Pickup, Drop, Success, Hit wall rate : [0.95, 0.92, 0.92, 0.02]\n",
      "averaged grid size : 5.00, averaged obstacles : 10.45\n"
     ]
    },
    {
     "name": "stderr",
     "output_type": "stream",
     "text": [
      " 79%|███████▊  | 94435/120100 [17:26<03:18, 129.44it/s]"
     ]
    },
    {
     "name": "stdout",
     "output_type": "stream",
     "text": [
      "Epsilon : 3.136109889324498e-21, average reward : -17.6830, averaged shaped reward : -17.6830 Pickup, Drop, Success, Hit wall rate : [0.9, 0.89, 0.89, 0.0]\n",
      "averaged grid size : 5.00, averaged obstacles : 11.09\n"
     ]
    },
    {
     "name": "stderr",
     "output_type": "stream",
     "text": [
      " 79%|███████▊  | 94510/120100 [17:27<06:08, 69.44it/s] "
     ]
    },
    {
     "name": "stdout",
     "output_type": "stream",
     "text": [
      "Epsilon : 2.98312270349181e-21, average reward : -12.1660, averaged shaped reward : -12.2660 Pickup, Drop, Success, Hit wall rate : [0.95, 0.91, 0.91, 0.02]\n",
      "averaged grid size : 5.00, averaged obstacles : 10.56\n"
     ]
    },
    {
     "name": "stderr",
     "output_type": "stream",
     "text": [
      " 79%|███████▉  | 94627/120100 [17:28<02:57, 143.16it/s]"
     ]
    },
    {
     "name": "stdout",
     "output_type": "stream",
     "text": [
      "Epsilon : 2.837598610425314e-21, average reward : 6.8920, averaged shaped reward : 6.8920 Pickup, Drop, Success, Hit wall rate : [0.96, 0.94, 0.94, 0.02]\n",
      "averaged grid size : 5.00, averaged obstacles : 9.86\n"
     ]
    },
    {
     "name": "stderr",
     "output_type": "stream",
     "text": [
      " 79%|███████▉  | 94730/120100 [17:29<03:49, 110.68it/s]"
     ]
    },
    {
     "name": "stdout",
     "output_type": "stream",
     "text": [
      "Epsilon : 2.6991735420278467e-21, average reward : 7.6560, averaged shaped reward : 7.6560 Pickup, Drop, Success, Hit wall rate : [0.97, 0.94, 0.94, 0.02]\n",
      "averaged grid size : 5.00, averaged obstacles : 10.80\n"
     ]
    },
    {
     "name": "stderr",
     "output_type": "stream",
     "text": [
      " 79%|███████▉  | 94812/120100 [17:31<05:13, 80.68it/s] "
     ]
    },
    {
     "name": "stdout",
     "output_type": "stream",
     "text": [
      "Epsilon : 2.5675011903431823e-21, average reward : -11.0430, averaged shaped reward : -11.1430 Pickup, Drop, Success, Hit wall rate : [1.0, 0.94, 0.93, 0.01]\n",
      "averaged grid size : 5.00, averaged obstacles : 10.06\n"
     ]
    },
    {
     "name": "stderr",
     "output_type": "stream",
     "text": [
      " 79%|███████▉  | 94910/120100 [17:32<03:53, 107.93it/s]"
     ]
    },
    {
     "name": "stdout",
     "output_type": "stream",
     "text": [
      "Epsilon : 2.4422521411724947e-21, average reward : 3.7230, averaged shaped reward : 3.6230 Pickup, Drop, Success, Hit wall rate : [0.97, 0.94, 0.94, 0.06]\n",
      "averaged grid size : 5.00, averaged obstacles : 10.30\n"
     ]
    },
    {
     "name": "stderr",
     "output_type": "stream",
     "text": [
      " 79%|███████▉  | 95029/120100 [17:33<04:13, 98.84it/s] "
     ]
    },
    {
     "name": "stdout",
     "output_type": "stream",
     "text": [
      "Epsilon : 2.323113049955153e-21, average reward : -53.2600, averaged shaped reward : -53.3600 Pickup, Drop, Success, Hit wall rate : [0.93, 0.86, 0.85, 0.08]\n",
      "averaged grid size : 5.00, averaged obstacles : 10.43\n"
     ]
    },
    {
     "name": "stderr",
     "output_type": "stream",
     "text": [
      " 79%|███████▉  | 95120/120100 [17:34<02:49, 147.40it/s]"
     ]
    },
    {
     "name": "stdout",
     "output_type": "stream",
     "text": [
      "Epsilon : 2.209785857852078e-21, average reward : 34.6710, averaged shaped reward : 34.6710 Pickup, Drop, Success, Hit wall rate : [1.0, 0.99, 0.99, 0.0]\n",
      "averaged grid size : 5.00, averaged obstacles : 10.05\n"
     ]
    },
    {
     "name": "stderr",
     "output_type": "stream",
     "text": [
      " 79%|███████▉  | 95218/120100 [17:35<05:13, 79.32it/s] "
     ]
    },
    {
     "name": "stdout",
     "output_type": "stream",
     "text": [
      "Epsilon : 2.1019870460704926e-21, average reward : -7.3800, averaged shaped reward : -7.3800 Pickup, Drop, Success, Hit wall rate : [0.96, 0.93, 0.93, 0.01]\n",
      "averaged grid size : 5.00, averaged obstacles : 10.24\n"
     ]
    },
    {
     "name": "stderr",
     "output_type": "stream",
     "text": [
      " 79%|███████▉  | 95337/120100 [17:37<04:23, 94.13it/s]"
     ]
    },
    {
     "name": "stdout",
     "output_type": "stream",
     "text": [
      "Epsilon : 1.999446926564556e-21, average reward : -37.7500, averaged shaped reward : -37.8500 Pickup, Drop, Success, Hit wall rate : [0.93, 0.88, 0.87, 0.0]\n",
      "averaged grid size : 5.00, averaged obstacles : 10.81\n"
     ]
    },
    {
     "name": "stderr",
     "output_type": "stream",
     "text": [
      " 79%|███████▉  | 95408/120100 [17:38<03:56, 104.61it/s]"
     ]
    },
    {
     "name": "stdout",
     "output_type": "stream",
     "text": [
      "Epsilon : 1.9019089673373633e-21, average reward : 5.7140, averaged shaped reward : 5.7140 Pickup, Drop, Success, Hit wall rate : [0.97, 0.95, 0.95, 0.0]\n",
      "averaged grid size : 5.00, averaged obstacles : 9.48\n"
     ]
    },
    {
     "name": "stderr",
     "output_type": "stream",
     "text": [
      " 80%|███████▉  | 95512/120100 [17:39<04:53, 83.72it/s] "
     ]
    },
    {
     "name": "stdout",
     "output_type": "stream",
     "text": [
      "Epsilon : 1.8091291506563953e-21, average reward : -10.1250, averaged shaped reward : -10.2250 Pickup, Drop, Success, Hit wall rate : [0.96, 0.93, 0.93, 0.06]\n",
      "averaged grid size : 5.00, averaged obstacles : 10.42\n"
     ]
    },
    {
     "name": "stderr",
     "output_type": "stream",
     "text": [
      " 80%|███████▉  | 95609/120100 [17:41<06:41, 60.96it/s]"
     ]
    },
    {
     "name": "stdout",
     "output_type": "stream",
     "text": [
      "Epsilon : 1.7208753625767877e-21, average reward : -23.0100, averaged shaped reward : -23.1100 Pickup, Drop, Success, Hit wall rate : [0.95, 0.89, 0.89, 0.02]\n",
      "averaged grid size : 5.00, averaged obstacles : 10.56\n"
     ]
    },
    {
     "name": "stderr",
     "output_type": "stream",
     "text": [
      " 80%|███████▉  | 95705/120100 [17:42<05:28, 74.15it/s] "
     ]
    },
    {
     "name": "stdout",
     "output_type": "stream",
     "text": [
      "Epsilon : 1.6369268122451735e-21, average reward : 2.3760, averaged shaped reward : 2.3760 Pickup, Drop, Success, Hit wall rate : [0.98, 0.94, 0.94, 0.0]\n",
      "averaged grid size : 5.00, averaged obstacles : 10.44\n"
     ]
    },
    {
     "name": "stderr",
     "output_type": "stream",
     "text": [
      " 80%|███████▉  | 95805/120100 [17:43<04:16, 94.65it/s] "
     ]
    },
    {
     "name": "stdout",
     "output_type": "stream",
     "text": [
      "Epsilon : 1.5570734795313106e-21, average reward : -6.1660, averaged shaped reward : -6.4660 Pickup, Drop, Success, Hit wall rate : [0.96, 0.93, 0.93, 0.05]\n",
      "averaged grid size : 5.00, averaged obstacles : 10.27\n"
     ]
    },
    {
     "name": "stderr",
     "output_type": "stream",
     "text": [
      " 80%|███████▉  | 95908/120100 [17:44<04:36, 87.56it/s] "
     ]
    },
    {
     "name": "stdout",
     "output_type": "stream",
     "text": [
      "Epsilon : 1.4811155896056104e-21, average reward : -2.2730, averaged shaped reward : -2.5730 Pickup, Drop, Success, Hit wall rate : [0.99, 0.94, 0.94, 0.01]\n",
      "averaged grid size : 5.00, averaged obstacles : 10.16\n"
     ]
    },
    {
     "name": "stderr",
     "output_type": "stream",
     "text": [
      " 80%|███████▉  | 96003/120100 [17:45<06:09, 65.15it/s]"
     ]
    },
    {
     "name": "stdout",
     "output_type": "stream",
     "text": [
      "Epsilon : 1.4088631131480672e-21, average reward : -23.5400, averaged shaped reward : -23.5400 Pickup, Drop, Success, Hit wall rate : [0.94, 0.9, 0.9, 0.02]\n",
      "averaged grid size : 5.00, averaged obstacles : 9.51\n"
     ]
    },
    {
     "name": "stderr",
     "output_type": "stream",
     "text": [
      " 80%|████████  | 96111/120100 [17:47<06:39, 60.08it/s] "
     ]
    },
    {
     "name": "stdout",
     "output_type": "stream",
     "text": [
      "Epsilon : 1.3401352909382303e-21, average reward : -14.8640, averaged shaped reward : -15.0640 Pickup, Drop, Success, Hit wall rate : [0.94, 0.92, 0.91, 0.01]\n",
      "averaged grid size : 5.00, averaged obstacles : 9.73\n"
     ]
    },
    {
     "name": "stderr",
     "output_type": "stream",
     "text": [
      " 80%|████████  | 96211/120100 [17:48<04:20, 91.78it/s]"
     ]
    },
    {
     "name": "stdout",
     "output_type": "stream",
     "text": [
      "Epsilon : 1.274760181636855e-21, average reward : -2.8160, averaged shaped reward : -2.8160 Pickup, Drop, Success, Hit wall rate : [0.94, 0.93, 0.93, 0.02]\n",
      "averaged grid size : 5.00, averaged obstacles : 10.43\n"
     ]
    },
    {
     "name": "stderr",
     "output_type": "stream",
     "text": [
      " 80%|████████  | 96312/120100 [17:49<04:41, 84.54it/s] "
     ]
    },
    {
     "name": "stdout",
     "output_type": "stream",
     "text": [
      "Epsilon : 1.2125742316278785e-21, average reward : 7.0470, averaged shaped reward : 7.0470 Pickup, Drop, Success, Hit wall rate : [0.97, 0.95, 0.95, 0.01]\n",
      "averaged grid size : 5.00, averaged obstacles : 10.81\n"
     ]
    },
    {
     "name": "stderr",
     "output_type": "stream",
     "text": [
      " 80%|████████  | 96414/120100 [17:50<04:38, 85.10it/s]"
     ]
    },
    {
     "name": "stdout",
     "output_type": "stream",
     "text": [
      "Epsilon : 1.1534218658445663e-21, average reward : -14.9260, averaged shaped reward : -14.9260 Pickup, Drop, Success, Hit wall rate : [0.97, 0.94, 0.94, 0.0]\n",
      "averaged grid size : 5.00, averaged obstacles : 9.92\n"
     ]
    },
    {
     "name": "stderr",
     "output_type": "stream",
     "text": [
      " 80%|████████  | 96536/120100 [17:51<02:36, 150.49it/s]"
     ]
    },
    {
     "name": "stdout",
     "output_type": "stream",
     "text": [
      "Epsilon : 1.0971550985561732e-21, average reward : 9.7250, averaged shaped reward : 9.5250 Pickup, Drop, Success, Hit wall rate : [0.99, 0.97, 0.96, 0.02]\n",
      "averaged grid size : 5.00, averaged obstacles : 9.69\n"
     ]
    },
    {
     "name": "stderr",
     "output_type": "stream",
     "text": [
      " 80%|████████  | 96610/120100 [17:52<03:58, 98.68it/s] "
     ]
    },
    {
     "name": "stdout",
     "output_type": "stream",
     "text": [
      "Epsilon : 1.0436331631413887e-21, average reward : 17.6830, averaged shaped reward : 17.6830 Pickup, Drop, Success, Hit wall rate : [0.98, 0.97, 0.97, 0.01]\n",
      "averaged grid size : 5.00, averaged obstacles : 10.04\n"
     ]
    },
    {
     "name": "stderr",
     "output_type": "stream",
     "text": [
      " 81%|████████  | 96720/120100 [17:53<04:23, 88.78it/s] "
     ]
    },
    {
     "name": "stdout",
     "output_type": "stream",
     "text": [
      "Epsilon : 9.927221599223462e-22, average reward : 1.4100, averaged shaped reward : 1.3100 Pickup, Drop, Success, Hit wall rate : [0.96, 0.93, 0.93, 0.18]\n",
      "averaged grid size : 5.00, averaged obstacles : 10.08\n"
     ]
    },
    {
     "name": "stderr",
     "output_type": "stream",
     "text": [
      " 81%|████████  | 96809/120100 [17:54<03:45, 103.06it/s]"
     ]
    },
    {
     "name": "stdout",
     "output_type": "stream",
     "text": [
      "Epsilon : 9.442947211781694e-22, average reward : 9.7280, averaged shaped reward : 9.6280 Pickup, Drop, Success, Hit wall rate : [0.96, 0.94, 0.94, 0.0]\n",
      "averaged grid size : 5.00, averaged obstacles : 10.87\n"
     ]
    },
    {
     "name": "stderr",
     "output_type": "stream",
     "text": [
      " 81%|████████  | 96909/120100 [17:55<04:11, 92.30it/s] "
     ]
    },
    {
     "name": "stdout",
     "output_type": "stream",
     "text": [
      "Epsilon : 8.982296924999721e-22, average reward : 14.5460, averaged shaped reward : 14.5460 Pickup, Drop, Success, Hit wall rate : [0.98, 0.95, 0.95, 0.02]\n",
      "averaged grid size : 5.00, averaged obstacles : 10.60\n"
     ]
    },
    {
     "name": "stderr",
     "output_type": "stream",
     "text": [
      " 81%|████████  | 97017/120100 [17:56<04:04, 94.46it/s] "
     ]
    },
    {
     "name": "stdout",
     "output_type": "stream",
     "text": [
      "Epsilon : 8.544118296901545e-22, average reward : 4.9490, averaged shaped reward : 4.8490 Pickup, Drop, Success, Hit wall rate : [0.98, 0.95, 0.94, 0.01]\n",
      "averaged grid size : 5.00, averaged obstacles : 9.66\n"
     ]
    },
    {
     "name": "stderr",
     "output_type": "stream",
     "text": [
      " 81%|████████  | 97121/120100 [17:57<03:23, 112.90it/s]"
     ]
    },
    {
     "name": "stdout",
     "output_type": "stream",
     "text": [
      "Epsilon : 8.127315104477029e-22, average reward : 10.7980, averaged shaped reward : 10.7980 Pickup, Drop, Success, Hit wall rate : [0.97, 0.96, 0.96, 0.0]\n",
      "averaged grid size : 5.00, averaged obstacles : 10.35\n"
     ]
    },
    {
     "name": "stderr",
     "output_type": "stream",
     "text": [
      " 81%|████████  | 97198/120100 [17:58<03:48, 100.04it/s]"
     ]
    },
    {
     "name": "stdout",
     "output_type": "stream",
     "text": [
      "Epsilon : 7.730844601181855e-22, average reward : -2.7140, averaged shaped reward : -2.7140 Pickup, Drop, Success, Hit wall rate : [0.95, 0.93, 0.93, 0.01]\n",
      "averaged grid size : 5.00, averaged obstacles : 10.70\n"
     ]
    },
    {
     "name": "stderr",
     "output_type": "stream",
     "text": [
      " 81%|████████  | 97308/120100 [18:00<05:30, 68.86it/s] "
     ]
    },
    {
     "name": "stdout",
     "output_type": "stream",
     "text": [
      "Epsilon : 7.353714908223488e-22, average reward : -27.9150, averaged shaped reward : -27.9150 Pickup, Drop, Success, Hit wall rate : [0.94, 0.9, 0.9, 0.0]\n",
      "averaged grid size : 5.00, averaged obstacles : 9.13\n"
     ]
    },
    {
     "name": "stderr",
     "output_type": "stream",
     "text": [
      " 81%|████████  | 97415/120100 [18:01<04:09, 90.94it/s] "
     ]
    },
    {
     "name": "stdout",
     "output_type": "stream",
     "text": [
      "Epsilon : 6.994982533106581e-22, average reward : -1.4720, averaged shaped reward : -1.4720 Pickup, Drop, Success, Hit wall rate : [0.94, 0.92, 0.92, 0.01]\n",
      "averaged grid size : 5.00, averaged obstacles : 10.32\n"
     ]
    },
    {
     "name": "stderr",
     "output_type": "stream",
     "text": [
      " 81%|████████  | 97509/120100 [18:02<05:45, 65.44it/s]"
     ]
    },
    {
     "name": "stdout",
     "output_type": "stream",
     "text": [
      "Epsilon : 6.653750009229911e-22, average reward : -17.9930, averaged shaped reward : -18.1930 Pickup, Drop, Success, Hit wall rate : [0.97, 0.93, 0.92, 0.02]\n",
      "averaged grid size : 5.00, averaged obstacles : 10.75\n"
     ]
    },
    {
     "name": "stderr",
     "output_type": "stream",
     "text": [
      " 81%|████████▏ | 97600/120100 [18:04<05:12, 72.05it/s]"
     ]
    },
    {
     "name": "stdout",
     "output_type": "stream",
     "text": [
      "Epsilon : 6.329163650629579e-22, average reward : -25.8280, averaged shaped reward : -25.8280 Pickup, Drop, Success, Hit wall rate : [0.95, 0.89, 0.89, 0.01]\n",
      "averaged grid size : 5.00, averaged obstacles : 10.57\n"
     ]
    },
    {
     "name": "stderr",
     "output_type": "stream",
     "text": [
      " 81%|████████▏ | 97714/120100 [18:05<04:36, 80.89it/s]"
     ]
    },
    {
     "name": "stdout",
     "output_type": "stream",
     "text": [
      "Epsilon : 6.020411416251426e-22, average reward : -16.2320, averaged shaped reward : -16.2320 Pickup, Drop, Success, Hit wall rate : [0.95, 0.9, 0.9, 0.06]\n",
      "averaged grid size : 5.00, averaged obstacles : 10.43\n"
     ]
    },
    {
     "name": "stderr",
     "output_type": "stream",
     "text": [
      " 81%|████████▏ | 97809/120100 [18:07<05:15, 70.72it/s]"
     ]
    },
    {
     "name": "stdout",
     "output_type": "stream",
     "text": [
      "Epsilon : 5.726720878409432e-22, average reward : -21.7580, averaged shaped reward : -21.7580 Pickup, Drop, Success, Hit wall rate : [0.96, 0.93, 0.93, 0.0]\n",
      "averaged grid size : 5.00, averaged obstacles : 10.11\n"
     ]
    },
    {
     "name": "stderr",
     "output_type": "stream",
     "text": [
      " 82%|████████▏ | 97904/120100 [18:08<02:48, 131.96it/s]"
     ]
    },
    {
     "name": "stdout",
     "output_type": "stream",
     "text": [
      "Epsilon : 5.447357290347832e-22, average reward : 29.2080, averaged shaped reward : 29.1080 Pickup, Drop, Success, Hit wall rate : [1.0, 0.99, 0.99, 0.01]\n",
      "averaged grid size : 5.00, averaged obstacles : 11.46\n"
     ]
    },
    {
     "name": "stderr",
     "output_type": "stream",
     "text": [
      " 82%|████████▏ | 98023/120100 [18:09<03:07, 117.80it/s]"
     ]
    },
    {
     "name": "stdout",
     "output_type": "stream",
     "text": [
      "Epsilon : 5.181621748072236e-22, average reward : 22.8110, averaged shaped reward : 22.8110 Pickup, Drop, Success, Hit wall rate : [1.0, 0.98, 0.98, 0.0]\n",
      "averaged grid size : 5.00, averaged obstacles : 10.36\n"
     ]
    },
    {
     "name": "stderr",
     "output_type": "stream",
     "text": [
      " 82%|████████▏ | 98109/120100 [18:10<04:44, 77.41it/s] "
     ]
    },
    {
     "name": "stdout",
     "output_type": "stream",
     "text": [
      "Epsilon : 4.928849441851238e-22, average reward : 5.7160, averaged shaped reward : 5.7160 Pickup, Drop, Success, Hit wall rate : [0.94, 0.94, 0.94, 0.01]\n",
      "averaged grid size : 5.00, averaged obstacles : 11.24\n"
     ]
    },
    {
     "name": "stderr",
     "output_type": "stream",
     "text": [
      " 82%|████████▏ | 98206/120100 [18:10<02:35, 140.66it/s]"
     ]
    },
    {
     "name": "stdout",
     "output_type": "stream",
     "text": [
      "Epsilon : 4.688407993014041e-22, average reward : 9.1310, averaged shaped reward : 9.1310 Pickup, Drop, Success, Hit wall rate : [0.96, 0.93, 0.93, 0.01]\n",
      "averaged grid size : 5.00, averaged obstacles : 9.63\n"
     ]
    },
    {
     "name": "stderr",
     "output_type": "stream",
     "text": [
      " 82%|████████▏ | 98317/120100 [18:12<03:34, 101.53it/s]"
     ]
    },
    {
     "name": "stdout",
     "output_type": "stream",
     "text": [
      "Epsilon : 4.459695871883232e-22, average reward : 0.9640, averaged shaped reward : 0.9640 Pickup, Drop, Success, Hit wall rate : [0.97, 0.95, 0.95, 0.0]\n",
      "averaged grid size : 5.00, averaged obstacles : 10.18\n"
     ]
    },
    {
     "name": "stderr",
     "output_type": "stream",
     "text": [
      " 82%|████████▏ | 98419/120100 [18:13<04:43, 76.55it/s] "
     ]
    },
    {
     "name": "stdout",
     "output_type": "stream",
     "text": [
      "Epsilon : 4.242140892884701e-22, average reward : -14.5130, averaged shaped reward : -14.5130 Pickup, Drop, Success, Hit wall rate : [0.94, 0.9, 0.9, 0.01]\n",
      "averaged grid size : 5.00, averaged obstacles : 10.27\n"
     ]
    },
    {
     "name": "stderr",
     "output_type": "stream",
     "text": [
      " 82%|████████▏ | 98511/120100 [18:14<06:17, 57.15it/s]"
     ]
    },
    {
     "name": "stdout",
     "output_type": "stream",
     "text": [
      "Epsilon : 4.035198783069797e-22, average reward : -21.9300, averaged shaped reward : -21.9300 Pickup, Drop, Success, Hit wall rate : [0.94, 0.9, 0.9, 0.01]\n",
      "averaged grid size : 5.00, averaged obstacles : 9.61\n"
     ]
    },
    {
     "name": "stderr",
     "output_type": "stream",
     "text": [
      " 82%|████████▏ | 98618/120100 [18:16<04:44, 75.39it/s]"
     ]
    },
    {
     "name": "stdout",
     "output_type": "stream",
     "text": [
      "Epsilon : 3.8383518204685216e-22, average reward : -28.1410, averaged shaped reward : -29.0410 Pickup, Drop, Success, Hit wall rate : [0.99, 0.93, 0.88, 0.3]\n",
      "averaged grid size : 5.00, averaged obstacles : 10.60\n"
     ]
    },
    {
     "name": "stderr",
     "output_type": "stream",
     "text": [
      " 82%|████████▏ | 98700/120100 [18:17<02:59, 119.28it/s]"
     ]
    },
    {
     "name": "stdout",
     "output_type": "stream",
     "text": [
      "Epsilon : 3.6511075388672366e-22, average reward : 2.4720, averaged shaped reward : 2.4720 Pickup, Drop, Success, Hit wall rate : [0.95, 0.93, 0.93, 0.01]\n",
      "averaged grid size : 5.00, averaged obstacles : 10.61\n"
     ]
    },
    {
     "name": "stderr",
     "output_type": "stream",
     "text": [
      " 82%|████████▏ | 98813/120100 [18:18<03:00, 117.69it/s]"
     ]
    },
    {
     "name": "stdout",
     "output_type": "stream",
     "text": [
      "Epsilon : 3.472997495770458e-22, average reward : 4.1690, averaged shaped reward : 4.1690 Pickup, Drop, Success, Hit wall rate : [0.96, 0.93, 0.93, 0.0]\n",
      "averaged grid size : 5.00, averaged obstacles : 10.65\n"
     ]
    },
    {
     "name": "stderr",
     "output_type": "stream",
     "text": [
      " 82%|████████▏ | 98908/120100 [18:19<03:47, 92.98it/s] "
     ]
    },
    {
     "name": "stdout",
     "output_type": "stream",
     "text": [
      "Epsilon : 3.303576100464585e-22, average reward : 5.2130, averaged shaped reward : 5.2130 Pickup, Drop, Success, Hit wall rate : [0.97, 0.93, 0.93, 0.0]\n",
      "averaged grid size : 5.00, averaged obstacles : 10.40\n"
     ]
    },
    {
     "name": "stderr",
     "output_type": "stream",
     "text": [
      " 82%|████████▏ | 99017/120100 [18:20<04:07, 85.19it/s]"
     ]
    },
    {
     "name": "stdout",
     "output_type": "stream",
     "text": [
      "Epsilon : 3.1424194992515247e-22, average reward : -26.1470, averaged shaped reward : -26.2470 Pickup, Drop, Success, Hit wall rate : [0.93, 0.91, 0.9, 0.03]\n",
      "averaged grid size : 5.00, averaged obstacles : 10.08\n"
     ]
    },
    {
     "name": "stderr",
     "output_type": "stream",
     "text": [
      " 83%|████████▎ | 99116/120100 [18:22<04:17, 81.38it/s]"
     ]
    },
    {
     "name": "stdout",
     "output_type": "stream",
     "text": [
      "Epsilon : 2.9891245150633855e-22, average reward : -9.2640, averaged shaped reward : -9.2640 Pickup, Drop, Success, Hit wall rate : [0.95, 0.93, 0.93, 0.0]\n",
      "averaged grid size : 5.00, averaged obstacles : 11.24\n"
     ]
    },
    {
     "name": "stderr",
     "output_type": "stream",
     "text": [
      " 83%|████████▎ | 99218/120100 [18:23<02:49, 123.37it/s]"
     ]
    },
    {
     "name": "stdout",
     "output_type": "stream",
     "text": [
      "Epsilon : 2.8433076388054083e-22, average reward : 17.4810, averaged shaped reward : 17.4810 Pickup, Drop, Success, Hit wall rate : [0.96, 0.96, 0.96, 0.0]\n",
      "averaged grid size : 5.00, averaged obstacles : 9.84\n"
     ]
    },
    {
     "name": "stderr",
     "output_type": "stream",
     "text": [
      " 83%|████████▎ | 99316/120100 [18:24<02:31, 136.92it/s]"
     ]
    },
    {
     "name": "stdout",
     "output_type": "stream",
     "text": [
      "Epsilon : 2.7046040699036466e-22, average reward : 13.6510, averaged shaped reward : 13.6510 Pickup, Drop, Success, Hit wall rate : [0.97, 0.96, 0.96, 0.0]\n",
      "averaged grid size : 5.00, averaged obstacles : 10.27\n"
     ]
    },
    {
     "name": "stderr",
     "output_type": "stream",
     "text": [
      " 83%|████████▎ | 99413/120100 [18:25<03:43, 92.61it/s] "
     ]
    },
    {
     "name": "stdout",
     "output_type": "stream",
     "text": [
      "Epsilon : 2.57266680365711e-22, average reward : 11.1040, averaged shaped reward : 11.1040 Pickup, Drop, Success, Hit wall rate : [0.97, 0.95, 0.95, 0.01]\n",
      "averaged grid size : 5.00, averaged obstacles : 10.62\n"
     ]
    },
    {
     "name": "stderr",
     "output_type": "stream",
     "text": [
      " 83%|████████▎ | 99504/120100 [18:25<03:56, 87.12it/s] "
     ]
    },
    {
     "name": "stdout",
     "output_type": "stream",
     "text": [
      "Epsilon : 2.447165763111156e-22, average reward : 9.8510, averaged shaped reward : 9.8510 Pickup, Drop, Success, Hit wall rate : [0.95, 0.94, 0.94, 0.03]\n",
      "averaged grid size : 5.00, averaged obstacles : 9.61\n"
     ]
    },
    {
     "name": "stderr",
     "output_type": "stream",
     "text": [
      " 83%|████████▎ | 99623/120100 [18:27<03:27, 98.50it/s]"
     ]
    },
    {
     "name": "stdout",
     "output_type": "stream",
     "text": [
      "Epsilon : 2.3277869732801905e-22, average reward : -30.2200, averaged shaped reward : -30.2200 Pickup, Drop, Success, Hit wall rate : [0.9, 0.89, 0.89, 0.04]\n",
      "averaged grid size : 5.00, averaged obstacles : 9.54\n"
     ]
    },
    {
     "name": "stderr",
     "output_type": "stream",
     "text": [
      " 83%|████████▎ | 99719/120100 [18:28<03:31, 96.53it/s]"
     ]
    },
    {
     "name": "stdout",
     "output_type": "stream",
     "text": [
      "Epsilon : 2.2142317756538613e-22, average reward : -18.1260, averaged shaped reward : -18.1260 Pickup, Drop, Success, Hit wall rate : [0.95, 0.91, 0.91, 0.02]\n",
      "averaged grid size : 5.00, averaged obstacles : 10.11\n"
     ]
    },
    {
     "name": "stderr",
     "output_type": "stream",
     "text": [
      " 83%|████████▎ | 99816/120100 [18:29<02:49, 119.64it/s]"
     ]
    },
    {
     "name": "stdout",
     "output_type": "stream",
     "text": [
      "Epsilon : 2.1062160810215623e-22, average reward : 21.4710, averaged shaped reward : 21.4710 Pickup, Drop, Success, Hit wall rate : [0.99, 0.96, 0.96, 0.02]\n",
      "averaged grid size : 5.00, averaged obstacles : 10.53\n"
     ]
    },
    {
     "name": "stderr",
     "output_type": "stream",
     "text": [
      " 83%|████████▎ | 99909/120100 [18:30<04:02, 83.30it/s] "
     ]
    },
    {
     "name": "stdout",
     "output_type": "stream",
     "text": [
      "Epsilon : 2.0034696587460193e-22, average reward : -11.5810, averaged shaped reward : -11.5810 Pickup, Drop, Success, Hit wall rate : [0.94, 0.9, 0.9, 0.01]\n",
      "averaged grid size : 5.00, averaged obstacles : 10.17\n"
     ]
    },
    {
     "name": "stderr",
     "output_type": "stream",
     "text": [
      " 83%|████████▎ | 100034/120100 [18:31<02:35, 128.76it/s]"
     ]
    },
    {
     "name": "stdout",
     "output_type": "stream",
     "text": [
      "Epsilon : 1.9057354607078404e-22, average reward : 18.7760, averaged shaped reward : 18.7760 Pickup, Drop, Success, Hit wall rate : [0.96, 0.96, 0.96, 0.0]\n",
      "averaged grid size : 5.00, averaged obstacles : 9.84\n"
     ]
    },
    {
     "name": "stderr",
     "output_type": "stream",
     "text": [
      " 83%|████████▎ | 100107/120100 [18:32<04:46, 69.68it/s] "
     ]
    },
    {
     "name": "stdout",
     "output_type": "stream",
     "text": [
      "Epsilon : 1.8127689782297483e-22, average reward : -5.8640, averaged shaped reward : -5.9640 Pickup, Drop, Success, Hit wall rate : [0.97, 0.92, 0.91, 0.0]\n",
      "averaged grid size : 5.00, averaged obstacles : 10.47\n"
     ]
    },
    {
     "name": "stderr",
     "output_type": "stream",
     "text": [
      " 83%|████████▎ | 100216/120100 [18:34<04:17, 77.14it/s]"
     ]
    },
    {
     "name": "stdout",
     "output_type": "stream",
     "text": [
      "Epsilon : 1.72433763037162e-22, average reward : -26.9840, averaged shaped reward : -26.9840 Pickup, Drop, Success, Hit wall rate : [0.93, 0.89, 0.89, 0.01]\n",
      "averaged grid size : 5.00, averaged obstacles : 9.69\n"
     ]
    },
    {
     "name": "stderr",
     "output_type": "stream",
     "text": [
      " 84%|████████▎ | 100338/120100 [18:35<03:05, 106.79it/s]"
     ]
    },
    {
     "name": "stdout",
     "output_type": "stream",
     "text": [
      "Epsilon : 1.6402201820660116e-22, average reward : -7.9140, averaged shaped reward : -7.9140 Pickup, Drop, Success, Hit wall rate : [0.98, 0.91, 0.91, 0.02]\n",
      "averaged grid size : 5.00, averaged obstacles : 11.06\n"
     ]
    },
    {
     "name": "stderr",
     "output_type": "stream",
     "text": [
      " 84%|████████▎ | 100413/120100 [18:36<03:34, 91.62it/s] "
     ]
    },
    {
     "name": "stdout",
     "output_type": "stream",
     "text": [
      "Epsilon : 1.5602061906384618e-22, average reward : 9.6340, averaged shaped reward : 9.6340 Pickup, Drop, Success, Hit wall rate : [0.96, 0.95, 0.95, 0.0]\n",
      "averaged grid size : 5.00, averaged obstacles : 9.94\n"
     ]
    },
    {
     "name": "stderr",
     "output_type": "stream",
     "text": [
      " 84%|████████▎ | 100508/120100 [18:37<03:46, 86.38it/s] "
     ]
    },
    {
     "name": "stdout",
     "output_type": "stream",
     "text": [
      "Epsilon : 1.4840954793279178e-22, average reward : 7.1020, averaged shaped reward : 7.1020 Pickup, Drop, Success, Hit wall rate : [0.98, 0.94, 0.94, 0.0]\n",
      "averaged grid size : 5.00, averaged obstacles : 10.32\n"
     ]
    },
    {
     "name": "stderr",
     "output_type": "stream",
     "text": [
      " 84%|████████▍ | 100607/120100 [18:39<05:58, 54.39it/s]"
     ]
    },
    {
     "name": "stdout",
     "output_type": "stream",
     "text": [
      "Epsilon : 1.411697636490116e-22, average reward : -9.0360, averaged shaped reward : -9.1360 Pickup, Drop, Success, Hit wall rate : [0.97, 0.91, 0.91, 0.02]\n",
      "averaged grid size : 5.00, averaged obstacles : 9.51\n"
     ]
    },
    {
     "name": "stderr",
     "output_type": "stream",
     "text": [
      " 84%|████████▍ | 100698/120100 [18:40<05:01, 64.33it/s]"
     ]
    },
    {
     "name": "stdout",
     "output_type": "stream",
     "text": [
      "Epsilon : 1.3428315392310695e-22, average reward : 1.0720, averaged shaped reward : 1.0720 Pickup, Drop, Success, Hit wall rate : [0.97, 0.93, 0.93, 0.04]\n",
      "averaged grid size : 5.00, averaged obstacles : 9.77\n"
     ]
    },
    {
     "name": "stderr",
     "output_type": "stream",
     "text": [
      " 84%|████████▍ | 100813/120100 [18:42<03:24, 94.31it/s] "
     ]
    },
    {
     "name": "stdout",
     "output_type": "stream",
     "text": [
      "Epsilon : 1.2773249002788903e-22, average reward : 3.1070, averaged shaped reward : 3.1070 Pickup, Drop, Success, Hit wall rate : [0.97, 0.94, 0.94, 0.01]\n",
      "averaged grid size : 5.00, averaged obstacles : 9.76\n"
     ]
    },
    {
     "name": "stderr",
     "output_type": "stream",
     "text": [
      " 84%|████████▍ | 100906/120100 [18:43<04:21, 73.42it/s] "
     ]
    },
    {
     "name": "stdout",
     "output_type": "stream",
     "text": [
      "Epsilon : 1.215013836960322e-22, average reward : -8.7510, averaged shaped reward : -8.7510 Pickup, Drop, Success, Hit wall rate : [0.96, 0.92, 0.92, 0.05]\n",
      "averaged grid size : 5.00, averaged obstacles : 9.09\n"
     ]
    },
    {
     "name": "stderr",
     "output_type": "stream",
     "text": [
      " 84%|████████▍ | 101024/120100 [18:44<03:10, 100.04it/s]"
     ]
    },
    {
     "name": "stdout",
     "output_type": "stream",
     "text": [
      "Epsilon : 1.1557424612036605e-22, average reward : -29.0000, averaged shaped reward : -29.2000 Pickup, Drop, Success, Hit wall rate : [0.95, 0.91, 0.9, 0.39]\n",
      "averaged grid size : 5.00, averaged obstacles : 10.05\n"
     ]
    },
    {
     "name": "stderr",
     "output_type": "stream",
     "text": [
      " 84%|████████▍ | 101119/120100 [18:46<04:46, 66.20it/s] "
     ]
    },
    {
     "name": "stdout",
     "output_type": "stream",
     "text": [
      "Epsilon : 1.099362489542343e-22, average reward : -10.2060, averaged shaped reward : -10.2060 Pickup, Drop, Success, Hit wall rate : [0.96, 0.93, 0.93, 0.03]\n",
      "averaged grid size : 5.00, averaged obstacles : 9.49\n"
     ]
    },
    {
     "name": "stderr",
     "output_type": "stream",
     "text": [
      " 84%|████████▍ | 101210/120100 [18:48<04:28, 70.43it/s]"
     ]
    },
    {
     "name": "stdout",
     "output_type": "stream",
     "text": [
      "Epsilon : 1.0457328721435309e-22, average reward : -3.3880, averaged shaped reward : -3.3880 Pickup, Drop, Success, Hit wall rate : [0.94, 0.92, 0.92, 0.0]\n",
      "averaged grid size : 5.00, averaged obstacles : 10.09\n"
     ]
    },
    {
     "name": "stderr",
     "output_type": "stream",
     "text": [
      " 84%|████████▍ | 101308/120100 [18:49<03:43, 83.99it/s] "
     ]
    },
    {
     "name": "stdout",
     "output_type": "stream",
     "text": [
      "Epsilon : 9.94719439933592e-23, average reward : -0.7520, averaged shaped reward : -0.8520 Pickup, Drop, Success, Hit wall rate : [0.97, 0.93, 0.93, 0.02]\n",
      "averaged grid size : 5.00, averaged obstacles : 9.99\n"
     ]
    },
    {
     "name": "stderr",
     "output_type": "stream",
     "text": [
      " 84%|████████▍ | 101410/120100 [18:50<04:01, 77.52it/s] "
     ]
    },
    {
     "name": "stdout",
     "output_type": "stream",
     "text": [
      "Epsilon : 9.461945689376693e-23, average reward : 1.4220, averaged shaped reward : 1.4220 Pickup, Drop, Success, Hit wall rate : [0.95, 0.94, 0.94, 0.03]\n",
      "averaged grid size : 5.00, averaged obstacles : 10.88\n"
     ]
    },
    {
     "name": "stderr",
     "output_type": "stream",
     "text": [
      " 85%|████████▍ | 101505/120100 [18:51<04:48, 64.35it/s]"
     ]
    },
    {
     "name": "stdout",
     "output_type": "stream",
     "text": [
      "Epsilon : 9.000368609935993e-23, average reward : -29.2480, averaged shaped reward : -29.2480 Pickup, Drop, Success, Hit wall rate : [0.94, 0.88, 0.88, 0.01]\n",
      "averaged grid size : 5.00, averaged obstacles : 10.05\n"
     ]
    },
    {
     "name": "stderr",
     "output_type": "stream",
     "text": [
      " 85%|████████▍ | 101612/120100 [18:53<04:26, 69.49it/s]"
     ]
    },
    {
     "name": "stdout",
     "output_type": "stream",
     "text": [
      "Epsilon : 8.561308400413949e-23, average reward : -28.6580, averaged shaped reward : -28.6580 Pickup, Drop, Success, Hit wall rate : [0.94, 0.9, 0.9, 0.02]\n",
      "averaged grid size : 5.00, averaged obstacles : 9.94\n"
     ]
    },
    {
     "name": "stderr",
     "output_type": "stream",
     "text": [
      " 85%|████████▍ | 101703/120100 [18:54<02:50, 108.02it/s]"
     ]
    },
    {
     "name": "stdout",
     "output_type": "stream",
     "text": [
      "Epsilon : 8.143666632284698e-23, average reward : 6.2050, averaged shaped reward : 6.2050 Pickup, Drop, Success, Hit wall rate : [0.98, 0.94, 0.94, 0.01]\n",
      "averaged grid size : 5.00, averaged obstacles : 10.43\n"
     ]
    },
    {
     "name": "stderr",
     "output_type": "stream",
     "text": [
      " 85%|████████▍ | 101815/120100 [18:55<03:48, 79.86it/s] "
     ]
    },
    {
     "name": "stdout",
     "output_type": "stream",
     "text": [
      "Epsilon : 7.746398461078756e-23, average reward : -21.4020, averaged shaped reward : -24.0020 Pickup, Drop, Success, Hit wall rate : [1.15, 1.12, 0.93, 0.26]\n",
      "averaged grid size : 5.00, averaged obstacles : 10.31\n"
     ]
    },
    {
     "name": "stderr",
     "output_type": "stream",
     "text": [
      " 85%|████████▍ | 101909/120100 [18:57<04:49, 62.94it/s] "
     ]
    },
    {
     "name": "stdout",
     "output_type": "stream",
     "text": [
      "Epsilon : 7.368510012420351e-23, average reward : -28.7500, averaged shaped reward : -28.7500 Pickup, Drop, Success, Hit wall rate : [0.92, 0.87, 0.87, 0.0]\n",
      "averaged grid size : 5.00, averaged obstacles : 9.51\n"
     ]
    },
    {
     "name": "stderr",
     "output_type": "stream",
     "text": [
      " 85%|████████▍ | 102002/120100 [18:58<04:16, 70.66it/s]"
     ]
    },
    {
     "name": "stdout",
     "output_type": "stream",
     "text": [
      "Epsilon : 7.009055895580393e-23, average reward : -2.9250, averaged shaped reward : -2.9250 Pickup, Drop, Success, Hit wall rate : [0.94, 0.93, 0.93, 0.02]\n",
      "averaged grid size : 5.00, averaged obstacles : 10.51\n"
     ]
    },
    {
     "name": "stderr",
     "output_type": "stream",
     "text": [
      " 85%|████████▌ | 102115/120100 [19:00<03:55, 76.40it/s]"
     ]
    },
    {
     "name": "stdout",
     "output_type": "stream",
     "text": [
      "Epsilon : 6.667136838324452e-23, average reward : -12.8230, averaged shaped reward : -12.9230 Pickup, Drop, Success, Hit wall rate : [0.96, 0.9, 0.9, 0.04]\n",
      "averaged grid size : 5.00, averaged obstacles : 9.21\n"
     ]
    },
    {
     "name": "stderr",
     "output_type": "stream",
     "text": [
      " 85%|████████▌ | 102204/120100 [19:01<03:42, 80.38it/s] "
     ]
    },
    {
     "name": "stdout",
     "output_type": "stream",
     "text": [
      "Epsilon : 6.341897437138673e-23, average reward : 6.2540, averaged shaped reward : 6.0540 Pickup, Drop, Success, Hit wall rate : [0.99, 0.95, 0.94, 0.01]\n",
      "averaged grid size : 5.00, averaged obstacles : 10.14\n"
     ]
    },
    {
     "name": "stderr",
     "output_type": "stream",
     "text": [
      " 85%|████████▌ | 102309/120100 [19:02<04:06, 72.27it/s]"
     ]
    },
    {
     "name": "stdout",
     "output_type": "stream",
     "text": [
      "Epsilon : 6.032524017205238e-23, average reward : -25.8810, averaged shaped reward : -25.8810 Pickup, Drop, Success, Hit wall rate : [0.95, 0.91, 0.91, 0.0]\n",
      "averaged grid size : 5.00, averaged obstacles : 9.60\n"
     ]
    },
    {
     "name": "stderr",
     "output_type": "stream",
     "text": [
      " 85%|████████▌ | 102422/120100 [19:03<02:55, 100.90it/s]"
     ]
    },
    {
     "name": "stdout",
     "output_type": "stream",
     "text": [
      "Epsilon : 5.738242596773532e-23, average reward : -4.1020, averaged shaped reward : -4.3020 Pickup, Drop, Success, Hit wall rate : [0.94, 0.94, 0.93, 0.02]\n",
      "averaged grid size : 5.00, averaged obstacles : 10.28\n"
     ]
    },
    {
     "name": "stderr",
     "output_type": "stream",
     "text": [
      " 85%|████████▌ | 102522/120100 [19:05<03:06, 94.19it/s] "
     ]
    },
    {
     "name": "stdout",
     "output_type": "stream",
     "text": [
      "Epsilon : 5.458316950834282e-23, average reward : 4.3860, averaged shaped reward : 4.2860 Pickup, Drop, Success, Hit wall rate : [0.97, 0.93, 0.93, 0.03]\n",
      "averaged grid size : 5.00, averaged obstacles : 10.70\n"
     ]
    },
    {
     "name": "stderr",
     "output_type": "stream",
     "text": [
      " 85%|████████▌ | 102611/120100 [19:06<03:21, 86.62it/s] "
     ]
    },
    {
     "name": "stdout",
     "output_type": "stream",
     "text": [
      "Epsilon : 5.19204676925245e-23, average reward : -3.7350, averaged shaped reward : -4.1350 Pickup, Drop, Success, Hit wall rate : [0.98, 0.96, 0.94, 0.14]\n",
      "averaged grid size : 5.00, averaged obstacles : 9.93\n"
     ]
    },
    {
     "name": "stderr",
     "output_type": "stream",
     "text": [
      " 86%|████████▌ | 102709/120100 [19:07<05:39, 51.16it/s]"
     ]
    },
    {
     "name": "stdout",
     "output_type": "stream",
     "text": [
      "Epsilon : 4.938765904751006e-23, average reward : -26.6070, averaged shaped reward : -27.1070 Pickup, Drop, Success, Hit wall rate : [1.0, 0.94, 0.92, 0.46]\n",
      "averaged grid size : 5.00, averaged obstacles : 9.64\n"
     ]
    },
    {
     "name": "stderr",
     "output_type": "stream",
     "text": [
      " 86%|████████▌ | 102810/120100 [19:08<02:36, 110.26it/s]"
     ]
    },
    {
     "name": "stdout",
     "output_type": "stream",
     "text": [
      "Epsilon : 4.697840706362295e-23, average reward : 29.3390, averaged shaped reward : 29.2390 Pickup, Drop, Success, Hit wall rate : [0.98, 0.98, 0.97, 0.04]\n",
      "averaged grid size : 5.00, averaged obstacles : 11.34\n"
     ]
    },
    {
     "name": "stderr",
     "output_type": "stream",
     "text": [
      " 86%|████████▌ | 102903/120100 [19:09<03:12, 89.37it/s] "
     ]
    },
    {
     "name": "stdout",
     "output_type": "stream",
     "text": [
      "Epsilon : 4.4686684341778444e-23, average reward : -4.7150, averaged shaped reward : -5.2150 Pickup, Drop, Success, Hit wall rate : [0.97, 0.94, 0.92, 0.32]\n",
      "averaged grid size : 5.00, averaged obstacles : 10.27\n"
     ]
    },
    {
     "name": "stderr",
     "output_type": "stream",
     "text": [
      " 86%|████████▌ | 103027/120100 [19:10<02:46, 102.40it/s]"
     ]
    },
    {
     "name": "stdout",
     "output_type": "stream",
     "text": [
      "Epsilon : 4.250675751430529e-23, average reward : -14.4060, averaged shaped reward : -14.6060 Pickup, Drop, Success, Hit wall rate : [0.94, 0.89, 0.89, 0.1]\n",
      "averaged grid size : 5.00, averaged obstacles : 9.92\n"
     ]
    },
    {
     "name": "stderr",
     "output_type": "stream",
     "text": [
      " 86%|████████▌ | 103118/120100 [19:11<02:21, 120.40it/s]"
     ]
    },
    {
     "name": "stdout",
     "output_type": "stream",
     "text": [
      "Epsilon : 4.043317290136726e-23, average reward : 23.5030, averaged shaped reward : 23.4030 Pickup, Drop, Success, Hit wall rate : [0.99, 0.98, 0.97, 0.03]\n",
      "averaged grid size : 5.00, averaged obstacles : 10.67\n"
     ]
    },
    {
     "name": "stderr",
     "output_type": "stream",
     "text": [
      " 86%|████████▌ | 103218/120100 [19:12<02:17, 122.66it/s]"
     ]
    },
    {
     "name": "stdout",
     "output_type": "stream",
     "text": [
      "Epsilon : 3.846074286709983e-23, average reward : 4.3270, averaged shaped reward : 4.3270 Pickup, Drop, Success, Hit wall rate : [0.97, 0.94, 0.94, 0.03]\n",
      "averaged grid size : 5.00, averaged obstacles : 10.00\n"
     ]
    },
    {
     "name": "stderr",
     "output_type": "stream",
     "text": [
      " 86%|████████▌ | 103305/120100 [19:13<02:46, 100.84it/s]"
     ]
    },
    {
     "name": "stdout",
     "output_type": "stream",
     "text": [
      "Epsilon : 3.65845328413282e-23, average reward : 10.1040, averaged shaped reward : 10.1040 Pickup, Drop, Success, Hit wall rate : [0.97, 0.96, 0.96, 0.01]\n",
      "averaged grid size : 5.00, averaged obstacles : 10.32\n"
     ]
    },
    {
     "name": "stderr",
     "output_type": "stream",
     "text": [
      " 86%|████████▌ | 103398/120100 [19:14<03:01, 92.17it/s] "
     ]
    },
    {
     "name": "stdout",
     "output_type": "stream",
     "text": [
      "Epsilon : 3.479984897439779e-23, average reward : -10.6470, averaged shaped reward : -10.6470 Pickup, Drop, Success, Hit wall rate : [0.93, 0.91, 0.91, 0.04]\n",
      "averaged grid size : 5.00, averaged obstacles : 9.32\n"
     ]
    },
    {
     "name": "stderr",
     "output_type": "stream",
     "text": [
      " 86%|████████▌ | 103507/120100 [19:15<01:57, 141.49it/s]"
     ]
    },
    {
     "name": "stdout",
     "output_type": "stream",
     "text": [
      "Epsilon : 3.31022263942329e-23, average reward : 9.7060, averaged shaped reward : 9.7060 Pickup, Drop, Success, Hit wall rate : [0.97, 0.96, 0.96, 0.14]\n",
      "averaged grid size : 5.00, averaged obstacles : 9.48\n"
     ]
    },
    {
     "name": "stderr",
     "output_type": "stream",
     "text": [
      " 86%|████████▋ | 103614/120100 [19:16<02:48, 97.64it/s] "
     ]
    },
    {
     "name": "stdout",
     "output_type": "stream",
     "text": [
      "Epsilon : 3.14874180362448e-23, average reward : -2.8150, averaged shaped reward : -2.8150 Pickup, Drop, Success, Hit wall rate : [0.96, 0.93, 0.93, 0.37]\n",
      "averaged grid size : 5.00, averaged obstacles : 10.56\n"
     ]
    },
    {
     "name": "stderr",
     "output_type": "stream",
     "text": [
      " 86%|████████▋ | 103718/120100 [19:17<01:56, 140.66it/s]"
     ]
    },
    {
     "name": "stdout",
     "output_type": "stream",
     "text": [
      "Epsilon : 2.99513840181447e-23, average reward : 14.9560, averaged shaped reward : 14.9560 Pickup, Drop, Success, Hit wall rate : [0.97, 0.94, 0.94, 0.0]\n",
      "averaged grid size : 5.00, averaged obstacles : 10.15\n"
     ]
    },
    {
     "name": "stderr",
     "output_type": "stream",
     "text": [
      " 86%|████████▋ | 103818/120100 [19:19<03:13, 84.29it/s] "
     ]
    },
    {
     "name": "stdout",
     "output_type": "stream",
     "text": [
      "Epsilon : 2.849028153307934e-23, average reward : -7.9960, averaged shaped reward : -7.9960 Pickup, Drop, Success, Hit wall rate : [0.97, 0.93, 0.93, 0.05]\n",
      "averaged grid size : 5.00, averaged obstacles : 11.09\n"
     ]
    },
    {
     "name": "stderr",
     "output_type": "stream",
     "text": [
      " 87%|████████▋ | 103910/120100 [19:20<02:59, 90.07it/s]"
     ]
    },
    {
     "name": "stdout",
     "output_type": "stream",
     "text": [
      "Epsilon : 2.7100455235804515e-23, average reward : 0.7240, averaged shaped reward : 0.7240 Pickup, Drop, Success, Hit wall rate : [0.96, 0.94, 0.94, 0.07]\n",
      "averaged grid size : 5.00, averaged obstacles : 10.51\n"
     ]
    },
    {
     "name": "stderr",
     "output_type": "stream",
     "text": [
      " 87%|████████▋ | 104016/120100 [19:21<01:38, 162.68it/s]"
     ]
    },
    {
     "name": "stdout",
     "output_type": "stream",
     "text": [
      "Epsilon : 2.577842809784491e-23, average reward : 12.3100, averaged shaped reward : 12.3100 Pickup, Drop, Success, Hit wall rate : [0.96, 0.95, 0.95, 0.04]\n",
      "averaged grid size : 5.00, averaged obstacles : 10.57\n"
     ]
    },
    {
     "name": "stderr",
     "output_type": "stream",
     "text": [
      " 87%|████████▋ | 104120/120100 [19:22<02:04, 128.50it/s]"
     ]
    },
    {
     "name": "stdout",
     "output_type": "stream",
     "text": [
      "Epsilon : 2.452089270876163e-23, average reward : 9.6820, averaged shaped reward : 9.6820 Pickup, Drop, Success, Hit wall rate : [0.94, 0.94, 0.94, 0.04]\n",
      "averaged grid size : 5.00, averaged obstacles : 9.41\n"
     ]
    },
    {
     "name": "stderr",
     "output_type": "stream",
     "text": [
      " 87%|████████▋ | 104208/120100 [19:22<03:05, 85.54it/s] "
     ]
    },
    {
     "name": "stdout",
     "output_type": "stream",
     "text": [
      "Epsilon : 2.3324703001765495e-23, average reward : 15.5510, averaged shaped reward : 15.5510 Pickup, Drop, Success, Hit wall rate : [0.96, 0.95, 0.95, 0.06]\n",
      "averaged grid size : 5.00, averaged obstacles : 9.92\n"
     ]
    },
    {
     "name": "stderr",
     "output_type": "stream",
     "text": [
      " 87%|████████▋ | 104310/120100 [19:24<04:06, 63.95it/s]"
     ]
    },
    {
     "name": "stdout",
     "output_type": "stream",
     "text": [
      "Epsilon : 2.2186866382975336e-23, average reward : -37.3590, averaged shaped reward : -37.3590 Pickup, Drop, Success, Hit wall rate : [0.92, 0.86, 0.86, 0.12]\n",
      "averaged grid size : 5.00, averaged obstacles : 9.29\n"
     ]
    },
    {
     "name": "stderr",
     "output_type": "stream",
     "text": [
      " 87%|████████▋ | 104417/120100 [19:26<03:26, 75.94it/s]"
     ]
    },
    {
     "name": "stdout",
     "output_type": "stream",
     "text": [
      "Epsilon : 2.1104536244630472e-23, average reward : -12.0520, averaged shaped reward : -12.0520 Pickup, Drop, Success, Hit wall rate : [0.94, 0.92, 0.92, 0.03]\n",
      "averaged grid size : 5.00, averaged obstacles : 10.47\n"
     ]
    },
    {
     "name": "stderr",
     "output_type": "stream",
     "text": [
      " 87%|████████▋ | 104515/120100 [19:27<02:27, 105.63it/s]"
     ]
    },
    {
     "name": "stdout",
     "output_type": "stream",
     "text": [
      "Epsilon : 2.007500484352724e-23, average reward : -1.9240, averaged shaped reward : -1.9240 Pickup, Drop, Success, Hit wall rate : [0.97, 0.93, 0.93, 0.05]\n",
      "averaged grid size : 5.00, averaged obstacles : 9.73\n"
     ]
    },
    {
     "name": "stderr",
     "output_type": "stream",
     "text": [
      " 87%|████████▋ | 104614/120100 [19:28<02:39, 97.28it/s] "
     ]
    },
    {
     "name": "stdout",
     "output_type": "stream",
     "text": [
      "Epsilon : 1.909569652686286e-23, average reward : -3.8430, averaged shaped reward : -3.9430 Pickup, Drop, Success, Hit wall rate : [0.94, 0.94, 0.94, 0.07]\n",
      "averaged grid size : 5.00, averaged obstacles : 10.03\n"
     ]
    },
    {
     "name": "stderr",
     "output_type": "stream",
     "text": [
      " 87%|████████▋ | 104711/120100 [19:29<02:29, 102.86it/s]"
     ]
    },
    {
     "name": "stdout",
     "output_type": "stream",
     "text": [
      "Epsilon : 1.816416128853961e-23, average reward : 9.7040, averaged shaped reward : 9.7040 Pickup, Drop, Success, Hit wall rate : [0.97, 0.94, 0.94, 0.02]\n",
      "averaged grid size : 5.00, averaged obstacles : 10.25\n"
     ]
    },
    {
     "name": "stderr",
     "output_type": "stream",
     "text": [
      " 87%|████████▋ | 104816/120100 [19:30<02:52, 88.77it/s] "
     ]
    },
    {
     "name": "stdout",
     "output_type": "stream",
     "text": [
      "Epsilon : 1.7278068639808065e-23, average reward : -1.3010, averaged shaped reward : -1.3010 Pickup, Drop, Success, Hit wall rate : [0.96, 0.93, 0.93, 0.02]\n",
      "averaged grid size : 5.00, averaged obstacles : 11.72\n"
     ]
    },
    {
     "name": "stderr",
     "output_type": "stream",
     "text": [
      " 87%|████████▋ | 104912/120100 [19:31<03:23, 74.56it/s]"
     ]
    },
    {
     "name": "stdout",
     "output_type": "stream",
     "text": [
      "Epsilon : 1.6435201778915742e-23, average reward : -7.1590, averaged shaped reward : -7.1590 Pickup, Drop, Success, Hit wall rate : [0.95, 0.91, 0.91, 0.05]\n",
      "averaged grid size : 5.00, averaged obstacles : 9.76\n"
     ]
    },
    {
     "name": "stderr",
     "output_type": "stream",
     "text": [
      " 87%|████████▋ | 105014/120100 [19:33<04:05, 61.50it/s]"
     ]
    },
    {
     "name": "stdout",
     "output_type": "stream",
     "text": [
      "Epsilon : 1.5633452045174656e-23, average reward : -44.5530, averaged shaped reward : -44.5530 Pickup, Drop, Success, Hit wall rate : [0.87, 0.85, 0.85, 0.05]\n",
      "averaged grid size : 5.00, averaged obstacles : 9.28\n"
     ]
    },
    {
     "name": "stderr",
     "output_type": "stream",
     "text": [
      " 88%|████████▊ | 105107/120100 [19:35<03:56, 63.41it/s]"
     ]
    },
    {
     "name": "stdout",
     "output_type": "stream",
     "text": [
      "Epsilon : 1.4870813643573008e-23, average reward : -22.8280, averaged shaped reward : -22.8280 Pickup, Drop, Success, Hit wall rate : [0.95, 0.9, 0.9, 0.04]\n",
      "averaged grid size : 5.00, averaged obstacles : 10.29\n"
     ]
    },
    {
     "name": "stderr",
     "output_type": "stream",
     "text": [
      " 88%|████████▊ | 105206/120100 [19:35<02:06, 118.05it/s]"
     ]
    },
    {
     "name": "stdout",
     "output_type": "stream",
     "text": [
      "Epsilon : 1.4145378626733525e-23, average reward : 22.2670, averaged shaped reward : 22.1670 Pickup, Drop, Success, Hit wall rate : [0.98, 0.97, 0.97, 0.06]\n",
      "averaged grid size : 5.00, averaged obstacles : 10.85\n"
     ]
    },
    {
     "name": "stderr",
     "output_type": "stream",
     "text": [
      " 88%|████████▊ | 105306/120100 [19:37<02:48, 88.04it/s] "
     ]
    },
    {
     "name": "stdout",
     "output_type": "stream",
     "text": [
      "Epsilon : 1.3455332121664157e-23, average reward : -0.8470, averaged shaped reward : -0.8470 Pickup, Drop, Success, Hit wall rate : [0.96, 0.94, 0.94, 0.09]\n",
      "averaged grid size : 5.00, averaged obstacles : 9.56\n"
     ]
    },
    {
     "name": "stderr",
     "output_type": "stream",
     "text": [
      " 88%|████████▊ | 105413/120100 [19:38<02:21, 103.48it/s]"
     ]
    },
    {
     "name": "stdout",
     "output_type": "stream",
     "text": [
      "Epsilon : 1.2798947789359729e-23, average reward : -8.6290, averaged shaped reward : -8.7290 Pickup, Drop, Success, Hit wall rate : [0.92, 0.91, 0.91, 0.05]\n",
      "averaged grid size : 5.00, averaged obstacles : 10.02\n"
     ]
    },
    {
     "name": "stderr",
     "output_type": "stream",
     "text": [
      " 88%|████████▊ | 105511/120100 [19:39<02:33, 94.98it/s] "
     ]
    },
    {
     "name": "stdout",
     "output_type": "stream",
     "text": [
      "Epsilon : 1.2174583505895344e-23, average reward : -7.8900, averaged shaped reward : -7.8900 Pickup, Drop, Success, Hit wall rate : [0.95, 0.92, 0.92, 0.03]\n",
      "averaged grid size : 5.00, averaged obstacles : 10.62\n"
     ]
    },
    {
     "name": "stderr",
     "output_type": "stream",
     "text": [
      " 88%|████████▊ | 105609/120100 [19:40<03:07, 77.32it/s] "
     ]
    },
    {
     "name": "stdout",
     "output_type": "stream",
     "text": [
      "Epsilon : 1.158067725420682e-23, average reward : -0.4260, averaged shaped reward : -0.4260 Pickup, Drop, Success, Hit wall rate : [0.96, 0.94, 0.94, 0.1]\n",
      "averaged grid size : 5.00, averaged obstacles : 9.88\n"
     ]
    },
    {
     "name": "stderr",
     "output_type": "stream",
     "text": [
      " 88%|████████▊ | 105719/120100 [19:41<02:08, 111.92it/s]"
     ]
    },
    {
     "name": "stdout",
     "output_type": "stream",
     "text": [
      "Epsilon : 1.1015743216280189e-23, average reward : -2.0750, averaged shaped reward : -2.0750 Pickup, Drop, Success, Hit wall rate : [0.94, 0.92, 0.92, 0.02]\n",
      "averaged grid size : 5.00, averaged obstacles : 10.59\n"
     ]
    },
    {
     "name": "stderr",
     "output_type": "stream",
     "text": [
      " 88%|████████▊ | 105809/120100 [19:42<01:41, 140.15it/s]"
     ]
    },
    {
     "name": "stdout",
     "output_type": "stream",
     "text": [
      "Epsilon : 1.047836805597379e-23, average reward : 15.3990, averaged shaped reward : 15.3990 Pickup, Drop, Success, Hit wall rate : [0.98, 0.95, 0.95, 0.06]\n",
      "averaged grid size : 5.00, averaged obstacles : 9.51\n"
     ]
    },
    {
     "name": "stderr",
     "output_type": "stream",
     "text": [
      " 88%|████████▊ | 105909/120100 [19:43<03:03, 77.44it/s] "
     ]
    },
    {
     "name": "stdout",
     "output_type": "stream",
     "text": [
      "Epsilon : 9.967207383173558e-24, average reward : -5.2080, averaged shaped reward : -5.3080 Pickup, Drop, Success, Hit wall rate : [0.95, 0.92, 0.92, 0.05]\n",
      "averaged grid size : 5.00, averaged obstacles : 9.22\n"
     ]
    },
    {
     "name": "stderr",
     "output_type": "stream",
     "text": [
      " 88%|████████▊ | 106005/120100 [19:44<02:06, 111.69it/s]"
     ]
    },
    {
     "name": "stdout",
     "output_type": "stream",
     "text": [
      "Epsilon : 9.48098239043551e-24, average reward : 19.5390, averaged shaped reward : 19.5390 Pickup, Drop, Success, Hit wall rate : [0.97, 0.96, 0.96, 0.07]\n",
      "averaged grid size : 5.00, averaged obstacles : 10.39\n"
     ]
    },
    {
     "name": "stderr",
     "output_type": "stream",
     "text": [
      " 88%|████████▊ | 106110/120100 [19:45<02:56, 79.10it/s] "
     ]
    },
    {
     "name": "stdout",
     "output_type": "stream",
     "text": [
      "Epsilon : 9.018476653701131e-24, average reward : 2.0160, averaged shaped reward : 2.0160 Pickup, Drop, Success, Hit wall rate : [0.94, 0.93, 0.93, 0.03]\n",
      "averaged grid size : 5.00, averaged obstacles : 10.66\n"
     ]
    },
    {
     "name": "stderr",
     "output_type": "stream",
     "text": [
      " 88%|████████▊ | 106233/120100 [19:46<01:52, 122.96it/s]"
     ]
    },
    {
     "name": "stdout",
     "output_type": "stream",
     "text": [
      "Epsilon : 8.578533089081742e-24, average reward : 1.8270, averaged shaped reward : 1.6270 Pickup, Drop, Success, Hit wall rate : [0.94, 0.92, 0.92, 0.02]\n",
      "averaged grid size : 5.00, averaged obstacles : 9.45\n"
     ]
    },
    {
     "name": "stderr",
     "output_type": "stream",
     "text": [
      " 89%|████████▊ | 106312/120100 [19:47<02:22, 96.99it/s] "
     ]
    },
    {
     "name": "stdout",
     "output_type": "stream",
     "text": [
      "Epsilon : 8.160051058098472e-24, average reward : 23.2860, averaged shaped reward : 23.2860 Pickup, Drop, Success, Hit wall rate : [0.97, 0.96, 0.96, 0.03]\n",
      "averaged grid size : 5.00, averaged obstacles : 10.79\n"
     ]
    },
    {
     "name": "stderr",
     "output_type": "stream",
     "text": [
      " 89%|████████▊ | 106416/120100 [19:48<02:48, 81.22it/s]"
     ]
    },
    {
     "name": "stdout",
     "output_type": "stream",
     "text": [
      "Epsilon : 7.761983614135777e-24, average reward : -10.4010, averaged shaped reward : -10.4010 Pickup, Drop, Success, Hit wall rate : [0.98, 0.91, 0.91, 0.2]\n",
      "averaged grid size : 5.00, averaged obstacles : 10.23\n"
     ]
    },
    {
     "name": "stderr",
     "output_type": "stream",
     "text": [
      " 89%|████████▊ | 106511/120100 [19:50<03:11, 71.09it/s]"
     ]
    },
    {
     "name": "stdout",
     "output_type": "stream",
     "text": [
      "Epsilon : 7.383334883219712e-24, average reward : -29.0550, averaged shaped reward : -29.1550 Pickup, Drop, Success, Hit wall rate : [0.92, 0.87, 0.87, 0.02]\n",
      "averaged grid size : 5.00, averaged obstacles : 10.56\n"
     ]
    },
    {
     "name": "stderr",
     "output_type": "stream",
     "text": [
      " 89%|████████▉ | 106629/120100 [19:51<02:05, 107.71it/s]"
     ]
    },
    {
     "name": "stdout",
     "output_type": "stream",
     "text": [
      "Epsilon : 7.023157572568324e-24, average reward : -18.3820, averaged shaped reward : -18.3820 Pickup, Drop, Success, Hit wall rate : [0.96, 0.91, 0.91, 0.03]\n",
      "averaged grid size : 5.00, averaged obstacles : 10.07\n"
     ]
    },
    {
     "name": "stderr",
     "output_type": "stream",
     "text": [
      " 89%|████████▉ | 106748/120100 [19:53<01:38, 136.19it/s]"
     ]
    },
    {
     "name": "stdout",
     "output_type": "stream",
     "text": [
      "Epsilon : 6.680550600681185e-24, average reward : -28.9350, averaged shaped reward : -28.9350 Pickup, Drop, Success, Hit wall rate : [0.9, 0.88, 0.88, 0.0]\n",
      "averaged grid size : 5.00, averaged obstacles : 10.26\n"
     ]
    },
    {
     "name": "stderr",
     "output_type": "stream",
     "text": [
      " 89%|████████▉ | 106814/120100 [19:53<01:30, 146.78it/s]"
     ]
    },
    {
     "name": "stdout",
     "output_type": "stream",
     "text": [
      "Epsilon : 6.3546568430388995e-24, average reward : 36.9680, averaged shaped reward : 36.9680 Pickup, Drop, Success, Hit wall rate : [0.99, 0.98, 0.98, 0.03]\n",
      "averaged grid size : 5.00, averaged obstacles : 9.69\n"
     ]
    },
    {
     "name": "stderr",
     "output_type": "stream",
     "text": [
      " 89%|████████▉ | 106921/120100 [19:54<01:35, 138.28it/s]"
     ]
    },
    {
     "name": "stdout",
     "output_type": "stream",
     "text": [
      "Epsilon : 6.0446609877730116e-24, average reward : 24.1000, averaged shaped reward : 23.9000 Pickup, Drop, Success, Hit wall rate : [0.98, 0.98, 0.98, 0.0]\n",
      "averaged grid size : 5.00, averaged obstacles : 10.76\n"
     ]
    },
    {
     "name": "stderr",
     "output_type": "stream",
     "text": [
      " 89%|████████▉ | 107014/120100 [19:55<01:48, 120.95it/s]"
     ]
    },
    {
     "name": "stdout",
     "output_type": "stream",
     "text": [
      "Epsilon : 5.749787495941633e-24, average reward : 18.4380, averaged shaped reward : 18.4380 Pickup, Drop, Success, Hit wall rate : [0.99, 0.96, 0.96, 0.01]\n",
      "averaged grid size : 5.00, averaged obstacles : 9.75\n"
     ]
    },
    {
     "name": "stderr",
     "output_type": "stream",
     "text": [
      " 89%|████████▉ | 107120/120100 [19:56<01:41, 127.73it/s]"
     ]
    },
    {
     "name": "stdout",
     "output_type": "stream",
     "text": [
      "Epsilon : 5.469298661307858e-24, average reward : 8.9880, averaged shaped reward : 8.9880 Pickup, Drop, Success, Hit wall rate : [0.95, 0.93, 0.93, 0.03]\n",
      "averaged grid size : 5.00, averaged obstacles : 10.23\n"
     ]
    },
    {
     "name": "stderr",
     "output_type": "stream",
     "text": [
      " 89%|████████▉ | 107220/120100 [19:57<02:10, 98.91it/s] "
     ]
    },
    {
     "name": "stdout",
     "output_type": "stream",
     "text": [
      "Epsilon : 5.202492764766968e-24, average reward : -7.6800, averaged shaped reward : -7.6800 Pickup, Drop, Success, Hit wall rate : [0.94, 0.91, 0.91, 0.02]\n",
      "averaged grid size : 5.00, averaged obstacles : 10.67\n"
     ]
    },
    {
     "name": "stderr",
     "output_type": "stream",
     "text": [
      " 89%|████████▉ | 107323/120100 [19:58<02:03, 103.79it/s]"
     ]
    },
    {
     "name": "stdout",
     "output_type": "stream",
     "text": [
      "Epsilon : 4.948702318805246e-24, average reward : 6.6600, averaged shaped reward : 6.6600 Pickup, Drop, Success, Hit wall rate : [0.96, 0.94, 0.94, 0.04]\n",
      "averaged grid size : 5.00, averaged obstacles : 10.71\n"
     ]
    },
    {
     "name": "stderr",
     "output_type": "stream",
     "text": [
      " 89%|████████▉ | 107410/120100 [20:00<02:58, 71.01it/s] "
     ]
    },
    {
     "name": "stdout",
     "output_type": "stream",
     "text": [
      "Epsilon : 4.707292397598438e-24, average reward : -3.7130, averaged shaped reward : -3.7130 Pickup, Drop, Success, Hit wall rate : [0.95, 0.92, 0.92, 0.01]\n",
      "averaged grid size : 5.00, averaged obstacles : 10.08\n"
     ]
    },
    {
     "name": "stderr",
     "output_type": "stream",
     "text": [
      " 90%|████████▉ | 107519/120100 [20:01<02:11, 95.67it/s]"
     ]
    },
    {
     "name": "stdout",
     "output_type": "stream",
     "text": [
      "Epsilon : 4.477659048572102e-24, average reward : -30.3020, averaged shaped reward : -30.3020 Pickup, Drop, Success, Hit wall rate : [0.93, 0.87, 0.87, 0.02]\n",
      "averaged grid size : 5.00, averaged obstacles : 10.96\n"
     ]
    },
    {
     "name": "stderr",
     "output_type": "stream",
     "text": [
      " 90%|████████▉ | 107618/120100 [20:02<02:20, 89.08it/s]"
     ]
    },
    {
     "name": "stdout",
     "output_type": "stream",
     "text": [
      "Epsilon : 4.259227781449998e-24, average reward : -7.1510, averaged shaped reward : -7.1510 Pickup, Drop, Success, Hit wall rate : [0.95, 0.92, 0.92, 0.02]\n",
      "averaged grid size : 5.00, averaged obstacles : 10.26\n"
     ]
    },
    {
     "name": "stderr",
     "output_type": "stream",
     "text": [
      " 90%|████████▉ | 107718/120100 [20:03<01:59, 103.61it/s]"
     ]
    },
    {
     "name": "stdout",
     "output_type": "stream",
     "text": [
      "Epsilon : 4.051452131010407e-24, average reward : 6.3630, averaged shaped reward : 6.3630 Pickup, Drop, Success, Hit wall rate : [0.97, 0.93, 0.93, 0.02]\n",
      "averaged grid size : 5.00, averaged obstacles : 9.06\n"
     ]
    },
    {
     "name": "stderr",
     "output_type": "stream",
     "text": [
      " 90%|████████▉ | 107821/120100 [20:05<02:18, 88.51it/s] "
     ]
    },
    {
     "name": "stdout",
     "output_type": "stream",
     "text": [
      "Epsilon : 3.8538122899547586e-24, average reward : -19.6320, averaged shaped reward : -19.7320 Pickup, Drop, Success, Hit wall rate : [0.94, 0.89, 0.89, 0.05]\n",
      "averaged grid size : 5.00, averaged obstacles : 9.89\n"
     ]
    },
    {
     "name": "stderr",
     "output_type": "stream",
     "text": [
      " 90%|████████▉ | 107919/120100 [20:06<02:07, 95.73it/s]"
     ]
    },
    {
     "name": "stdout",
     "output_type": "stream",
     "text": [
      "Epsilon : 3.665813808468321e-24, average reward : -22.3410, averaged shaped reward : -22.3410 Pickup, Drop, Success, Hit wall rate : [0.93, 0.89, 0.89, 0.01]\n",
      "averaged grid size : 5.00, averaged obstacles : 10.14\n"
     ]
    },
    {
     "name": "stderr",
     "output_type": "stream",
     "text": [
      " 90%|████████▉ | 108011/120100 [20:07<02:48, 71.91it/s]"
     ]
    },
    {
     "name": "stdout",
     "output_type": "stream",
     "text": [
      "Epsilon : 3.4869863572194846e-24, average reward : -22.3640, averaged shaped reward : -22.7640 Pickup, Drop, Success, Hit wall rate : [0.97, 0.94, 0.91, 0.0]\n",
      "averaged grid size : 5.00, averaged obstacles : 10.16\n"
     ]
    },
    {
     "name": "stderr",
     "output_type": "stream",
     "text": [
      " 90%|█████████ | 108116/120100 [20:08<02:06, 94.45it/s]"
     ]
    },
    {
     "name": "stdout",
     "output_type": "stream",
     "text": [
      "Epsilon : 3.3168825507030345e-24, average reward : 3.4280, averaged shaped reward : 3.4280 Pickup, Drop, Success, Hit wall rate : [0.95, 0.93, 0.93, 0.01]\n",
      "averaged grid size : 5.00, averaged obstacles : 10.36\n"
     ]
    },
    {
     "name": "stderr",
     "output_type": "stream",
     "text": [
      " 90%|█████████ | 108214/120100 [20:09<01:52, 105.94it/s]"
     ]
    },
    {
     "name": "stdout",
     "output_type": "stream",
     "text": [
      "Epsilon : 3.1550768279836334e-24, average reward : 6.4300, averaged shaped reward : 6.4300 Pickup, Drop, Success, Hit wall rate : [0.94, 0.94, 0.94, 0.03]\n",
      "averaged grid size : 5.00, averaged obstacles : 10.38\n"
     ]
    },
    {
     "name": "stderr",
     "output_type": "stream",
     "text": [
      " 90%|█████████ | 108325/120100 [20:11<01:54, 102.58it/s]"
     ]
    },
    {
     "name": "stdout",
     "output_type": "stream",
     "text": [
      "Epsilon : 3.0011643880394092e-24, average reward : -23.2500, averaged shaped reward : -23.2500 Pickup, Drop, Success, Hit wall rate : [0.93, 0.88, 0.88, 0.0]\n",
      "averaged grid size : 5.00, averaged obstacles : 9.40\n"
     ]
    },
    {
     "name": "stderr",
     "output_type": "stream",
     "text": [
      " 90%|█████████ | 108412/120100 [20:11<01:29, 130.76it/s]"
     ]
    },
    {
     "name": "stdout",
     "output_type": "stream",
     "text": [
      "Epsilon : 2.854760177042093e-24, average reward : 18.0550, averaged shaped reward : 18.0550 Pickup, Drop, Success, Hit wall rate : [0.98, 0.96, 0.96, 0.01]\n",
      "averaged grid size : 5.00, averaged obstacles : 9.80\n"
     ]
    },
    {
     "name": "stderr",
     "output_type": "stream",
     "text": [
      " 90%|█████████ | 108500/120100 [20:12<02:09, 89.28it/s] "
     ]
    },
    {
     "name": "stdout",
     "output_type": "stream",
     "text": [
      "Epsilon : 2.715497925040148e-24, average reward : -2.1240, averaged shaped reward : -3.0240 Pickup, Drop, Success, Hit wall rate : [1.01, 1.01, 0.93, 0.14]\n",
      "averaged grid size : 5.00, averaged obstacles : 10.24\n"
     ]
    },
    {
     "name": "stderr",
     "output_type": "stream",
     "text": [
      " 90%|█████████ | 108602/120100 [20:14<02:04, 92.08it/s] "
     ]
    },
    {
     "name": "stdout",
     "output_type": "stream",
     "text": [
      "Epsilon : 2.5830292296348734e-24, average reward : -2.2060, averaged shaped reward : -2.3060 Pickup, Drop, Success, Hit wall rate : [0.92, 0.91, 0.91, 0.02]\n",
      "averaged grid size : 5.00, averaged obstacles : 8.94\n"
     ]
    },
    {
     "name": "stderr",
     "output_type": "stream",
     "text": [
      " 91%|█████████ | 108708/120100 [20:15<02:32, 74.90it/s]"
     ]
    },
    {
     "name": "stdout",
     "output_type": "stream",
     "text": [
      "Epsilon : 2.4570226843570438e-24, average reward : -35.7240, averaged shaped reward : -35.7240 Pickup, Drop, Success, Hit wall rate : [0.9, 0.88, 0.88, 0.03]\n",
      "averaged grid size : 5.00, averaged obstacles : 9.10\n"
     ]
    },
    {
     "name": "stderr",
     "output_type": "stream",
     "text": [
      " 91%|█████████ | 108801/120100 [20:17<03:32, 53.22it/s]"
     ]
    },
    {
     "name": "stdout",
     "output_type": "stream",
     "text": [
      "Epsilon : 2.3371630495635e-24, average reward : -30.7320, averaged shaped reward : -30.8320 Pickup, Drop, Success, Hit wall rate : [0.9, 0.87, 0.87, 0.03]\n",
      "averaged grid size : 5.00, averaged obstacles : 9.86\n"
     ]
    },
    {
     "name": "stderr",
     "output_type": "stream",
     "text": [
      " 91%|█████████ | 108911/120100 [20:18<01:42, 109.41it/s]"
     ]
    },
    {
     "name": "stdout",
     "output_type": "stream",
     "text": [
      "Epsilon : 2.2231504637794362e-24, average reward : 6.3510, averaged shaped reward : 6.3510 Pickup, Drop, Success, Hit wall rate : [0.97, 0.95, 0.95, 0.01]\n",
      "averaged grid size : 5.00, averaged obstacles : 9.93\n"
     ]
    },
    {
     "name": "stderr",
     "output_type": "stream",
     "text": [
      " 91%|█████████ | 109029/120100 [20:19<01:12, 153.26it/s]"
     ]
    },
    {
     "name": "stdout",
     "output_type": "stream",
     "text": [
      "Epsilon : 2.114699693513373e-24, average reward : 1.6810, averaged shaped reward : 1.6810 Pickup, Drop, Success, Hit wall rate : [0.94, 0.93, 0.93, 0.01]\n",
      "averaged grid size : 5.00, averaged obstacles : 10.22\n"
     ]
    },
    {
     "name": "stderr",
     "output_type": "stream",
     "text": [
      " 91%|█████████ | 109112/120100 [20:20<01:30, 121.23it/s]"
     ]
    },
    {
     "name": "stdout",
     "output_type": "stream",
     "text": [
      "Epsilon : 2.0115394196680114e-24, average reward : 25.5960, averaged shaped reward : 25.5960 Pickup, Drop, Success, Hit wall rate : [0.98, 0.96, 0.96, 0.05]\n",
      "averaged grid size : 5.00, averaged obstacles : 10.23\n"
     ]
    },
    {
     "name": "stderr",
     "output_type": "stream",
     "text": [
      " 91%|█████████ | 109224/120100 [20:21<01:25, 127.29it/s]"
     ]
    },
    {
     "name": "stdout",
     "output_type": "stream",
     "text": [
      "Epsilon : 1.9134115587617026e-24, average reward : 10.5130, averaged shaped reward : 10.5130 Pickup, Drop, Success, Hit wall rate : [0.96, 0.94, 0.94, 0.02]\n",
      "averaged grid size : 5.00, averaged obstacles : 10.30\n"
     ]
    },
    {
     "name": "stderr",
     "output_type": "stream",
     "text": [
      " 91%|█████████ | 109330/120100 [20:22<01:37, 110.11it/s]"
     ]
    },
    {
     "name": "stdout",
     "output_type": "stream",
     "text": [
      "Epsilon : 1.820070617262442e-24, average reward : 0.5740, averaged shaped reward : 0.5740 Pickup, Drop, Success, Hit wall rate : [0.94, 0.92, 0.92, 0.02]\n",
      "averaged grid size : 5.00, averaged obstacles : 10.79\n"
     ]
    },
    {
     "name": "stderr",
     "output_type": "stream",
     "text": [
      " 91%|█████████ | 109421/120100 [20:23<01:21, 130.80it/s]"
     ]
    },
    {
     "name": "stdout",
     "output_type": "stream",
     "text": [
      "Epsilon : 1.731283077419019e-24, average reward : 13.7840, averaged shaped reward : 13.7840 Pickup, Drop, Success, Hit wall rate : [0.96, 0.95, 0.95, 0.02]\n",
      "averaged grid size : 5.00, averaged obstacles : 10.74\n"
     ]
    },
    {
     "name": "stderr",
     "output_type": "stream",
     "text": [
      " 91%|█████████ | 109513/120100 [20:24<02:13, 79.58it/s] "
     ]
    },
    {
     "name": "stdout",
     "output_type": "stream",
     "text": [
      "Epsilon : 1.6468268130528674e-24, average reward : 0.3950, averaged shaped reward : 0.3950 Pickup, Drop, Success, Hit wall rate : [0.93, 0.92, 0.92, 0.0]\n",
      "averaged grid size : 5.00, averaged obstacles : 10.13\n"
     ]
    },
    {
     "name": "stderr",
     "output_type": "stream",
     "text": [
      " 91%|█████████▏| 109600/120100 [20:25<01:34, 111.60it/s]"
     ]
    },
    {
     "name": "stdout",
     "output_type": "stream",
     "text": [
      "Epsilon : 1.5664905338490024e-24, average reward : 7.2040, averaged shaped reward : 7.2040 Pickup, Drop, Success, Hit wall rate : [0.95, 0.93, 0.93, 0.03]\n",
      "averaged grid size : 5.00, averaged obstacles : 11.00\n"
     ]
    },
    {
     "name": "stderr",
     "output_type": "stream",
     "text": [
      " 91%|█████████▏| 109727/120100 [20:26<01:09, 149.26it/s]"
     ]
    },
    {
     "name": "stdout",
     "output_type": "stream",
     "text": [
      "Epsilon : 1.4900732567558435e-24, average reward : 7.0090, averaged shaped reward : 6.9090 Pickup, Drop, Success, Hit wall rate : [0.94, 0.93, 0.93, 0.02]\n",
      "averaged grid size : 5.00, averaged obstacles : 9.60\n"
     ]
    },
    {
     "name": "stderr",
     "output_type": "stream",
     "text": [
      " 91%|█████████▏| 109811/120100 [20:27<02:14, 76.54it/s] "
     ]
    },
    {
     "name": "stdout",
     "output_type": "stream",
     "text": [
      "Epsilon : 1.417383803171445e-24, average reward : -10.5480, averaged shaped reward : -10.5480 Pickup, Drop, Success, Hit wall rate : [0.97, 0.91, 0.91, 0.01]\n",
      "averaged grid size : 5.00, averaged obstacles : 10.04\n"
     ]
    },
    {
     "name": "stderr",
     "output_type": "stream",
     "text": [
      " 92%|█████████▏| 109926/120100 [20:28<01:30, 112.55it/s]"
     ]
    },
    {
     "name": "stdout",
     "output_type": "stream",
     "text": [
      "Epsilon : 1.3482403206582278e-24, average reward : 11.8690, averaged shaped reward : 11.8690 Pickup, Drop, Success, Hit wall rate : [0.96, 0.94, 0.94, 0.02]\n",
      "averaged grid size : 5.00, averaged obstacles : 9.93\n"
     ]
    },
    {
     "name": "stderr",
     "output_type": "stream",
     "text": [
      " 92%|█████████▏| 110021/120100 [20:29<01:37, 103.07it/s]"
     ]
    },
    {
     "name": "stdout",
     "output_type": "stream",
     "text": [
      "Epsilon : 1.282469827989652e-24, average reward : 4.2440, averaged shaped reward : 4.2440 Pickup, Drop, Success, Hit wall rate : [0.95, 0.94, 0.94, 0.06]\n",
      "averaged grid size : 5.00, averaged obstacles : 9.76\n"
     ]
    },
    {
     "name": "stderr",
     "output_type": "stream",
     "text": [
      " 92%|█████████▏| 110120/120100 [20:30<01:23, 119.04it/s]"
     ]
    },
    {
     "name": "stdout",
     "output_type": "stream",
     "text": [
      "Epsilon : 1.2199077823906268e-24, average reward : 18.1000, averaged shaped reward : 18.1000 Pickup, Drop, Success, Hit wall rate : [0.98, 0.96, 0.96, 0.02]\n",
      "averaged grid size : 5.00, averaged obstacles : 10.26\n"
     ]
    },
    {
     "name": "stderr",
     "output_type": "stream",
     "text": [
      " 92%|█████████▏| 110218/120100 [20:31<01:45, 93.54it/s] "
     ]
    },
    {
     "name": "stdout",
     "output_type": "stream",
     "text": [
      "Epsilon : 1.1603976678890155e-24, average reward : 0.3910, averaged shaped reward : -0.4090 Pickup, Drop, Success, Hit wall rate : [1.03, 0.99, 0.92, 0.04]\n",
      "averaged grid size : 5.00, averaged obstacles : 9.91\n"
     ]
    },
    {
     "name": "stderr",
     "output_type": "stream",
     "text": [
      " 92%|█████████▏| 110318/120100 [20:32<01:08, 143.05it/s]"
     ]
    },
    {
     "name": "stdout",
     "output_type": "stream",
     "text": [
      "Epsilon : 1.103790603748354e-24, average reward : 23.6460, averaged shaped reward : 23.5460 Pickup, Drop, Success, Hit wall rate : [0.98, 0.96, 0.96, 0.01]\n",
      "averaged grid size : 5.00, averaged obstacles : 9.81\n"
     ]
    },
    {
     "name": "stderr",
     "output_type": "stream",
     "text": [
      " 92%|█████████▏| 110419/120100 [20:33<01:25, 112.83it/s]"
     ]
    },
    {
     "name": "stdout",
     "output_type": "stream",
     "text": [
      "Epsilon : 1.0499449720022043e-24, average reward : 15.5640, averaged shaped reward : 15.5640 Pickup, Drop, Success, Hit wall rate : [0.98, 0.95, 0.95, 0.01]\n",
      "averaged grid size : 5.00, averaged obstacles : 9.74\n"
     ]
    },
    {
     "name": "stderr",
     "output_type": "stream",
     "text": [
      " 92%|█████████▏| 110508/120100 [20:34<02:31, 63.24it/s] "
     ]
    },
    {
     "name": "stdout",
     "output_type": "stream",
     "text": [
      "Epsilon : 9.987260631582948e-25, average reward : -22.4110, averaged shaped reward : -22.4110 Pickup, Drop, Success, Hit wall rate : [0.93, 0.88, 0.88, 0.01]\n",
      "averaged grid size : 5.00, averaged obstacles : 10.34\n"
     ]
    },
    {
     "name": "stderr",
     "output_type": "stream",
     "text": [
      " 92%|█████████▏| 110620/120100 [20:35<00:53, 176.65it/s]"
     ]
    },
    {
     "name": "stdout",
     "output_type": "stream",
     "text": [
      "Epsilon : 9.500057391860828e-25, average reward : 30.6460, averaged shaped reward : 30.6460 Pickup, Drop, Success, Hit wall rate : [0.99, 0.97, 0.97, 0.01]\n",
      "averaged grid size : 5.00, averaged obstacles : 11.30\n"
     ]
    },
    {
     "name": "stderr",
     "output_type": "stream",
     "text": [
      " 92%|█████████▏| 110735/120100 [20:36<01:12, 129.84it/s]"
     ]
    },
    {
     "name": "stdout",
     "output_type": "stream",
     "text": [
      "Epsilon : 9.036621129446287e-25, average reward : 5.7270, averaged shaped reward : 5.7270 Pickup, Drop, Success, Hit wall rate : [0.97, 0.94, 0.94, 0.02]\n",
      "averaged grid size : 5.00, averaged obstacles : 9.86\n"
     ]
    },
    {
     "name": "stderr",
     "output_type": "stream",
     "text": [
      " 92%|█████████▏| 110807/120100 [20:37<01:37, 95.01it/s] "
     ]
    },
    {
     "name": "stdout",
     "output_type": "stream",
     "text": [
      "Epsilon : 8.595792432487593e-25, average reward : 0.5710, averaged shaped reward : 0.5710 Pickup, Drop, Success, Hit wall rate : [0.97, 0.93, 0.93, 0.01]\n",
      "averaged grid size : 5.00, averaged obstacles : 10.57\n"
     ]
    },
    {
     "name": "stderr",
     "output_type": "stream",
     "text": [
      " 92%|█████████▏| 110915/120100 [20:38<01:09, 132.34it/s]"
     ]
    },
    {
     "name": "stdout",
     "output_type": "stream",
     "text": [
      "Epsilon : 8.176468448106594e-25, average reward : 4.0360, averaged shaped reward : 4.0360 Pickup, Drop, Success, Hit wall rate : [0.97, 0.94, 0.94, 0.01]\n",
      "averaged grid size : 5.00, averaged obstacles : 9.95\n"
     ]
    },
    {
     "name": "stderr",
     "output_type": "stream",
     "text": [
      " 92%|█████████▏| 111012/120100 [20:39<02:11, 68.88it/s] "
     ]
    },
    {
     "name": "stdout",
     "output_type": "stream",
     "text": [
      "Epsilon : 7.777600123312327e-25, average reward : 4.3100, averaged shaped reward : 4.3100 Pickup, Drop, Success, Hit wall rate : [0.96, 0.94, 0.94, 0.01]\n",
      "averaged grid size : 5.00, averaged obstacles : 10.05\n"
     ]
    },
    {
     "name": "stderr",
     "output_type": "stream",
     "text": [
      " 93%|█████████▎| 111141/120100 [20:40<00:50, 175.83it/s]"
     ]
    },
    {
     "name": "stdout",
     "output_type": "stream",
     "text": [
      "Epsilon : 7.398189580509627e-25, average reward : 3.6230, averaged shaped reward : 3.6230 Pickup, Drop, Success, Hit wall rate : [0.92, 0.92, 0.92, 0.0]\n",
      "averaged grid size : 5.00, averaged obstacles : 9.75\n"
     ]
    },
    {
     "name": "stderr",
     "output_type": "stream",
     "text": [
      " 93%|█████████▎| 111214/120100 [20:41<01:34, 93.91it/s] "
     ]
    },
    {
     "name": "stdout",
     "output_type": "stream",
     "text": [
      "Epsilon : 7.037287621036939e-25, average reward : 12.1740, averaged shaped reward : 12.1740 Pickup, Drop, Success, Hit wall rate : [0.96, 0.95, 0.95, 0.01]\n",
      "averaged grid size : 5.00, averaged obstacles : 10.37\n"
     ]
    },
    {
     "name": "stderr",
     "output_type": "stream",
     "text": [
      " 93%|█████████▎| 111313/120100 [20:42<01:00, 144.60it/s]"
     ]
    },
    {
     "name": "stdout",
     "output_type": "stream",
     "text": [
      "Epsilon : 6.693991350487708e-25, average reward : 20.4850, averaged shaped reward : 20.4850 Pickup, Drop, Success, Hit wall rate : [0.96, 0.95, 0.95, 0.01]\n",
      "averaged grid size : 5.00, averaged obstacles : 11.02\n"
     ]
    },
    {
     "name": "stderr",
     "output_type": "stream",
     "text": [
      " 93%|█████████▎| 111409/120100 [20:43<01:17, 112.64it/s]"
     ]
    },
    {
     "name": "stdout",
     "output_type": "stream",
     "text": [
      "Epsilon : 6.367441919874464e-25, average reward : 18.4060, averaged shaped reward : 18.4060 Pickup, Drop, Success, Hit wall rate : [0.96, 0.95, 0.95, 0.01]\n",
      "averaged grid size : 5.00, averaged obstacles : 10.53\n"
     ]
    },
    {
     "name": "stderr",
     "output_type": "stream",
     "text": [
      " 93%|█████████▎| 111524/120100 [20:44<01:15, 114.33it/s]"
     ]
    },
    {
     "name": "stdout",
     "output_type": "stream",
     "text": [
      "Epsilon : 6.056822376984494e-25, average reward : 12.8830, averaged shaped reward : 12.8830 Pickup, Drop, Success, Hit wall rate : [0.96, 0.95, 0.95, 0.0]\n",
      "averaged grid size : 5.00, averaged obstacles : 9.53\n"
     ]
    },
    {
     "name": "stderr",
     "output_type": "stream",
     "text": [
      " 93%|█████████▎| 111621/120100 [20:45<01:20, 105.05it/s]"
     ]
    },
    {
     "name": "stdout",
     "output_type": "stream",
     "text": [
      "Epsilon : 5.761355622551693e-25, average reward : 8.8490, averaged shaped reward : 8.8490 Pickup, Drop, Success, Hit wall rate : [0.93, 0.93, 0.93, 0.05]\n",
      "averaged grid size : 5.00, averaged obstacles : 9.58\n"
     ]
    },
    {
     "name": "stderr",
     "output_type": "stream",
     "text": [
      " 93%|█████████▎| 111719/120100 [20:46<01:42, 81.80it/s] "
     ]
    },
    {
     "name": "stdout",
     "output_type": "stream",
     "text": [
      "Epsilon : 5.4803024661314085e-25, average reward : -14.1600, averaged shaped reward : -14.1600 Pickup, Drop, Success, Hit wall rate : [0.93, 0.9, 0.9, 0.0]\n",
      "averaged grid size : 5.00, averaged obstacles : 10.16\n"
     ]
    },
    {
     "name": "stderr",
     "output_type": "stream",
     "text": [
      " 93%|█████████▎| 111815/120100 [20:47<01:11, 116.18it/s]"
     ]
    },
    {
     "name": "stdout",
     "output_type": "stream",
     "text": [
      "Epsilon : 5.212959776814493e-25, average reward : 10.3300, averaged shaped reward : 10.3300 Pickup, Drop, Success, Hit wall rate : [0.95, 0.94, 0.94, 0.01]\n",
      "averaged grid size : 5.00, averaged obstacles : 9.79\n"
     ]
    },
    {
     "name": "stderr",
     "output_type": "stream",
     "text": [
      " 93%|█████████▎| 111909/120100 [20:48<01:44, 78.70it/s] "
     ]
    },
    {
     "name": "stdout",
     "output_type": "stream",
     "text": [
      "Epsilon : 4.958658724154113e-25, average reward : -13.0660, averaged shaped reward : -13.0660 Pickup, Drop, Success, Hit wall rate : [0.91, 0.89, 0.89, 0.0]\n",
      "averaged grid size : 5.00, averaged obstacles : 10.18\n"
     ]
    },
    {
     "name": "stderr",
     "output_type": "stream",
     "text": [
      " 93%|█████████▎| 112013/120100 [20:50<01:51, 72.46it/s]"
     ]
    },
    {
     "name": "stdout",
     "output_type": "stream",
     "text": [
      "Epsilon : 4.716763104904479e-25, average reward : -29.7500, averaged shaped reward : -29.7500 Pickup, Drop, Success, Hit wall rate : [0.88, 0.86, 0.86, 0.0]\n",
      "averaged grid size : 5.00, averaged obstacles : 10.05\n"
     ]
    },
    {
     "name": "stderr",
     "output_type": "stream",
     "text": [
      " 93%|█████████▎| 112116/120100 [20:51<01:07, 118.78it/s]"
     ]
    },
    {
     "name": "stdout",
     "output_type": "stream",
     "text": [
      "Epsilon : 4.486667751385403e-25, average reward : 7.9900, averaged shaped reward : 7.9900 Pickup, Drop, Success, Hit wall rate : [0.94, 0.93, 0.93, 0.01]\n",
      "averaged grid size : 5.00, averaged obstacles : 10.49\n"
     ]
    },
    {
     "name": "stderr",
     "output_type": "stream",
     "text": [
      " 93%|█████████▎| 112232/120100 [20:52<00:58, 133.64it/s]"
     ]
    },
    {
     "name": "stdout",
     "output_type": "stream",
     "text": [
      "Epsilon : 4.267797017490749e-25, average reward : 6.4460, averaged shaped reward : 6.4460 Pickup, Drop, Success, Hit wall rate : [0.96, 0.93, 0.93, 0.02]\n",
      "averaged grid size : 5.00, averaged obstacles : 10.22\n"
     ]
    },
    {
     "name": "stderr",
     "output_type": "stream",
     "text": [
      " 94%|█████████▎| 112318/120100 [20:53<01:11, 109.54it/s]"
     ]
    },
    {
     "name": "stdout",
     "output_type": "stream",
     "text": [
      "Epsilon : 4.0596033385531525e-25, average reward : 3.5450, averaged shaped reward : 3.5450 Pickup, Drop, Success, Hit wall rate : [0.94, 0.92, 0.92, 0.02]\n",
      "averaged grid size : 5.00, averaged obstacles : 10.31\n"
     ]
    },
    {
     "name": "stderr",
     "output_type": "stream",
     "text": [
      " 94%|█████████▎| 112415/120100 [20:53<01:12, 105.56it/s]"
     ]
    },
    {
     "name": "stdout",
     "output_type": "stream",
     "text": [
      "Epsilon : 3.861565861462064e-25, average reward : 25.9780, averaged shaped reward : 25.9780 Pickup, Drop, Success, Hit wall rate : [0.98, 0.97, 0.97, 0.01]\n",
      "averaged grid size : 5.00, averaged obstacles : 9.53\n"
     ]
    },
    {
     "name": "stderr",
     "output_type": "stream",
     "text": [
      " 94%|█████████▎| 112529/120100 [20:54<00:54, 139.82it/s]"
     ]
    },
    {
     "name": "stdout",
     "output_type": "stream",
     "text": [
      "Epsilon : 3.6731891416080565e-25, average reward : 25.8410, averaged shaped reward : 25.8410 Pickup, Drop, Success, Hit wall rate : [0.96, 0.96, 0.96, 0.02]\n",
      "averaged grid size : 5.00, averaged obstacles : 10.93\n"
     ]
    },
    {
     "name": "stderr",
     "output_type": "stream",
     "text": [
      " 94%|█████████▍| 112611/120100 [20:55<01:11, 104.72it/s]"
     ]
    },
    {
     "name": "stdout",
     "output_type": "stream",
     "text": [
      "Epsilon : 3.494001903393375e-25, average reward : 9.2820, averaged shaped reward : 9.2820 Pickup, Drop, Success, Hit wall rate : [0.94, 0.93, 0.93, 0.0]\n",
      "averaged grid size : 5.00, averaged obstacles : 9.74\n"
     ]
    },
    {
     "name": "stderr",
     "output_type": "stream",
     "text": [
      " 94%|█████████▍| 112709/120100 [20:56<01:15, 97.34it/s] "
     ]
    },
    {
     "name": "stdout",
     "output_type": "stream",
     "text": [
      "Epsilon : 3.32355586120786e-25, average reward : 11.2120, averaged shaped reward : 11.2120 Pickup, Drop, Success, Hit wall rate : [0.95, 0.94, 0.94, 0.0]\n",
      "averaged grid size : 5.00, averaged obstacles : 10.12\n"
     ]
    },
    {
     "name": "stderr",
     "output_type": "stream",
     "text": [
      " 94%|█████████▍| 112825/120100 [20:57<00:52, 137.73it/s]"
     ]
    },
    {
     "name": "stdout",
     "output_type": "stream",
     "text": [
      "Epsilon : 3.1614245979205766e-25, average reward : 14.8160, averaged shaped reward : 14.8160 Pickup, Drop, Success, Hit wall rate : [0.96, 0.94, 0.94, 0.01]\n",
      "averaged grid size : 5.00, averaged obstacles : 11.00\n"
     ]
    },
    {
     "name": "stderr",
     "output_type": "stream",
     "text": [
      " 94%|█████████▍| 112912/120100 [20:58<01:29, 80.53it/s] "
     ]
    },
    {
     "name": "stdout",
     "output_type": "stream",
     "text": [
      "Epsilon : 3.0072024980813765e-25, average reward : 0.5190, averaged shaped reward : 0.5190 Pickup, Drop, Success, Hit wall rate : [0.95, 0.92, 0.92, 0.0]\n",
      "averaged grid size : 5.00, averaged obstacles : 9.95\n"
     ]
    },
    {
     "name": "stderr",
     "output_type": "stream",
     "text": [
      " 94%|█████████▍| 113016/120100 [21:00<01:18, 90.13it/s]"
     ]
    },
    {
     "name": "stdout",
     "output_type": "stream",
     "text": [
      "Epsilon : 2.860503733163544e-25, average reward : -35.4610, averaged shaped reward : -37.0610 Pickup, Drop, Success, Hit wall rate : [1.07, 1.02, 0.86, 0.01]\n",
      "averaged grid size : 5.00, averaged obstacles : 9.69\n"
     ]
    },
    {
     "name": "stderr",
     "output_type": "stream",
     "text": [
      " 94%|█████████▍| 113112/120100 [21:01<01:26, 80.34it/s]"
     ]
    },
    {
     "name": "stdout",
     "output_type": "stream",
     "text": [
      "Epsilon : 2.720961296308805e-25, average reward : 1.2580, averaged shaped reward : 1.2580 Pickup, Drop, Success, Hit wall rate : [0.95, 0.93, 0.93, 0.0]\n",
      "averaged grid size : 5.00, averaged obstacles : 9.76\n"
     ]
    },
    {
     "name": "stderr",
     "output_type": "stream",
     "text": [
      " 94%|█████████▍| 113213/120100 [21:03<01:37, 70.57it/s]"
     ]
    },
    {
     "name": "stdout",
     "output_type": "stream",
     "text": [
      "Epsilon : 2.5882260841598416e-25, average reward : -46.5070, averaged shaped reward : -47.4070 Pickup, Drop, Success, Hit wall rate : [0.98, 0.93, 0.85, 0.0]\n",
      "averaged grid size : 5.00, averaged obstacles : 9.61\n"
     ]
    },
    {
     "name": "stderr",
     "output_type": "stream",
     "text": [
      " 94%|█████████▍| 113310/120100 [21:04<01:29, 75.67it/s] "
     ]
    },
    {
     "name": "stdout",
     "output_type": "stream",
     "text": [
      "Epsilon : 2.4619660234833125e-25, average reward : -7.9870, averaged shaped reward : -7.9870 Pickup, Drop, Success, Hit wall rate : [0.95, 0.93, 0.93, 0.03]\n",
      "averaged grid size : 5.00, averaged obstacles : 10.50\n"
     ]
    },
    {
     "name": "stderr",
     "output_type": "stream",
     "text": [
      " 94%|█████████▍| 113437/120100 [21:05<00:37, 177.70it/s]"
     ]
    },
    {
     "name": "stdout",
     "output_type": "stream",
     "text": [
      "Epsilon : 2.3418652403983363e-25, average reward : 12.9900, averaged shaped reward : 12.9900 Pickup, Drop, Success, Hit wall rate : [0.97, 0.95, 0.95, 0.02]\n",
      "averaged grid size : 5.00, averaged obstacles : 9.82\n"
     ]
    },
    {
     "name": "stderr",
     "output_type": "stream",
     "text": [
      " 95%|█████████▍| 113512/120100 [21:06<00:50, 130.04it/s]"
     ]
    },
    {
     "name": "stdout",
     "output_type": "stream",
     "text": [
      "Epsilon : 2.2276232701320774e-25, average reward : 29.6820, averaged shaped reward : 29.6820 Pickup, Drop, Success, Hit wall rate : [0.99, 0.98, 0.98, 0.01]\n",
      "averaged grid size : 5.00, averaged obstacles : 10.65\n"
     ]
    },
    {
     "name": "stderr",
     "output_type": "stream",
     "text": [
      " 95%|█████████▍| 113626/120100 [21:07<00:56, 114.45it/s]"
     ]
    },
    {
     "name": "stdout",
     "output_type": "stream",
     "text": [
      "Epsilon : 2.1189543053253875e-25, average reward : 0.5020, averaged shaped reward : 0.5020 Pickup, Drop, Success, Hit wall rate : [0.94, 0.92, 0.92, 0.01]\n",
      "averaged grid size : 5.00, averaged obstacles : 9.89\n"
     ]
    },
    {
     "name": "stderr",
     "output_type": "stream",
     "text": [
      " 95%|█████████▍| 113725/120100 [21:08<00:52, 122.59it/s]"
     ]
    },
    {
     "name": "stdout",
     "output_type": "stream",
     "text": [
      "Epsilon : 2.0155864810079757e-25, average reward : -3.9690, averaged shaped reward : -3.9690 Pickup, Drop, Success, Hit wall rate : [0.96, 0.92, 0.92, 0.02]\n",
      "averaged grid size : 5.00, averaged obstacles : 10.06\n"
     ]
    },
    {
     "name": "stderr",
     "output_type": "stream",
     "text": [
      " 95%|█████████▍| 113824/120100 [21:09<00:51, 122.50it/s]"
     ]
    },
    {
     "name": "stdout",
     "output_type": "stream",
     "text": [
      "Epsilon : 1.917261194454243e-25, average reward : 25.8200, averaged shaped reward : 25.8200 Pickup, Drop, Success, Hit wall rate : [0.97, 0.96, 0.96, 0.02]\n",
      "averaged grid size : 5.00, averaged obstacles : 9.85\n"
     ]
    },
    {
     "name": "stderr",
     "output_type": "stream",
     "text": [
      " 95%|█████████▍| 113907/120100 [21:09<00:49, 125.65it/s]"
     ]
    },
    {
     "name": "stdout",
     "output_type": "stream",
     "text": [
      "Epsilon : 1.8237324582182315e-25, average reward : 7.9960, averaged shaped reward : 7.9960 Pickup, Drop, Success, Hit wall rate : [0.97, 0.95, 0.95, 0.02]\n",
      "averaged grid size : 5.00, averaged obstacles : 9.42\n"
     ]
    },
    {
     "name": "stderr",
     "output_type": "stream",
     "text": [
      " 95%|█████████▍| 114016/120100 [21:11<00:55, 109.47it/s]"
     ]
    },
    {
     "name": "stdout",
     "output_type": "stream",
     "text": [
      "Epsilon : 1.734766284729127e-25, average reward : 10.2530, averaged shaped reward : 10.2530 Pickup, Drop, Success, Hit wall rate : [0.95, 0.94, 0.94, 0.0]\n",
      "averaged grid size : 5.00, averaged obstacles : 10.54\n"
     ]
    },
    {
     "name": "stderr",
     "output_type": "stream",
     "text": [
      " 95%|█████████▌| 114121/120100 [21:12<00:56, 106.23it/s]"
     ]
    },
    {
     "name": "stdout",
     "output_type": "stream",
     "text": [
      "Epsilon : 1.6501401009077116e-25, average reward : 17.5370, averaged shaped reward : 17.5370 Pickup, Drop, Success, Hit wall rate : [0.99, 0.96, 0.96, 0.04]\n",
      "averaged grid size : 5.00, averaged obstacles : 9.80\n"
     ]
    },
    {
     "name": "stderr",
     "output_type": "stream",
     "text": [
      " 95%|█████████▌| 114218/120100 [21:13<01:01, 95.22it/s] "
     ]
    },
    {
     "name": "stdout",
     "output_type": "stream",
     "text": [
      "Epsilon : 1.569642191339269e-25, average reward : -9.8210, averaged shaped reward : -9.8210 Pickup, Drop, Success, Hit wall rate : [0.96, 0.91, 0.91, 0.01]\n",
      "averaged grid size : 5.00, averaged obstacles : 9.42\n"
     ]
    },
    {
     "name": "stderr",
     "output_type": "stream",
     "text": [
      " 95%|█████████▌| 114320/120100 [21:14<00:48, 118.00it/s]"
     ]
    },
    {
     "name": "stdout",
     "output_type": "stream",
     "text": [
      "Epsilon : 1.4930711686099046e-25, average reward : 15.6190, averaged shaped reward : 15.6190 Pickup, Drop, Success, Hit wall rate : [0.96, 0.95, 0.95, 0.0]\n",
      "averaged grid size : 5.00, averaged obstacles : 9.17\n"
     ]
    },
    {
     "name": "stderr",
     "output_type": "stream",
     "text": [
      " 95%|█████████▌| 114405/120100 [21:14<00:57, 99.74it/s] "
     ]
    },
    {
     "name": "stdout",
     "output_type": "stream",
     "text": [
      "Epsilon : 1.4202354694811505e-25, average reward : 0.4730, averaged shaped reward : 0.4730 Pickup, Drop, Success, Hit wall rate : [0.96, 0.93, 0.93, 0.02]\n",
      "averaged grid size : 5.00, averaged obstacles : 9.99\n"
     ]
    },
    {
     "name": "stderr",
     "output_type": "stream",
     "text": [
      " 95%|█████████▌| 114507/120100 [21:16<01:19, 70.26it/s]"
     ]
    },
    {
     "name": "stdout",
     "output_type": "stream",
     "text": [
      "Epsilon : 1.3509528756424226e-25, average reward : -16.5660, averaged shaped reward : -16.5660 Pickup, Drop, Success, Hit wall rate : [0.93, 0.9, 0.9, 0.01]\n",
      "averaged grid size : 5.00, averaged obstacles : 9.67\n"
     ]
    },
    {
     "name": "stderr",
     "output_type": "stream",
     "text": [
      " 95%|█████████▌| 114619/120100 [21:17<01:09, 79.31it/s]"
     ]
    },
    {
     "name": "stdout",
     "output_type": "stream",
     "text": [
      "Epsilon : 1.2850500578423652e-25, average reward : -18.8010, averaged shaped reward : -18.8010 Pickup, Drop, Success, Hit wall rate : [0.92, 0.88, 0.88, 0.02]\n",
      "averaged grid size : 5.00, averaged obstacles : 10.02\n"
     ]
    },
    {
     "name": "stderr",
     "output_type": "stream",
     "text": [
      " 96%|█████████▌| 114725/120100 [21:18<00:42, 125.51it/s]"
     ]
    },
    {
     "name": "stdout",
     "output_type": "stream",
     "text": [
      "Epsilon : 1.222362142258585e-25, average reward : 14.6060, averaged shaped reward : 14.6060 Pickup, Drop, Success, Hit wall rate : [0.96, 0.94, 0.94, 0.03]\n",
      "averaged grid size : 5.00, averaged obstacles : 9.73\n"
     ]
    },
    {
     "name": "stderr",
     "output_type": "stream",
     "text": [
      " 96%|█████████▌| 114819/120100 [21:19<00:41, 127.04it/s]"
     ]
    },
    {
     "name": "stdout",
     "output_type": "stream",
     "text": [
      "Epsilon : 1.1627322980209405e-25, average reward : 18.2880, averaged shaped reward : 18.2880 Pickup, Drop, Success, Hit wall rate : [0.98, 0.95, 0.95, 0.01]\n",
      "averaged grid size : 5.00, averaged obstacles : 9.62\n"
     ]
    },
    {
     "name": "stderr",
     "output_type": "stream",
     "text": [
      " 96%|█████████▌| 114913/120100 [21:20<00:50, 103.09it/s]"
     ]
    },
    {
     "name": "stdout",
     "output_type": "stream",
     "text": [
      "Epsilon : 1.1060113448564727e-25, average reward : 14.9590, averaged shaped reward : 14.9590 Pickup, Drop, Success, Hit wall rate : [0.98, 0.94, 0.94, 0.0]\n",
      "averaged grid size : 5.00, averaged obstacles : 10.19\n"
     ]
    },
    {
     "name": "stderr",
     "output_type": "stream",
     "text": [
      " 96%|█████████▌| 115026/120100 [21:21<00:42, 120.78it/s]"
     ]
    },
    {
     "name": "stdout",
     "output_type": "stream",
     "text": [
      "Epsilon : 1.0520573798743754e-25, average reward : 15.4800, averaged shaped reward : 15.4800 Pickup, Drop, Success, Hit wall rate : [0.96, 0.95, 0.95, 0.03]\n",
      "averaged grid size : 5.00, averaged obstacles : 9.84\n"
     ]
    },
    {
     "name": "stderr",
     "output_type": "stream",
     "text": [
      " 96%|█████████▌| 115118/120100 [21:22<00:47, 104.15it/s]"
     ]
    },
    {
     "name": "stdout",
     "output_type": "stream",
     "text": [
      "Epsilon : 1.000735422557324e-25, average reward : 14.5520, averaged shaped reward : 14.5520 Pickup, Drop, Success, Hit wall rate : [0.95, 0.94, 0.94, 0.02]\n",
      "averaged grid size : 5.00, averaged obstacles : 9.83\n"
     ]
    },
    {
     "name": "stderr",
     "output_type": "stream",
     "text": [
      " 96%|█████████▌| 115204/120100 [21:23<01:11, 68.82it/s] "
     ]
    },
    {
     "name": "stdout",
     "output_type": "stream",
     "text": [
      "Epsilon : 9.519170770709965e-26, average reward : 0.2280, averaged shaped reward : 0.2280 Pickup, Drop, Success, Hit wall rate : [0.96, 0.92, 0.92, 0.02]\n",
      "averaged grid size : 5.00, averaged obstacles : 10.84\n"
     ]
    },
    {
     "name": "stderr",
     "output_type": "stream",
     "text": [
      " 96%|█████████▌| 115304/120100 [21:24<00:37, 126.61it/s]"
     ]
    },
    {
     "name": "stdout",
     "output_type": "stream",
     "text": [
      "Epsilon : 9.054802110469751e-26, average reward : 14.7050, averaged shaped reward : 14.7050 Pickup, Drop, Success, Hit wall rate : [0.96, 0.94, 0.94, 0.01]\n",
      "averaged grid size : 5.00, averaged obstacles : 10.04\n"
     ]
    },
    {
     "name": "stderr",
     "output_type": "stream",
     "text": [
      " 96%|█████████▌| 115405/120100 [21:25<01:04, 72.60it/s] "
     ]
    },
    {
     "name": "stdout",
     "output_type": "stream",
     "text": [
      "Epsilon : 8.613086500354111e-26, average reward : -34.8600, averaged shaped reward : -35.5600 Pickup, Drop, Success, Hit wall rate : [1.01, 0.93, 0.86, 0.02]\n",
      "averaged grid size : 5.00, averaged obstacles : 10.32\n"
     ]
    },
    {
     "name": "stderr",
     "output_type": "stream",
     "text": [
      " 96%|█████████▌| 115509/120100 [21:26<00:57, 79.70it/s] "
     ]
    },
    {
     "name": "stdout",
     "output_type": "stream",
     "text": [
      "Epsilon : 8.192918868630424e-26, average reward : -2.0420, averaged shaped reward : -2.0420 Pickup, Drop, Success, Hit wall rate : [0.98, 0.91, 0.91, 0.01]\n",
      "averaged grid size : 5.00, averaged obstacles : 9.99\n"
     ]
    },
    {
     "name": "stderr",
     "output_type": "stream",
     "text": [
      " 96%|█████████▋| 115607/120100 [21:28<01:15, 59.21it/s]"
     ]
    },
    {
     "name": "stdout",
     "output_type": "stream",
     "text": [
      "Epsilon : 7.793248051694452e-26, average reward : -32.4560, averaged shaped reward : -32.4560 Pickup, Drop, Success, Hit wall rate : [0.89, 0.86, 0.86, 0.01]\n",
      "averaged grid size : 5.00, averaged obstacles : 9.08\n"
     ]
    },
    {
     "name": "stderr",
     "output_type": "stream",
     "text": [
      " 96%|█████████▋| 115718/120100 [21:29<00:42, 103.60it/s]"
     ]
    },
    {
     "name": "stdout",
     "output_type": "stream",
     "text": [
      "Epsilon : 7.413074164298676e-26, average reward : 6.2370, averaged shaped reward : 6.2370 Pickup, Drop, Success, Hit wall rate : [0.96, 0.93, 0.93, 0.0]\n",
      "averaged grid size : 5.00, averaged obstacles : 9.97\n"
     ]
    },
    {
     "name": "stderr",
     "output_type": "stream",
     "text": [
      " 96%|█████████▋| 115808/120100 [21:30<00:42, 100.14it/s]"
     ]
    },
    {
     "name": "stdout",
     "output_type": "stream",
     "text": [
      "Epsilon : 7.05144609806744e-26, average reward : -5.1700, averaged shaped reward : -5.1700 Pickup, Drop, Success, Hit wall rate : [0.95, 0.92, 0.92, 0.0]\n",
      "averaged grid size : 5.00, averaged obstacles : 10.60\n"
     ]
    },
    {
     "name": "stderr",
     "output_type": "stream",
     "text": [
      " 97%|█████████▋| 115906/120100 [21:31<00:36, 114.79it/s]"
     ]
    },
    {
     "name": "stdout",
     "output_type": "stream",
     "text": [
      "Epsilon : 6.707459142040649e-26, average reward : 13.7240, averaged shaped reward : 13.6240 Pickup, Drop, Success, Hit wall rate : [0.97, 0.95, 0.95, 0.01]\n",
      "averaged grid size : 5.00, averaged obstacles : 9.63\n"
     ]
    },
    {
     "name": "stderr",
     "output_type": "stream",
     "text": [
      " 97%|█████████▋| 116018/120100 [21:32<00:33, 120.14it/s]"
     ]
    },
    {
     "name": "stdout",
     "output_type": "stream",
     "text": [
      "Epsilon : 6.380252719293276e-26, average reward : 0.8040, averaged shaped reward : 0.8040 Pickup, Drop, Success, Hit wall rate : [0.97, 0.93, 0.93, 0.02]\n",
      "averaged grid size : 5.00, averaged obstacles : 10.24\n"
     ]
    },
    {
     "name": "stderr",
     "output_type": "stream",
     "text": [
      " 97%|█████████▋| 116127/120100 [21:33<00:36, 109.23it/s]"
     ]
    },
    {
     "name": "stdout",
     "output_type": "stream",
     "text": [
      "Epsilon : 6.069008233968083e-26, average reward : 15.0140, averaged shaped reward : 15.0140 Pickup, Drop, Success, Hit wall rate : [0.96, 0.94, 0.94, 0.0]\n",
      "averaged grid size : 5.00, averaged obstacles : 11.04\n"
     ]
    },
    {
     "name": "stderr",
     "output_type": "stream",
     "text": [
      " 97%|█████████▋| 116233/120100 [21:34<00:35, 107.76it/s]"
     ]
    },
    {
     "name": "stdout",
     "output_type": "stream",
     "text": [
      "Epsilon : 5.772947023335513e-26, average reward : -23.0320, averaged shaped reward : -23.0320 Pickup, Drop, Success, Hit wall rate : [0.93, 0.9, 0.9, 0.02]\n",
      "averaged grid size : 5.00, averaged obstacles : 9.35\n"
     ]
    },
    {
     "name": "stderr",
     "output_type": "stream",
     "text": [
      " 97%|█████████▋| 116329/120100 [21:35<00:22, 166.24it/s]"
     ]
    },
    {
     "name": "stdout",
     "output_type": "stream",
     "text": [
      "Epsilon : 5.491328409757036e-26, average reward : 24.5780, averaged shaped reward : 24.5780 Pickup, Drop, Success, Hit wall rate : [0.97, 0.97, 0.97, 0.02]\n",
      "averaged grid size : 5.00, averaged obstacles : 9.78\n"
     ]
    },
    {
     "name": "stderr",
     "output_type": "stream",
     "text": [
      " 97%|█████████▋| 116395/120100 [21:36<00:30, 121.91it/s]"
     ]
    },
    {
     "name": "stdout",
     "output_type": "stream",
     "text": [
      "Epsilon : 5.223447847678655e-26, average reward : 20.4180, averaged shaped reward : 20.4180 Pickup, Drop, Success, Hit wall rate : [0.96, 0.95, 0.95, 0.01]\n",
      "averaged grid size : 5.00, averaged obstacles : 9.99\n"
     ]
    },
    {
     "name": "stderr",
     "output_type": "stream",
     "text": [
      " 97%|█████████▋| 116531/120100 [21:37<00:29, 121.03it/s]"
     ]
    },
    {
     "name": "stdout",
     "output_type": "stream",
     "text": [
      "Epsilon : 4.9686351610185266e-26, average reward : -6.7440, averaged shaped reward : -6.7440 Pickup, Drop, Success, Hit wall rate : [0.96, 0.91, 0.91, 0.01]\n",
      "averaged grid size : 5.00, averaged obstacles : 10.50\n"
     ]
    },
    {
     "name": "stderr",
     "output_type": "stream",
     "text": [
      " 97%|█████████▋| 116621/120100 [21:38<00:35, 97.16it/s] "
     ]
    },
    {
     "name": "stdout",
     "output_type": "stream",
     "text": [
      "Epsilon : 4.726252866539262e-26, average reward : 16.9940, averaged shaped reward : 16.9940 Pickup, Drop, Success, Hit wall rate : [0.98, 0.96, 0.96, 0.02]\n",
      "averaged grid size : 5.00, averaged obstacles : 9.93\n"
     ]
    },
    {
     "name": "stderr",
     "output_type": "stream",
     "text": [
      " 97%|█████████▋| 116722/120100 [21:39<00:28, 117.41it/s]"
     ]
    },
    {
     "name": "stdout",
     "output_type": "stream",
     "text": [
      "Epsilon : 4.4956945790102316e-26, average reward : 5.5100, averaged shaped reward : 5.5100 Pickup, Drop, Success, Hit wall rate : [0.97, 0.93, 0.93, 0.01]\n",
      "averaged grid size : 5.00, averaged obstacles : 10.07\n"
     ]
    },
    {
     "name": "stderr",
     "output_type": "stream",
     "text": [
      " 97%|█████████▋| 116806/120100 [21:40<00:31, 104.51it/s]"
     ]
    },
    {
     "name": "stdout",
     "output_type": "stream",
     "text": [
      "Epsilon : 4.27638349416996e-26, average reward : 21.2720, averaged shaped reward : 21.2720 Pickup, Drop, Success, Hit wall rate : [0.97, 0.96, 0.96, 0.01]\n",
      "averaged grid size : 5.00, averaged obstacles : 10.32\n"
     ]
    },
    {
     "name": "stderr",
     "output_type": "stream",
     "text": [
      " 97%|█████████▋| 116920/120100 [21:42<00:32, 96.53it/s] "
     ]
    },
    {
     "name": "stdout",
     "output_type": "stream",
     "text": [
      "Epsilon : 4.067770945693433e-26, average reward : -25.0540, averaged shaped reward : -25.0540 Pickup, Drop, Success, Hit wall rate : [0.92, 0.89, 0.89, 0.02]\n",
      "averaged grid size : 5.00, averaged obstacles : 9.85\n"
     ]
    },
    {
     "name": "stderr",
     "output_type": "stream",
     "text": [
      " 97%|█████████▋| 117017/120100 [21:43<00:26, 117.18it/s]"
     ]
    },
    {
     "name": "stdout",
     "output_type": "stream",
     "text": [
      "Epsilon : 3.869335032554034e-26, average reward : 16.1340, averaged shaped reward : 16.1340 Pickup, Drop, Success, Hit wall rate : [0.98, 0.97, 0.97, 0.04]\n",
      "averaged grid size : 5.00, averaged obstacles : 11.23\n"
     ]
    },
    {
     "name": "stderr",
     "output_type": "stream",
     "text": [
      " 98%|█████████▊| 117108/120100 [21:44<00:38, 76.84it/s] "
     ]
    },
    {
     "name": "stdout",
     "output_type": "stream",
     "text": [
      "Epsilon : 3.68057931334619e-26, average reward : -16.9280, averaged shaped reward : -16.9280 Pickup, Drop, Success, Hit wall rate : [0.92, 0.89, 0.89, 0.01]\n",
      "averaged grid size : 5.00, averaged obstacles : 9.61\n"
     ]
    },
    {
     "name": "stderr",
     "output_type": "stream",
     "text": [
      " 98%|█████████▊| 117215/120100 [21:46<00:39, 73.09it/s]"
     ]
    },
    {
     "name": "stdout",
     "output_type": "stream",
     "text": [
      "Epsilon : 3.501031564302189e-26, average reward : -35.3880, averaged shaped reward : -35.3880 Pickup, Drop, Success, Hit wall rate : [0.94, 0.86, 0.86, 0.16]\n",
      "averaged grid size : 5.00, averaged obstacles : 10.66\n"
     ]
    },
    {
     "name": "stderr",
     "output_type": "stream",
     "text": [
      " 98%|█████████▊| 117311/120100 [21:47<00:30, 90.32it/s]"
     ]
    },
    {
     "name": "stdout",
     "output_type": "stream",
     "text": [
      "Epsilon : 3.330242597895984e-26, average reward : -19.3460, averaged shaped reward : -19.3460 Pickup, Drop, Success, Hit wall rate : [0.93, 0.9, 0.9, 0.01]\n",
      "averaged grid size : 5.00, averaged obstacles : 10.28\n"
     ]
    },
    {
     "name": "stderr",
     "output_type": "stream",
     "text": [
      " 98%|█████████▊| 117426/120100 [21:48<00:16, 157.98it/s]"
     ]
    },
    {
     "name": "stdout",
     "output_type": "stream",
     "text": [
      "Epsilon : 3.167785139078432e-26, average reward : 9.0730, averaged shaped reward : 9.0730 Pickup, Drop, Success, Hit wall rate : [0.95, 0.95, 0.95, 0.01]\n",
      "averaged grid size : 5.00, averaged obstacles : 9.66\n"
     ]
    },
    {
     "name": "stderr",
     "output_type": "stream",
     "text": [
      " 98%|█████████▊| 117507/120100 [21:49<00:34, 74.77it/s] "
     ]
    },
    {
     "name": "stdout",
     "output_type": "stream",
     "text": [
      "Epsilon : 3.013252756332553e-26, average reward : 4.9650, averaged shaped reward : 4.9650 Pickup, Drop, Success, Hit wall rate : [0.95, 0.93, 0.93, 0.03]\n",
      "averaged grid size : 5.00, averaged obstacles : 9.95\n"
     ]
    },
    {
     "name": "stderr",
     "output_type": "stream",
     "text": [
      " 98%|█████████▊| 117629/120100 [21:50<00:17, 142.17it/s]"
     ]
    },
    {
     "name": "stdout",
     "output_type": "stream",
     "text": [
      "Epsilon : 2.866258844874556e-26, average reward : 7.4920, averaged shaped reward : 7.4920 Pickup, Drop, Success, Hit wall rate : [0.97, 0.93, 0.93, 0.03]\n",
      "averaged grid size : 5.00, averaged obstacles : 9.21\n"
     ]
    },
    {
     "name": "stderr",
     "output_type": "stream",
     "text": [
      " 98%|█████████▊| 117711/120100 [21:51<00:28, 84.26it/s] "
     ]
    },
    {
     "name": "stdout",
     "output_type": "stream",
     "text": [
      "Epsilon : 2.7264356594568193e-26, average reward : -13.1210, averaged shaped reward : -13.1210 Pickup, Drop, Success, Hit wall rate : [0.93, 0.89, 0.89, 0.0]\n",
      "averaged grid size : 5.00, averaged obstacles : 10.32\n"
     ]
    },
    {
     "name": "stderr",
     "output_type": "stream",
     "text": [
      " 98%|█████████▊| 117807/120100 [21:53<00:35, 64.93it/s]"
     ]
    },
    {
     "name": "stdout",
     "output_type": "stream",
     "text": [
      "Epsilon : 2.5934333943531473e-26, average reward : -6.8770, averaged shaped reward : -6.8770 Pickup, Drop, Success, Hit wall rate : [0.96, 0.93, 0.93, 0.02]\n",
      "averaged grid size : 5.00, averaged obstacles : 10.97\n"
     ]
    },
    {
     "name": "stderr",
     "output_type": "stream",
     "text": [
      " 98%|█████████▊| 117915/120100 [21:53<00:16, 135.26it/s]"
     ]
    },
    {
     "name": "stdout",
     "output_type": "stream",
     "text": [
      "Epsilon : 2.466919308224595e-26, average reward : 33.1100, averaged shaped reward : 33.1100 Pickup, Drop, Success, Hit wall rate : [0.99, 0.98, 0.98, 0.01]\n",
      "averaged grid size : 5.00, averaged obstacles : 10.92\n"
     ]
    },
    {
     "name": "stderr",
     "output_type": "stream",
     "text": [
      " 98%|█████████▊| 118032/120100 [21:54<00:16, 123.31it/s]"
     ]
    },
    {
     "name": "stdout",
     "output_type": "stream",
     "text": [
      "Epsilon : 2.3465768916765286e-26, average reward : 13.1000, averaged shaped reward : 13.1000 Pickup, Drop, Success, Hit wall rate : [0.97, 0.94, 0.94, 0.01]\n",
      "averaged grid size : 5.00, averaged obstacles : 10.24\n"
     ]
    },
    {
     "name": "stderr",
     "output_type": "stream",
     "text": [
      " 98%|█████████▊| 118109/120100 [21:55<00:20, 99.28it/s] "
     ]
    },
    {
     "name": "stdout",
     "output_type": "stream",
     "text": [
      "Epsilon : 2.2321050754242803e-26, average reward : 13.1760, averaged shaped reward : 13.1760 Pickup, Drop, Success, Hit wall rate : [0.97, 0.95, 0.95, 0.02]\n",
      "averaged grid size : 5.00, averaged obstacles : 10.05\n"
     ]
    },
    {
     "name": "stderr",
     "output_type": "stream",
     "text": [
      " 98%|█████████▊| 118244/120100 [21:57<00:15, 117.39it/s]"
     ]
    },
    {
     "name": "stdout",
     "output_type": "stream",
     "text": [
      "Epsilon : 2.1232174770864642e-26, average reward : -11.1340, averaged shaped reward : -11.1340 Pickup, Drop, Success, Hit wall rate : [0.93, 0.9, 0.9, 0.02]\n",
      "averaged grid size : 5.00, averaged obstacles : 9.97\n"
     ]
    },
    {
     "name": "stderr",
     "output_type": "stream",
     "text": [
      " 99%|█████████▊| 118308/120100 [21:58<00:28, 61.92it/s] "
     ]
    },
    {
     "name": "stdout",
     "output_type": "stream",
     "text": [
      "Epsilon : 2.019641684721546e-26, average reward : -24.2430, averaged shaped reward : -24.2430 Pickup, Drop, Success, Hit wall rate : [0.91, 0.87, 0.87, 0.0]\n",
      "averaged grid size : 5.00, averaged obstacles : 10.10\n"
     ]
    },
    {
     "name": "stderr",
     "output_type": "stream",
     "text": [
      " 99%|█████████▊| 118403/120100 [21:59<00:15, 106.48it/s]"
     ]
    },
    {
     "name": "stdout",
     "output_type": "stream",
     "text": [
      "Epsilon : 1.9211185753152966e-26, average reward : -13.0550, averaged shaped reward : -13.0550 Pickup, Drop, Success, Hit wall rate : [0.95, 0.89, 0.89, 0.0]\n",
      "averaged grid size : 5.00, averaged obstacles : 10.13\n"
     ]
    },
    {
     "name": "stderr",
     "output_type": "stream",
     "text": [
      " 99%|█████████▊| 118500/120100 [22:00<00:17, 90.89it/s] "
     ]
    },
    {
     "name": "stdout",
     "output_type": "stream",
     "text": [
      "Epsilon : 1.8274016665140892e-26, average reward : 3.5980, averaged shaped reward : 3.5980 Pickup, Drop, Success, Hit wall rate : [0.94, 0.92, 0.92, 0.0]\n",
      "averaged grid size : 5.00, averaged obstacles : 10.83\n"
     ]
    },
    {
     "name": "stderr",
     "output_type": "stream",
     "text": [
      " 99%|█████████▉| 118607/120100 [22:02<00:23, 62.35it/s]"
     ]
    },
    {
     "name": "stdout",
     "output_type": "stream",
     "text": [
      "Epsilon : 1.7382564999822562e-26, average reward : -13.8470, averaged shaped reward : -13.8470 Pickup, Drop, Success, Hit wall rate : [0.94, 0.91, 0.91, 0.0]\n",
      "averaged grid size : 5.00, averaged obstacles : 10.37\n"
     ]
    },
    {
     "name": "stderr",
     "output_type": "stream",
     "text": [
      " 99%|█████████▉| 118718/120100 [22:03<00:12, 111.04it/s]"
     ]
    },
    {
     "name": "stdout",
     "output_type": "stream",
     "text": [
      "Epsilon : 1.6534600548408052e-26, average reward : -3.5050, averaged shaped reward : -3.5050 Pickup, Drop, Success, Hit wall rate : [0.95, 0.91, 0.91, 0.01]\n",
      "averaged grid size : 5.00, averaged obstacles : 9.87\n"
     ]
    },
    {
     "name": "stderr",
     "output_type": "stream",
     "text": [
      " 99%|█████████▉| 118818/120100 [22:04<00:11, 112.88it/s]"
     ]
    },
    {
     "name": "stdout",
     "output_type": "stream",
     "text": [
      "Epsilon : 1.5728001897200252e-26, average reward : 1.7570, averaged shaped reward : 1.7570 Pickup, Drop, Success, Hit wall rate : [0.95, 0.93, 0.93, 0.01]\n",
      "averaged grid size : 5.00, averaged obstacles : 9.80\n"
     ]
    },
    {
     "name": "stderr",
     "output_type": "stream",
     "text": [
      " 99%|█████████▉| 118902/120100 [22:05<00:11, 107.63it/s]"
     ]
    },
    {
     "name": "stdout",
     "output_type": "stream",
     "text": [
      "Epsilon : 1.4960751120301575e-26, average reward : 5.8460, averaged shaped reward : 5.8460 Pickup, Drop, Success, Hit wall rate : [0.97, 0.94, 0.94, 0.01]\n",
      "averaged grid size : 5.00, averaged obstacles : 10.31\n"
     ]
    },
    {
     "name": "stderr",
     "output_type": "stream",
     "text": [
      " 99%|█████████▉| 119013/120100 [22:07<00:09, 109.58it/s]"
     ]
    },
    {
     "name": "stdout",
     "output_type": "stream",
     "text": [
      "Epsilon : 1.423092873122349e-26, average reward : 6.1540, averaged shaped reward : 6.1540 Pickup, Drop, Success, Hit wall rate : [0.94, 0.94, 0.94, 0.02]\n",
      "averaged grid size : 5.00, averaged obstacles : 10.47\n"
     ]
    },
    {
     "name": "stderr",
     "output_type": "stream",
     "text": [
      " 99%|█████████▉| 119128/120100 [22:08<00:09, 102.67it/s]"
     ]
    },
    {
     "name": "stdout",
     "output_type": "stream",
     "text": [
      "Epsilon : 1.3536708880769082e-26, average reward : 13.0600, averaged shaped reward : 13.0600 Pickup, Drop, Success, Hit wall rate : [0.97, 0.94, 0.94, 0.02]\n",
      "averaged grid size : 5.00, averaged obstacles : 9.71\n"
     ]
    },
    {
     "name": "stderr",
     "output_type": "stream",
     "text": [
      " 99%|█████████▉| 119212/120100 [22:09<00:07, 114.65it/s]"
     ]
    },
    {
     "name": "stdout",
     "output_type": "stream",
     "text": [
      "Epsilon : 1.2876354789174638e-26, average reward : 22.3850, averaged shaped reward : 22.3850 Pickup, Drop, Success, Hit wall rate : [0.98, 0.96, 0.96, 0.02]\n",
      "averaged grid size : 5.00, averaged obstacles : 11.13\n"
     ]
    },
    {
     "name": "stderr",
     "output_type": "stream",
     "text": [
      " 99%|█████████▉| 119311/120100 [22:10<00:07, 104.31it/s]"
     ]
    },
    {
     "name": "stdout",
     "output_type": "stream",
     "text": [
      "Epsilon : 1.2248214401082755e-26, average reward : 7.6710, averaged shaped reward : 7.6710 Pickup, Drop, Success, Hit wall rate : [0.97, 0.94, 0.94, 0.0]\n",
      "averaged grid size : 5.00, averaged obstacles : 11.35\n"
     ]
    },
    {
     "name": "stderr",
     "output_type": "stream",
     "text": [
      " 99%|█████████▉| 119407/120100 [22:11<00:06, 109.88it/s]"
     ]
    },
    {
     "name": "stdout",
     "output_type": "stream",
     "text": [
      "Epsilon : 1.165071625247653e-26, average reward : 3.5190, averaged shaped reward : 3.5190 Pickup, Drop, Success, Hit wall rate : [0.94, 0.92, 0.92, 0.01]\n",
      "averaged grid size : 5.00, averaged obstacles : 10.03\n"
     ]
    },
    {
     "name": "stderr",
     "output_type": "stream",
     "text": [
      "100%|█████████▉| 119526/120100 [22:13<00:07, 78.32it/s] "
     ]
    },
    {
     "name": "stdout",
     "output_type": "stream",
     "text": [
      "Epsilon : 1.108236553923495e-26, average reward : -26.6790, averaged shaped reward : -26.6790 Pickup, Drop, Success, Hit wall rate : [0.9, 0.87, 0.87, 0.01]\n",
      "averaged grid size : 5.00, averaged obstacles : 9.83\n"
     ]
    },
    {
     "name": "stderr",
     "output_type": "stream",
     "text": [
      "100%|█████████▉| 119611/120100 [22:14<00:06, 81.22it/s]"
     ]
    },
    {
     "name": "stdout",
     "output_type": "stream",
     "text": [
      "Epsilon : 1.054174037747382e-26, average reward : 9.4220, averaged shaped reward : 9.4220 Pickup, Drop, Success, Hit wall rate : [0.94, 0.94, 0.94, 0.03]\n",
      "averaged grid size : 5.00, averaged obstacles : 10.13\n"
     ]
    },
    {
     "name": "stderr",
     "output_type": "stream",
     "text": [
      "100%|█████████▉| 119702/120100 [22:15<00:06, 62.78it/s] "
     ]
    },
    {
     "name": "stdout",
     "output_type": "stream",
     "text": [
      "Epsilon : 1.0027488246316541e-26, average reward : 5.1900, averaged shaped reward : 5.1900 Pickup, Drop, Success, Hit wall rate : [0.96, 0.93, 0.93, 0.04]\n",
      "averaged grid size : 5.00, averaged obstacles : 10.24\n"
     ]
    },
    {
     "name": "stderr",
     "output_type": "stream",
     "text": [
      "100%|█████████▉| 119800/120100 [22:16<00:03, 90.55it/s]"
     ]
    },
    {
     "name": "stdout",
     "output_type": "stream",
     "text": [
      "Epsilon : 9.538322604195253e-27, average reward : -5.8530, averaged shaped reward : -5.8530 Pickup, Drop, Success, Hit wall rate : [0.96, 0.92, 0.92, 0.0]\n",
      "averaged grid size : 5.00, averaged obstacles : 10.94\n"
     ]
    },
    {
     "name": "stderr",
     "output_type": "stream",
     "text": [
      "100%|█████████▉| 119915/120100 [22:17<00:02, 77.95it/s] "
     ]
    },
    {
     "name": "stdout",
     "output_type": "stream",
     "text": [
      "Epsilon : 9.073019670217237e-27, average reward : -7.4560, averaged shaped reward : -7.4560 Pickup, Drop, Success, Hit wall rate : [0.93, 0.9, 0.9, 0.0]\n",
      "averaged grid size : 5.00, averaged obstacles : 10.72\n"
     ]
    },
    {
     "name": "stderr",
     "output_type": "stream",
     "text": [
      "100%|█████████▉| 120001/120100 [22:18<00:01, 67.92it/s]"
     ]
    },
    {
     "name": "stdout",
     "output_type": "stream",
     "text": [
      "Epsilon : 8.630415362544158e-27, average reward : -16.0430, averaged shaped reward : -16.0430 Pickup, Drop, Success, Hit wall rate : [0.91, 0.9, 0.9, 0.03]\n",
      "averaged grid size : 5.00, averaged obstacles : 9.82\n"
     ]
    },
    {
     "name": "stderr",
     "output_type": "stream",
     "text": [
      "100%|██████████| 120100/120100 [22:20<00:00, 89.62it/s]"
     ]
    },
    {
     "name": "stdout",
     "output_type": "stream",
     "text": [
      "Epsilon : 0, average reward : -35.3930, averaged shaped reward : -35.3930 Pickup, Drop, Success, Hit wall rate : [0.91, 0.85, 0.85, 0.0]\n",
      "averaged grid size : 5.00, averaged obstacles : 10.27\n"
     ]
    },
    {
     "name": "stderr",
     "output_type": "stream",
     "text": [
      "\n"
     ]
    }
   ],
   "source": [
    "env = SimpleTaxiEnv()\n",
    "q_table = tabular_q_learning(env)"
   ]
  },
  {
   "cell_type": "code",
   "execution_count": 34,
   "metadata": {},
   "outputs": [],
   "source": [
    "import pickle\n",
    "q_table_dict = dict(q_table)  # Convert to regular dict\n",
    "q_table_dict_list = {k: v.tolist() for k, v in q_table_dict.items()}  # Convert numpy arrays to lists\n",
    "with open('q_table.pkl', 'wb') as f:\n",
    "    pickle.dump(q_table_dict_list, f)"
   ]
  },
  {
   "cell_type": "code",
   "execution_count": 35,
   "metadata": {},
   "outputs": [
    {
     "name": "stdout",
     "output_type": "stream",
     "text": [
      "912\n"
     ]
    }
   ],
   "source": [
    "print(len(q_table_dict.keys()))"
   ]
  },
  {
   "cell_type": "markdown",
   "metadata": {},
   "source": [
    "# Testing"
   ]
  },
  {
   "cell_type": "code",
   "execution_count": 36,
   "metadata": {},
   "outputs": [],
   "source": [
    "from tqdm import tqdm\n",
    "def Testing(env):\n",
    "    import pickle\n",
    "    from collections import defaultdict\n",
    "    with open('q_table.pkl', 'rb') as f:\n",
    "        print('load')\n",
    "        loaded_dict = pickle.load(f)\n",
    "    q_table = defaultdict(lambda: np.zeros(6), loaded_dict)  # Replace 0 with your default value\n",
    "    print(len(q_table))\n",
    "    #print('len of q_table',len(q_table.keys()))\n",
    "    global stations, candidates_p,candidates_goal, pickup, goal_id,last_action,last_record_action\n",
    "    stations = [[0,0] for _ in range(4)]\n",
    "    candidates_p = [i for i in stations]\n",
    "    candidates_goal = [i for i in stations]\n",
    "    goal_id = -1\n",
    "    pickup=False\n",
    "    action_size = 6\n",
    "    last_action = None\n",
    "    last_record_action = None\n",
    "    #q_table = defaultdict(lambda :np.zeros(action_size))\n",
    "    pickup_id = 4\n",
    "    drop_id = 5\n",
    "    ifpickup=False\n",
    "    p_loc = (0,0)\n",
    "    def cmp(a,b):\n",
    "        if a==b:\n",
    "            return 0\n",
    "        return 1 if a<b else -1\n",
    "            \n",
    "    def get_state_obs(obs,action,last_action=None):\n",
    "        global stations,pickup,candidates_p,candidates_goal\n",
    "        #print(candidates_p)\n",
    "        taxi_row, taxi_col, stations[0][0], stations[0][1] , stations[1][0], stations[1][1],stations[2][0],stations[2][1],stations[3][0],stations[3][1],obstacle_north, obstacle_south, obstacle_east, obstacle_west, passenger_look, destination_look = obs\n",
    "        agent_pos = (taxi_row,taxi_col)\n",
    "        if action==None:\n",
    "            # initialize\n",
    "            candidates_goal = [tuple(i) for i in stations]\n",
    "            candidates_p = [tuple(i) for i in stations]\n",
    "            pickup=False\n",
    "        if passenger_look:\n",
    "            #print('before p',candidates_p)\n",
    "            candidates_p = [ tuple(x) for x in candidates_p if abs(x[0]-agent_pos[0])+abs(x[1]-agent_pos[1]) <=1 ]\n",
    "            #print('after p',candidates_p)\n",
    "        else:\n",
    "            #print('before p',candidates_p)\n",
    "            candidates_p = [ tuple(x) for x in candidates_p if abs(x[0]-agent_pos[0])+abs(x[1]-agent_pos[1]) >1 ]\n",
    "            #print('after p',candidates_p)\n",
    "        if destination_look:\n",
    "            #print('before g',candidates_goal)\n",
    "            candidates_goal = [ tuple(x) for x in candidates_goal if abs(x[0]-agent_pos[0])+abs(x[1]-agent_pos[1]) <=1 ]\n",
    "            #print('after g',candidates_goal)\n",
    "        else:\n",
    "            #print('before g',candidates_goal)\n",
    "            candidates_goal = [ tuple(x) for x in candidates_goal if abs(x[0]-agent_pos[0])+abs(x[1]-agent_pos[1]) >1 ]\n",
    "            #print('after g',candidates_goal)\n",
    "        if action==pickup_id and not pickup and agent_pos in candidates_p:\n",
    "            pickup = True\n",
    "            candidates_p = []\n",
    "        elif action == drop_id and pickup:\n",
    "            pickup=False\n",
    "            candidates_p.append(agent_pos)\n",
    "        cmp_pos = (0,0)\n",
    "        if not pickup:\n",
    "            idx = np.argmin([abs(agent_pos[0]-i[0])+abs(agent_pos[1]-i[1]) for i in candidates_p])\n",
    "            cmp_pos = candidates_p[idx]\n",
    "        else:\n",
    "            idx = np.argmin([abs(agent_pos[0]-i[0])+abs(agent_pos[1]-i[1]) for i in candidates_goal])\n",
    "            cmp_pos = candidates_goal[idx]\n",
    "        passenger_look = passenger_look and agent_pos in candidates_p\n",
    "        destination_look = destination_look and agent_pos in candidates_goal\n",
    "        real_look = passenger_look if not pickup else destination_look\n",
    "        relative_pos = (cmp(agent_pos[0],cmp_pos[0]),cmp(agent_pos[1],cmp_pos[1]))\n",
    "        return (relative_pos,pickup, real_look, (obstacle_north,obstacle_south,obstacle_east,obstacle_west),last_action)\n",
    "\n",
    "    def get_action(obs):\n",
    "        # TODO: Train your own agent\n",
    "        # HINT: If you're using a Q-table, consider designing a custom key based on `obs` to store useful information.\n",
    "        # NOTE: Keep in mind that your Q-table may not cover all possible states in the testing environment.\n",
    "        #       To prevent crashes, implement a fallback strategy for missing keys.\n",
    "        #       Otherwise, even if your agent performs well in training, it may fail during testing.\n",
    "        global last_action,last_record_action\n",
    "        state = get_state_obs(obs,last_action,last_record_action)\n",
    "        action_name = ['Move North','Move South','Move East','Move West','Pick Up','Drop Off']\n",
    "        if state not in q_table.keys():\n",
    "            #print(state)\n",
    "            print(state)\n",
    "            assert(0)\n",
    "            action = np.random.randint(action_size)\n",
    "        else:\n",
    "            #print(state,action_name[np.argmax(q_table[state])])\n",
    "            action = np.argmax(q_table[state])\n",
    "        last_action = action\n",
    "        if action in [0,1,2,3]:\n",
    "            last_record_action = action\n",
    "        return action,state # Choose a random action\n",
    "        # You can submit this random agent to evaluate the performance of a purely random strategy.\n",
    "    Total_reward=0\n",
    "    for i in tqdm(range(100)):\n",
    "        with open('q_table.pkl', 'rb') as f:\n",
    "            #print('load')\n",
    "            loaded_dict = pickle.load(f)\n",
    "        q_table = defaultdict(lambda: np.zeros(6), loaded_dict)  # Replace 0 with your default value\n",
    "        grid_size = np.random.randint(5,11)\n",
    "        obstacle_size = np.random.randint(grid_size*grid_size)\n",
    "        obs,_ = env.reset()\n",
    "        obs,_,_ = obs\n",
    "        total_reward = 0\n",
    "        done = False\n",
    "        stations = [[0,0] for _ in range(4)]\n",
    "        candidates_p = [i for i in stations]\n",
    "        candidates_goal = [i for i in stations]\n",
    "        goal_id = -1\n",
    "        pickup=False\n",
    "        action_size = 6\n",
    "        pickup_id = 4\n",
    "        drop_id = 5\n",
    "        last_action = None\n",
    "        last_record_action = None\n",
    "        while not done:\n",
    "            action,state = get_action(obs)\n",
    "            obs,reward,done,_ = env.step(action)\n",
    "            obs,_,_ = obs\n",
    "            total_reward += reward\n",
    "            q_table[state][action] = q_table[state][action] + (reward+np.max(q_table[state])-q_table[state][action])\n",
    "        Total_reward+=total_reward\n",
    "        print(f'grid_size : {env.grid_size}, obstacle_size : {len(env.obstacles)}, total_reward : {total_reward}')\n",
    "        # save the q_table\n",
    "        \n",
    "    print(f'average : {Total_reward/100}')"
   ]
  },
  {
   "cell_type": "code",
   "execution_count": 37,
   "metadata": {},
   "outputs": [
    {
     "name": "stdout",
     "output_type": "stream",
     "text": [
      "load\n",
      "912\n"
     ]
    },
    {
     "name": "stderr",
     "output_type": "stream",
     "text": [
      "  7%|▋         | 7/100 [00:00<00:01, 64.59it/s]"
     ]
    },
    {
     "name": "stdout",
     "output_type": "stream",
     "text": [
      "grid_size : 5, obstacle_size : 2, total_reward : 48.3\n",
      "grid_size : 7, obstacle_size : 38, total_reward : 49.4\n",
      "grid_size : 8, obstacle_size : 43, total_reward : 45.5\n",
      "grid_size : 8, obstacle_size : 31, total_reward : 47.199999999999996\n",
      "grid_size : 7, obstacle_size : 25, total_reward : 47.099999999999994\n",
      "grid_size : 7, obstacle_size : 6, total_reward : 27.39999999999995\n",
      "grid_size : 5, obstacle_size : 15, total_reward : 48.4\n",
      "grid_size : 5, obstacle_size : 11, total_reward : 48.0\n",
      "grid_size : 10, obstacle_size : 79, total_reward : 49.0\n",
      "grid_size : 5, obstacle_size : 14, total_reward : 49.199999999999996\n",
      "grid_size : 9, obstacle_size : 49, total_reward : 47.699999999999996\n",
      "grid_size : 8, obstacle_size : 22, total_reward : 28.29999999999996\n"
     ]
    },
    {
     "name": "stderr",
     "output_type": "stream",
     "text": [
      " 14%|█▍        | 14/100 [00:00<00:02, 37.11it/s]"
     ]
    },
    {
     "name": "stdout",
     "output_type": "stream",
     "text": [
      "grid_size : 7, obstacle_size : 13, total_reward : 37.10000000000003\n",
      "grid_size : 9, obstacle_size : 19, total_reward : -82.69999999999789\n",
      "grid_size : 5, obstacle_size : 2, total_reward : 48.699999999999996\n",
      "grid_size : 10, obstacle_size : 79, total_reward : 46.3\n",
      "grid_size : 6, obstacle_size : 14, total_reward : 47.599999999999994\n"
     ]
    },
    {
     "name": "stderr",
     "output_type": "stream",
     "text": [
      " 19%|█▉        | 19/100 [00:00<00:03, 26.18it/s]"
     ]
    },
    {
     "name": "stdout",
     "output_type": "stream",
     "text": [
      "grid_size : 9, obstacle_size : 61, total_reward : 49.199999999999996\n",
      "grid_size : 8, obstacle_size : 20, total_reward : -1399.9999999999288\n",
      "grid_size : 5, obstacle_size : 15, total_reward : 47.599999999999994\n",
      "grid_size : 6, obstacle_size : 24, total_reward : 19.999999999999844\n",
      "grid_size : 9, obstacle_size : 33, total_reward : 46.699999999999996\n",
      "grid_size : 7, obstacle_size : 8, total_reward : 48.699999999999996\n",
      "grid_size : 7, obstacle_size : 0, total_reward : 48.6\n",
      "grid_size : 6, obstacle_size : 4, total_reward : 48.8\n",
      "grid_size : 6, obstacle_size : 27, total_reward : 49.5\n",
      "grid_size : 5, obstacle_size : 15, total_reward : 48.6\n"
     ]
    },
    {
     "name": "stderr",
     "output_type": "stream",
     "text": [
      " 28%|██▊       | 28/100 [00:00<00:02, 30.03it/s]"
     ]
    },
    {
     "name": "stdout",
     "output_type": "stream",
     "text": [
      "grid_size : 10, obstacle_size : 69, total_reward : 42.20000000000001\n"
     ]
    },
    {
     "name": "stderr",
     "output_type": "stream",
     "text": [
      " 33%|███▎      | 33/100 [00:01<00:02, 30.49it/s]"
     ]
    },
    {
     "name": "stdout",
     "output_type": "stream",
     "text": [
      "grid_size : 8, obstacle_size : 42, total_reward : 48.0\n",
      "grid_size : 5, obstacle_size : 14, total_reward : 48.5\n",
      "grid_size : 6, obstacle_size : 2, total_reward : 48.9\n",
      "grid_size : 5, obstacle_size : 14, total_reward : 48.1\n",
      "grid_size : 9, obstacle_size : 60, total_reward : 46.9\n",
      "grid_size : 7, obstacle_size : 11, total_reward : 45.0\n",
      "grid_size : 9, obstacle_size : 19, total_reward : 46.8\n",
      "grid_size : 5, obstacle_size : 15, total_reward : 48.9\n",
      "grid_size : 7, obstacle_size : 0, total_reward : 47.9\n",
      "grid_size : 8, obstacle_size : 15, total_reward : 46.699999999999996\n",
      "grid_size : 8, obstacle_size : 18, total_reward : 48.4\n",
      "grid_size : 10, obstacle_size : 23, total_reward : 45.1\n"
     ]
    },
    {
     "name": "stderr",
     "output_type": "stream",
     "text": [
      " 42%|████▏     | 42/100 [00:01<00:01, 41.55it/s]"
     ]
    },
    {
     "name": "stdout",
     "output_type": "stream",
     "text": [
      "grid_size : 8, obstacle_size : 16, total_reward : 47.5\n",
      "grid_size : 9, obstacle_size : 44, total_reward : -148.6999999999978\n"
     ]
    },
    {
     "name": "stderr",
     "output_type": "stream",
     "text": [
      " 47%|████▋     | 47/100 [00:01<00:01, 41.32it/s]"
     ]
    },
    {
     "name": "stdout",
     "output_type": "stream",
     "text": [
      "grid_size : 8, obstacle_size : 39, total_reward : -18.900000000000226\n",
      "grid_size : 6, obstacle_size : 21, total_reward : 48.8\n",
      "grid_size : 7, obstacle_size : 37, total_reward : 48.3\n",
      "grid_size : 7, obstacle_size : 22, total_reward : -166.09999999999428\n",
      "grid_size : 7, obstacle_size : 34, total_reward : 46.9\n",
      "grid_size : 10, obstacle_size : 35, total_reward : 11.99999999999973\n",
      "grid_size : 5, obstacle_size : 16, total_reward : 48.3\n",
      "grid_size : 10, obstacle_size : 1, total_reward : 46.199999999999996\n",
      "grid_size : 8, obstacle_size : 41, total_reward : 45.4\n",
      "grid_size : 6, obstacle_size : 3, total_reward : 49.0\n"
     ]
    },
    {
     "name": "stderr",
     "output_type": "stream",
     "text": [
      " 60%|██████    | 60/100 [00:01<00:00, 49.10it/s]"
     ]
    },
    {
     "name": "stdout",
     "output_type": "stream",
     "text": [
      "grid_size : 7, obstacle_size : 35, total_reward : 48.1\n",
      "grid_size : 6, obstacle_size : 13, total_reward : 47.0\n",
      "grid_size : 10, obstacle_size : 10, total_reward : 45.599999999999994\n",
      "grid_size : 7, obstacle_size : 10, total_reward : 48.5\n",
      "grid_size : 9, obstacle_size : 44, total_reward : -3.3000000000004874\n",
      "grid_size : 5, obstacle_size : 14, total_reward : 48.6\n",
      "grid_size : 7, obstacle_size : 20, total_reward : 32.99999999999999\n",
      "grid_size : 7, obstacle_size : 17, total_reward : -170.29999999999697\n",
      "grid_size : 5, obstacle_size : 15, total_reward : 48.8\n",
      "grid_size : 10, obstacle_size : 80, total_reward : 48.4"
     ]
    },
    {
     "name": "stderr",
     "output_type": "stream",
     "text": [
      " 66%|██████▌   | 66/100 [00:01<00:00, 34.56it/s]"
     ]
    },
    {
     "name": "stdout",
     "output_type": "stream",
     "text": [
      "\n",
      "grid_size : 10, obstacle_size : 78, total_reward : 46.0\n",
      "grid_size : 7, obstacle_size : 13, total_reward : 48.199999999999996\n",
      "grid_size : 10, obstacle_size : 30, total_reward : -24.200000000000124\n",
      "grid_size : 9, obstacle_size : 1, total_reward : 48.0\n",
      "grid_size : 9, obstacle_size : 38, total_reward : 39.10000000000002\n",
      "grid_size : 8, obstacle_size : 19, total_reward : 47.3\n",
      "grid_size : 9, obstacle_size : 62, total_reward : 46.9\n"
     ]
    },
    {
     "name": "stderr",
     "output_type": "stream",
     "text": [
      " 71%|███████   | 71/100 [00:02<00:01, 26.81it/s]"
     ]
    },
    {
     "name": "stdout",
     "output_type": "stream",
     "text": [
      "grid_size : 10, obstacle_size : 72, total_reward : 46.199999999999996\n",
      "grid_size : 10, obstacle_size : 12, total_reward : -17.80000000000043\n",
      "grid_size : 10, obstacle_size : 77, total_reward : 45.5\n",
      "grid_size : 6, obstacle_size : 22, total_reward : 46.699999999999996\n"
     ]
    },
    {
     "name": "stderr",
     "output_type": "stream",
     "text": [
      " 78%|███████▊  | 78/100 [00:02<00:00, 23.78it/s]"
     ]
    },
    {
     "name": "stdout",
     "output_type": "stream",
     "text": [
      "grid_size : 9, obstacle_size : 63, total_reward : 49.199999999999996\n",
      "grid_size : 6, obstacle_size : 1, total_reward : 48.699999999999996\n",
      "grid_size : 10, obstacle_size : 49, total_reward : -394.8000000000156\n",
      "grid_size : 5, obstacle_size : 16, total_reward : 48.5\n",
      "grid_size : 5, obstacle_size : 12, total_reward : 47.9\n",
      "grid_size : 5, obstacle_size : 4, total_reward : 19.599999999999838\n",
      "grid_size : 8, obstacle_size : 43, total_reward : 47.8\n",
      "grid_size : 6, obstacle_size : 16, total_reward : 46.699999999999996\n"
     ]
    },
    {
     "name": "stderr",
     "output_type": "stream",
     "text": [
      " 91%|█████████ | 91/100 [00:02<00:00, 32.87it/s]"
     ]
    },
    {
     "name": "stdout",
     "output_type": "stream",
     "text": [
      "grid_size : 10, obstacle_size : 72, total_reward : 48.4\n",
      "grid_size : 6, obstacle_size : 15, total_reward : -157.49999999999477\n",
      "grid_size : 6, obstacle_size : 24, total_reward : 48.5\n",
      "grid_size : 7, obstacle_size : 35, total_reward : 48.6\n",
      "grid_size : 5, obstacle_size : 14, total_reward : 49.199999999999996\n",
      "grid_size : 5, obstacle_size : 17, total_reward : 49.3\n",
      "grid_size : 7, obstacle_size : 10, total_reward : 48.1\n",
      "grid_size : 10, obstacle_size : 4, total_reward : 47.699999999999996\n",
      "grid_size : 7, obstacle_size : 26, total_reward : 46.5\n",
      "grid_size : 9, obstacle_size : 23, total_reward : 26.199999999999932\n",
      "grid_size : 8, obstacle_size : 23, total_reward : 48.0\n",
      "grid_size : 8, obstacle_size : 13, total_reward : 48.0\n",
      "grid_size : 10, obstacle_size : 4, total_reward : 47.4\n",
      "grid_size : 10, obstacle_size : 33, total_reward : 49.1\n",
      "grid_size : 8, obstacle_size : 17, total_reward : 49.3\n"
     ]
    },
    {
     "name": "stderr",
     "output_type": "stream",
     "text": [
      "100%|██████████| 100/100 [00:03<00:00, 33.12it/s]"
     ]
    },
    {
     "name": "stdout",
     "output_type": "stream",
     "text": [
      "grid_size : 9, obstacle_size : 59, total_reward : 46.5\n",
      "grid_size : 7, obstacle_size : 21, total_reward : -138.29999999999814\n",
      "grid_size : 8, obstacle_size : 12, total_reward : 48.5\n",
      "grid_size : 8, obstacle_size : 10, total_reward : 39.70000000000002\n",
      "average : 12.834000000000742\n"
     ]
    },
    {
     "name": "stderr",
     "output_type": "stream",
     "text": [
      "\n"
     ]
    }
   ],
   "source": [
    "env = SimpleTaxiEnv()\n",
    "Testing(env)"
   ]
  }
 ],
 "metadata": {
  "kernelspec": {
   "display_name": "base",
   "language": "python",
   "name": "python3"
  },
  "language_info": {
   "codemirror_mode": {
    "name": "ipython",
    "version": 3
   },
   "file_extension": ".py",
   "mimetype": "text/x-python",
   "name": "python",
   "nbconvert_exporter": "python",
   "pygments_lexer": "ipython3",
   "version": "3.9.13"
  }
 },
 "nbformat": 4,
 "nbformat_minor": 2
}
