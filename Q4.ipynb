{
 "cells": [
  {
   "cell_type": "markdown",
   "metadata": {},
   "source": [
    "# Assignment1 Q4 Specification: Reinforcement Learning - Taxi Environment"
   ]
  },
  {
   "cell_type": "code",
   "execution_count": 1,
   "metadata": {},
   "outputs": [
    {
     "name": "stdout",
     "output_type": "stream",
     "text": [
      "Requirement already satisfied: gym in c:\\users\\user\\anaconda3\\lib\\site-packages (0.26.2)\n",
      "Requirement already satisfied: importlib_metadata>=4.8.0 in c:\\users\\user\\anaconda3\\lib\\site-packages (from gym) (4.11.3)\n",
      "Requirement already satisfied: cloudpickle>=1.2.0 in c:\\users\\user\\anaconda3\\lib\\site-packages (from gym) (2.0.0)\n",
      "Requirement already satisfied: gym_notices>=0.0.4 in c:\\users\\user\\anaconda3\\lib\\site-packages (from gym) (0.0.8)\n",
      "Requirement already satisfied: numpy>=1.18.0 in c:\\users\\user\\anaconda3\\lib\\site-packages (from gym) (1.24.0)\n",
      "Requirement already satisfied: zipp>=0.5 in c:\\users\\user\\anaconda3\\lib\\site-packages (from importlib_metadata>=4.8.0->gym) (3.8.0)\n",
      "Requirement already satisfied: numpy==1.24.0 in c:\\users\\user\\anaconda3\\lib\\site-packages (1.24.0)\n",
      "Requirement already satisfied: tqdm in c:\\users\\user\\anaconda3\\lib\\site-packages (4.64.1)\n",
      "Requirement already satisfied: colorama in c:\\users\\user\\anaconda3\\lib\\site-packages (from tqdm) (0.4.5)\n"
     ]
    }
   ],
   "source": [
    "!python -m pip install gym\n",
    "!python -m pip install numpy==1.24.0\n",
    "!python -m pip install tqdm"
   ]
  },
  {
   "cell_type": "code",
   "execution_count": 2,
   "metadata": {},
   "outputs": [],
   "source": [
    "import gym\n",
    "import numpy as np\n",
    "import importlib.util\n",
    "import time\n",
    "from IPython.display import clear_output\n",
    "import random"
   ]
  },
  {
   "cell_type": "code",
   "execution_count": 3,
   "metadata": {},
   "outputs": [],
   "source": [
    "np.random.seed(42)"
   ]
  },
  {
   "cell_type": "code",
   "execution_count": 4,
   "metadata": {},
   "outputs": [],
   "source": [
    "class SimpleTaxiEnv(gym.Env):\n",
    "    def __init__(self, grid_size=10, fuel_limit=5000):\n",
    "        \"\"\"\n",
    "        Custom Taxi environment supporting different grid sizes.\n",
    "        \"\"\"\n",
    "        self.grid_size = grid_size\n",
    "        self.fuel_limit = fuel_limit\n",
    "        self.current_fuel = fuel_limit\n",
    "        self.passenger_picked_up = False\n",
    "\n",
    "        self.stations = [(0, 0), (0, self.grid_size - 1), (self.grid_size - 1, 0), (self.grid_size - 1, self.grid_size - 1)]\n",
    "        self.passenger_loc = None\n",
    "\n",
    "        self.obstacles = set()  # No obstacles in simple version\n",
    "        self.destination = None\n",
    "    def legal(self):\n",
    "      available_positions = [\n",
    "            (x, y) for x in range(self.grid_size) for y in range(self.grid_size)\n",
    "            if (x, y) not in self.obstacles\n",
    "      ]\n",
    "      n=len(available_positions)\n",
    "      p = [0 for i in range(n)]\n",
    "      global group_size\n",
    "      group_size = n\n",
    "      def find_parent(x):\n",
    "        if x!=p[x]:\n",
    "          p[x]=find_parent(p[x])\n",
    "        return p[x]\n",
    "      def Union(a,b):\n",
    "        global group_size\n",
    "        a=find_parent(a)\n",
    "        b=find_parent(b)\n",
    "        if a!=b:\n",
    "          group_size -= 1\n",
    "          if np.random.randint(2)==0:\n",
    "            p[a]=b\n",
    "          else:\n",
    "            p[b]=a\n",
    "      for i in range(n):\n",
    "        p[i]=i\n",
    "      for i in range(n):\n",
    "        for j in range(i+1,n):\n",
    "          if abs(available_positions[i][0]-available_positions[j][0])+abs(available_positions[i][1]-available_positions[j][1])==1:\n",
    "            Union(i,j)\n",
    "      return group_size==1\n",
    "    def reset(self,grid_size=None,obstacle_len=None):\n",
    "        \"\"\"Reset the environment, ensuring Taxi, passenger, and destination are not overlapping obstacles\"\"\"\n",
    "        self.current_fuel = self.fuel_limit\n",
    "        self.passenger_picked_up = False\n",
    "        if grid_size == None:\n",
    "            grid_size = np.random.randint(5,11)\n",
    "        self.grid_size = grid_size\n",
    "        self.stations = []\n",
    "        if obstacle_len == None:\n",
    "            obstacle_len = np.random.randint(0,grid_size*grid_size)\n",
    "        while len(self.stations)<4:\n",
    "            posx,posy = np.random.randint(0,self.grid_size),np.random.randint(0,self.grid_size)\n",
    "            # check posx,posy is not adjacent to existed stations\n",
    "            if not any([abs(posx-station[0])+abs(posy-station[1])<=1 for station in self.stations]):\n",
    "                self.stations.append((posx,posy))\n",
    "        #self.stations = [(0, 0), (0, self.grid_size - 1), (self.grid_size - 1, 0), (self.grid_size - 1, self.grid_size - 1)]\n",
    "        self.obstacles = set()\n",
    "        cnt = 0\n",
    "        while len(self.obstacles)<obstacle_len and cnt < self.grid_size*self.grid_size*10:\n",
    "            posx,posy = np.random.randint(0,self.grid_size),np.random.randint(0,self.grid_size)\n",
    "            if (posx,posy) not in self.stations and (posx,posy) not in self.obstacles:\n",
    "                self.obstacles.add((posx,posy))\n",
    "            if not self.legal():\n",
    "                self.obstacles.remove((posx,posy))\n",
    "            cnt = cnt +1\n",
    "        available_positions = [\n",
    "            (x, y) for x in range(self.grid_size) for y in range(self.grid_size)\n",
    "            if (x, y) not in self.stations and (x, y) not in self.obstacles\n",
    "        ]\n",
    "\n",
    "        self.taxi_pos = random.choice(available_positions)\n",
    "\n",
    "        self.passenger_loc = random.choice([pos for pos in self.stations])\n",
    "\n",
    "\n",
    "        possible_destinations = [s for s in self.stations if s != self.passenger_loc]\n",
    "        self.destination = random.choice(possible_destinations)\n",
    "        #print(f'grid size : {self.grid_size}, obstacles : {len(self.obstacles)}, ')\n",
    "        #self.render_env(self.taxi_pos)\n",
    "        return self.get_state(), {}\n",
    "\n",
    "    def step(self, action):\n",
    "        \"\"\"Perform an action and update the environment state.\"\"\"\n",
    "        taxi_row, taxi_col = self.taxi_pos\n",
    "        next_row, next_col = taxi_row, taxi_col\n",
    "        reward = 0\n",
    "        if action == 0 :  # Move Down\n",
    "            next_row += 1\n",
    "        elif action == 1:  # Move Up\n",
    "            next_row -= 1\n",
    "        elif action == 2:  # Move Right\n",
    "            next_col += 1\n",
    "        elif action == 3:  # Move Left\n",
    "            next_col -= 1\n",
    "\n",
    "\n",
    "        if action in [0, 1, 2, 3]:  # Only movement actions should be checked\n",
    "            if (next_row, next_col) in self.obstacles or not (0 <= next_row < self.grid_size and 0 <= next_col < self.grid_size):\n",
    "                reward -=10\n",
    "                #print('block')\n",
    "            else:\n",
    "                self.taxi_pos = (next_row, next_col)\n",
    "                if self.passenger_picked_up:\n",
    "                    self.passenger_loc = self.taxi_pos\n",
    "        else:\n",
    "            if action == 4:  # PICKUP\n",
    "                if self.taxi_pos == self.passenger_loc:\n",
    "                    self.passenger_picked_up = True\n",
    "                    self.passenger_loc = self.taxi_pos\n",
    "                else:\n",
    "                    reward = -10\n",
    "            elif action == 5:  # DROPOFF\n",
    "                if self.passenger_picked_up:\n",
    "                    self.passenger_picked_up = False\n",
    "                    self.passenger_loc = self.taxi_pos\n",
    "                    if self.taxi_pos == self.destination:\n",
    "                        reward += 50\n",
    "                        return self.get_state(), reward -0.1, True, {}\n",
    "                    else:\n",
    "                        reward -=10\n",
    "                else:\n",
    "                    reward -=10\n",
    "\n",
    "        reward -= 0.1\n",
    "\n",
    "        self.current_fuel -= 1\n",
    "        if self.current_fuel <= 0:\n",
    "            return self.get_state(), reward -10, True, {}\n",
    "\n",
    "\n",
    "\n",
    "        return self.get_state(), reward, False, {}\n",
    "\n",
    "    def get_state(self):\n",
    "        \"\"\"Return the current environment state.\"\"\"\n",
    "        taxi_row, taxi_col = self.taxi_pos\n",
    "        passenger_row, passenger_col = self.passenger_loc\n",
    "        destination_row, destination_col = self.destination\n",
    "\n",
    "        obstacle_north = int(taxi_row == 0 or (taxi_row-1, taxi_col) in self.obstacles)\n",
    "        obstacle_south = int(taxi_row == self.grid_size - 1 or (taxi_row+1, taxi_col) in self.obstacles)\n",
    "        obstacle_east  = int(taxi_col == self.grid_size - 1 or (taxi_row, taxi_col+1) in self.obstacles)\n",
    "        obstacle_west  = int(taxi_col == 0 or (taxi_row , taxi_col-1) in self.obstacles)\n",
    "\n",
    "        passenger_loc_north = int((taxi_row - 1, taxi_col) == self.passenger_loc)\n",
    "        passenger_loc_south = int((taxi_row + 1, taxi_col) == self.passenger_loc)\n",
    "        passenger_loc_east  = int((taxi_row, taxi_col + 1) == self.passenger_loc)\n",
    "        passenger_loc_west  = int((taxi_row, taxi_col - 1) == self.passenger_loc)\n",
    "        passenger_loc_middle  = int( (taxi_row, taxi_col) == self.passenger_loc)\n",
    "        passenger_look = passenger_loc_north or passenger_loc_south or passenger_loc_east or passenger_loc_west or passenger_loc_middle\n",
    "\n",
    "        destination_loc_north = int( (taxi_row - 1, taxi_col) == self.destination)\n",
    "        destination_loc_south = int( (taxi_row + 1, taxi_col) == self.destination)\n",
    "        destination_loc_east  = int( (taxi_row, taxi_col + 1) == self.destination)\n",
    "        destination_loc_west  = int( (taxi_row, taxi_col - 1) == self.destination)\n",
    "        destination_loc_middle  = int( (taxi_row, taxi_col) == self.destination)\n",
    "        destination_look = destination_loc_north or destination_loc_south or destination_loc_east or destination_loc_west or destination_loc_middle\n",
    "\n",
    "\n",
    "        state = (taxi_row, taxi_col, self.stations[0][0],self.stations[0][1] ,self.stations[1][0],self.stations[1][1],self.stations[2][0],self.stations[2][1],self.stations[3][0],self.stations[3][1],obstacle_north, obstacle_south, obstacle_east, obstacle_west, passenger_look, destination_look)\n",
    "        return state,self.passenger_picked_up,self.passenger_loc\n",
    "    def render_env(self, taxi_pos,   action=None, step=None, fuel=None):\n",
    "        clear_output(wait=True)\n",
    "\n",
    "        grid = [['.'] * self.grid_size for _ in range(self.grid_size)]\n",
    "\n",
    "        '''\n",
    "        # Place passenger\n",
    "        py, px = passenger_pos\n",
    "        if 0 <= px < self.grid_size and 0 <= py < self.grid_size:\n",
    "            grid[py][px] = 'P'\n",
    "        '''\n",
    "        stations_char =['R','G','B','Y']\n",
    "        for i in range(len(self.stations)):\n",
    "            sx,sy = self.stations[i]\n",
    "            grid[sy][sx] = stations_char[i]\n",
    "        for ox,oy in self.obstacles:\n",
    "            grid[oy][ox] = '#'\n",
    "\n",
    "        '''\n",
    "        # Place destination\n",
    "        dy, dx = destination_pos\n",
    "        if 0 <= dx < self.grid_size and 0 <= dy < self.grid_size:\n",
    "            grid[dy][dx] = 'D'\n",
    "        '''\n",
    "        # Place taxi\n",
    "        ty, tx = taxi_pos\n",
    "        if 0 <= tx < self.grid_size and 0 <= ty < self.grid_size:\n",
    "            grid[ty][tx] = '🚖'\n",
    "\n",
    "        # Print step info\n",
    "        print(f\"\\nStep: {step}\")\n",
    "        print(f\"Taxi Position: ({tx}, {ty})\")\n",
    "        #print(f\"Passenger Position: ({px}, {py}) {'(In Taxi)' if (px, py) == (tx, ty) else ''}\")\n",
    "        #print(f\"Destination: ({dx}, {dy})\")\n",
    "        print(f\"Fuel Left: {fuel}\")\n",
    "        print(f\"Last Action: {self.get_action_name(action)}\\n\")\n",
    "\n",
    "        # Print grid\n",
    "        for row in grid:\n",
    "            print(\" \".join(row))\n",
    "        print(\"\\n\")\n",
    "\n",
    "    def get_action_name(self, action):\n",
    "        \"\"\"Returns a human-readable action name.\"\"\"\n",
    "        actions = [\"Move South\", \"Move North\", \"Move East\", \"Move West\", \"Pick Up\", \"Drop Off\"]\n",
    "        return actions[action] if action is not None else \"None\""
   ]
  },
  {
   "cell_type": "code",
   "execution_count": 5,
   "metadata": {},
   "outputs": [],
   "source": [
    "from re import M\n",
    "from collections import defaultdict\n",
    "from tqdm import tqdm\n",
    "def tabular_q_learning(env,episodes=7000, alpha=0.1, gamma=0.99,\n",
    "                       epsilon_start=1.0, epsilon_end=0.1, decay_rate=0.9995):\n",
    "\n",
    "    global stations, candidates_p,candidates_goal, pickup\n",
    "    stations = [[0,0] for _ in range(4)]\n",
    "    candidates_p = [i for i in stations]\n",
    "    candidates_goal = [i for i in stations]\n",
    "    pickup=False\n",
    "    action_size = 6\n",
    "    q_table = defaultdict(lambda :np.zeros(action_size))\n",
    "    pickup_id = 4\n",
    "    drop_id = 5\n",
    "    ifpickup=False\n",
    "    p_loc = (0,0)\n",
    "    def cmp(a,b):\n",
    "        if a==b:\n",
    "            return 0\n",
    "        return 1 if a<b else -1\n",
    "    def get_state_obs(obs,action,last_action=None):\n",
    "        global stations,pickup,candidates_p,candidates_goal\n",
    "        #print(candidates_p)\n",
    "        taxi_row, taxi_col, stations[0][0], stations[0][1] , stations[1][0], stations[1][1],stations[2][0],stations[2][1],stations[3][0],stations[3][1],obstacle_north, obstacle_south, obstacle_east, obstacle_west, passenger_look, destination_look = obs\n",
    "        agent_pos = (taxi_row,taxi_col)\n",
    "        if action==None:\n",
    "            # initialize\n",
    "            candidates_goal = [tuple(i) for i in stations]\n",
    "            candidates_p = [tuple(i) for i in stations]\n",
    "            pickup=False\n",
    "        if passenger_look:\n",
    "            #print('before p',candidates_p)\n",
    "            candidates_p = [ tuple(x) for x in candidates_p if abs(x[0]-agent_pos[0])+abs(x[1]-agent_pos[1]) <=1 ]\n",
    "            #print('after p',candidates_p)\n",
    "        else:\n",
    "            #print('before p',candidates_p)\n",
    "            candidates_p = [ tuple(x) for x in candidates_p if abs(x[0]-agent_pos[0])+abs(x[1]-agent_pos[1]) >1 ]\n",
    "            #print('after p',candidates_p)\n",
    "        if destination_look:\n",
    "            #print('before g',candidates_goal)\n",
    "            candidates_goal = [ tuple(x) for x in candidates_goal if abs(x[0]-agent_pos[0])+abs(x[1]-agent_pos[1]) <=1 ]\n",
    "            #print('after g',candidates_goal)\n",
    "        else:\n",
    "            #print('before g',candidates_goal)\n",
    "            candidates_goal = [ tuple(x) for x in candidates_goal if abs(x[0]-agent_pos[0])+abs(x[1]-agent_pos[1]) >1 ]\n",
    "            #print('after g',candidates_goal)\n",
    "        if action==pickup_id and not pickup and agent_pos in candidates_p:\n",
    "            pickup = True\n",
    "            candidates_p = []\n",
    "        elif action == drop_id and pickup:\n",
    "            pickup=False\n",
    "            candidates_p.append(agent_pos)\n",
    "        cmp_pos = (0,0)\n",
    "        if not pickup:\n",
    "            # choose the one that is closest to the agent\n",
    "            idx = 0 #np.argmin([abs(agent_pos[0]-i[0])+abs(agent_pos[1]-i[1]) for i in candidates_p])\n",
    "            cmp_pos = candidates_p[idx]\n",
    "        else:\n",
    "            # choose the one that is closest to the agent\n",
    "            idx = 0 #np.argmin([abs(agent_pos[0]-i[0])+abs(agent_pos[1]-i[1]) for i in candidates_goal])\n",
    "            cmp_pos = candidates_goal[idx]\n",
    "        passenger_look = passenger_look and agent_pos in candidates_p\n",
    "        destination_look = destination_look and agent_pos in candidates_goal\n",
    "        real_look = passenger_look if not pickup else destination_look\n",
    "        relative_pos = (cmp(agent_pos[0],cmp_pos[0]),cmp(agent_pos[1],cmp_pos[1]))\n",
    "        return (relative_pos,pickup, real_look, (obstacle_north,obstacle_south,obstacle_east,obstacle_west),last_action)\n",
    "    \"\"\"\n",
    "    if action == 0 :  # Move Down\n",
    "        next_row += 1\n",
    "    elif action == 1:  # Move Up\n",
    "        next_row -= 1\n",
    "    elif action == 2:  # Move Right\n",
    "        next_col += 1\n",
    "    elif action == 3:  # Move Left\n",
    "        next_col -= 1\n",
    "    \"\"\"\n",
    "    station_size = 4\n",
    "    total_reward = 0\n",
    "    total_reward_shaped = 0\n",
    "    cnt = [0,0,0,0]\n",
    "    epsilon = epsilon_start\n",
    "    averaged = [0,0]\n",
    "    batch_size = 100\n",
    "    for epoch in tqdm(range(episodes+batch_size)):\n",
    "        if epoch >=episodes:\n",
    "            epsilon = 0\n",
    "        grid_size = 5 #np.random.randint(5,11)\n",
    "        obstacle_size = np.random.randint(grid_size*grid_size)\n",
    "        obs,_ = env.reset(grid_size,obstacle_size)\n",
    "        averaged[0]+=env.grid_size\n",
    "        averaged[1]+=len(env.obstacles)\n",
    "        obs,ifpickup,p_loc = obs\n",
    "        done = False\n",
    "        state = get_state_obs(obs,action=None)\n",
    "        steps=0\n",
    "        action_l=[]\n",
    "        success = False\n",
    "        has_pickup=False\n",
    "\n",
    "        while not done:\n",
    "            \"\"\"if state[-1]!=(0,0,0,0):\n",
    "              print(state[-1])\"\"\"\n",
    "            if np.random.choice(2,p=[epsilon,1-epsilon])==0 or state not in q_table.keys():\n",
    "                action = np.random.randint(6)\n",
    "            else:\n",
    "                action = np.argmax(q_table[state])\n",
    "            lst_pickup = pickup\n",
    "            \n",
    "            relative_pos,pickup, _ , _,last_action = state\n",
    "            obs,reward,done,_ = env.step(action)\n",
    "            obs,ifpickup,p_loc = obs\n",
    "            if action in [0,1,2,3]:\n",
    "                next_state = get_state_obs(obs,action,action)\n",
    "            else:\n",
    "                next_state = get_state_obs(obs,action,last_action)\n",
    "            total_reward += reward\n",
    "\n",
    "            ### reward shaping\n",
    "            reward_shaping = 0\n",
    "            \"\"\"if relative_pos == (0,0):\n",
    "                # want it to go to possible goal\n",
    "                #reward_shaping += 0.5\"\"\"\n",
    "            if relative_pos != (0,0) and action in [pickup_id,drop_id]:\n",
    "                reward_shaping -= 10\n",
    "            if done and reward>0:\n",
    "                cnt[2]+=1\n",
    "            \n",
    "            relative_pos,pickup, _ , _,_ = next_state\n",
    "            if not done and reward <-10 and action in [0,1,2,3]:\n",
    "                #print('hit wall')\n",
    "                cnt[-1]+=1\n",
    "            \"\"\"if not pickup:\n",
    "                reward_shaping -= p_len\n",
    "            reward_shaping -= 0.1 * goal_len\"\"\"\n",
    "            reward += reward_shaping\n",
    "            total_reward_shaped += reward\n",
    "            if epsilon:\n",
    "                q_table[state][action] = q_table[state][action] + alpha*(reward+gamma*np.max(q_table[next_state])-q_table[state][action])\n",
    "            state = next_state\n",
    "            if lst_pickup==False and pickup:\n",
    "                cnt[0]+=1\n",
    "            elif lst_pickup==True and pickup==False:\n",
    "                cnt[1]+=1\n",
    "            if pickup!=ifpickup:\n",
    "                print(pickup,ifpickup)\n",
    "            assert(pickup==ifpickup)\n",
    "\n",
    "\n",
    "        if (epoch+1)%batch_size==0:\n",
    "            cnt = [i/batch_size for i in cnt]\n",
    "            print(f'Epsilon : {epsilon}, average reward : {total_reward/batch_size:.4f}, averaged shaped reward : {total_reward_shaped/batch_size:.4f} Pickup, Drop, Success, Hit wall rate : {cnt}')\n",
    "            print(f'averaged grid size : {averaged[0]/batch_size:.2f}, averaged obstacles : {averaged[1]/batch_size:.2f}')\n",
    "            averaged = [0,0]\n",
    "            cnt = [0,0,0,0]\n",
    "            total_reward = 0\n",
    "            total_reward_shaped = 0\n",
    "        epsilon *= decay_rate #max(epsilon*decay_rate ,epsilon_end)\n",
    "    return q_table"
   ]
  },
  {
   "cell_type": "code",
   "execution_count": 6,
   "metadata": {},
   "outputs": [
    {
     "name": "stderr",
     "output_type": "stream",
     "text": [
      "  2%|▏         | 108/7100 [00:03<02:49, 41.14it/s]"
     ]
    },
    {
     "name": "stdout",
     "output_type": "stream",
     "text": [
      "Epsilon : 0.9516933769307994, average reward : -10138.5050, averaged shaped reward : -15255.8050 Pickup, Drop, Success, Hit wall rate : [23.87, 23.87, 0.88, 490.13]\n",
      "averaged grid size : 5.00, averaged obstacles : 10.14\n"
     ]
    },
    {
     "name": "stderr",
     "output_type": "stream",
     "text": [
      "  3%|▎         | 208/7100 [00:04<01:28, 78.28it/s]"
     ]
    },
    {
     "name": "stdout",
     "output_type": "stream",
     "text": [
      "Epsilon : 0.9052674235521029, average reward : -3898.0140, averaged shaped reward : -5883.5140 Pickup, Drop, Success, Hit wall rate : [18.69, 18.69, 1.0, 193.53]\n",
      "averaged grid size : 5.00, averaged obstacles : 10.34\n"
     ]
    },
    {
     "name": "stderr",
     "output_type": "stream",
     "text": [
      "  4%|▍         | 319/7100 [00:06<01:17, 87.76it/s]"
     ]
    },
    {
     "name": "stdout",
     "output_type": "stream",
     "text": [
      "Epsilon : 0.8611062428400729, average reward : -2441.6760, averaged shaped reward : -3639.7760 Pickup, Drop, Success, Hit wall rate : [13.27, 13.27, 1.0, 129.25]\n",
      "averaged grid size : 5.00, averaged obstacles : 10.38\n"
     ]
    },
    {
     "name": "stderr",
     "output_type": "stream",
     "text": [
      "  6%|▌         | 420/7100 [00:06<01:00, 110.98it/s]"
     ]
    },
    {
     "name": "stdout",
     "output_type": "stream",
     "text": [
      "Epsilon : 0.8190993535905904, average reward : -1305.1120, averaged shaped reward : -1982.3120 Pickup, Drop, Success, Hit wall rate : [10.9, 10.9, 1.0, 69.0]\n",
      "averaged grid size : 5.00, averaged obstacles : 8.83\n"
     ]
    },
    {
     "name": "stderr",
     "output_type": "stream",
     "text": [
      "  7%|▋         | 513/7100 [00:07<00:55, 119.13it/s]"
     ]
    },
    {
     "name": "stdout",
     "output_type": "stream",
     "text": [
      "Epsilon : 0.7791416641455342, average reward : -1075.6380, averaged shaped reward : -1611.9380 Pickup, Drop, Success, Hit wall rate : [9.88, 9.88, 1.0, 60.31]\n",
      "averaged grid size : 5.00, averaged obstacles : 11.04\n"
     ]
    },
    {
     "name": "stderr",
     "output_type": "stream",
     "text": [
      "  9%|▉         | 626/7100 [00:08<00:41, 155.97it/s]"
     ]
    },
    {
     "name": "stdout",
     "output_type": "stream",
     "text": [
      "Epsilon : 0.7411332094774175, average reward : -868.8410, averaged shaped reward : -1293.3410 Pickup, Drop, Success, Hit wall rate : [6.19, 6.19, 1.0, 49.75]\n",
      "averaged grid size : 5.00, averaged obstacles : 10.53\n"
     ]
    },
    {
     "name": "stderr",
     "output_type": "stream",
     "text": [
      " 10%|█         | 726/7100 [00:09<00:42, 150.16it/s]"
     ]
    },
    {
     "name": "stdout",
     "output_type": "stream",
     "text": [
      "Epsilon : 0.7049789010996835, average reward : -674.3980, averaged shaped reward : -1018.6980 Pickup, Drop, Success, Hit wall rate : [8.96, 8.96, 1.0, 40.52]\n",
      "averaged grid size : 5.00, averaged obstacles : 10.56\n"
     ]
    },
    {
     "name": "stderr",
     "output_type": "stream",
     "text": [
      " 12%|█▏        | 823/7100 [00:09<00:39, 158.01it/s]"
     ]
    },
    {
     "name": "stdout",
     "output_type": "stream",
     "text": [
      "Epsilon : 0.6705882891769959, average reward : -656.9150, averaged shaped reward : -1016.8150 Pickup, Drop, Success, Hit wall rate : [6.42, 6.42, 1.0, 36.55]\n",
      "averaged grid size : 5.00, averaged obstacles : 9.63\n"
     ]
    },
    {
     "name": "stderr",
     "output_type": "stream",
     "text": [
      " 13%|█▎        | 905/7100 [00:10<00:39, 155.69it/s]"
     ]
    },
    {
     "name": "stdout",
     "output_type": "stream",
     "text": [
      "Epsilon : 0.6378753362403742, average reward : -550.4900, averaged shaped reward : -841.0900 Pickup, Drop, Success, Hit wall rate : [8.85, 8.85, 0.99, 33.83]\n",
      "averaged grid size : 5.00, averaged obstacles : 10.05\n"
     ]
    },
    {
     "name": "stderr",
     "output_type": "stream",
     "text": [
      " 14%|█▍        | 1026/7100 [00:11<00:41, 144.99it/s]"
     ]
    },
    {
     "name": "stdout",
     "output_type": "stream",
     "text": [
      "Epsilon : 0.6067582019410674, average reward : -872.5250, averaged shaped reward : -1299.0250 Pickup, Drop, Success, Hit wall rate : [10.81, 10.8, 0.99, 52.47]\n",
      "averaged grid size : 5.00, averaged obstacles : 10.08\n"
     ]
    },
    {
     "name": "stderr",
     "output_type": "stream",
     "text": [
      " 16%|█▌        | 1125/7100 [00:11<00:34, 175.73it/s]"
     ]
    },
    {
     "name": "stdout",
     "output_type": "stream",
     "text": [
      "Epsilon : 0.5771590383046616, average reward : -420.3860, averaged shaped reward : -651.8860 Pickup, Drop, Success, Hit wall rate : [7.33, 7.33, 1.0, 27.3]\n",
      "averaged grid size : 5.00, averaged obstacles : 10.32\n"
     ]
    },
    {
     "name": "stderr",
     "output_type": "stream",
     "text": [
      " 17%|█▋        | 1227/7100 [00:12<00:35, 166.92it/s]"
     ]
    },
    {
     "name": "stdout",
     "output_type": "stream",
     "text": [
      "Epsilon : 0.5490037949732016, average reward : -203.8030, averaged shaped reward : -330.0030 Pickup, Drop, Success, Hit wall rate : [3.49, 3.49, 1.0, 13.84]\n",
      "averaged grid size : 5.00, averaged obstacles : 10.67\n"
     ]
    },
    {
     "name": "stderr",
     "output_type": "stream",
     "text": [
      " 19%|█▊        | 1318/7100 [00:13<00:40, 142.88it/s]"
     ]
    },
    {
     "name": "stdout",
     "output_type": "stream",
     "text": [
      "Epsilon : 0.5222220339480774, average reward : -503.3540, averaged shaped reward : -787.1540 Pickup, Drop, Success, Hit wall rate : [6.05, 6.05, 1.0, 28.53]\n",
      "averaged grid size : 5.00, averaged obstacles : 10.09\n"
     ]
    },
    {
     "name": "stderr",
     "output_type": "stream",
     "text": [
      " 20%|██        | 1428/7100 [00:13<00:34, 165.74it/s]"
     ]
    },
    {
     "name": "stdout",
     "output_type": "stream",
     "text": [
      "Epsilon : 0.49674675337021873, average reward : -502.4700, averaged shaped reward : -774.2700 Pickup, Drop, Success, Hit wall rate : [6.1, 6.1, 1.0, 30.14]\n",
      "averaged grid size : 5.00, averaged obstacles : 10.58\n"
     ]
    },
    {
     "name": "stderr",
     "output_type": "stream",
     "text": [
      " 22%|██▏       | 1538/7100 [00:14<00:34, 162.75it/s]"
     ]
    },
    {
     "name": "stdout",
     "output_type": "stream",
     "text": [
      "Epsilon : 0.47251421989671744, average reward : -393.4510, averaged shaped reward : -640.0510 Pickup, Drop, Success, Hit wall rate : [7.5, 7.49, 0.99, 23.23]\n",
      "averaged grid size : 5.00, averaged obstacles : 10.16\n"
     ]
    },
    {
     "name": "stderr",
     "output_type": "stream",
     "text": [
      " 23%|██▎       | 1634/7100 [00:15<00:30, 180.12it/s]"
     ]
    },
    {
     "name": "stdout",
     "output_type": "stream",
     "text": [
      "Epsilon : 0.44946380925453877, average reward : -372.3120, averaged shaped reward : -610.5120 Pickup, Drop, Success, Hit wall rate : [8.03, 8.03, 1.0, 22.87]\n",
      "averaged grid size : 5.00, averaged obstacles : 9.34\n"
     ]
    },
    {
     "name": "stderr",
     "output_type": "stream",
     "text": [
      " 24%|██▍       | 1714/7100 [00:15<00:31, 170.08it/s]"
     ]
    },
    {
     "name": "stdout",
     "output_type": "stream",
     "text": [
      "Epsilon : 0.4275378545724137, average reward : -193.4950, averaged shaped reward : -323.2950 Pickup, Drop, Success, Hit wall rate : [4.81, 4.81, 1.0, 13.74]\n",
      "averaged grid size : 5.00, averaged obstacles : 9.98\n"
     ]
    },
    {
     "name": "stderr",
     "output_type": "stream",
     "text": [
      " 26%|██▌       | 1823/7100 [00:16<00:33, 158.89it/s]"
     ]
    },
    {
     "name": "stdout",
     "output_type": "stream",
     "text": [
      "Epsilon : 0.4066815021114777, average reward : -357.4400, averaged shaped reward : -610.2400 Pickup, Drop, Success, Hit wall rate : [10.1, 10.1, 1.0, 21.57]\n",
      "averaged grid size : 5.00, averaged obstacles : 10.96\n"
     ]
    },
    {
     "name": "stderr",
     "output_type": "stream",
     "text": [
      " 27%|██▋       | 1900/7100 [00:16<00:24, 214.29it/s]"
     ]
    },
    {
     "name": "stdout",
     "output_type": "stream",
     "text": [
      "Epsilon : 0.38684257403372235, average reward : -103.8060, averaged shaped reward : -189.6060 Pickup, Drop, Success, Hit wall rate : [3.26, 3.26, 1.0, 7.78]\n",
      "averaged grid size : 5.00, averaged obstacles : 9.34\n"
     ]
    },
    {
     "name": "stderr",
     "output_type": "stream",
     "text": [
      " 28%|██▊       | 2016/7100 [00:17<00:27, 186.20it/s]"
     ]
    },
    {
     "name": "stdout",
     "output_type": "stream",
     "text": [
      "Epsilon : 0.3679714378649446, average reward : -342.5070, averaged shaped reward : -556.3070 Pickup, Drop, Success, Hit wall rate : [6.05, 6.05, 1.0, 20.2]\n",
      "averaged grid size : 5.00, averaged obstacles : 10.03\n"
     ]
    },
    {
     "name": "stderr",
     "output_type": "stream",
     "text": [
      " 30%|██▉       | 2126/7100 [00:17<00:25, 191.99it/s]"
     ]
    },
    {
     "name": "stdout",
     "output_type": "stream",
     "text": [
      "Epsilon : 0.35002088232561296, average reward : -132.5310, averaged shaped reward : -231.2310 Pickup, Drop, Success, Hit wall rate : [4.11, 4.11, 1.0, 10.03]\n",
      "averaged grid size : 5.00, averaged obstacles : 9.29\n"
     ]
    },
    {
     "name": "stderr",
     "output_type": "stream",
     "text": [
      " 32%|███▏      | 2238/7100 [00:18<00:22, 214.30it/s]"
     ]
    },
    {
     "name": "stdout",
     "output_type": "stream",
     "text": [
      "Epsilon : 0.33294599921901236, average reward : -115.3840, averaged shaped reward : -199.9840 Pickup, Drop, Success, Hit wall rate : [2.9, 2.9, 1.0, 8.55]\n",
      "averaged grid size : 5.00, averaged obstacles : 9.89\n"
     ]
    },
    {
     "name": "stderr",
     "output_type": "stream",
     "text": [
      " 33%|███▎      | 2332/7100 [00:18<00:21, 217.10it/s]"
     ]
    },
    {
     "name": "stdout",
     "output_type": "stream",
     "text": [
      "Epsilon : 0.3167040710811749, average reward : -65.3430, averaged shaped reward : -127.5430 Pickup, Drop, Success, Hit wall rate : [2.83, 2.83, 1.0, 6.31]\n",
      "averaged grid size : 5.00, averaged obstacles : 10.04\n"
     ]
    },
    {
     "name": "stderr",
     "output_type": "stream",
     "text": [
      " 34%|███▍      | 2437/7100 [00:19<00:27, 168.77it/s]"
     ]
    },
    {
     "name": "stdout",
     "output_type": "stream",
     "text": [
      "Epsilon : 0.3012544643115281, average reward : -75.3160, averaged shaped reward : -138.0160 Pickup, Drop, Success, Hit wall rate : [2.56, 2.56, 1.0, 6.88]\n",
      "averaged grid size : 5.00, averaged obstacles : 10.58\n"
     ]
    },
    {
     "name": "stderr",
     "output_type": "stream",
     "text": [
      " 36%|███▌      | 2522/7100 [00:20<00:27, 166.63it/s]"
     ]
    },
    {
     "name": "stdout",
     "output_type": "stream",
     "text": [
      "Epsilon : 0.2865585275168893, average reward : -160.1560, averaged shaped reward : -276.2560 Pickup, Drop, Success, Hit wall rate : [1.89, 1.89, 1.0, 8.99]\n",
      "averaged grid size : 5.00, averaged obstacles : 10.31\n"
     ]
    },
    {
     "name": "stderr",
     "output_type": "stream",
     "text": [
      " 37%|███▋      | 2629/7100 [00:20<00:22, 200.33it/s]"
     ]
    },
    {
     "name": "stdout",
     "output_type": "stream",
     "text": [
      "Epsilon : 0.2725794948144954, average reward : -138.4870, averaged shaped reward : -242.6870 Pickup, Drop, Success, Hit wall rate : [4.49, 4.49, 1.0, 10.26]\n",
      "averaged grid size : 5.00, averaged obstacles : 10.30\n"
     ]
    },
    {
     "name": "stderr",
     "output_type": "stream",
     "text": [
      " 38%|███▊      | 2721/7100 [00:21<00:21, 208.33it/s]"
     ]
    },
    {
     "name": "stdout",
     "output_type": "stream",
     "text": [
      "Epsilon : 0.2592823938521472, average reward : -30.2960, averaged shaped reward : -72.3960 Pickup, Drop, Success, Hit wall rate : [2.27, 2.27, 1.0, 4.59]\n",
      "averaged grid size : 5.00, averaged obstacles : 10.59\n"
     ]
    },
    {
     "name": "stderr",
     "output_type": "stream",
     "text": [
      " 40%|████      | 2842/7100 [00:21<00:25, 168.99it/s]"
     ]
    },
    {
     "name": "stdout",
     "output_type": "stream",
     "text": [
      "Epsilon : 0.2466339583153596, average reward : -193.2070, averaged shaped reward : -322.7070 Pickup, Drop, Success, Hit wall rate : [3.18, 3.18, 1.0, 11.73]\n",
      "averaged grid size : 5.00, averaged obstacles : 11.38\n"
     ]
    },
    {
     "name": "stderr",
     "output_type": "stream",
     "text": [
      " 41%|████▏     | 2929/7100 [00:22<00:22, 185.02it/s]"
     ]
    },
    {
     "name": "stdout",
     "output_type": "stream",
     "text": [
      "Epsilon : 0.23460254470262715, average reward : -67.7830, averaged shaped reward : -125.7830 Pickup, Drop, Success, Hit wall rate : [1.86, 1.86, 1.0, 5.85]\n",
      "averaged grid size : 5.00, averaged obstacles : 9.72\n"
     ]
    },
    {
     "name": "stderr",
     "output_type": "stream",
     "text": [
      " 43%|████▎     | 3025/7100 [00:22<00:19, 204.83it/s]"
     ]
    },
    {
     "name": "stdout",
     "output_type": "stream",
     "text": [
      "Epsilon : 0.22315805316059978, average reward : -63.6480, averaged shaped reward : -130.0480 Pickup, Drop, Success, Hit wall rate : [3.15, 3.15, 1.0, 6.03]\n",
      "averaged grid size : 5.00, averaged obstacles : 9.73\n"
     ]
    },
    {
     "name": "stderr",
     "output_type": "stream",
     "text": [
      " 44%|████▍     | 3128/7100 [00:23<00:22, 178.97it/s]"
     ]
    },
    {
     "name": "stdout",
     "output_type": "stream",
     "text": [
      "Epsilon : 0.21227185218111316, average reward : -34.3440, averaged shaped reward : -76.6440 Pickup, Drop, Success, Hit wall rate : [1.85, 1.85, 1.0, 4.15]\n",
      "averaged grid size : 5.00, averaged obstacles : 10.92\n"
     ]
    },
    {
     "name": "stderr",
     "output_type": "stream",
     "text": [
      " 45%|████▌     | 3215/7100 [00:23<00:20, 187.12it/s]"
     ]
    },
    {
     "name": "stdout",
     "output_type": "stream",
     "text": [
      "Epsilon : 0.20191670697168435, average reward : -46.4590, averaged shaped reward : -96.2590 Pickup, Drop, Success, Hit wall rate : [1.74, 1.74, 1.0, 4.64]\n",
      "averaged grid size : 5.00, averaged obstacles : 9.88\n"
     ]
    },
    {
     "name": "stderr",
     "output_type": "stream",
     "text": [
      " 47%|████▋     | 3345/7100 [00:24<00:17, 209.19it/s]"
     ]
    },
    {
     "name": "stdout",
     "output_type": "stream",
     "text": [
      "Epsilon : 0.19206671132027073, average reward : -47.1000, averaged shaped reward : -99.2000 Pickup, Drop, Success, Hit wall rate : [2.14, 2.14, 1.0, 4.83]\n",
      "averaged grid size : 5.00, averaged obstacles : 10.45\n"
     ]
    },
    {
     "name": "stderr",
     "output_type": "stream",
     "text": [
      " 49%|████▊     | 3445/7100 [00:25<00:22, 165.55it/s]"
     ]
    },
    {
     "name": "stdout",
     "output_type": "stream",
     "text": [
      "Epsilon : 0.1826972227838353, average reward : -133.2730, averaged shaped reward : -236.8730 Pickup, Drop, Success, Hit wall rate : [4.01, 4.01, 1.0, 9.07]\n",
      "averaged grid size : 5.00, averaged obstacles : 10.29\n"
     ]
    },
    {
     "name": "stderr",
     "output_type": "stream",
     "text": [
      " 50%|████▉     | 3541/7100 [00:25<00:18, 194.41it/s]"
     ]
    },
    {
     "name": "stdout",
     "output_type": "stream",
     "text": [
      "Epsilon : 0.1737848010385734, average reward : -8.0640, averaged shaped reward : -38.0640 Pickup, Drop, Success, Hit wall rate : [1.78, 1.78, 1.0, 2.79]\n",
      "averaged grid size : 5.00, averaged obstacles : 10.11\n"
     ]
    },
    {
     "name": "stderr",
     "output_type": "stream",
     "text": [
      " 51%|█████     | 3629/7100 [00:25<00:17, 199.58it/s]"
     ]
    },
    {
     "name": "stdout",
     "output_type": "stream",
     "text": [
      "Epsilon : 0.1653071492375671, average reward : -13.1620, averaged shaped reward : -46.9620 Pickup, Drop, Success, Hit wall rate : [1.86, 1.86, 1.0, 3.0]\n",
      "averaged grid size : 5.00, averaged obstacles : 10.77\n"
     ]
    },
    {
     "name": "stderr",
     "output_type": "stream",
     "text": [
      " 53%|█████▎    | 3739/7100 [00:26<00:17, 194.78it/s]"
     ]
    },
    {
     "name": "stdout",
     "output_type": "stream",
     "text": [
      "Epsilon : 0.15724305822915946, average reward : -45.8020, averaged shaped reward : -91.1020 Pickup, Drop, Success, Hit wall rate : [2.11, 2.11, 1.0, 5.06]\n",
      "averaged grid size : 5.00, averaged obstacles : 9.90\n"
     ]
    },
    {
     "name": "stderr",
     "output_type": "stream",
     "text": [
      " 54%|█████▍    | 3855/7100 [00:27<00:14, 225.57it/s]"
     ]
    },
    {
     "name": "stdout",
     "output_type": "stream",
     "text": [
      "Epsilon : 0.14957235349649245, average reward : -23.9890, averaged shaped reward : -63.7890 Pickup, Drop, Success, Hit wall rate : [1.46, 1.46, 1.0, 3.28]\n",
      "averaged grid size : 5.00, averaged obstacles : 9.80\n"
     ]
    },
    {
     "name": "stderr",
     "output_type": "stream",
     "text": [
      " 56%|█████▌    | 3954/7100 [00:27<00:13, 235.79it/s]"
     ]
    },
    {
     "name": "stdout",
     "output_type": "stream",
     "text": [
      "Epsilon : 0.14227584468546683, average reward : -7.2250, averaged shaped reward : -36.5250 Pickup, Drop, Success, Hit wall rate : [1.5, 1.5, 1.0, 2.75]\n",
      "averaged grid size : 5.00, averaged obstacles : 10.14\n"
     ]
    },
    {
     "name": "stderr",
     "output_type": "stream",
     "text": [
      " 57%|█████▋    | 4023/7100 [00:27<00:14, 209.72it/s]"
     ]
    },
    {
     "name": "stdout",
     "output_type": "stream",
     "text": [
      "Epsilon : 0.13533527759485164, average reward : -9.1420, averaged shaped reward : -37.8420 Pickup, Drop, Success, Hit wall rate : [1.52, 1.52, 1.0, 2.8]\n",
      "averaged grid size : 5.00, averaged obstacles : 9.15\n"
     ]
    },
    {
     "name": "stderr",
     "output_type": "stream",
     "text": [
      " 58%|█████▊    | 4128/7100 [00:28<00:19, 155.95it/s]"
     ]
    },
    {
     "name": "stdout",
     "output_type": "stream",
     "text": [
      "Epsilon : 0.12873328850843568, average reward : -8.6520, averaged shaped reward : -38.4520 Pickup, Drop, Success, Hit wall rate : [1.19, 1.19, 1.0, 2.49]\n",
      "averaged grid size : 5.00, averaged obstacles : 10.37\n"
     ]
    },
    {
     "name": "stderr",
     "output_type": "stream",
     "text": [
      " 59%|█████▉    | 4214/7100 [00:28<00:14, 194.40it/s]"
     ]
    },
    {
     "name": "stdout",
     "output_type": "stream",
     "text": [
      "Epsilon : 0.12245336075496815, average reward : 10.4670, averaged shaped reward : -6.3330 Pickup, Drop, Success, Hit wall rate : [1.36, 1.36, 1.0, 2.07]\n",
      "averaged grid size : 5.00, averaged obstacles : 10.55\n"
     ]
    },
    {
     "name": "stderr",
     "output_type": "stream",
     "text": [
      " 61%|██████    | 4320/7100 [00:29<00:15, 178.00it/s]"
     ]
    },
    {
     "name": "stdout",
     "output_type": "stream",
     "text": [
      "Epsilon : 0.11647978338721439, average reward : -6.2290, averaged shaped reward : -36.2290 Pickup, Drop, Success, Hit wall rate : [2.15, 2.15, 1.0, 2.92]\n",
      "averaged grid size : 5.00, averaged obstacles : 9.43\n"
     ]
    },
    {
     "name": "stderr",
     "output_type": "stream",
     "text": [
      " 62%|██████▏   | 4428/7100 [00:30<00:13, 199.14it/s]"
     ]
    },
    {
     "name": "stdout",
     "output_type": "stream",
     "text": [
      "Epsilon : 0.11079761187674808, average reward : -7.2810, averaged shaped reward : -34.0810 Pickup, Drop, Success, Hit wall rate : [1.68, 1.68, 1.0, 2.87]\n",
      "averaged grid size : 5.00, averaged obstacles : 9.63\n"
     ]
    },
    {
     "name": "stderr",
     "output_type": "stream",
     "text": [
      " 64%|██████▍   | 4543/7100 [00:30<00:12, 200.09it/s]"
     ]
    },
    {
     "name": "stdout",
     "output_type": "stream",
     "text": [
      "Epsilon : 0.10539263072614893, average reward : 7.6120, averaged shaped reward : -10.5880 Pickup, Drop, Success, Hit wall rate : [1.27, 1.27, 1.0, 2.23]\n",
      "averaged grid size : 5.00, averaged obstacles : 10.73\n"
     ]
    },
    {
     "name": "stderr",
     "output_type": "stream",
     "text": [
      " 65%|██████▌   | 4636/7100 [00:31<00:11, 215.86it/s]"
     ]
    },
    {
     "name": "stdout",
     "output_type": "stream",
     "text": [
      "Epsilon : 0.10025131790506973, average reward : 13.3180, averaged shaped reward : -4.9820 Pickup, Drop, Success, Hit wall rate : [1.38, 1.38, 1.0, 1.8]\n",
      "averaged grid size : 5.00, averaged obstacles : 9.85\n"
     ]
    },
    {
     "name": "stderr",
     "output_type": "stream",
     "text": [
      " 67%|██████▋   | 4746/7100 [00:31<00:12, 191.98it/s]"
     ]
    },
    {
     "name": "stdout",
     "output_type": "stream",
     "text": [
      "Epsilon : 0.09536081102119956, average reward : 29.6010, averaged shaped reward : 20.9010 Pickup, Drop, Success, Hit wall rate : [1.3, 1.3, 1.0, 1.07]\n",
      "averaged grid size : 5.00, averaged obstacles : 10.55\n"
     ]
    },
    {
     "name": "stderr",
     "output_type": "stream",
     "text": [
      " 68%|██████▊   | 4843/7100 [00:32<00:10, 225.43it/s]"
     ]
    },
    {
     "name": "stdout",
     "output_type": "stream",
     "text": [
      "Epsilon : 0.09070887514149145, average reward : 11.8470, averaged shaped reward : -4.6530 Pickup, Drop, Success, Hit wall rate : [1.29, 1.29, 1.0, 1.84]\n",
      "averaged grid size : 5.00, averaged obstacles : 10.21\n"
     ]
    },
    {
     "name": "stderr",
     "output_type": "stream",
     "text": [
      " 70%|██████▉   | 4941/7100 [00:32<00:09, 216.33it/s]"
     ]
    },
    {
     "name": "stdout",
     "output_type": "stream",
     "text": [
      "Epsilon : 0.08628387218314981, average reward : -3.1000, averaged shaped reward : -28.9000 Pickup, Drop, Success, Hit wall rate : [1.26, 1.26, 1.0, 2.17]\n",
      "averaged grid size : 5.00, averaged obstacles : 9.39\n"
     ]
    },
    {
     "name": "stderr",
     "output_type": "stream",
     "text": [
      " 71%|███████   | 5031/7100 [00:33<00:11, 186.94it/s]"
     ]
    },
    {
     "name": "stdout",
     "output_type": "stream",
     "text": [
      "Epsilon : 0.082074731797801, average reward : 12.3760, averaged shaped reward : -3.0240 Pickup, Drop, Success, Hit wall rate : [1.14, 1.14, 1.0, 1.73]\n",
      "averaged grid size : 5.00, averaged obstacles : 10.41\n"
     ]
    },
    {
     "name": "stderr",
     "output_type": "stream",
     "text": [
      " 72%|███████▏  | 5122/7100 [00:33<00:09, 202.45it/s]"
     ]
    },
    {
     "name": "stdout",
     "output_type": "stream",
     "text": [
      "Epsilon : 0.07807092367600618, average reward : -0.0720, averaged shaped reward : -22.2720 Pickup, Drop, Success, Hit wall rate : [1.1, 1.1, 1.0, 2.02]\n",
      "averaged grid size : 5.00, averaged obstacles : 10.12\n"
     ]
    },
    {
     "name": "stderr",
     "output_type": "stream",
     "text": [
      " 73%|███████▎  | 5214/7100 [00:34<00:09, 192.08it/s]"
     ]
    },
    {
     "name": "stdout",
     "output_type": "stream",
     "text": [
      "Epsilon : 0.07426243120282834, average reward : 22.4850, averaged shaped reward : 11.0850 Pickup, Drop, Success, Hit wall rate : [1.15, 1.15, 1.0, 1.21]\n",
      "averaged grid size : 5.00, averaged obstacles : 10.48\n"
     ]
    },
    {
     "name": "stderr",
     "output_type": "stream",
     "text": [
      " 75%|███████▌  | 5342/7100 [00:34<00:09, 194.27it/s]"
     ]
    },
    {
     "name": "stdout",
     "output_type": "stream",
     "text": [
      "Epsilon : 0.07063972639854567, average reward : 1.5140, averaged shaped reward : -20.9860 Pickup, Drop, Success, Hit wall rate : [1.77, 1.76, 0.99, 2.5]\n",
      "averaged grid size : 5.00, averaged obstacles : 10.28\n"
     ]
    },
    {
     "name": "stderr",
     "output_type": "stream",
     "text": [
      " 77%|███████▋  | 5435/7100 [00:35<00:08, 195.19it/s]"
     ]
    },
    {
     "name": "stdout",
     "output_type": "stream",
     "text": [
      "Epsilon : 0.06719374608181877, average reward : 16.4800, averaged shaped reward : 1.0800 Pickup, Drop, Success, Hit wall rate : [1.13, 1.13, 1.0, 1.23]\n",
      "averaged grid size : 5.00, averaged obstacles : 10.50\n"
     ]
    },
    {
     "name": "stderr",
     "output_type": "stream",
     "text": [
      " 78%|███████▊  | 5549/7100 [00:35<00:08, 190.37it/s]"
     ]
    },
    {
     "name": "stdout",
     "output_type": "stream",
     "text": [
      "Epsilon : 0.06391586919567814, average reward : 19.4640, averaged shaped reward : 6.3640 Pickup, Drop, Success, Hit wall rate : [1.2, 1.2, 1.0, 1.31]\n",
      "averaged grid size : 5.00, averaged obstacles : 10.59\n"
     ]
    },
    {
     "name": "stderr",
     "output_type": "stream",
     "text": [
      " 79%|███████▉  | 5628/7100 [00:36<00:07, 198.69it/s]"
     ]
    },
    {
     "name": "stdout",
     "output_type": "stream",
     "text": [
      "Epsilon : 0.060797895239605056, average reward : 7.2680, averaged shaped reward : -11.6320 Pickup, Drop, Success, Hit wall rate : [1.58, 1.58, 1.0, 1.96]\n",
      "averaged grid size : 5.00, averaged obstacles : 9.13\n"
     ]
    },
    {
     "name": "stderr",
     "output_type": "stream",
     "text": [
      " 81%|████████  | 5739/7100 [00:36<00:06, 212.71it/s]"
     ]
    },
    {
     "name": "stdout",
     "output_type": "stream",
     "text": [
      "Epsilon : 0.0578320237537493, average reward : 29.5400, averaged shaped reward : 18.4400 Pickup, Drop, Success, Hit wall rate : [1.24, 1.24, 1.0, 0.83]\n",
      "averaged grid size : 5.00, averaged obstacles : 10.28\n"
     ]
    },
    {
     "name": "stderr",
     "output_type": "stream",
     "text": [
      " 82%|████████▏ | 5838/7100 [00:37<00:05, 213.98it/s]"
     ]
    },
    {
     "name": "stdout",
     "output_type": "stream",
     "text": [
      "Epsilon : 0.05501083480395743, average reward : 36.0990, averaged shaped reward : 28.9990 Pickup, Drop, Success, Hit wall rate : [1.22, 1.22, 1.0, 0.55]\n",
      "averaged grid size : 5.00, averaged obstacles : 10.22\n"
     ]
    },
    {
     "name": "stderr",
     "output_type": "stream",
     "text": [
      " 84%|████████▎ | 5930/7100 [00:37<00:05, 215.04it/s]"
     ]
    },
    {
     "name": "stdout",
     "output_type": "stream",
     "text": [
      "Epsilon : 0.05232727041878946, average reward : 36.2540, averaged shaped reward : 30.3540 Pickup, Drop, Success, Hit wall rate : [1.05, 1.05, 1.0, 0.47]\n",
      "averaged grid size : 5.00, averaged obstacles : 10.59\n"
     ]
    },
    {
     "name": "stderr",
     "output_type": "stream",
     "text": [
      " 85%|████████▌ | 6041/7100 [00:38<00:05, 202.59it/s]"
     ]
    },
    {
     "name": "stdout",
     "output_type": "stream",
     "text": [
      "Epsilon : 0.049774616932083626, average reward : 23.8200, averaged shaped reward : 12.7200 Pickup, Drop, Success, Hit wall rate : [1.15, 1.15, 1.0, 1.03]\n",
      "averaged grid size : 5.00, averaged obstacles : 10.93\n"
     ]
    },
    {
     "name": "stderr",
     "output_type": "stream",
     "text": [
      " 86%|████████▌ | 6116/7100 [00:38<00:04, 197.19it/s]"
     ]
    },
    {
     "name": "stdout",
     "output_type": "stream",
     "text": [
      "Epsilon : 0.04734648818689483, average reward : 39.9390, averaged shaped reward : 35.1390 Pickup, Drop, Success, Hit wall rate : [1.06, 1.06, 1.0, 0.37]\n",
      "averaged grid size : 5.00, averaged obstacles : 10.01\n"
     ]
    },
    {
     "name": "stderr",
     "output_type": "stream",
     "text": [
      " 88%|████████▊ | 6220/7100 [00:39<00:06, 141.66it/s]"
     ]
    },
    {
     "name": "stdout",
     "output_type": "stream",
     "text": [
      "Epsilon : 0.04503680955878596, average reward : 15.6350, averaged shaped reward : 0.9350 Pickup, Drop, Success, Hit wall rate : [1.5, 1.5, 1.0, 1.42]\n",
      "averaged grid size : 5.00, averaged obstacles : 10.71\n"
     ]
    },
    {
     "name": "stderr",
     "output_type": "stream",
     "text": [
      " 89%|████████▉ | 6350/7100 [00:39<00:03, 210.95it/s]"
     ]
    },
    {
     "name": "stdout",
     "output_type": "stream",
     "text": [
      "Epsilon : 0.04283980275850272, average reward : 7.4760, averaged shaped reward : -11.0240 Pickup, Drop, Success, Hit wall rate : [1.58, 1.58, 0.99, 1.59]\n",
      "averaged grid size : 5.00, averaged obstacles : 10.54\n"
     ]
    },
    {
     "name": "stderr",
     "output_type": "stream",
     "text": [
      " 91%|█████████ | 6436/7100 [00:40<00:03, 184.71it/s]"
     ]
    },
    {
     "name": "stdout",
     "output_type": "stream",
     "text": [
      "Epsilon : 0.040749971376011676, average reward : 30.8360, averaged shaped reward : 24.2360 Pickup, Drop, Success, Hit wall rate : [1.11, 1.11, 1.0, 0.81]\n",
      "averaged grid size : 5.00, averaged obstacles : 10.26\n"
     ]
    },
    {
     "name": "stderr",
     "output_type": "stream",
     "text": [
      " 92%|█████████▏| 6538/7100 [00:40<00:03, 172.61it/s]"
     ]
    },
    {
     "name": "stdout",
     "output_type": "stream",
     "text": [
      "Epsilon : 0.03876208712973563, average reward : 19.4140, averaged shaped reward : 7.6140 Pickup, Drop, Success, Hit wall rate : [1.36, 1.36, 1.0, 1.22]\n",
      "averaged grid size : 5.00, averaged obstacles : 10.01\n"
     ]
    },
    {
     "name": "stderr",
     "output_type": "stream",
     "text": [
      " 93%|█████████▎| 6630/7100 [00:41<00:02, 191.61it/s]"
     ]
    },
    {
     "name": "stdout",
     "output_type": "stream",
     "text": [
      "Epsilon : 0.03687117678658528, average reward : 28.3040, averaged shaped reward : 19.3040 Pickup, Drop, Success, Hit wall rate : [1.3, 1.3, 1.0, 0.89]\n",
      "averaged grid size : 5.00, averaged obstacles : 10.21\n"
     ]
    },
    {
     "name": "stderr",
     "output_type": "stream",
     "text": [
      " 95%|█████████▍| 6722/7100 [00:41<00:02, 188.62it/s]"
     ]
    },
    {
     "name": "stdout",
     "output_type": "stream",
     "text": [
      "Epsilon : 0.03507250972006415, average reward : 16.9700, averaged shaped reward : 5.2700 Pickup, Drop, Success, Hit wall rate : [1.17, 1.17, 1.0, 1.27]\n",
      "averaged grid size : 5.00, averaged obstacles : 9.59\n"
     ]
    },
    {
     "name": "stderr",
     "output_type": "stream",
     "text": [
      " 96%|█████████▌| 6829/7100 [00:42<00:01, 164.56it/s]"
     ]
    },
    {
     "name": "stdout",
     "output_type": "stream",
     "text": [
      "Epsilon : 0.03336158607531967, average reward : 25.8380, averaged shaped reward : 16.9380 Pickup, Drop, Success, Hit wall rate : [1.27, 1.27, 1.0, 0.82]\n",
      "averaged grid size : 5.00, averaged obstacles : 10.56\n"
     ]
    },
    {
     "name": "stderr",
     "output_type": "stream",
     "text": [
      " 98%|█████████▊| 6923/7100 [00:43<00:01, 156.18it/s]"
     ]
    },
    {
     "name": "stdout",
     "output_type": "stream",
     "text": [
      "Epsilon : 0.031734125511532624, average reward : 14.9790, averaged shaped reward : 3.7790 Pickup, Drop, Success, Hit wall rate : [1.03, 1.03, 0.99, 1.25]\n",
      "averaged grid size : 5.00, averaged obstacles : 11.94\n"
     ]
    },
    {
     "name": "stderr",
     "output_type": "stream",
     "text": [
      " 99%|█████████▉| 7022/7100 [00:43<00:00, 166.25it/s]"
     ]
    },
    {
     "name": "stdout",
     "output_type": "stream",
     "text": [
      "Epsilon : 0.030186056493480308, average reward : 19.9040, averaged shaped reward : 11.0040 Pickup, Drop, Success, Hit wall rate : [1.08, 1.08, 1.0, 1.26]\n",
      "averaged grid size : 5.00, averaged obstacles : 10.28\n"
     ]
    },
    {
     "name": "stderr",
     "output_type": "stream",
     "text": [
      "100%|██████████| 7100/7100 [00:44<00:00, 160.56it/s]"
     ]
    },
    {
     "name": "stdout",
     "output_type": "stream",
     "text": [
      "Epsilon : 0, average reward : 20.3540, averaged shaped reward : 20.3540 Pickup, Drop, Success, Hit wall rate : [0.96, 0.95, 0.95, 0.02]\n",
      "averaged grid size : 5.00, averaged obstacles : 10.50\n"
     ]
    },
    {
     "name": "stderr",
     "output_type": "stream",
     "text": [
      "\n"
     ]
    }
   ],
   "source": [
    "env = SimpleTaxiEnv()\n",
    "q_table = tabular_q_learning(env)"
   ]
  },
  {
   "cell_type": "code",
   "execution_count": 7,
   "metadata": {},
   "outputs": [],
   "source": [
    "import pickle\n",
    "q_table_dict = dict(q_table)  # Convert to regular dict\n",
    "q_table_dict_list = {k: v.tolist() for k, v in q_table_dict.items()}  # Convert numpy arrays to lists\n",
    "with open('q_table.pkl', 'wb') as f:\n",
    "    pickle.dump(q_table_dict_list, f)"
   ]
  },
  {
   "cell_type": "code",
   "execution_count": 8,
   "metadata": {},
   "outputs": [
    {
     "name": "stdout",
     "output_type": "stream",
     "text": [
      "912\n"
     ]
    }
   ],
   "source": [
    "print(len(q_table_dict.keys()))"
   ]
  },
  {
   "cell_type": "markdown",
   "metadata": {},
   "source": [
    "# Testing"
   ]
  },
  {
   "cell_type": "code",
   "execution_count": 9,
   "metadata": {},
   "outputs": [],
   "source": [
    "from tqdm import tqdm\n",
    "def Testing(env):\n",
    "    import pickle\n",
    "    from collections import defaultdict\n",
    "    with open('q_table.pkl', 'rb') as f:\n",
    "        print('load')\n",
    "        loaded_dict = pickle.load(f)\n",
    "    q_table = defaultdict(lambda: np.zeros(6), loaded_dict)  # Replace 0 with your default value\n",
    "    print(len(q_table))\n",
    "    #print('len of q_table',len(q_table.keys()))\n",
    "    global stations, candidates_p,candidates_goal, pickup, goal_id,last_action,last_record_action\n",
    "    stations = [[0,0] for _ in range(4)]\n",
    "    candidates_p = [i for i in stations]\n",
    "    candidates_goal = [i for i in stations]\n",
    "    goal_id = -1\n",
    "    pickup=False\n",
    "    action_size = 6\n",
    "    last_action = None\n",
    "    last_record_action = None\n",
    "    #q_table = defaultdict(lambda :np.zeros(action_size))\n",
    "    pickup_id = 4\n",
    "    drop_id = 5\n",
    "    ifpickup=False\n",
    "    p_loc = (0,0)\n",
    "    def cmp(a,b):\n",
    "        if a==b:\n",
    "            return 0\n",
    "        return 1 if a<b else -1\n",
    "            \n",
    "    def get_state_obs(obs,action,last_action=None):\n",
    "        global stations,pickup,candidates_p,candidates_goal\n",
    "        #print(candidates_p)\n",
    "        taxi_row, taxi_col, stations[0][0], stations[0][1] , stations[1][0], stations[1][1],stations[2][0],stations[2][1],stations[3][0],stations[3][1],obstacle_north, obstacle_south, obstacle_east, obstacle_west, passenger_look, destination_look = obs\n",
    "        agent_pos = (taxi_row,taxi_col)\n",
    "        if action==None:\n",
    "            # initialize\n",
    "            candidates_goal = [tuple(i) for i in stations]\n",
    "            candidates_p = [tuple(i) for i in stations]\n",
    "            pickup=False\n",
    "        if passenger_look:\n",
    "            #print('before p',candidates_p)\n",
    "            candidates_p = [ tuple(x) for x in candidates_p if abs(x[0]-agent_pos[0])+abs(x[1]-agent_pos[1]) <=1 ]\n",
    "            #print('after p',candidates_p)\n",
    "        else:\n",
    "            #print('before p',candidates_p)\n",
    "            candidates_p = [ tuple(x) for x in candidates_p if abs(x[0]-agent_pos[0])+abs(x[1]-agent_pos[1]) >1 ]\n",
    "            #print('after p',candidates_p)\n",
    "        if destination_look:\n",
    "            #print('before g',candidates_goal)\n",
    "            candidates_goal = [ tuple(x) for x in candidates_goal if abs(x[0]-agent_pos[0])+abs(x[1]-agent_pos[1]) <=1 ]\n",
    "            #print('after g',candidates_goal)\n",
    "        else:\n",
    "            #print('before g',candidates_goal)\n",
    "            candidates_goal = [ tuple(x) for x in candidates_goal if abs(x[0]-agent_pos[0])+abs(x[1]-agent_pos[1]) >1 ]\n",
    "            #print('after g',candidates_goal)\n",
    "        if action==pickup_id and not pickup and agent_pos in candidates_p:\n",
    "            pickup = True\n",
    "            candidates_p = []\n",
    "        elif action == drop_id and pickup:\n",
    "            pickup=False\n",
    "            candidates_p.append(agent_pos)\n",
    "        cmp_pos = (0,0)\n",
    "        if not pickup:\n",
    "            idx = np.argmin([abs(agent_pos[0]-i[0])+abs(agent_pos[1]-i[1]) for i in candidates_p])\n",
    "            cmp_pos = candidates_p[idx]\n",
    "        else:\n",
    "            idx = np.argmin([abs(agent_pos[0]-i[0])+abs(agent_pos[1]-i[1]) for i in candidates_goal])\n",
    "            cmp_pos = candidates_goal[idx]\n",
    "        passenger_look = passenger_look and agent_pos in candidates_p\n",
    "        destination_look = destination_look and agent_pos in candidates_goal\n",
    "        real_look = passenger_look if not pickup else destination_look\n",
    "        relative_pos = (cmp(agent_pos[0],cmp_pos[0]),cmp(agent_pos[1],cmp_pos[1]))\n",
    "        return (relative_pos,pickup, real_look, (obstacle_north,obstacle_south,obstacle_east,obstacle_west),last_action)\n",
    "\n",
    "    def get_action(obs):\n",
    "        # TODO: Train your own agent\n",
    "        # HINT: If you're using a Q-table, consider designing a custom key based on `obs` to store useful information.\n",
    "        # NOTE: Keep in mind that your Q-table may not cover all possible states in the testing environment.\n",
    "        #       To prevent crashes, implement a fallback strategy for missing keys.\n",
    "        #       Otherwise, even if your agent performs well in training, it may fail during testing.\n",
    "        global last_action,last_record_action\n",
    "        state = get_state_obs(obs,last_action,last_record_action)\n",
    "        action_name = ['Move North','Move South','Move East','Move West','Pick Up','Drop Off']\n",
    "        if state not in q_table.keys():\n",
    "            #print(state)\n",
    "            print(state)\n",
    "            assert(0)\n",
    "            action = np.random.randint(action_size)\n",
    "        else:\n",
    "            #print(state,action_name[np.argmax(q_table[state])])\n",
    "            action = np.argmax(q_table[state])\n",
    "        last_action = action\n",
    "        if action in [0,1,2,3]:\n",
    "            last_record_action = action\n",
    "        return action,state # Choose a random action\n",
    "        # You can submit this random agent to evaluate the performance of a purely random strategy.\n",
    "    Total_reward=0\n",
    "    for i in tqdm(range(100)):\n",
    "        with open('q_table.pkl', 'rb') as f:\n",
    "            #print('load')\n",
    "            loaded_dict = pickle.load(f)\n",
    "        q_table = defaultdict(lambda: np.zeros(6), loaded_dict)  # Replace 0 with your default value\n",
    "        grid_size = np.random.randint(5,11)\n",
    "        obstacle_size = np.random.randint(grid_size*grid_size)\n",
    "        obs,_ = env.reset()\n",
    "        obs,_,_ = obs\n",
    "        total_reward = 0\n",
    "        done = False\n",
    "        stations = [[0,0] for _ in range(4)]\n",
    "        candidates_p = [i for i in stations]\n",
    "        candidates_goal = [i for i in stations]\n",
    "        goal_id = -1\n",
    "        pickup=False\n",
    "        action_size = 6\n",
    "        pickup_id = 4\n",
    "        drop_id = 5\n",
    "        last_action = None\n",
    "        last_record_action = None\n",
    "        while not done:\n",
    "            action,state = get_action(obs)\n",
    "            obs,reward,done,_ = env.step(action)\n",
    "            obs,_,_ = obs\n",
    "            total_reward += reward\n",
    "            q_table[state][action] = q_table[state][action] + (reward+np.max(q_table[state])-q_table[state][action])\n",
    "        Total_reward+=total_reward\n",
    "        print(f'grid_size : {env.grid_size}, obstacle_size : {len(env.obstacles)}, total_reward : {total_reward}')\n",
    "        # save the q_table\n",
    "        \n",
    "    print(f'average : {Total_reward/100}')"
   ]
  },
  {
   "cell_type": "code",
   "execution_count": 10,
   "metadata": {},
   "outputs": [
    {
     "name": "stdout",
     "output_type": "stream",
     "text": [
      "load\n",
      "912\n"
     ]
    },
    {
     "name": "stderr",
     "output_type": "stream",
     "text": [
      "  0%|          | 0/100 [00:00<?, ?it/s]"
     ]
    },
    {
     "name": "stdout",
     "output_type": "stream",
     "text": [
      "grid_size : 5, obstacle_size : 11, total_reward : 38.800000000000004\n",
      "grid_size : 6, obstacle_size : 22, total_reward : 4.799999999999628\n",
      "grid_size : 6, obstacle_size : 11, total_reward : -106.3999999999954\n",
      "grid_size : 9, obstacle_size : 54, total_reward : 47.099999999999994\n"
     ]
    },
    {
     "name": "stderr",
     "output_type": "stream",
     "text": [
      "  5%|▌         | 5/100 [00:00<00:05, 17.03it/s]"
     ]
    },
    {
     "name": "stdout",
     "output_type": "stream",
     "text": [
      "grid_size : 10, obstacle_size : 73, total_reward : 46.699999999999996\n",
      "grid_size : 6, obstacle_size : 8, total_reward : 48.4\n",
      "grid_size : 8, obstacle_size : 0, total_reward : 48.6\n",
      "grid_size : 8, obstacle_size : 48, total_reward : 47.9\n"
     ]
    },
    {
     "name": "stderr",
     "output_type": "stream",
     "text": [
      " 13%|█▎        | 13/100 [00:00<00:04, 19.97it/s]"
     ]
    },
    {
     "name": "stdout",
     "output_type": "stream",
     "text": [
      "grid_size : 10, obstacle_size : 69, total_reward : -72.79999999999731\n",
      "grid_size : 9, obstacle_size : 12, total_reward : -36.59999999999936\n",
      "grid_size : 10, obstacle_size : 33, total_reward : 46.0\n",
      "grid_size : 5, obstacle_size : 16, total_reward : 48.9\n",
      "grid_size : 9, obstacle_size : 61, total_reward : 46.599999999999994\n",
      "grid_size : 5, obstacle_size : 17, total_reward : 48.6\n"
     ]
    },
    {
     "name": "stderr",
     "output_type": "stream",
     "text": [
      " 19%|█▉        | 19/100 [00:01<00:04, 18.89it/s]"
     ]
    },
    {
     "name": "stdout",
     "output_type": "stream",
     "text": [
      "grid_size : 10, obstacle_size : 70, total_reward : 46.9\n",
      "grid_size : 5, obstacle_size : 11, total_reward : 49.0\n",
      "grid_size : 8, obstacle_size : 40, total_reward : -580.0000000000473\n",
      "grid_size : 8, obstacle_size : 18, total_reward : 47.199999999999996\n",
      "grid_size : 9, obstacle_size : 51, total_reward : 47.0\n",
      "grid_size : 9, obstacle_size : 8, total_reward : 47.9\n"
     ]
    },
    {
     "name": "stderr",
     "output_type": "stream",
     "text": [
      " 22%|██▏       | 22/100 [00:01<00:03, 19.70it/s]"
     ]
    },
    {
     "name": "stdout",
     "output_type": "stream",
     "text": [
      "grid_size : 9, obstacle_size : 59, total_reward : 47.099999999999994\n",
      "grid_size : 9, obstacle_size : 44, total_reward : -43.699999999999214\n",
      "grid_size : 6, obstacle_size : 11, total_reward : 49.3\n",
      "grid_size : 5, obstacle_size : 12, total_reward : 3.899999999999615\n",
      "grid_size : 9, obstacle_size : 0, total_reward : 47.5\n",
      "grid_size : 8, obstacle_size : 4, total_reward : 47.599999999999994\n",
      "grid_size : 9, obstacle_size : 3, total_reward : 47.699999999999996\n",
      "grid_size : 8, obstacle_size : 22, total_reward : -226.69999999999553\n"
     ]
    },
    {
     "name": "stderr",
     "output_type": "stream",
     "text": [
      " 32%|███▏      | 32/100 [00:01<00:02, 23.98it/s]"
     ]
    },
    {
     "name": "stdout",
     "output_type": "stream",
     "text": [
      "grid_size : 9, obstacle_size : 51, total_reward : 46.099999999999994\n",
      "grid_size : 6, obstacle_size : 27, total_reward : 49.1\n",
      "grid_size : 9, obstacle_size : 39, total_reward : -443.8000000000324\n",
      "grid_size : 8, obstacle_size : 12, total_reward : -670.0000000000551\n",
      "grid_size : 5, obstacle_size : 14, total_reward : 48.199999999999996\n",
      "grid_size : 6, obstacle_size : 26, total_reward : 47.699999999999996\n",
      "grid_size : 5, obstacle_size : 8, total_reward : 48.0\n",
      "grid_size : 10, obstacle_size : 43, total_reward : -17.10000000000047\n"
     ]
    },
    {
     "name": "stderr",
     "output_type": "stream",
     "text": [
      " 43%|████▎     | 43/100 [00:01<00:01, 34.81it/s]"
     ]
    },
    {
     "name": "stdout",
     "output_type": "stream",
     "text": [
      "grid_size : 8, obstacle_size : 44, total_reward : 46.3\n",
      "grid_size : 5, obstacle_size : 8, total_reward : 48.8\n",
      "grid_size : 9, obstacle_size : 2, total_reward : 49.0\n",
      "grid_size : 8, obstacle_size : 50, total_reward : 46.699999999999996\n",
      "grid_size : 5, obstacle_size : 3, total_reward : 48.6\n",
      "grid_size : 9, obstacle_size : 28, total_reward : 35.100000000000016\n",
      "grid_size : 9, obstacle_size : 36, total_reward : 47.8\n",
      "grid_size : 8, obstacle_size : 1, total_reward : 49.1\n",
      "grid_size : 9, obstacle_size : 20, total_reward : -650.000000000048\n"
     ]
    },
    {
     "name": "stderr",
     "output_type": "stream",
     "text": [
      " 53%|█████▎    | 53/100 [00:02<00:01, 35.67it/s]"
     ]
    },
    {
     "name": "stdout",
     "output_type": "stream",
     "text": [
      "grid_size : 10, obstacle_size : 72, total_reward : 46.099999999999994\n",
      "grid_size : 5, obstacle_size : 10, total_reward : 47.5\n",
      "grid_size : 10, obstacle_size : 22, total_reward : 48.0\n",
      "grid_size : 8, obstacle_size : 31, total_reward : 43.50000000000001\n",
      "grid_size : 7, obstacle_size : 37, total_reward : 48.0\n",
      "grid_size : 8, obstacle_size : 35, total_reward : 45.1\n",
      "grid_size : 5, obstacle_size : 0, total_reward : 49.4\n",
      "grid_size : 9, obstacle_size : 36, total_reward : 48.699999999999996\n",
      "grid_size : 5, obstacle_size : 17, total_reward : 48.9\n"
     ]
    },
    {
     "name": "stderr",
     "output_type": "stream",
     "text": [
      " 61%|██████    | 61/100 [00:02<00:01, 31.60it/s]"
     ]
    },
    {
     "name": "stdout",
     "output_type": "stream",
     "text": [
      "grid_size : 9, obstacle_size : 35, total_reward : -600.0000000000495\n",
      "grid_size : 5, obstacle_size : 5, total_reward : 48.199999999999996\n",
      "grid_size : 5, obstacle_size : 5, total_reward : 48.5\n",
      "grid_size : 10, obstacle_size : 61, total_reward : -520.0000000000451\n",
      "grid_size : 8, obstacle_size : 5, total_reward : 47.699999999999996\n",
      "grid_size : 5, obstacle_size : 17, total_reward : 49.199999999999996\n",
      "grid_size : 5, obstacle_size : 12, total_reward : 48.4\n",
      "grid_size : 6, obstacle_size : 20, total_reward : 49.0\n",
      "grid_size : 5, obstacle_size : 16, total_reward : 48.0\n"
     ]
    },
    {
     "name": "stderr",
     "output_type": "stream",
     "text": [
      " 69%|██████▉   | 69/100 [00:02<00:01, 30.35it/s]"
     ]
    },
    {
     "name": "stdout",
     "output_type": "stream",
     "text": [
      "grid_size : 10, obstacle_size : 32, total_reward : -740.0000000000508\n",
      "grid_size : 7, obstacle_size : 33, total_reward : 47.9\n",
      "grid_size : 7, obstacle_size : 32, total_reward : 47.4\n",
      "grid_size : 9, obstacle_size : 30, total_reward : -600.0000000000451\n",
      "grid_size : 7, obstacle_size : 39, total_reward : 48.8\n",
      "grid_size : 6, obstacle_size : 25, total_reward : 48.1\n"
     ]
    },
    {
     "name": "stderr",
     "output_type": "stream",
     "text": [
      " 80%|████████  | 80/100 [00:02<00:00, 36.39it/s]"
     ]
    },
    {
     "name": "stdout",
     "output_type": "stream",
     "text": [
      "grid_size : 9, obstacle_size : 50, total_reward : 48.5\n",
      "grid_size : 6, obstacle_size : 17, total_reward : 47.5\n",
      "grid_size : 10, obstacle_size : 8, total_reward : 47.9\n",
      "grid_size : 5, obstacle_size : 16, total_reward : 48.699999999999996\n",
      "grid_size : 10, obstacle_size : 57, total_reward : -213.39999999999193\n",
      "grid_size : 6, obstacle_size : 23, total_reward : 48.699999999999996\n",
      "grid_size : 5, obstacle_size : 12, total_reward : 47.0\n",
      "grid_size : 7, obstacle_size : 27, total_reward : 47.5\n",
      "grid_size : 5, obstacle_size : 15, total_reward : 47.699999999999996\n",
      "grid_size : 8, obstacle_size : 46, total_reward : 48.8\n",
      "grid_size : 7, obstacle_size : 10, total_reward : 48.9\n",
      "grid_size : 5, obstacle_size : 13, total_reward : 48.1\n"
     ]
    },
    {
     "name": "stderr",
     "output_type": "stream",
     "text": [
      " 84%|████████▍ | 84/100 [00:03<00:00, 22.43it/s]"
     ]
    },
    {
     "name": "stdout",
     "output_type": "stream",
     "text": [
      "grid_size : 10, obstacle_size : 65, total_reward : -422.40000000003437\n",
      "grid_size : 9, obstacle_size : 62, total_reward : 46.699999999999996\n",
      "grid_size : 7, obstacle_size : 37, total_reward : 48.1\n",
      "grid_size : 7, obstacle_size : 6, total_reward : 48.4\n",
      "grid_size : 9, obstacle_size : 49, total_reward : 46.3\n",
      "grid_size : 8, obstacle_size : 49, total_reward : 48.8\n"
     ]
    },
    {
     "name": "stderr",
     "output_type": "stream",
     "text": [
      " 92%|█████████▏| 92/100 [00:03<00:00, 24.08it/s]"
     ]
    },
    {
     "name": "stdout",
     "output_type": "stream",
     "text": [
      "grid_size : 10, obstacle_size : 83, total_reward : 48.1\n",
      "grid_size : 5, obstacle_size : 13, total_reward : 48.5\n",
      "grid_size : 8, obstacle_size : 5, total_reward : -39.499999999999766\n",
      "grid_size : 6, obstacle_size : 22, total_reward : 49.0\n",
      "grid_size : 9, obstacle_size : 61, total_reward : 47.9\n",
      "grid_size : 9, obstacle_size : 20, total_reward : -690.0000000000451\n"
     ]
    },
    {
     "name": "stderr",
     "output_type": "stream",
     "text": [
      " 95%|█████████▌| 95/100 [00:03<00:00, 16.61it/s]"
     ]
    },
    {
     "name": "stdout",
     "output_type": "stream",
     "text": [
      "grid_size : 10, obstacle_size : 66, total_reward : 44.9\n",
      "grid_size : 10, obstacle_size : 73, total_reward : 47.099999999999994\n"
     ]
    },
    {
     "name": "stderr",
     "output_type": "stream",
     "text": [
      " 98%|█████████▊| 98/100 [00:04<00:00, 13.35it/s]"
     ]
    },
    {
     "name": "stdout",
     "output_type": "stream",
     "text": [
      "grid_size : 10, obstacle_size : 81, total_reward : 46.599999999999994\n",
      "grid_size : 7, obstacle_size : 21, total_reward : -89.59999999999636\n",
      "grid_size : 10, obstacle_size : 69, total_reward : 47.599999999999994\n"
     ]
    },
    {
     "name": "stderr",
     "output_type": "stream",
     "text": [
      "100%|██████████| 100/100 [00:04<00:00, 23.33it/s]"
     ]
    },
    {
     "name": "stdout",
     "output_type": "stream",
     "text": [
      "grid_size : 5, obstacle_size : 0, total_reward : 48.5\n",
      "grid_size : 8, obstacle_size : 16, total_reward : 48.1\n",
      "average : -29.97700000000428\n"
     ]
    },
    {
     "name": "stderr",
     "output_type": "stream",
     "text": [
      "\n"
     ]
    }
   ],
   "source": [
    "env = SimpleTaxiEnv()\n",
    "Testing(env)"
   ]
  }
 ],
 "metadata": {
  "kernelspec": {
   "display_name": "base",
   "language": "python",
   "name": "python3"
  },
  "language_info": {
   "codemirror_mode": {
    "name": "ipython",
    "version": 3
   },
   "file_extension": ".py",
   "mimetype": "text/x-python",
   "name": "python",
   "nbconvert_exporter": "python",
   "pygments_lexer": "ipython3",
   "version": "3.9.13"
  }
 },
 "nbformat": 4,
 "nbformat_minor": 2
}
